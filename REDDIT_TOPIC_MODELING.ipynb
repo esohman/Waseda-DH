{
  "nbformat": 4,
  "nbformat_minor": 0,
  "metadata": {
    "colab": {
      "name": "REDDIT TOPIC MODELING",
      "provenance": [],
      "include_colab_link": true
    },
    "kernelspec": {
      "name": "python3",
      "display_name": "Python 3"
    },
    "language_info": {
      "name": "python"
    }
  },
  "cells": [
    {
      "cell_type": "markdown",
      "metadata": {
        "id": "view-in-github",
        "colab_type": "text"
      },
      "source": [
        "<a href=\"https://colab.research.google.com/github/esohman/Waseda-DH/blob/main/REDDIT_TOPIC_MODELING.ipynb\" target=\"_parent\"><img src=\"https://colab.research.google.com/assets/colab-badge.svg\" alt=\"Open In Colab\"/></a>"
      ]
    },
    {
      "cell_type": "markdown",
      "source": [
        "#**Topic Modeling of Reddit comments on content policy updates from Reddit Admins** \n",
        "This notebook examines the shifts in topics in the comment responses to posts made by admins on reddit concerning their content policies. It takes five posts; two from 2015, one from 2017, one from 2018, and the final one from 2020. They all concern the nature of what kind of content is allowed to be posted on Reddit, and which measures will be taken against content that violates these policies.\n",
        "\n",
        "LDA topic modeling will be used to see how the general discourse for Redditors has changed around limitations on content, and later, limitations on hate speech, or speech that incites violence against a particular group."
      ],
      "metadata": {
        "id": "RcXjWhyz834E"
      }
    },
    {
      "cell_type": "markdown",
      "source": [
        "#**Step 1 : Scraping Reddit comment data and making them into dataframes for analysis**"
      ],
      "metadata": {
        "id": "vWRHlVq-wS5z"
      }
    },
    {
      "cell_type": "code",
      "execution_count": null,
      "metadata": {
        "colab": {
          "base_uri": "https://localhost:8080/"
        },
        "id": "ca1-i-UMadCx",
        "outputId": "d4fb984a-097e-4068-e738-96c0c92e9d15"
      },
      "outputs": [
        {
          "output_type": "stream",
          "name": "stdout",
          "text": [
            "Requirement already satisfied: praw in /usr/local/lib/python3.7/dist-packages (7.5.0)\n",
            "Requirement already satisfied: websocket-client>=0.54.0 in /usr/local/lib/python3.7/dist-packages (from praw) (1.2.3)\n",
            "Requirement already satisfied: prawcore<3,>=2.1 in /usr/local/lib/python3.7/dist-packages (from praw) (2.3.0)\n",
            "Requirement already satisfied: update-checker>=0.18 in /usr/local/lib/python3.7/dist-packages (from praw) (0.18.0)\n",
            "Requirement already satisfied: requests<3.0,>=2.6.0 in /usr/local/lib/python3.7/dist-packages (from prawcore<3,>=2.1->praw) (2.23.0)\n",
            "Requirement already satisfied: chardet<4,>=3.0.2 in /usr/local/lib/python3.7/dist-packages (from requests<3.0,>=2.6.0->prawcore<3,>=2.1->praw) (3.0.4)\n",
            "Requirement already satisfied: certifi>=2017.4.17 in /usr/local/lib/python3.7/dist-packages (from requests<3.0,>=2.6.0->prawcore<3,>=2.1->praw) (2021.10.8)\n",
            "Requirement already satisfied: idna<3,>=2.5 in /usr/local/lib/python3.7/dist-packages (from requests<3.0,>=2.6.0->prawcore<3,>=2.1->praw) (2.10)\n",
            "Requirement already satisfied: urllib3!=1.25.0,!=1.25.1,<1.26,>=1.21.1 in /usr/local/lib/python3.7/dist-packages (from requests<3.0,>=2.6.0->prawcore<3,>=2.1->praw) (1.24.3)\n"
          ]
        }
      ],
      "source": [
        "!pip install praw #install praw for reddit scraping\n",
        "import praw\n",
        "from praw.models import MoreComments"
      ]
    },
    {
      "cell_type": "code",
      "source": [
        "#my reddit id:\n",
        "reddit = praw.Reddit(client_id = 'CyjFm7g0LOnDDIavnWEL4Q', client_secret = 'jrZ48Ga_3w9j0aBQ2sUxzw1B66haNA', user_agent = 'ArisaWebScraping')"
      ],
      "metadata": {
        "id": "3ISdLwgibFxO"
      },
      "execution_count": null,
      "outputs": []
    },
    {
      "cell_type": "markdown",
      "source": [
        "##**'Let's Talk Content. AMA.' in r/announcements, 2015:**"
      ],
      "metadata": {
        "id": "660XuPUalIbQ"
      }
    },
    {
      "cell_type": "code",
      "source": [
        "AMA2015 = reddit.submission(url = \"https://www.reddit.com/r/announcements/comments/3djjxw/lets_talk_content_ama/\") #open url of post"
      ],
      "metadata": {
        "id": "q5Ui6oE_lHvV"
      },
      "execution_count": null,
      "outputs": []
    },
    {
      "cell_type": "markdown",
      "source": [
        "**Excerpt:** \n",
        "\n",
        "*One thing that isn't up for debate is why Reddit exists. Reddit is a place to have open and authentic discussions. The reason we’re careful to restrict speech is because people have more open and authentic discussions when they aren't worried about the speech police knocking down their door. When our purpose comes into conflict with a policy, we make sure our purpose wins.*\n",
        "\n",
        "*As Reddit has grown, we've seen additional examples of how unfettered free speech can make Reddit a less enjoyable place to visit, and can even cause people harm outside of Reddit. Earlier this year, Reddit took a stand and banned non-consensual pornography. This was largely accepted by the community, and the world is a better place as a result (Google and Twitter have followed suit). Part of the reason this went over so well was because there was a very clear line of what was unacceptable.* (u/ in r/announcements)"
      ],
      "metadata": {
        "id": "u82bCBNnuMqi"
      }
    },
    {
      "cell_type": "markdown",
      "source": [
        "**Let's create a dataframe of what the comment resonses are to this post.**"
      ],
      "metadata": {
        "id": "x2kLc4HkvafD"
      }
    },
    {
      "cell_type": "code",
      "source": [
        "author_listAMA2015 = [] #empty list of usernames\n",
        "score_listAMA2015 = [] #empty list of upvote counts\n",
        "comment_listAMA2015 = [] #empty list of comments"
      ],
      "metadata": {
        "id": "osgHDn3UlRla"
      },
      "execution_count": null,
      "outputs": []
    },
    {
      "cell_type": "code",
      "source": [
        "AMA2015.comments.replace_more(limit = 0) #use praw to read through all comments on post\n",
        "for comment in AMA2015.comments:\n",
        "    comment_listAMA2015.append(comment.body) #add body of comment to comment list\n",
        "\n",
        "for comment in AMA2015.comments:\n",
        "  author_listAMA2015.append(comment.author) #add usernames of comment to author list\n",
        "  score_listAMA2015.append(comment.score) #add upvote counts of comment to score list"
      ],
      "metadata": {
        "id": "M0bpSWn2lU1X",
        "colab": {
          "base_uri": "https://localhost:8080/"
        },
        "outputId": "fc71f982-096f-4a8e-95f2-796c7bae2923"
      },
      "execution_count": null,
      "outputs": [
        {
          "output_type": "stream",
          "name": "stderr",
          "text": [
            "It appears that you are using PRAW in an asynchronous environment.\n",
            "It is strongly recommended to use Async PRAW: https://asyncpraw.readthedocs.io.\n",
            "See https://praw.readthedocs.io/en/latest/getting_started/multiple_instances.html#discord-bots-and-asynchronous-environments for more info.\n",
            "\n"
          ]
        }
      ]
    },
    {
      "cell_type": "code",
      "source": [
        "import pandas as pd\n",
        "AMA2015_dict = {'author': author_listAMA2015 , 'comment': comment_listAMA2015, 'upvote_count': score_listAMA2015} #turn lists to dict \n",
        "AMA15 = pd.DataFrame.from_dict(AMA2015_dict, orient = 'index') #turn dict to dataframe\n",
        "AMA15 = AMA15.transpose() #it looks weird if you don't do this\n",
        "AMA15 = AMA15[AMA15.comment != '[deleted]'] #drop deleted comments\n",
        "AMA15 = AMA15[AMA15.author != '[deleted]'] #drop deleted comments"
      ],
      "metadata": {
        "id": "syhVtSVPld_-"
      },
      "execution_count": null,
      "outputs": []
    },
    {
      "cell_type": "code",
      "source": [
        "AMA15.head() "
      ],
      "metadata": {
        "colab": {
          "base_uri": "https://localhost:8080/",
          "height": 206
        },
        "id": "X2WDuPuzlu7c",
        "outputId": "1c0f4d6f-c48f-4518-b835-ebfa6dce1f1f"
      },
      "execution_count": null,
      "outputs": [
        {
          "output_type": "execute_result",
          "data": {
            "text/html": [
              "\n",
              "  <div id=\"df-b5a6cbcd-9f9b-4848-9e8a-cbba1510f750\">\n",
              "    <div class=\"colab-df-container\">\n",
              "      <div>\n",
              "<style scoped>\n",
              "    .dataframe tbody tr th:only-of-type {\n",
              "        vertical-align: middle;\n",
              "    }\n",
              "\n",
              "    .dataframe tbody tr th {\n",
              "        vertical-align: top;\n",
              "    }\n",
              "\n",
              "    .dataframe thead th {\n",
              "        text-align: right;\n",
              "    }\n",
              "</style>\n",
              "<table border=\"1\" class=\"dataframe\">\n",
              "  <thead>\n",
              "    <tr style=\"text-align: right;\">\n",
              "      <th></th>\n",
              "      <th>author</th>\n",
              "      <th>comment</th>\n",
              "      <th>upvote_count</th>\n",
              "    </tr>\n",
              "  </thead>\n",
              "  <tbody>\n",
              "    <tr>\n",
              "      <th>0</th>\n",
              "      <td>None</td>\n",
              "      <td>When will something be done about subreddit sq...</td>\n",
              "      <td>2909</td>\n",
              "    </tr>\n",
              "    <tr>\n",
              "      <th>1</th>\n",
              "      <td>biggmclargehuge</td>\n",
              "      <td>&gt;-Things that are actually illegal, such as co...</td>\n",
              "      <td>1215</td>\n",
              "    </tr>\n",
              "    <tr>\n",
              "      <th>3</th>\n",
              "      <td>throwawaytiffany</td>\n",
              "      <td>Are all DMCA takedowns posted to /r/ChillingEf...</td>\n",
              "      <td>578</td>\n",
              "    </tr>\n",
              "    <tr>\n",
              "      <th>4</th>\n",
              "      <td>koproller</td>\n",
              "      <td>Hi,\\nFirst of all. Thanks for doing this AMA. ...</td>\n",
              "      <td>2164</td>\n",
              "    </tr>\n",
              "    <tr>\n",
              "      <th>5</th>\n",
              "      <td>XIGRIMxREAPERIX</td>\n",
              "      <td>/u/spez\\nI am confused on the illegal portion....</td>\n",
              "      <td>1095</td>\n",
              "    </tr>\n",
              "  </tbody>\n",
              "</table>\n",
              "</div>\n",
              "      <button class=\"colab-df-convert\" onclick=\"convertToInteractive('df-b5a6cbcd-9f9b-4848-9e8a-cbba1510f750')\"\n",
              "              title=\"Convert this dataframe to an interactive table.\"\n",
              "              style=\"display:none;\">\n",
              "        \n",
              "  <svg xmlns=\"http://www.w3.org/2000/svg\" height=\"24px\"viewBox=\"0 0 24 24\"\n",
              "       width=\"24px\">\n",
              "    <path d=\"M0 0h24v24H0V0z\" fill=\"none\"/>\n",
              "    <path d=\"M18.56 5.44l.94 2.06.94-2.06 2.06-.94-2.06-.94-.94-2.06-.94 2.06-2.06.94zm-11 1L8.5 8.5l.94-2.06 2.06-.94-2.06-.94L8.5 2.5l-.94 2.06-2.06.94zm10 10l.94 2.06.94-2.06 2.06-.94-2.06-.94-.94-2.06-.94 2.06-2.06.94z\"/><path d=\"M17.41 7.96l-1.37-1.37c-.4-.4-.92-.59-1.43-.59-.52 0-1.04.2-1.43.59L10.3 9.45l-7.72 7.72c-.78.78-.78 2.05 0 2.83L4 21.41c.39.39.9.59 1.41.59.51 0 1.02-.2 1.41-.59l7.78-7.78 2.81-2.81c.8-.78.8-2.07 0-2.86zM5.41 20L4 18.59l7.72-7.72 1.47 1.35L5.41 20z\"/>\n",
              "  </svg>\n",
              "      </button>\n",
              "      \n",
              "  <style>\n",
              "    .colab-df-container {\n",
              "      display:flex;\n",
              "      flex-wrap:wrap;\n",
              "      gap: 12px;\n",
              "    }\n",
              "\n",
              "    .colab-df-convert {\n",
              "      background-color: #E8F0FE;\n",
              "      border: none;\n",
              "      border-radius: 50%;\n",
              "      cursor: pointer;\n",
              "      display: none;\n",
              "      fill: #1967D2;\n",
              "      height: 32px;\n",
              "      padding: 0 0 0 0;\n",
              "      width: 32px;\n",
              "    }\n",
              "\n",
              "    .colab-df-convert:hover {\n",
              "      background-color: #E2EBFA;\n",
              "      box-shadow: 0px 1px 2px rgba(60, 64, 67, 0.3), 0px 1px 3px 1px rgba(60, 64, 67, 0.15);\n",
              "      fill: #174EA6;\n",
              "    }\n",
              "\n",
              "    [theme=dark] .colab-df-convert {\n",
              "      background-color: #3B4455;\n",
              "      fill: #D2E3FC;\n",
              "    }\n",
              "\n",
              "    [theme=dark] .colab-df-convert:hover {\n",
              "      background-color: #434B5C;\n",
              "      box-shadow: 0px 1px 3px 1px rgba(0, 0, 0, 0.15);\n",
              "      filter: drop-shadow(0px 1px 2px rgba(0, 0, 0, 0.3));\n",
              "      fill: #FFFFFF;\n",
              "    }\n",
              "  </style>\n",
              "\n",
              "      <script>\n",
              "        const buttonEl =\n",
              "          document.querySelector('#df-b5a6cbcd-9f9b-4848-9e8a-cbba1510f750 button.colab-df-convert');\n",
              "        buttonEl.style.display =\n",
              "          google.colab.kernel.accessAllowed ? 'block' : 'none';\n",
              "\n",
              "        async function convertToInteractive(key) {\n",
              "          const element = document.querySelector('#df-b5a6cbcd-9f9b-4848-9e8a-cbba1510f750');\n",
              "          const dataTable =\n",
              "            await google.colab.kernel.invokeFunction('convertToInteractive',\n",
              "                                                     [key], {});\n",
              "          if (!dataTable) return;\n",
              "\n",
              "          const docLinkHtml = 'Like what you see? Visit the ' +\n",
              "            '<a target=\"_blank\" href=https://colab.research.google.com/notebooks/data_table.ipynb>data table notebook</a>'\n",
              "            + ' to learn more about interactive tables.';\n",
              "          element.innerHTML = '';\n",
              "          dataTable['output_type'] = 'display_data';\n",
              "          await google.colab.output.renderOutput(dataTable, element);\n",
              "          const docLink = document.createElement('div');\n",
              "          docLink.innerHTML = docLinkHtml;\n",
              "          element.appendChild(docLink);\n",
              "        }\n",
              "      </script>\n",
              "    </div>\n",
              "  </div>\n",
              "  "
            ],
            "text/plain": [
              "             author  ... upvote_count\n",
              "0              None  ...         2909\n",
              "1   biggmclargehuge  ...         1215\n",
              "3  throwawaytiffany  ...          578\n",
              "4         koproller  ...         2164\n",
              "5   XIGRIMxREAPERIX  ...         1095\n",
              "\n",
              "[5 rows x 3 columns]"
            ]
          },
          "metadata": {},
          "execution_count": 7
        }
      ]
    },
    {
      "cell_type": "markdown",
      "source": [
        "## **'Content Policy Update' in r/announcements, 2015:**"
      ],
      "metadata": {
        "id": "nscSisgj9Mc-"
      }
    },
    {
      "cell_type": "code",
      "source": [
        "submission2015 = reddit.submission(url = \"https://www.reddit.com/r/announcements/comments/3fx2au/content_policy_update/\") #open url of post"
      ],
      "metadata": {
        "id": "_nvWYlIAbr4Z"
      },
      "execution_count": null,
      "outputs": []
    },
    {
      "cell_type": "markdown",
      "source": [
        "**Excerpt:**\n",
        "\n",
        "*Our policies are not changing dramatically from what we have had in the past. One new concept is Quarantining a community, which entails applying a set of restrictions to a community so its content will only be viewable to those who explicitly opt in. We will Quarantine communities whose content would be considered extremely offensive to the average redditor.*\n",
        "\n",
        "*Today, in addition to applying Quarantines, we are banning a handful of communities that exist solely to annoy other redditors, prevent us from improving Reddit, and generally make Reddit worse for everyone else. Our most important policy over the last ten years has been to allow just about anything so long as it does not prevent others from enjoying Reddit for what it is: the best place online to have truly authentic conversations.* (u/spez in r/announcements)"
      ],
      "metadata": {
        "id": "3wo7pIRmu-Zq"
      }
    },
    {
      "cell_type": "markdown",
      "source": [
        "###**Let's create a dataframe of what the comment resonses are to this post.**"
      ],
      "metadata": {
        "id": "gWo5ZwhKvoWL"
      }
    },
    {
      "cell_type": "code",
      "source": [
        "author_list2015 = [] #empty list of usernames\n",
        "score_list2015 = [] #empty list of upvote count\n",
        "comment_list2015 = [] #empty list of comments"
      ],
      "metadata": {
        "id": "5vL5jgOmggxJ"
      },
      "execution_count": null,
      "outputs": []
    },
    {
      "cell_type": "code",
      "source": [
        "submission2015.comments.replace_more(limit = 0) #use praw to read through all comments on post\n",
        "for comment in submission2015.comments: \n",
        "    comment_list2015.append(comment.body) #add body of comment to comment list\n",
        "\n",
        "for comment in submission2015.comments:\n",
        "  author_list2015.append(comment.author) #add username of comment to author list\n",
        "  score_list2015.append(comment.score) #add upvote count of comment to score list"
      ],
      "metadata": {
        "id": "3YCTB-SPp1W4",
        "colab": {
          "base_uri": "https://localhost:8080/"
        },
        "outputId": "8ddca2c7-e097-4f49-95c1-1728ccc44f43"
      },
      "execution_count": null,
      "outputs": [
        {
          "output_type": "stream",
          "name": "stderr",
          "text": [
            "It appears that you are using PRAW in an asynchronous environment.\n",
            "It is strongly recommended to use Async PRAW: https://asyncpraw.readthedocs.io.\n",
            "See https://praw.readthedocs.io/en/latest/getting_started/multiple_instances.html#discord-bots-and-asynchronous-environments for more info.\n",
            "\n"
          ]
        }
      ]
    },
    {
      "cell_type": "code",
      "source": [
        "content2015_dict = {'author': author_list2015 , 'comment': comment_list2015, 'upvote_count': score_list2015} #turn lists to dict\n",
        "content15 = pd.DataFrame.from_dict(content2015_dict, orient = 'index') #turn dict to dataframe\n",
        "content15 = content15.transpose()\n",
        "content15 = content15[content15.comment != '[deleted]'] #drop deleted comments\n",
        "content15 = content15[content15.author != '[deleted]'] #drop deleted comments"
      ],
      "metadata": {
        "id": "5QbcqMwEs0TD"
      },
      "execution_count": null,
      "outputs": []
    },
    {
      "cell_type": "code",
      "source": [
        "content15.head() "
      ],
      "metadata": {
        "colab": {
          "base_uri": "https://localhost:8080/"
        },
        "id": "H2LviiCdRptD",
        "outputId": "890e114d-22ed-444b-d3d2-b27193f735da"
      },
      "execution_count": null,
      "outputs": [
        {
          "output_type": "execute_result",
          "data": {
            "text/html": [
              "\n",
              "  <div id=\"df-7b7aee8e-4dd3-4777-916f-239c7cafb822\">\n",
              "    <div class=\"colab-df-container\">\n",
              "      <div>\n",
              "<style scoped>\n",
              "    .dataframe tbody tr th:only-of-type {\n",
              "        vertical-align: middle;\n",
              "    }\n",
              "\n",
              "    .dataframe tbody tr th {\n",
              "        vertical-align: top;\n",
              "    }\n",
              "\n",
              "    .dataframe thead th {\n",
              "        text-align: right;\n",
              "    }\n",
              "</style>\n",
              "<table border=\"1\" class=\"dataframe\">\n",
              "  <thead>\n",
              "    <tr style=\"text-align: right;\">\n",
              "      <th></th>\n",
              "      <th>author</th>\n",
              "      <th>comment</th>\n",
              "      <th>upvote_count</th>\n",
              "    </tr>\n",
              "  </thead>\n",
              "  <tbody>\n",
              "    <tr>\n",
              "      <th>0</th>\n",
              "      <td>Cheech5</td>\n",
              "      <td>&gt; Today, in addition to applying Quarantines, ...</td>\n",
              "      <td>3736</td>\n",
              "    </tr>\n",
              "    <tr>\n",
              "      <th>2</th>\n",
              "      <td>BillW87</td>\n",
              "      <td>For the sake of transparency I feel like it wo...</td>\n",
              "      <td>1968</td>\n",
              "    </tr>\n",
              "    <tr>\n",
              "      <th>4</th>\n",
              "      <td>TheMentalist10</td>\n",
              "      <td>Will you be sharing information about the comm...</td>\n",
              "      <td>1753</td>\n",
              "    </tr>\n",
              "    <tr>\n",
              "      <th>5</th>\n",
              "      <td>dwchief</td>\n",
              "      <td>If a user is subscribed to a Quarantined subre...</td>\n",
              "      <td>1083</td>\n",
              "    </tr>\n",
              "    <tr>\n",
              "      <th>7</th>\n",
              "      <td>username3</td>\n",
              "      <td>\"the average redditor\"  \\nYikes\\n</td>\n",
              "      <td>387</td>\n",
              "    </tr>\n",
              "  </tbody>\n",
              "</table>\n",
              "</div>\n",
              "      <button class=\"colab-df-convert\" onclick=\"convertToInteractive('df-7b7aee8e-4dd3-4777-916f-239c7cafb822')\"\n",
              "              title=\"Convert this dataframe to an interactive table.\"\n",
              "              style=\"display:none;\">\n",
              "        \n",
              "  <svg xmlns=\"http://www.w3.org/2000/svg\" height=\"24px\"viewBox=\"0 0 24 24\"\n",
              "       width=\"24px\">\n",
              "    <path d=\"M0 0h24v24H0V0z\" fill=\"none\"/>\n",
              "    <path d=\"M18.56 5.44l.94 2.06.94-2.06 2.06-.94-2.06-.94-.94-2.06-.94 2.06-2.06.94zm-11 1L8.5 8.5l.94-2.06 2.06-.94-2.06-.94L8.5 2.5l-.94 2.06-2.06.94zm10 10l.94 2.06.94-2.06 2.06-.94-2.06-.94-.94-2.06-.94 2.06-2.06.94z\"/><path d=\"M17.41 7.96l-1.37-1.37c-.4-.4-.92-.59-1.43-.59-.52 0-1.04.2-1.43.59L10.3 9.45l-7.72 7.72c-.78.78-.78 2.05 0 2.83L4 21.41c.39.39.9.59 1.41.59.51 0 1.02-.2 1.41-.59l7.78-7.78 2.81-2.81c.8-.78.8-2.07 0-2.86zM5.41 20L4 18.59l7.72-7.72 1.47 1.35L5.41 20z\"/>\n",
              "  </svg>\n",
              "      </button>\n",
              "      \n",
              "  <style>\n",
              "    .colab-df-container {\n",
              "      display:flex;\n",
              "      flex-wrap:wrap;\n",
              "      gap: 12px;\n",
              "    }\n",
              "\n",
              "    .colab-df-convert {\n",
              "      background-color: #E8F0FE;\n",
              "      border: none;\n",
              "      border-radius: 50%;\n",
              "      cursor: pointer;\n",
              "      display: none;\n",
              "      fill: #1967D2;\n",
              "      height: 32px;\n",
              "      padding: 0 0 0 0;\n",
              "      width: 32px;\n",
              "    }\n",
              "\n",
              "    .colab-df-convert:hover {\n",
              "      background-color: #E2EBFA;\n",
              "      box-shadow: 0px 1px 2px rgba(60, 64, 67, 0.3), 0px 1px 3px 1px rgba(60, 64, 67, 0.15);\n",
              "      fill: #174EA6;\n",
              "    }\n",
              "\n",
              "    [theme=dark] .colab-df-convert {\n",
              "      background-color: #3B4455;\n",
              "      fill: #D2E3FC;\n",
              "    }\n",
              "\n",
              "    [theme=dark] .colab-df-convert:hover {\n",
              "      background-color: #434B5C;\n",
              "      box-shadow: 0px 1px 3px 1px rgba(0, 0, 0, 0.15);\n",
              "      filter: drop-shadow(0px 1px 2px rgba(0, 0, 0, 0.3));\n",
              "      fill: #FFFFFF;\n",
              "    }\n",
              "  </style>\n",
              "\n",
              "      <script>\n",
              "        const buttonEl =\n",
              "          document.querySelector('#df-7b7aee8e-4dd3-4777-916f-239c7cafb822 button.colab-df-convert');\n",
              "        buttonEl.style.display =\n",
              "          google.colab.kernel.accessAllowed ? 'block' : 'none';\n",
              "\n",
              "        async function convertToInteractive(key) {\n",
              "          const element = document.querySelector('#df-7b7aee8e-4dd3-4777-916f-239c7cafb822');\n",
              "          const dataTable =\n",
              "            await google.colab.kernel.invokeFunction('convertToInteractive',\n",
              "                                                     [key], {});\n",
              "          if (!dataTable) return;\n",
              "\n",
              "          const docLinkHtml = 'Like what you see? Visit the ' +\n",
              "            '<a target=\"_blank\" href=https://colab.research.google.com/notebooks/data_table.ipynb>data table notebook</a>'\n",
              "            + ' to learn more about interactive tables.';\n",
              "          element.innerHTML = '';\n",
              "          dataTable['output_type'] = 'display_data';\n",
              "          await google.colab.output.renderOutput(dataTable, element);\n",
              "          const docLink = document.createElement('div');\n",
              "          docLink.innerHTML = docLinkHtml;\n",
              "          element.appendChild(docLink);\n",
              "        }\n",
              "      </script>\n",
              "    </div>\n",
              "  </div>\n",
              "  "
            ],
            "text/plain": [
              "           author  ... upvote_count\n",
              "0         Cheech5  ...         3736\n",
              "2         BillW87  ...         1968\n",
              "4  TheMentalist10  ...         1753\n",
              "5         dwchief  ...         1083\n",
              "7       username3  ...          387\n",
              "\n",
              "[5 rows x 3 columns]"
            ]
          },
          "metadata": {},
          "execution_count": 12
        }
      ]
    },
    {
      "cell_type": "markdown",
      "source": [
        "##**'Update on site-wide rules regarding violent content' in r/modnews, 2017:**"
      ],
      "metadata": {
        "id": "HVsg3ZAtquBW"
      }
    },
    {
      "cell_type": "code",
      "source": [
        "submission2017 = reddit.submission(url = \"https://www.reddit.com/r/modnews/comments/78p7bz/update_on_sitewide_rules_regarding_violent_content/\") #open url of post"
      ],
      "metadata": {
        "id": "Ju638hC1qtjQ"
      },
      "execution_count": null,
      "outputs": []
    },
    {
      "cell_type": "markdown",
      "source": [
        "**Excerpt:**\n",
        "\n",
        "*In particular, we found that the policy regarding “inciting” violence was too vague, and so we have made an effort to adjust it to be more clear and comprehensive. Going forward, we will take action against any content that encourages, glorifies, incites, or calls for violence or physical harm against an individual or a group of people; likewise, we will also take action against content that glorifies or encourages the abuse of animals. This applies to ALL content on Reddit, including memes, CSS/community styling, flair, subreddit names, and usernames.* (u/landoflobsters in r/modnews)"
      ],
      "metadata": {
        "id": "_1mPpfnex7QG"
      }
    },
    {
      "cell_type": "markdown",
      "source": [
        "###**Let's create a dataframe of what the comment resonses are to this post.**"
      ],
      "metadata": {
        "id": "y34QNGhNyabR"
      }
    },
    {
      "cell_type": "code",
      "source": [
        "author_list2017 = [] #empty list of usernames\n",
        "score_list2017 = [] #empty list of upvotes\n",
        "comment_list2017 = [] #empty list of comments"
      ],
      "metadata": {
        "id": "6tkgqV95q3ml"
      },
      "execution_count": null,
      "outputs": []
    },
    {
      "cell_type": "code",
      "source": [
        "submission2017.comments.replace_more(limit = 0) #use praw to read through all comments on post\n",
        "for comment in submission2017.comments:\n",
        "    comment_list2017.append(comment.body) #add body of comment to comment list\n",
        "\n",
        "for comment in submission2017.comments:\n",
        "  author_list2017.append(comment.author) #add username of comment to author list\n",
        "  score_list2017.append(comment.score) #add upvote count of comment to score list"
      ],
      "metadata": {
        "id": "3DNEdm_Iq6nD",
        "colab": {
          "base_uri": "https://localhost:8080/"
        },
        "outputId": "05ea711a-4c93-4d82-abd6-10ee845e68f5"
      },
      "execution_count": null,
      "outputs": [
        {
          "output_type": "stream",
          "name": "stderr",
          "text": [
            "It appears that you are using PRAW in an asynchronous environment.\n",
            "It is strongly recommended to use Async PRAW: https://asyncpraw.readthedocs.io.\n",
            "See https://praw.readthedocs.io/en/latest/getting_started/multiple_instances.html#discord-bots-and-asynchronous-environments for more info.\n",
            "\n"
          ]
        }
      ]
    },
    {
      "cell_type": "code",
      "source": [
        "content2017_dict = {'author': author_list2017 , 'comment': comment_list2017, 'upvote_count': score_list2017} #turn list to dict \n",
        "content17 = pd.DataFrame.from_dict(content2017_dict, orient = 'index') #turn dict to dataframe\n",
        "content17 = content17.transpose()\n",
        "content17 = content17[content17.comment != '[deleted]'] #drop deleted comments\n",
        "content17 = content17[content17.author != '[deleted]'] #drop deleted comments"
      ],
      "metadata": {
        "id": "HkVQllomq_mL"
      },
      "execution_count": null,
      "outputs": []
    },
    {
      "cell_type": "code",
      "source": [
        "content17.head()"
      ],
      "metadata": {
        "colab": {
          "base_uri": "https://localhost:8080/"
        },
        "id": "A5l77IrOrJJQ",
        "outputId": "ef100b21-c4a3-41c7-d608-8152dd1c3846"
      },
      "execution_count": null,
      "outputs": [
        {
          "output_type": "execute_result",
          "data": {
            "text/html": [
              "\n",
              "  <div id=\"df-21591e3e-6bc7-444a-9b25-076d506197d9\">\n",
              "    <div class=\"colab-df-container\">\n",
              "      <div>\n",
              "<style scoped>\n",
              "    .dataframe tbody tr th:only-of-type {\n",
              "        vertical-align: middle;\n",
              "    }\n",
              "\n",
              "    .dataframe tbody tr th {\n",
              "        vertical-align: top;\n",
              "    }\n",
              "\n",
              "    .dataframe thead th {\n",
              "        text-align: right;\n",
              "    }\n",
              "</style>\n",
              "<table border=\"1\" class=\"dataframe\">\n",
              "  <thead>\n",
              "    <tr style=\"text-align: right;\">\n",
              "      <th></th>\n",
              "      <th>author</th>\n",
              "      <th>comment</th>\n",
              "      <th>upvote_count</th>\n",
              "    </tr>\n",
              "  </thead>\n",
              "  <tbody>\n",
              "    <tr>\n",
              "      <th>0</th>\n",
              "      <td>Deimorz</td>\n",
              "      <td>Why is this posted in /r/modnews and not /r/an...</td>\n",
              "      <td>2344</td>\n",
              "    </tr>\n",
              "    <tr>\n",
              "      <th>1</th>\n",
              "      <td>ridddle</td>\n",
              "      <td>What does glorify mean? Will subs like watchpe...</td>\n",
              "      <td>1135</td>\n",
              "    </tr>\n",
              "    <tr>\n",
              "      <th>2</th>\n",
              "      <td>turikk</td>\n",
              "      <td>How will the exact phrase \"kill your self\" be ...</td>\n",
              "      <td>307</td>\n",
              "    </tr>\n",
              "    <tr>\n",
              "      <th>3</th>\n",
              "      <td>Grickit</td>\n",
              "      <td>This cycle is so tiring\\n\\n1) reddit admins to...</td>\n",
              "      <td>3655</td>\n",
              "    </tr>\n",
              "    <tr>\n",
              "      <th>4</th>\n",
              "      <td>ShaneH7646</td>\n",
              "      <td>Can we get a link to the updated rules?</td>\n",
              "      <td>195</td>\n",
              "    </tr>\n",
              "  </tbody>\n",
              "</table>\n",
              "</div>\n",
              "      <button class=\"colab-df-convert\" onclick=\"convertToInteractive('df-21591e3e-6bc7-444a-9b25-076d506197d9')\"\n",
              "              title=\"Convert this dataframe to an interactive table.\"\n",
              "              style=\"display:none;\">\n",
              "        \n",
              "  <svg xmlns=\"http://www.w3.org/2000/svg\" height=\"24px\"viewBox=\"0 0 24 24\"\n",
              "       width=\"24px\">\n",
              "    <path d=\"M0 0h24v24H0V0z\" fill=\"none\"/>\n",
              "    <path d=\"M18.56 5.44l.94 2.06.94-2.06 2.06-.94-2.06-.94-.94-2.06-.94 2.06-2.06.94zm-11 1L8.5 8.5l.94-2.06 2.06-.94-2.06-.94L8.5 2.5l-.94 2.06-2.06.94zm10 10l.94 2.06.94-2.06 2.06-.94-2.06-.94-.94-2.06-.94 2.06-2.06.94z\"/><path d=\"M17.41 7.96l-1.37-1.37c-.4-.4-.92-.59-1.43-.59-.52 0-1.04.2-1.43.59L10.3 9.45l-7.72 7.72c-.78.78-.78 2.05 0 2.83L4 21.41c.39.39.9.59 1.41.59.51 0 1.02-.2 1.41-.59l7.78-7.78 2.81-2.81c.8-.78.8-2.07 0-2.86zM5.41 20L4 18.59l7.72-7.72 1.47 1.35L5.41 20z\"/>\n",
              "  </svg>\n",
              "      </button>\n",
              "      \n",
              "  <style>\n",
              "    .colab-df-container {\n",
              "      display:flex;\n",
              "      flex-wrap:wrap;\n",
              "      gap: 12px;\n",
              "    }\n",
              "\n",
              "    .colab-df-convert {\n",
              "      background-color: #E8F0FE;\n",
              "      border: none;\n",
              "      border-radius: 50%;\n",
              "      cursor: pointer;\n",
              "      display: none;\n",
              "      fill: #1967D2;\n",
              "      height: 32px;\n",
              "      padding: 0 0 0 0;\n",
              "      width: 32px;\n",
              "    }\n",
              "\n",
              "    .colab-df-convert:hover {\n",
              "      background-color: #E2EBFA;\n",
              "      box-shadow: 0px 1px 2px rgba(60, 64, 67, 0.3), 0px 1px 3px 1px rgba(60, 64, 67, 0.15);\n",
              "      fill: #174EA6;\n",
              "    }\n",
              "\n",
              "    [theme=dark] .colab-df-convert {\n",
              "      background-color: #3B4455;\n",
              "      fill: #D2E3FC;\n",
              "    }\n",
              "\n",
              "    [theme=dark] .colab-df-convert:hover {\n",
              "      background-color: #434B5C;\n",
              "      box-shadow: 0px 1px 3px 1px rgba(0, 0, 0, 0.15);\n",
              "      filter: drop-shadow(0px 1px 2px rgba(0, 0, 0, 0.3));\n",
              "      fill: #FFFFFF;\n",
              "    }\n",
              "  </style>\n",
              "\n",
              "      <script>\n",
              "        const buttonEl =\n",
              "          document.querySelector('#df-21591e3e-6bc7-444a-9b25-076d506197d9 button.colab-df-convert');\n",
              "        buttonEl.style.display =\n",
              "          google.colab.kernel.accessAllowed ? 'block' : 'none';\n",
              "\n",
              "        async function convertToInteractive(key) {\n",
              "          const element = document.querySelector('#df-21591e3e-6bc7-444a-9b25-076d506197d9');\n",
              "          const dataTable =\n",
              "            await google.colab.kernel.invokeFunction('convertToInteractive',\n",
              "                                                     [key], {});\n",
              "          if (!dataTable) return;\n",
              "\n",
              "          const docLinkHtml = 'Like what you see? Visit the ' +\n",
              "            '<a target=\"_blank\" href=https://colab.research.google.com/notebooks/data_table.ipynb>data table notebook</a>'\n",
              "            + ' to learn more about interactive tables.';\n",
              "          element.innerHTML = '';\n",
              "          dataTable['output_type'] = 'display_data';\n",
              "          await google.colab.output.renderOutput(dataTable, element);\n",
              "          const docLink = document.createElement('div');\n",
              "          docLink.innerHTML = docLinkHtml;\n",
              "          element.appendChild(docLink);\n",
              "        }\n",
              "      </script>\n",
              "    </div>\n",
              "  </div>\n",
              "  "
            ],
            "text/plain": [
              "       author                                            comment upvote_count\n",
              "0     Deimorz  Why is this posted in /r/modnews and not /r/an...         2344\n",
              "1     ridddle  What does glorify mean? Will subs like watchpe...         1135\n",
              "2      turikk  How will the exact phrase \"kill your self\" be ...          307\n",
              "3     Grickit  This cycle is so tiring\\n\\n1) reddit admins to...         3655\n",
              "4  ShaneH7646            Can we get a link to the updated rules?          195"
            ]
          },
          "metadata": {},
          "execution_count": 17
        }
      ]
    },
    {
      "cell_type": "markdown",
      "source": [
        "##**'Revamping the Quarantine Function' in r/announcements, 2018:**"
      ],
      "metadata": {
        "id": "penPZVQR9TmB"
      }
    },
    {
      "cell_type": "code",
      "source": [
        "submission2018 = reddit.submission(url = \"https://www.reddit.com/r/announcements/comments/9jf8nh/revamping_the_quarantine_function/\") #open post"
      ],
      "metadata": {
        "id": "ig8ae_mqwd9m"
      },
      "execution_count": null,
      "outputs": []
    },
    {
      "cell_type": "markdown",
      "source": [
        "**Excerpt:**\n",
        "\n",
        "*On a platform as open and diverse as Reddit, there will sometimes be communities that, while not prohibited by the Content Policy, average redditors may nevertheless find highly offensive or upsetting. In other cases, communities may be dedicated to promoting hoaxes (yes we used that word) that warrant additional scrutiny, as there are some things that are either verifiable or falsifiable and not seriously up for debate (eg, the Holocaust did happen and the number of people who died is well documented). In these circumstances, Reddit administrators may apply a quarantine.*\n",
        "\n",
        "*The purpose of quarantining a community is to prevent its content from being accidentally viewed by those who do not knowingly wish to do so, or viewed without appropriate context. We’ve also learned that quarantining a community may have a positive effect on the behavior of its subscribers by publicly signaling that there is a problem. This both forces subscribers to reconsider their behavior and incentivizes moderators to make changes.* (u/landoflobsters in r/announcements)"
      ],
      "metadata": {
        "id": "nyCHc0M-yiBK"
      }
    },
    {
      "cell_type": "markdown",
      "source": [
        "###**Let's create a dataframe of what the comment resonses are to this post.**"
      ],
      "metadata": {
        "id": "ZVumUcPZyzZA"
      }
    },
    {
      "cell_type": "code",
      "source": [
        "author_list2018 = [] #empty username list\n",
        "score_list2018 = [] #empty upvote list\n",
        "comment_list2018 = [] #empty comment list"
      ],
      "metadata": {
        "id": "4S3nzHg7xy8F"
      },
      "execution_count": null,
      "outputs": []
    },
    {
      "cell_type": "code",
      "source": [
        "submission2018.comments.replace_more(limit = 0) #use praw to read all comments on post\n",
        "for comment in submission2018.comments:\n",
        "    comment_list2018.append(comment.body) #add comment body to comment list\n",
        "\n",
        "for comment in submission2018.comments:\n",
        "  author_list2018.append(comment.author) #add username of comment to author list\n",
        "  score_list2018.append(comment.score) #add upvote count of comment to score list"
      ],
      "metadata": {
        "id": "z8MjmJDvx8Bq",
        "colab": {
          "base_uri": "https://localhost:8080/"
        },
        "outputId": "c7f5e46a-3aef-4268-e9d2-be1f3f2a10a4"
      },
      "execution_count": null,
      "outputs": [
        {
          "output_type": "stream",
          "name": "stderr",
          "text": [
            "It appears that you are using PRAW in an asynchronous environment.\n",
            "It is strongly recommended to use Async PRAW: https://asyncpraw.readthedocs.io.\n",
            "See https://praw.readthedocs.io/en/latest/getting_started/multiple_instances.html#discord-bots-and-asynchronous-environments for more info.\n",
            "\n"
          ]
        }
      ]
    },
    {
      "cell_type": "code",
      "source": [
        "content2018_dict = {'author': author_list2018 , 'comment': comment_list2018, 'upvote_count': score_list2018} #turn list to dict\n",
        "content18 = pd.DataFrame.from_dict(content2018_dict, orient = 'index') #turn dict to dataframe\n",
        "content18 = content18.transpose()\n",
        "content18 = content18[content18.comment != '[deleted]'] #drop deleted comments\n",
        "content18 = content18[content18.author != '[deleted]'] #drop deleted comments"
      ],
      "metadata": {
        "id": "jYLLe0cgyAy1"
      },
      "execution_count": null,
      "outputs": []
    },
    {
      "cell_type": "code",
      "source": [
        "content18.head()"
      ],
      "metadata": {
        "colab": {
          "base_uri": "https://localhost:8080/"
        },
        "id": "mKtg8_VIRs0R",
        "outputId": "8c9fbceb-9fcd-4410-e375-7cb5ed576983"
      },
      "execution_count": null,
      "outputs": [
        {
          "output_type": "execute_result",
          "data": {
            "text/html": [
              "\n",
              "  <div id=\"df-67411b28-6b46-450e-ac89-14f531892801\">\n",
              "    <div class=\"colab-df-container\">\n",
              "      <div>\n",
              "<style scoped>\n",
              "    .dataframe tbody tr th:only-of-type {\n",
              "        vertical-align: middle;\n",
              "    }\n",
              "\n",
              "    .dataframe tbody tr th {\n",
              "        vertical-align: top;\n",
              "    }\n",
              "\n",
              "    .dataframe thead th {\n",
              "        text-align: right;\n",
              "    }\n",
              "</style>\n",
              "<table border=\"1\" class=\"dataframe\">\n",
              "  <thead>\n",
              "    <tr style=\"text-align: right;\">\n",
              "      <th></th>\n",
              "      <th>author</th>\n",
              "      <th>comment</th>\n",
              "      <th>upvote_count</th>\n",
              "    </tr>\n",
              "  </thead>\n",
              "  <tbody>\n",
              "    <tr>\n",
              "      <th>0</th>\n",
              "      <td>throwhfhsjsubendaway</td>\n",
              "      <td>Quarantined subs are completely inaccessible o...</td>\n",
              "      <td>630</td>\n",
              "    </tr>\n",
              "    <tr>\n",
              "      <th>1</th>\n",
              "      <td>Jackgabbay</td>\n",
              "      <td>Guys can we get every sub quarantined? No ads!</td>\n",
              "      <td>251</td>\n",
              "    </tr>\n",
              "    <tr>\n",
              "      <th>2</th>\n",
              "      <td>SicariusXLVII</td>\n",
              "      <td>To avoid going in too deep on this mess, how a...</td>\n",
              "      <td>189</td>\n",
              "    </tr>\n",
              "    <tr>\n",
              "      <th>3</th>\n",
              "      <td>5th_Law_of_Robotics</td>\n",
              "      <td>r/againstmensrights is a blatant hate sub and ...</td>\n",
              "      <td>145</td>\n",
              "    </tr>\n",
              "    <tr>\n",
              "      <th>4</th>\n",
              "      <td>MikeOxlong209</td>\n",
              "      <td>I am seriously livid that I can’t view WPD on ...</td>\n",
              "      <td>294</td>\n",
              "    </tr>\n",
              "  </tbody>\n",
              "</table>\n",
              "</div>\n",
              "      <button class=\"colab-df-convert\" onclick=\"convertToInteractive('df-67411b28-6b46-450e-ac89-14f531892801')\"\n",
              "              title=\"Convert this dataframe to an interactive table.\"\n",
              "              style=\"display:none;\">\n",
              "        \n",
              "  <svg xmlns=\"http://www.w3.org/2000/svg\" height=\"24px\"viewBox=\"0 0 24 24\"\n",
              "       width=\"24px\">\n",
              "    <path d=\"M0 0h24v24H0V0z\" fill=\"none\"/>\n",
              "    <path d=\"M18.56 5.44l.94 2.06.94-2.06 2.06-.94-2.06-.94-.94-2.06-.94 2.06-2.06.94zm-11 1L8.5 8.5l.94-2.06 2.06-.94-2.06-.94L8.5 2.5l-.94 2.06-2.06.94zm10 10l.94 2.06.94-2.06 2.06-.94-2.06-.94-.94-2.06-.94 2.06-2.06.94z\"/><path d=\"M17.41 7.96l-1.37-1.37c-.4-.4-.92-.59-1.43-.59-.52 0-1.04.2-1.43.59L10.3 9.45l-7.72 7.72c-.78.78-.78 2.05 0 2.83L4 21.41c.39.39.9.59 1.41.59.51 0 1.02-.2 1.41-.59l7.78-7.78 2.81-2.81c.8-.78.8-2.07 0-2.86zM5.41 20L4 18.59l7.72-7.72 1.47 1.35L5.41 20z\"/>\n",
              "  </svg>\n",
              "      </button>\n",
              "      \n",
              "  <style>\n",
              "    .colab-df-container {\n",
              "      display:flex;\n",
              "      flex-wrap:wrap;\n",
              "      gap: 12px;\n",
              "    }\n",
              "\n",
              "    .colab-df-convert {\n",
              "      background-color: #E8F0FE;\n",
              "      border: none;\n",
              "      border-radius: 50%;\n",
              "      cursor: pointer;\n",
              "      display: none;\n",
              "      fill: #1967D2;\n",
              "      height: 32px;\n",
              "      padding: 0 0 0 0;\n",
              "      width: 32px;\n",
              "    }\n",
              "\n",
              "    .colab-df-convert:hover {\n",
              "      background-color: #E2EBFA;\n",
              "      box-shadow: 0px 1px 2px rgba(60, 64, 67, 0.3), 0px 1px 3px 1px rgba(60, 64, 67, 0.15);\n",
              "      fill: #174EA6;\n",
              "    }\n",
              "\n",
              "    [theme=dark] .colab-df-convert {\n",
              "      background-color: #3B4455;\n",
              "      fill: #D2E3FC;\n",
              "    }\n",
              "\n",
              "    [theme=dark] .colab-df-convert:hover {\n",
              "      background-color: #434B5C;\n",
              "      box-shadow: 0px 1px 3px 1px rgba(0, 0, 0, 0.15);\n",
              "      filter: drop-shadow(0px 1px 2px rgba(0, 0, 0, 0.3));\n",
              "      fill: #FFFFFF;\n",
              "    }\n",
              "  </style>\n",
              "\n",
              "      <script>\n",
              "        const buttonEl =\n",
              "          document.querySelector('#df-67411b28-6b46-450e-ac89-14f531892801 button.colab-df-convert');\n",
              "        buttonEl.style.display =\n",
              "          google.colab.kernel.accessAllowed ? 'block' : 'none';\n",
              "\n",
              "        async function convertToInteractive(key) {\n",
              "          const element = document.querySelector('#df-67411b28-6b46-450e-ac89-14f531892801');\n",
              "          const dataTable =\n",
              "            await google.colab.kernel.invokeFunction('convertToInteractive',\n",
              "                                                     [key], {});\n",
              "          if (!dataTable) return;\n",
              "\n",
              "          const docLinkHtml = 'Like what you see? Visit the ' +\n",
              "            '<a target=\"_blank\" href=https://colab.research.google.com/notebooks/data_table.ipynb>data table notebook</a>'\n",
              "            + ' to learn more about interactive tables.';\n",
              "          element.innerHTML = '';\n",
              "          dataTable['output_type'] = 'display_data';\n",
              "          await google.colab.output.renderOutput(dataTable, element);\n",
              "          const docLink = document.createElement('div');\n",
              "          docLink.innerHTML = docLinkHtml;\n",
              "          element.appendChild(docLink);\n",
              "        }\n",
              "      </script>\n",
              "    </div>\n",
              "  </div>\n",
              "  "
            ],
            "text/plain": [
              "                 author  ... upvote_count\n",
              "0  throwhfhsjsubendaway  ...          630\n",
              "1            Jackgabbay  ...          251\n",
              "2         SicariusXLVII  ...          189\n",
              "3   5th_Law_of_Robotics  ...          145\n",
              "4         MikeOxlong209  ...          294\n",
              "\n",
              "[5 rows x 3 columns]"
            ]
          },
          "metadata": {},
          "execution_count": 22
        }
      ]
    },
    {
      "cell_type": "markdown",
      "source": [
        "##**'Content Policy Update' in r/announcements, 2020:**"
      ],
      "metadata": {
        "id": "1plmLqP89f3J"
      }
    },
    {
      "cell_type": "code",
      "source": [
        "submission2020 = reddit.submission(url = \"https://www.reddit.com/r/announcements/comments/hi3oht/update_to_our_content_policy/\") #open post"
      ],
      "metadata": {
        "id": "Zn-uV5NAbt_8"
      },
      "execution_count": null,
      "outputs": []
    },
    {
      "cell_type": "markdown",
      "source": [
        "**Excerpt:**\n",
        "\n",
        "*From our conversations with mods and outside experts, it’s clear that while we’ve gotten better in some areas—like actioning violations at the community level, scaling enforcement efforts, measurably reducing hateful experiences like harassment year over year—we still have a long way to go to address the gaps in our policies and enforcement to date.*\n",
        "\n",
        "*These include addressing questions our policies have left unanswered (like whether hate speech is allowed or even protected on Reddit), aspects of our product and mod tools that are still too easy for individual bad actors to abuse (inboxes, chats, modmail), and areas where we can do better to partner with our mods and communities who want to combat the same hateful conduct we do.*\n",
        "\n",
        "*Ultimately, it’s our responsibility to support our communities by taking stronger action against those who try to weaponize parts of Reddit against other people. In the near term, this support will translate into some of the product work we discussed with mods. But it starts with dealing squarely with the hate we can mitigate today through our policies and enforcement.* (u/spez in r/announcements)"
      ],
      "metadata": {
        "id": "8bhN5IyDzN95"
      }
    },
    {
      "cell_type": "markdown",
      "source": [
        "###**Let's create a dataframe of what the comment resonses are to this post.**"
      ],
      "metadata": {
        "id": "kxdHXqV4zntS"
      }
    },
    {
      "cell_type": "code",
      "source": [
        "author_list2020 = [] #empty username list\n",
        "score_list2020 = [] #empty upvote count list\n",
        "comment_list2020 = [] #empty comment list"
      ],
      "metadata": {
        "id": "bs7RUYYytW8i"
      },
      "execution_count": null,
      "outputs": []
    },
    {
      "cell_type": "code",
      "source": [
        "submission2020.comments.replace_more(limit = 0) #use praw to read all comments on post\n",
        "for comment in submission2020.comments:\n",
        "    comment_list2020.append(comment.body) #add content of comment to comment list\n",
        "\n",
        "for comment in submission2020.comments:\n",
        "  author_list2020.append(comment.author) #add username of comment to author list\n",
        "  score_list2020.append(comment.score) #add upvote count of comment to score list"
      ],
      "metadata": {
        "id": "EN_VXedTd0RJ",
        "colab": {
          "base_uri": "https://localhost:8080/"
        },
        "outputId": "457d523e-9dbb-42fc-99ca-360bc45ac624"
      },
      "execution_count": null,
      "outputs": [
        {
          "output_type": "stream",
          "name": "stderr",
          "text": [
            "It appears that you are using PRAW in an asynchronous environment.\n",
            "It is strongly recommended to use Async PRAW: https://asyncpraw.readthedocs.io.\n",
            "See https://praw.readthedocs.io/en/latest/getting_started/multiple_instances.html#discord-bots-and-asynchronous-environments for more info.\n",
            "\n"
          ]
        }
      ]
    },
    {
      "cell_type": "code",
      "source": [
        "content2020_dict = {'author': author_list2020 , 'comment': comment_list2020, 'upvote_count': score_list2020} #turn list to dict\n",
        "content20 = pd.DataFrame.from_dict(content2020_dict, orient = 'index') #turn dict to dataframe\n",
        "content20 = content20.transpose()\n",
        "content20 = content20[content20.comment != '[deleted]'] #drop deleted comments\n",
        "content20 = content20[content20.author != '[deleted]'] #drop deleted comments"
      ],
      "metadata": {
        "id": "PluIYJ8_uBOj"
      },
      "execution_count": null,
      "outputs": []
    },
    {
      "cell_type": "code",
      "source": [
        "content20.head()"
      ],
      "metadata": {
        "colab": {
          "base_uri": "https://localhost:8080/"
        },
        "id": "19eIxlDQRwIR",
        "outputId": "4e9a8df0-d60d-4901-a34b-e441494b7d62"
      },
      "execution_count": null,
      "outputs": [
        {
          "output_type": "execute_result",
          "data": {
            "text/html": [
              "\n",
              "  <div id=\"df-a82c03f2-a311-4f5c-8cd7-bf1858356aad\">\n",
              "    <div class=\"colab-df-container\">\n",
              "      <div>\n",
              "<style scoped>\n",
              "    .dataframe tbody tr th:only-of-type {\n",
              "        vertical-align: middle;\n",
              "    }\n",
              "\n",
              "    .dataframe tbody tr th {\n",
              "        vertical-align: top;\n",
              "    }\n",
              "\n",
              "    .dataframe thead th {\n",
              "        text-align: right;\n",
              "    }\n",
              "</style>\n",
              "<table border=\"1\" class=\"dataframe\">\n",
              "  <thead>\n",
              "    <tr style=\"text-align: right;\">\n",
              "      <th></th>\n",
              "      <th>author</th>\n",
              "      <th>comment</th>\n",
              "      <th>upvote_count</th>\n",
              "    </tr>\n",
              "  </thead>\n",
              "  <tbody>\n",
              "    <tr>\n",
              "      <th>0</th>\n",
              "      <td>None</td>\n",
              "      <td>Why are the names of most subs censored</td>\n",
              "      <td>1673</td>\n",
              "    </tr>\n",
              "    <tr>\n",
              "      <th>1</th>\n",
              "      <td>jomohoe</td>\n",
              "      <td>Holy shit, I can't believe that initial post a...</td>\n",
              "      <td>5149</td>\n",
              "    </tr>\n",
              "    <tr>\n",
              "      <th>2</th>\n",
              "      <td>1984IndianExmuslim</td>\n",
              "      <td>I ~~have~~ had a tiny sub (less than 3000 subs...</td>\n",
              "      <td>309</td>\n",
              "    </tr>\n",
              "    <tr>\n",
              "      <th>3</th>\n",
              "      <td>Great_LD</td>\n",
              "      <td>What, if anything will be done about harassmen...</td>\n",
              "      <td>3446</td>\n",
              "    </tr>\n",
              "    <tr>\n",
              "      <th>4</th>\n",
              "      <td>Shegham</td>\n",
              "      <td>YOU HAVEN'T DONE SHIT TO ANY OF THE R/Politics...</td>\n",
              "      <td>50</td>\n",
              "    </tr>\n",
              "  </tbody>\n",
              "</table>\n",
              "</div>\n",
              "      <button class=\"colab-df-convert\" onclick=\"convertToInteractive('df-a82c03f2-a311-4f5c-8cd7-bf1858356aad')\"\n",
              "              title=\"Convert this dataframe to an interactive table.\"\n",
              "              style=\"display:none;\">\n",
              "        \n",
              "  <svg xmlns=\"http://www.w3.org/2000/svg\" height=\"24px\"viewBox=\"0 0 24 24\"\n",
              "       width=\"24px\">\n",
              "    <path d=\"M0 0h24v24H0V0z\" fill=\"none\"/>\n",
              "    <path d=\"M18.56 5.44l.94 2.06.94-2.06 2.06-.94-2.06-.94-.94-2.06-.94 2.06-2.06.94zm-11 1L8.5 8.5l.94-2.06 2.06-.94-2.06-.94L8.5 2.5l-.94 2.06-2.06.94zm10 10l.94 2.06.94-2.06 2.06-.94-2.06-.94-.94-2.06-.94 2.06-2.06.94z\"/><path d=\"M17.41 7.96l-1.37-1.37c-.4-.4-.92-.59-1.43-.59-.52 0-1.04.2-1.43.59L10.3 9.45l-7.72 7.72c-.78.78-.78 2.05 0 2.83L4 21.41c.39.39.9.59 1.41.59.51 0 1.02-.2 1.41-.59l7.78-7.78 2.81-2.81c.8-.78.8-2.07 0-2.86zM5.41 20L4 18.59l7.72-7.72 1.47 1.35L5.41 20z\"/>\n",
              "  </svg>\n",
              "      </button>\n",
              "      \n",
              "  <style>\n",
              "    .colab-df-container {\n",
              "      display:flex;\n",
              "      flex-wrap:wrap;\n",
              "      gap: 12px;\n",
              "    }\n",
              "\n",
              "    .colab-df-convert {\n",
              "      background-color: #E8F0FE;\n",
              "      border: none;\n",
              "      border-radius: 50%;\n",
              "      cursor: pointer;\n",
              "      display: none;\n",
              "      fill: #1967D2;\n",
              "      height: 32px;\n",
              "      padding: 0 0 0 0;\n",
              "      width: 32px;\n",
              "    }\n",
              "\n",
              "    .colab-df-convert:hover {\n",
              "      background-color: #E2EBFA;\n",
              "      box-shadow: 0px 1px 2px rgba(60, 64, 67, 0.3), 0px 1px 3px 1px rgba(60, 64, 67, 0.15);\n",
              "      fill: #174EA6;\n",
              "    }\n",
              "\n",
              "    [theme=dark] .colab-df-convert {\n",
              "      background-color: #3B4455;\n",
              "      fill: #D2E3FC;\n",
              "    }\n",
              "\n",
              "    [theme=dark] .colab-df-convert:hover {\n",
              "      background-color: #434B5C;\n",
              "      box-shadow: 0px 1px 3px 1px rgba(0, 0, 0, 0.15);\n",
              "      filter: drop-shadow(0px 1px 2px rgba(0, 0, 0, 0.3));\n",
              "      fill: #FFFFFF;\n",
              "    }\n",
              "  </style>\n",
              "\n",
              "      <script>\n",
              "        const buttonEl =\n",
              "          document.querySelector('#df-a82c03f2-a311-4f5c-8cd7-bf1858356aad button.colab-df-convert');\n",
              "        buttonEl.style.display =\n",
              "          google.colab.kernel.accessAllowed ? 'block' : 'none';\n",
              "\n",
              "        async function convertToInteractive(key) {\n",
              "          const element = document.querySelector('#df-a82c03f2-a311-4f5c-8cd7-bf1858356aad');\n",
              "          const dataTable =\n",
              "            await google.colab.kernel.invokeFunction('convertToInteractive',\n",
              "                                                     [key], {});\n",
              "          if (!dataTable) return;\n",
              "\n",
              "          const docLinkHtml = 'Like what you see? Visit the ' +\n",
              "            '<a target=\"_blank\" href=https://colab.research.google.com/notebooks/data_table.ipynb>data table notebook</a>'\n",
              "            + ' to learn more about interactive tables.';\n",
              "          element.innerHTML = '';\n",
              "          dataTable['output_type'] = 'display_data';\n",
              "          await google.colab.output.renderOutput(dataTable, element);\n",
              "          const docLink = document.createElement('div');\n",
              "          docLink.innerHTML = docLinkHtml;\n",
              "          element.appendChild(docLink);\n",
              "        }\n",
              "      </script>\n",
              "    </div>\n",
              "  </div>\n",
              "  "
            ],
            "text/plain": [
              "               author  ... upvote_count\n",
              "0                None  ...         1673\n",
              "1             jomohoe  ...         5149\n",
              "2  1984IndianExmuslim  ...          309\n",
              "3            Great_LD  ...         3446\n",
              "4             Shegham  ...           50\n",
              "\n",
              "[5 rows x 3 columns]"
            ]
          },
          "metadata": {},
          "execution_count": 27
        }
      ]
    },
    {
      "cell_type": "markdown",
      "source": [
        "Now that we have our data all neatly organized, we can start using it for topic modeling to see exactly what topics are coming up in response to Reddit's content policy updates!"
      ],
      "metadata": {
        "id": "ycCOqQrMkKYj"
      }
    },
    {
      "cell_type": "markdown",
      "source": [
        "#**Step Two : Topic Modeling for Reddit comment responses to content policy updates.**"
      ],
      "metadata": {
        "id": "KSX2zG4m8wVL"
      }
    },
    {
      "cell_type": "markdown",
      "source": [
        "The topic modeling code I use is adapted from the [notebook](https://colab.research.google.com/drive/1LXCKl9CAQvAkIskdOXGwlXwagnXG29t2?usp=sharing) provided by machinelearningplus.com. I'll first begin my downloading the necessary stuff to start topic modeling. We will be using the top 5 topics from each model for the later paper.\n",
        "\n"
      ],
      "metadata": {
        "id": "vrNPQVidYv8q"
      }
    },
    {
      "cell_type": "code",
      "source": [
        "import nltk; nltk.download('stopwords') #stopwords from nltk to clean tokens later"
      ],
      "metadata": {
        "colab": {
          "base_uri": "https://localhost:8080/"
        },
        "id": "9uz9NLDCeQas",
        "outputId": "7ca4bfc9-6680-49f9-8569-aad33596bec1"
      },
      "execution_count": null,
      "outputs": [
        {
          "output_type": "stream",
          "name": "stdout",
          "text": [
            "[nltk_data] Downloading package stopwords to /root/nltk_data...\n",
            "[nltk_data]   Package stopwords is already up-to-date!\n"
          ]
        },
        {
          "output_type": "execute_result",
          "data": {
            "text/plain": [
              "True"
            ]
          },
          "metadata": {},
          "execution_count": 28
        }
      ]
    },
    {
      "cell_type": "code",
      "source": [
        "!pip install pyLDAvis #pyLDAvis and gensim install to use for topic modeling\n",
        "!pip install gensim"
      ],
      "metadata": {
        "colab": {
          "base_uri": "https://localhost:8080/"
        },
        "id": "ULsMxnsceoLv",
        "outputId": "cd03d1f5-8ed2-42f9-8081-e6ec7f171491"
      },
      "execution_count": null,
      "outputs": [
        {
          "output_type": "stream",
          "name": "stdout",
          "text": [
            "Requirement already satisfied: pyLDAvis in /usr/local/lib/python3.7/dist-packages (3.3.1)\n",
            "Requirement already satisfied: pandas>=1.2.0 in /usr/local/lib/python3.7/dist-packages (from pyLDAvis) (1.3.5)\n",
            "Requirement already satisfied: setuptools in /usr/local/lib/python3.7/dist-packages (from pyLDAvis) (57.4.0)\n",
            "Requirement already satisfied: funcy in /usr/local/lib/python3.7/dist-packages (from pyLDAvis) (1.17)\n",
            "Requirement already satisfied: jinja2 in /usr/local/lib/python3.7/dist-packages (from pyLDAvis) (2.11.3)\n",
            "Requirement already satisfied: numpy>=1.20.0 in /usr/local/lib/python3.7/dist-packages (from pyLDAvis) (1.21.5)\n",
            "Requirement already satisfied: future in /usr/local/lib/python3.7/dist-packages (from pyLDAvis) (0.16.0)\n",
            "Requirement already satisfied: joblib in /usr/local/lib/python3.7/dist-packages (from pyLDAvis) (1.1.0)\n",
            "Requirement already satisfied: numexpr in /usr/local/lib/python3.7/dist-packages (from pyLDAvis) (2.8.1)\n",
            "Requirement already satisfied: scipy in /usr/local/lib/python3.7/dist-packages (from pyLDAvis) (1.4.1)\n",
            "Requirement already satisfied: scikit-learn in /usr/local/lib/python3.7/dist-packages (from pyLDAvis) (1.0.2)\n",
            "Requirement already satisfied: gensim in /usr/local/lib/python3.7/dist-packages (from pyLDAvis) (3.6.0)\n",
            "Requirement already satisfied: sklearn in /usr/local/lib/python3.7/dist-packages (from pyLDAvis) (0.0)\n",
            "Requirement already satisfied: pytz>=2017.3 in /usr/local/lib/python3.7/dist-packages (from pandas>=1.2.0->pyLDAvis) (2018.9)\n",
            "Requirement already satisfied: python-dateutil>=2.7.3 in /usr/local/lib/python3.7/dist-packages (from pandas>=1.2.0->pyLDAvis) (2.8.2)\n",
            "Requirement already satisfied: six>=1.5 in /usr/local/lib/python3.7/dist-packages (from python-dateutil>=2.7.3->pandas>=1.2.0->pyLDAvis) (1.15.0)\n",
            "Requirement already satisfied: smart-open>=1.2.1 in /usr/local/lib/python3.7/dist-packages (from gensim->pyLDAvis) (5.2.1)\n",
            "Requirement already satisfied: MarkupSafe>=0.23 in /usr/local/lib/python3.7/dist-packages (from jinja2->pyLDAvis) (2.0.1)\n",
            "Requirement already satisfied: packaging in /usr/local/lib/python3.7/dist-packages (from numexpr->pyLDAvis) (21.3)\n",
            "Requirement already satisfied: pyparsing!=3.0.5,>=2.0.2 in /usr/local/lib/python3.7/dist-packages (from packaging->numexpr->pyLDAvis) (3.0.6)\n",
            "Requirement already satisfied: threadpoolctl>=2.0.0 in /usr/local/lib/python3.7/dist-packages (from scikit-learn->pyLDAvis) (3.0.0)\n",
            "Requirement already satisfied: gensim in /usr/local/lib/python3.7/dist-packages (3.6.0)\n",
            "Requirement already satisfied: numpy>=1.11.3 in /usr/local/lib/python3.7/dist-packages (from gensim) (1.21.5)\n",
            "Requirement already satisfied: scipy>=0.18.1 in /usr/local/lib/python3.7/dist-packages (from gensim) (1.4.1)\n",
            "Requirement already satisfied: six>=1.5.0 in /usr/local/lib/python3.7/dist-packages (from gensim) (1.15.0)\n",
            "Requirement already satisfied: smart-open>=1.2.1 in /usr/local/lib/python3.7/dist-packages (from gensim) (5.2.1)\n"
          ]
        }
      ]
    },
    {
      "cell_type": "markdown",
      "source": [
        "###***You might have to restart the runtime and run all cells again at this point!!!!!***"
      ],
      "metadata": {
        "id": "PyQpThCH15-t"
      }
    },
    {
      "cell_type": "code",
      "source": [
        "import re             #necessary stuff\n",
        "import numpy as np \n",
        "import pandas as pd\n",
        "from pprint import pprint\n",
        "\n",
        "import gensim         #gensim for topic modeling\n",
        "import gensim.corpora as corpora\n",
        "from gensim.utils import simple_preprocess\n",
        "from gensim.models import CoherenceModel \n",
        "\n",
        "import spacy        #spacy to process data\n",
        "\n",
        "import pyLDAvis     #pyLDAvis for topic modeling\n",
        "import pyLDAvis.gensim_models as gensimvis\n",
        "import matplotlib.pyplot as plt\n",
        "%matplotlib inline\n",
        "\n",
        "import logging      #enable logging for gensim\n",
        "logging.basicConfig(format = '%(asctime)s : %(levelname)s : %(message)s', level = logging.ERROR)\n",
        "\n",
        "import warnings\n",
        "warnings.filterwarnings(\"ignore\",category = DeprecationWarning)"
      ],
      "metadata": {
        "id": "g89KAs0weo3d",
        "colab": {
          "base_uri": "https://localhost:8080/"
        },
        "outputId": "3b48f0d4-8f03-4d06-8a4e-fd7d07b8c666"
      },
      "execution_count": null,
      "outputs": [
        {
          "output_type": "stream",
          "name": "stderr",
          "text": [
            "/usr/local/lib/python3.7/dist-packages/past/types/oldstr.py:5: DeprecationWarning: Using or importing the ABCs from 'collections' instead of from 'collections.abc' is deprecated since Python 3.3,and in 3.9 it will stop working\n",
            "  from collections import Iterable\n"
          ]
        }
      ]
    },
    {
      "cell_type": "code",
      "source": [
        "from nltk.corpus import stopwords #create stopwords list\n",
        "stop_words = stopwords.words('english')\n",
        "stop_words.extend(['reddit', 'site', 'edit','com', 'link', 'website', 'r/announcements', 'html', 'r/modnews', 'www', 'spez', 'landoflobsters']) \n",
        "#add extra irrelevant words potentially in comments"
      ],
      "metadata": {
        "id": "UEm5MddHeRwt"
      },
      "execution_count": null,
      "outputs": []
    },
    {
      "cell_type": "markdown",
      "source": [
        "Functions to tokenize and remove stopwords from data:"
      ],
      "metadata": {
        "id": "vEqeta2uZ_m1"
      }
    },
    {
      "cell_type": "code",
      "source": [
        "def sent_to_words(sentences): #tokenize the comments\n",
        "    for sentence in sentences:\n",
        "        yield(gensim.utils.simple_preprocess(str(sentence).encode('utf-8'), deacc = True))\n",
        "\n",
        "def remove_stopwords(texts): #remove stopwords from tokens\n",
        "    return [[word for word in simple_preprocess(str(doc)) if word not in stop_words] for doc in texts]\n",
        "\n",
        "nlp = spacy.load('en_core_web_sm', disable = ['parser', 'ner']) #establish nlp\n",
        "#print(stop_words)"
      ],
      "metadata": {
        "id": "ftVK8AxhZ6Pc"
      },
      "execution_count": null,
      "outputs": []
    },
    {
      "cell_type": "markdown",
      "source": [
        "#**Topic Modeling for 'Let's Talk Content. AMA.' in r/announcements, 2015:**"
      ],
      "metadata": {
        "id": "dxXxwBXnl8WU"
      }
    },
    {
      "cell_type": "markdown",
      "source": [
        "###**Preparing the data:**"
      ],
      "metadata": {
        "id": "UP26RpW6bK_s"
      }
    },
    {
      "cell_type": "code",
      "source": [
        "dataAMA2015 = AMA15.comment.values.tolist() #turn the comment values in our data frame into a list\n",
        "dataAMA2015 = [re.sub('\\s+', ' ', sent) for sent in dataAMA2015] #get rid of newline characters\n",
        "dataAMA2015 = [re.sub(\"\\'\",\" \", sent) for sent in dataAMA2015] #get rid of single quotes"
      ],
      "metadata": {
        "id": "z1FAEy_-mBjq"
      },
      "execution_count": null,
      "outputs": []
    },
    {
      "cell_type": "code",
      "source": [
        "data_wordsAMA2015 = list(sent_to_words(dataAMA2015))\n",
        "print(data_wordsAMA2015[:1])"
      ],
      "metadata": {
        "colab": {
          "base_uri": "https://localhost:8080/"
        },
        "id": "Hbr_jRlYmJul",
        "outputId": "ebe51c03-e0be-4743-8d56-9ee913a9612e"
      },
      "execution_count": null,
      "outputs": [
        {
          "output_type": "stream",
          "name": "stdout",
          "text": [
            "[['when', 'will', 'something', 'be', 'done', 'about', 'subreddit', 'squatters', 'the', 'existing', 'system', 'is', 'not', 'working', 'qgyh', 'is', 'able', 'to', 'retain', 'top', 'mod', 'of', 'many', 'defaults', 'and', 'large', 'subreddits', 'just', 'because', 'he', 'posts', 'comment', 'every', 'two', 'months', 'this', 'is', 'harming', 'reddit', 'as', 'community', 'when', 'lower', 'mods', 'are', 'veto', 'and', 'removed', 'by', 'someone', 'who', 'is', 'only', 'mod', 'for', 'the', 'power', 'trip', 'will', 'something', 'be', 'done', 'about', 'this']]\n"
          ]
        }
      ]
    },
    {
      "cell_type": "markdown",
      "source": [
        "###**Building bigrams and trigrams:**"
      ],
      "metadata": {
        "id": "e7JGqAiYZzsF"
      }
    },
    {
      "cell_type": "code",
      "source": [
        "bigramAMA2015 = gensim.models.Phrases(data_wordsAMA2015, min_count = 5, threshold = 100) \n",
        "trigramAMA2015 = gensim.models.Phrases(bigramAMA2015[data_wordsAMA2015], threshold = 100) \n",
        "bigram_modAMA2015 = gensim.models.phrases.Phraser(bigramAMA2015)\n",
        "trigram_modAMA2015 = gensim.models.phrases.Phraser(trigramAMA2015)"
      ],
      "metadata": {
        "colab": {
          "base_uri": "https://localhost:8080/"
        },
        "id": "OhtLBXPrmNoi",
        "outputId": "4df734e8-dc5f-416d-f210-cd6d414ba824"
      },
      "execution_count": null,
      "outputs": [
        {
          "output_type": "stream",
          "name": "stderr",
          "text": [
            "/usr/local/lib/python3.7/dist-packages/gensim/models/phrases.py:598: UserWarning: For a faster implementation, use the gensim.models.phrases.Phraser class\n",
            "  warnings.warn(\"For a faster implementation, use the gensim.models.phrases.Phraser class\")\n"
          ]
        }
      ]
    },
    {
      "cell_type": "markdown",
      "source": [
        "###**Removing stopwords, making bigrams and trigrams, and lemmatizing:**"
      ],
      "metadata": {
        "id": "zbyhD4JpaNcO"
      }
    },
    {
      "cell_type": "code",
      "source": [
        "def make_bigramsAMA2015(texts):\n",
        "    return [bigram_modAMA2015[doc] for doc in texts]\n",
        "\n",
        "def make_trigramsAMA2015(texts):\n",
        "    return [trigram_modAMA2015[doc] for doc in texts]\n",
        "\n",
        "def lemmatizationAMA2015(texts, allowed_postags = ['NOUN', 'ADJ', 'VERB', 'ADV']):\n",
        "    \"\"\"https://spacy.io/api/annotation\"\"\"\n",
        "    texts_out = []\n",
        "    for sent in texts:\n",
        "        doc = nlp(\" \".join(sent)) \n",
        "        texts_out.append([token.lemma_ for token in doc if token.pos_ in allowed_postags])\n",
        "    return texts_out"
      ],
      "metadata": {
        "id": "tB0bHcXGmc7c"
      },
      "execution_count": null,
      "outputs": []
    },
    {
      "cell_type": "code",
      "source": [
        "data_words_nostopsAMA2015 = remove_stopwords(data_wordsAMA2015)\n",
        "data_words_bigramsAMA2015 = make_bigramsAMA2015(data_words_nostopsAMA2015)\n",
        "data_words_trigramsAMA2015 = make_trigramsAMA2015(data_words_bigramsAMA2015)\n",
        "data_lemmatizedAMA2015 = lemmatizationAMA2015(data_words_trigramsAMA2015, allowed_postags = ['NOUN', 'ADJ', 'VERB', 'ADV'])\n",
        "print(data_lemmatizedAMA2015[:1])"
      ],
      "metadata": {
        "colab": {
          "base_uri": "https://localhost:8080/"
        },
        "id": "f7Yl2nd2mk6P",
        "outputId": "58060d9a-dd5c-41cb-944b-3a0a44f956f0"
      },
      "execution_count": null,
      "outputs": [
        {
          "output_type": "stream",
          "name": "stdout",
          "text": [
            "[['do', 'subreddit', 'squatter', 'exist', 'system', 'work', 'qgyh', 'able', 'top', 'many', 'default', 'large', 'subreddit', 'post', 'comment', 'month', 'harm', 'community', 'low', 'mod', 'veto', 'remove', 'trip', 'do']]\n"
          ]
        }
      ]
    },
    {
      "cell_type": "code",
      "source": [
        "id2wordAMA2015 = corpora.Dictionary(data_lemmatizedAMA2015)\n",
        "textsAMA2015 = data_lemmatizedAMA2015\n",
        "corpusAMA2015 = [id2wordAMA2015.doc2bow(text) for text in textsAMA2015]"
      ],
      "metadata": {
        "id": "9j0L2rZEmyAE"
      },
      "execution_count": null,
      "outputs": []
    },
    {
      "cell_type": "markdown",
      "source": [
        "###**Build the LDA Model:**"
      ],
      "metadata": {
        "id": "NVohIoN2bdR3"
      }
    },
    {
      "cell_type": "code",
      "source": [
        "lda_modelAMA2015 = gensim.models.ldamodel.LdaModel(corpus = corpusAMA2015,\n",
        "                                           id2word = id2wordAMA2015,\n",
        "                                           num_topics = 20, \n",
        "                                           random_state = 100,\n",
        "                                           update_every = 1,\n",
        "                                           chunksize = 30,\n",
        "                                           passes = 200,\n",
        "                                           alpha = 'auto',\n",
        "                                           per_word_topics = True)"
      ],
      "metadata": {
        "id": "EFeWoczkm_pY"
      },
      "execution_count": null,
      "outputs": []
    },
    {
      "cell_type": "markdown",
      "source": [
        "##**View LDA Topics for 'Let's Talk Content. AMA.' in r/announcements, 2015:**"
      ],
      "metadata": {
        "id": "BOWiABGtblcG"
      }
    },
    {
      "cell_type": "code",
      "source": [
        "pprint(lda_modelAMA2015.print_topics())\n",
        "doc_ldaAMA2015 = lda_modelAMA2015[corpusAMA2015]"
      ],
      "metadata": {
        "colab": {
          "base_uri": "https://localhost:8080/"
        },
        "id": "xptQJCD8nJyt",
        "outputId": "94d98663-ef0c-44d3-c1c7-562d21188c33"
      },
      "execution_count": null,
      "outputs": [
        {
          "output_type": "stream",
          "name": "stdout",
          "text": [
            "[(0,\n",
            "  '0.061*\"enforce\" + 0.031*\"exactly\" + 0.031*\"intend\" + 0.026*\"offer\" + '\n",
            "  '0.021*\"rule\" + 0.020*\"statement\" + 0.020*\"still\" + 0.017*\"take\" + '\n",
            "  '0.016*\"make\" + 0.011*\"remove\"'),\n",
            " (1,\n",
            "  '0.011*\"agenda\" + 0.011*\"republican\" + 0.011*\"protect\" + 0.011*\"idea\" + '\n",
            "  '0.011*\"news\" + 0.011*\"shadowbanned\" + 0.011*\"redditblog\" + 0.011*\"promote\" '\n",
            "  '+ 0.011*\"http\" + 0.001*\"conservative\"'),\n",
            " (2,\n",
            "  '0.001*\"drug\" + 0.001*\"diminish\" + 0.001*\"malicious\" + 0.001*\"line\" + '\n",
            "  '0.001*\"gameplay\" + 0.001*\"game\" + 0.001*\"footage\" + 0.001*\"movie\" + '\n",
            "  '0.001*\"blurry\" + 0.001*\"activity\"'),\n",
            " (3,\n",
            "  '0.001*\"drug\" + 0.001*\"diminish\" + 0.001*\"malicious\" + 0.001*\"line\" + '\n",
            "  '0.001*\"gameplay\" + 0.001*\"game\" + 0.001*\"footage\" + 0.001*\"movie\" + '\n",
            "  '0.001*\"blurry\" + 0.001*\"activity\"'),\n",
            " (4,\n",
            "  '0.070*\"need\" + 0.054*\"illegal\" + 0.045*\"other\" + 0.036*\"content\" + '\n",
            "  '0.026*\"define\" + 0.026*\"may\" + 0.024*\"type\" + 0.024*\"abuse\" + 0.024*\"much\" '\n",
            "  '+ 0.023*\"common\"'),\n",
            " (5,\n",
            "  '0.030*\"person\" + 0.027*\"must\" + 0.025*\"criticism\" + 0.025*\"threaten\" + '\n",
            "  '0.017*\"would\" + 0.016*\"many\" + 0.014*\"people\" + 0.014*\"point\" + '\n",
            "  '0.014*\"appear\" + 0.013*\"much\"'),\n",
            " (6,\n",
            "  '0.039*\"subreddit\" + 0.031*\"brigade\" + 0.029*\"admin\" + 0.023*\"say\" + '\n",
            "  '0.022*\"even\" + 0.021*\"action\" + 0.019*\"comment\" + 0.019*\"community\" + '\n",
            "  '0.017*\"policy\" + 0.016*\"rule\"'),\n",
            " (7,\n",
            "  '0.050*\"user\" + 0.026*\"transparency\" + 0.026*\"ban\" + 0.019*\"complete\" + '\n",
            "  '0.018*\"harassment\" + 0.017*\"lack\" + 0.016*\"think\" + 0.014*\"shadowban\" + '\n",
            "  '0.014*\"also\" + 0.012*\"include\"'),\n",
            " (8,\n",
            "  '0.019*\"produce\" + 0.010*\"discussion\" + 0.010*\"portion\" + 0.010*\"pirate\" + '\n",
            "  '0.010*\"grey\" + 0.010*\"confused\" + 0.010*\"area\" + 0.010*\"large\" + '\n",
            "  '0.010*\"tpb\" + 0.010*\"tree\"'),\n",
            " (9,\n",
            "  '0.045*\"behavior\" + 0.036*\"anti\" + 0.031*\"jurisdiction\" + '\n",
            "  '0.031*\"unacceptable\" + 0.031*\"standard\" + 0.031*\"active\" + 0.031*\"exactly\" '\n",
            "  '+ 0.031*\"private\" + 0.026*\"enforce\" + 0.019*\"fat\"'),\n",
            " (10,\n",
            "  '0.032*\"offensive\" + 0.024*\"content\" + 0.020*\"dmca\" + 0.016*\"sub\" + '\n",
            "  '0.015*\"remove\" + 0.012*\"removal\" + 0.012*\"discussion\" + 0.012*\"copyright\" + '\n",
            "  '0.012*\"do\" + 0.012*\"rule\"'),\n",
            " (11,\n",
            "  '0.050*\"sense\" + 0.033*\"imagery\" + 0.033*\"require\" + 0.017*\"guide\" + '\n",
            "  '0.017*\"grow\" + 0.017*\"graphic\" + 0.017*\"generate\" + 0.017*\"folly\" + '\n",
            "  '0.017*\"fece\" + 0.017*\"king\"'),\n",
            " (12,\n",
            "  '0.063*\"often\" + 0.035*\"violate\" + 0.035*\"consider\" + 0.034*\"discuss\" + '\n",
            "  '0.034*\"perhaps\" + 0.028*\"know\" + 0.027*\"would\" + 0.022*\"illegal\" + '\n",
            "  '0.017*\"copyright\" + 0.011*\"approach\"'),\n",
            " (13,\n",
            "  '0.021*\"wait\" + 0.011*\"least\" + 0.011*\"save\" + 0.011*\"hit\" + 0.011*\"ctrl\" + '\n",
            "  '0.011*\"day\" + 0.001*\"gameplay\" + 0.001*\"malicious\" + 0.001*\"delete\" + '\n",
            "  '0.001*\"line\"'),\n",
            " (14,\n",
            "  '0.088*\"people\" + 0.033*\"silence\" + 0.027*\"make\" + 0.026*\"would\" + '\n",
            "  '0.025*\"abuse\" + 0.025*\"other\" + 0.024*\"content\" + 0.024*\"different\" + '\n",
            "  '0.021*\"harassment\" + 0.020*\"go\"'),\n",
            " (15,\n",
            "  '0.031*\"say\" + 0.026*\"create\" + 0.022*\"remember\" + 0.022*\"differently\" + '\n",
            "  '0.022*\"care\" + 0.019*\"gold\" + 0.019*\"buy\" + 0.016*\"ban\" + 0.013*\"even\" + '\n",
            "  '0.012*\"bastion\"'),\n",
            " (16,\n",
            "  '0.039*\"accept\" + 0.022*\"see\" + 0.019*\"world\" + 0.019*\"address\" + '\n",
            "  '0.019*\"offensive\" + 0.019*\"obscene\" + 0.014*\"announcement\" + 0.013*\"want\" + '\n",
            "  '0.013*\"little\" + 0.013*\"early\"'),\n",
            " (17,\n",
            "  '0.070*\"material\" + 0.052*\"consider\" + 0.001*\"let\" + 0.001*\"month\" + '\n",
            "  '0.001*\"create\" + 0.001*\"care\" + 0.001*\"line\" + 0.001*\"monetized\" + '\n",
            "  '0.001*\"malicious\" + 0.001*\"movie\"'),\n",
            " (18,\n",
            "  '0.121*\"feel\" + 0.030*\"offend\" + 0.029*\"effort\" + 0.029*\"determination\" + '\n",
            "  '0.017*\"hold\" + 0.017*\"month\" + 0.016*\"say\" + 0.015*\"ridiculous\" + '\n",
            "  '0.015*\"precisely\" + 0.015*\"tolerance\"'),\n",
            " (19,\n",
            "  '0.064*\"ban\" + 0.029*\"picture\" + 0.025*\"shadowbanne\" + 0.022*\"use\" + '\n",
            "  '0.021*\"go\" + 0.020*\"publicly\" + 0.020*\"real\" + 0.018*\"claim\" + 0.017*\"do\" + '\n",
            "  '0.017*\"neogaf\"')]\n"
          ]
        }
      ]
    },
    {
      "cell_type": "markdown",
      "source": [
        "###**Get perplexity score and coherence score:**"
      ],
      "metadata": {
        "id": "-V9ggY23b0Zk"
      }
    },
    {
      "cell_type": "code",
      "source": [
        "print('\\nPerplexity: ', lda_modelAMA2015.log_perplexity(corpusAMA2015))\n",
        "coherence_model_ldaAMA2015 = CoherenceModel(model = lda_modelAMA2015, texts = data_lemmatizedAMA2015, dictionary = id2wordAMA2015, coherence = 'c_v')\n",
        "coherence_ldaAMA2015 = coherence_model_ldaAMA2015.get_coherence()\n",
        "print('\\nCoherence Score: ', coherence_ldaAMA2015)"
      ],
      "metadata": {
        "colab": {
          "base_uri": "https://localhost:8080/"
        },
        "id": "snTE42fPnPJX",
        "outputId": "0b78a263-0bb3-43f1-8bf9-9697896c3b2b"
      },
      "execution_count": null,
      "outputs": [
        {
          "output_type": "stream",
          "name": "stdout",
          "text": [
            "\n",
            "Perplexity:  -7.408235868576112\n",
            "\n",
            "Coherence Score:  0.46026506927198313\n"
          ]
        }
      ]
    },
    {
      "cell_type": "markdown",
      "source": [
        "##**Visualize LDA Topics for 'Let's Talk Content. AMA.' in r/announcements, 2015:**"
      ],
      "metadata": {
        "id": "xeurJtohbxin"
      }
    },
    {
      "cell_type": "code",
      "source": [
        "pyLDAvis.enable_notebook()\n",
        "ldaAMA2015_prepared = gensimvis.prepare(lda_modelAMA2015, corpusAMA2015, id2wordAMA2015)\n",
        "ldaAMA2015_prepared"
      ],
      "metadata": {
        "colab": {
          "base_uri": "https://localhost:8080/",
          "height": 896
        },
        "id": "TzxoCvCOnbfO",
        "outputId": "ed8887be-2d3c-41db-a933-698f3643c195"
      },
      "execution_count": null,
      "outputs": [
        {
          "output_type": "stream",
          "name": "stderr",
          "text": [
            "/usr/local/lib/python3.7/dist-packages/pyLDAvis/_prepare.py:247: FutureWarning: In a future version of pandas all arguments of DataFrame.drop except for the argument 'labels' will be keyword-only\n",
            "  by='saliency', ascending=False).head(R).drop('saliency', 1)\n"
          ]
        },
        {
          "output_type": "execute_result",
          "data": {
            "text/html": [
              "\n",
              "<link rel=\"stylesheet\" type=\"text/css\" href=\"https://cdn.jsdelivr.net/gh/bmabey/pyLDAvis@3.3.1/pyLDAvis/js/ldavis.v1.0.0.css\">\n",
              "\n",
              "\n",
              "<div id=\"ldavis_el1741402711592596003625535724\"></div>\n",
              "<script type=\"text/javascript\">\n",
              "\n",
              "var ldavis_el1741402711592596003625535724_data = {\"mdsDat\": {\"x\": [-0.05784111830095522, 0.04927475307763277, 0.07209900518269935, 0.3147649681221027, 0.24413744598273382, -0.08106809627873873, -0.01825586320767254, -0.03531933251496121, -0.02533840595493584, -0.08425410468745337, -0.05210296625126051, -0.01596098937328084, 0.00015981326732588723, -0.08888582565756886, -0.03132188561425182, -0.04007442521104072, -0.03957541796053337, -0.04177260988079099, -0.03433247236952508, -0.034332472369525094], \"y\": [0.10642002401743103, 0.20628613646123334, -0.004270363436568569, -0.05944844976902791, -0.028859429690598, 0.06923453089531836, 0.054843238290217505, -0.08724898429931054, -0.0001350332507880534, -0.0980091803542689, -0.008081214462678055, 0.01851550422973324, 0.02486323340357816, -0.1926913362925121, 0.0030851430608317344, -0.0004977130163276181, 5.3310126750488336e-05, -0.0013770082145296797, -0.0013412038492420938, -0.001341203849242093], \"topics\": [1, 2, 3, 4, 5, 6, 7, 8, 9, 10, 11, 12, 13, 14, 15, 16, 17, 18, 19, 20], \"cluster\": [1, 1, 1, 1, 1, 1, 1, 1, 1, 1, 1, 1, 1, 1, 1, 1, 1, 1, 1, 1], \"Freq\": [18.62700963071409, 14.511338962260464, 13.14779240071985, 11.511147682128241, 7.238240193508597, 6.406792544445696, 6.122943578058902, 4.238795604670795, 3.6193009023395617, 3.5837389903795396, 2.9649582087273036, 2.6160893367333604, 2.3392707305244183, 1.6873543402362134, 0.5882348440318346, 0.34118084167349705, 0.2509944760949778, 0.19312031141743152, 0.005855778586285509, 0.005840642748940159]}, \"tinfo\": {\"Term\": [\"people\", \"ban\", \"feel\", \"user\", \"need\", \"illegal\", \"other\", \"content\", \"would\", \"enforce\", \"subreddit\", \"brigade\", \"silence\", \"transparency\", \"abuse\", \"say\", \"person\", \"must\", \"rule\", \"admin\", \"may\", \"know\", \"harassment\", \"go\", \"threaten\", \"criticism\", \"even\", \"often\", \"offensive\", \"make\", \"transparency\", \"user\", \"complete\", \"lack\", \"shadowban\", \"spammer\", \"mention\", \"communication\", \"promise\", \"application\", \"equal\", \"head\", \"hate\", \"announcements_comment\", \"proper\", \"clear\", \"moderator\", \"administration\", \"moment\", \"problem\", \"could\", \"krispykracker\", \"fix\", \"directly\", \"give\", \"set\", \"whole\", \"agree\", \"admit\", \"apologize\", \"fire\", \"also\", \"include\", \"ban\", \"day\", \"new\", \"announcement\", \"think\", \"post\", \"harassment\", \"regard\", \"remove\", \"community\", \"policy\", \"say\", \"brigade\", \"action\", \"thread\", \"member\", \"kotakuinaction\", \"hard\", \"activity\", \"seem\", \"drug\", \"let\", \"place\", \"bother\", \"double\", \"downright\", \"innocuous\", \"limited\", \"outright\", \"political\", \"truly\", \"worth\", \"popular\", \"especially\", \"subreddit\", \"non\", \"recent\", \"whatnot\", \"admin\", \"opinion\", \"definition\", \"implement\", \"even\", \"know\", \"rule\", \"comment\", \"community\", \"say\", \"thing\", \"policy\", \"use\", \"regard\", \"way\", \"call\", \"plan\", \"must\", \"threaten\", \"criticism\", \"appear\", \"shitredditsay\", \"expect\", \"tell\", \"person\", \"side\", \"bad\", \"happy\", \"vast\", \"disturb\", \"brag\", \"cancerous\", \"dark\", \"face\", \"hear\", \"intention\", \"reprehensible\", \"showcase\", \"suicidal\", \"young\", \"dedicated\", \"frequently\", \"highlight\", \"history\", \"racism\", \"redditor\", \"shit\", \"point\", \"kill\", \"many\", \"right\", \"http\", \"would\", \"clearly\", \"much\", \"see\", \"group\", \"sub\", \"question\", \"harassment\", \"people\", \"support\", \"remove\", \"say\", \"mod\", \"post\", \"silence\", \"different\", \"behaviors_intimidate\", \"good\", \"issue\", \"imagine\", \"prohibition\", \"long\", \"report\", \"bullying\", \"possible\", \"fatpeoplehate\", \"thought\", \"maybe\", \"importantly\", \"term\", \"basis\", \"bit\", \"compare\", \"effectively\", \"efficiently\", \"great\", \"principle\", \"prohibit\", \"rapidly\", \"social\", \"sound\", \"staff\", \"vision\", \"website\", \"people\", \"case\", \"concern\", \"abuse\", \"clarify\", \"go\", \"get\", \"individual\", \"make\", \"would\", \"base\", \"other\", \"group\", \"may\", \"content\", \"harassment\", \"think\", \"way\", \"example\", \"policy\", \"community\", \"need\", \"common\", \"decency\", \"speech\", \"vague\", \"type\", \"public\", \"law\", \"belief\", \"figure\", \"death\", \"search\", \"rather\", \"respond\", \"online\", \"define\", \"information\", \"actually\", \"really\", \"legal\", \"honest\", \"illegal\", \"allow\", \"owner\", \"depend\", \"company\", \"damn\", \"huge\", \"interpretation\", \"copyrighted_material\", \"other\", \"may\", \"apply\", \"personally\", \"abuse\", \"content\", \"still\", \"much\", \"example\", \"thing\", \"people\", \"see\", \"use\", \"create\", \"remember\", \"care\", \"differently\", \"buy\", \"gold\", \"censor\", \"core\", \"favourite\", \"check\", \"else\", \"read\", \"context\", \"accusation\", \"ad\", \"adamant\", \"archive\", \"aware\", \"blogpost\", \"bonus\", \"careful\", \"companys\", \"condone\", \"confirm\", \"corporate\", \"culture\", \"deeply\", \"defend\", \"degenerate\", \"deliberation\", \"bastion\", \"value\", \"say\", \"platform\", \"specific\", \"even\", \"ban\", \"day\", \"use\", \"comment\", \"fact\", \"one\", \"site\", \"dautm\", \"want\", \"http\", \"right\", \"include\", \"dmca\", \"removal\", \"discussion\", \"squatter\", \"guess\", \"handle\", \"infringement\", \"infringing\", \"deem\", \"subject\", \"offensive\", \"large\", \"able\", \"default\", \"low\", \"qgyh\", \"system\", \"trip\", \"veto\", \"chillingeffect\", \"miss\", \"roadcam\", \"takedown\", \"age\", \"clueless\", \"investor\", \"liable\", \"lose\", \"mistake\", \"moderate\", \"top\", \"copyright\", \"do\", \"sub\", \"content\", \"specific\", \"clearly\", \"remove\", \"allow\", \"rule\", \"policy\", \"mod\", \"post\", \"comment\", \"subreddit\", \"accuse\", \"understand\", \"many\", \"community\", \"picture\", \"shadowbanne\", \"publicly\", \"real\", \"hope\", \"available\", \"neogaf\", \"neogafinaction\", \"small\", \"banner\", \"destiny\", \"disclaimer\", \"fairness\", \"inbox\", \"leak\", \"live\", \"mere\", \"neofag\", \"nude\", \"presume\", \"slap\", \"spamme\", \"subsequently\", \"username\", \"warrant\", \"wrist\", \"simply\", \"speak\", \"odd\", \"do\", \"claim\", \"ban\", \"enough\", \"use\", \"go\", \"rule\", \"intend\", \"enforce\", \"offer\", \"imply\", \"outline\", \"detail\", \"hand\", \"destroy\", \"statement\", \"exactly\", \"centralize\", \"extra\", \"tonne\", \"accessible\", \"apparently\", \"architecture\", \"consideration\", \"cuff\", \"curate\", \"easy\", \"elsewhere\", \"exact\", \"inability\", \"mechanism\", \"mixed\", \"peek\", \"please\", \"potential\", \"reduction\", \"upcoming\", \"try\", \"mean\", \"still\", \"take\", \"find\", \"rule\", \"make\", \"remove\", \"point\", \"clarify\", \"concern\", \"would\", \"much\", \"policy\", \"put\", \"envision\", \"message\", \"see\", \"could\", \"offensive\", \"feel\", \"determination\", \"effort\", \"hold\", \"anonymous\", \"behaviour\", \"carry\", \"chamber\", \"close\", \"describe\", \"despicable\", \"echo\", \"empty\", \"equally\", \"existence\", \"fill\", \"insincerely\", \"intimidated\", \"intimidation\", \"legitimately\", \"precisely\", \"ridiculous\", \"sentiment\", \"threatened\", \"tolerance\", \"vote\", \"weapon\", \"weight\", \"welcome\", \"wrong\", \"offend\", \"month\", \"say\", \"behavior\", \"anti\", \"jurisdiction\", \"unacceptable\", \"active\", \"private\", \"fat\", \"standard\", \"bully\", \"commit\", \"surely\", \"actively\", \"advocate\", \"appeal\", \"baby\", \"bath\", \"consequence\", \"drama\", \"gay\", \"gross\", \"marriage\", \"offense\", \"prevent\", \"short\", \"throw\", \"undesirable\", \"violent\", \"water\", \"wrap\", \"ambiguity\", \"exactly\", \"suicide\", \"enforce\", \"decide\", \"need\", \"know\", \"public\", \"opinion\", \"honest\", \"see\", \"say\", \"acceptable\", \"happen\", \"state\", \"kill\", \"reasonable\", \"accept\", \"address\", \"early\", \"decision\", \"little\", \"obscene\", \"world\", \"adult\", \"bdsmcommunity\", \"consent\", \"corner\", \"decade\", \"eyebrow\", \"kink\", \"label\", \"position\", \"raise\", \"teaser\", \"violence\", \"week\", \"wording\", \"worry\", \"bdsm\", \"thank\", \"harm\", \"minority\", \"section\", \"unwanted\", \"want\", \"specific\", \"announcement\", \"offensive\", \"see\", \"well\", \"point\", \"even\", \"group\", \"people\", \"thing\", \"illegal\", \"subreddit\", \"include\", \"individual\", \"type\", \"comment\", \"opinion\", \"often\", \"violate\", \"consider\", \"discuss\", \"perhaps\", \"approach\", \"book\", \"cut\", \"full\", \"hence\", \"host\", \"however\", \"inappropriate\", \"legitimate\", \"offending\", \"poorly\", \"receive\", \"series\", \"status\", \"suspend\", \"text\", \"whichever\", \"idea\", \"copyrighted_material\", \"impossible\", \"copyright\", \"article\", \"limit\", \"notice\", \"word\", \"know\", \"would\", \"illegal\", \"example\", \"actually\", \"content\", \"thing\", \"http\", \"propose\", \"sense\", \"imagery\", \"require\", \"afraid\", \"approve\", \"civilization\", \"clarification\", \"classification\", \"commonly\", \"confidential\", \"cover\", \"cultural\", \"difficult\", \"fece\", \"folly\", \"generate\", \"graphic\", \"grow\", \"guide\", \"king\", \"listing\", \"nazi\", \"negative\", \"nsfw\", \"opted\", \"publication\", \"reasoning\", \"repulsive\", \"result\", \"revenue\", \"produce\", \"area\", \"confused\", \"grey\", \"pirate\", \"tpb\", \"tree\", \"portion\", \"large\", \"discussion\", \"term\", \"talk\", \"allow\", \"seem\", \"ctrl\", \"save\", \"agenda\", \"republican\", \"shadowbanned\", \"wait\", \"aid\", \"authority\", \"blind\", \"cliff\", \"fall\", \"firing\", \"glass\", \"incredibly\", \"job\", \"light\", \"illegal\", \"able\", \"comment\", \"community\", \"default\", \"do\", \"exist\", \"harm\", \"low\", \"many\", \"mod\", \"month\", \"post\", \"qgyh\", \"remove\", \"squatter\", \"agenda\", \"republican\", \"shadowbanned\", \"idea\", \"redditblog\", \"protect\", \"news\", \"promote\", \"http\", \"ctrl\", \"save\", \"wait\", \"area\", \"confused\", \"grey\", \"pirate\", \"tpb\", \"tree\", \"aid\", \"authority\", \"blind\", \"cliff\", \"fall\", \"firing\", \"glass\", \"incredibly\", \"job\", \"light\", \"net\", \"quit\", \"support\", \"politic\", \"conservative\", \"able\", \"comment\", \"community\", \"default\", \"do\", \"exist\", \"harm\", \"large\", \"low\", \"many\", \"mod\", \"month\", \"post\", \"qgyh\", \"remove\", \"squatter\", \"subreddit\", \"system\", \"wait\", \"ctrl\", \"save\", \"least\", \"hit\", \"day\", \"agenda\", \"republican\", \"shadowbanned\", \"area\", \"confused\", \"grey\", \"pirate\", \"tpb\", \"tree\", \"aid\", \"authority\", \"blind\", \"cliff\", \"fall\", \"firing\", \"glass\", \"incredibly\", \"job\", \"light\", \"net\", \"quit\", \"rage\", \"scapegoat\", \"produce\", \"able\", \"comment\", \"community\", \"default\", \"do\", \"exist\", \"harm\", \"large\", \"low\", \"many\", \"mod\", \"month\", \"post\", \"qgyh\", \"remove\", \"squatter\", \"subreddit\", \"system\", \"top\", \"trip\", \"veto\", \"work\", \"actually\", \"copyrighted_material\", \"material\", \"consider\", \"ctrl\", \"save\", \"agenda\", \"republican\", \"shadowbanned\", \"wait\", \"area\", \"confused\", \"grey\", \"pirate\", \"tpb\", \"tree\", \"aid\", \"authority\", \"blind\", \"cliff\", \"fall\", \"firing\", \"glass\", \"incredibly\", \"job\", \"light\", \"net\", \"quit\", \"rage\", \"scapegoat\", \"produce\", \"alternative\", \"let\", \"month\", \"create\", \"care\", \"able\", \"comment\", \"community\", \"default\", \"do\", \"exist\", \"harm\", \"large\", \"low\", \"many\", \"mod\", \"post\", \"qgyh\", \"remove\", \"squatter\", \"subreddit\", \"system\", \"top\", \"trip\", \"veto\", \"work\", \"actually\", \"copyrighted_material\", \"illegal\", \"ctrl\", \"save\", \"agenda\", \"republican\", \"shadowbanned\", \"wait\", \"area\", \"confused\", \"grey\", \"pirate\", \"tpb\", \"tree\", \"aid\", \"authority\", \"blind\", \"cliff\", \"fall\", \"firing\", \"glass\", \"incredibly\", \"job\", \"light\", \"net\", \"quit\", \"rage\", \"scapegoat\", \"produce\", \"alternative\", \"build\", \"involve\", \"able\", \"comment\", \"community\", \"default\", \"do\", \"exist\", \"harm\", \"large\", \"low\", \"many\", \"mod\", \"month\", \"post\", \"qgyh\", \"remove\", \"squatter\", \"subreddit\", \"system\", \"top\", \"trip\", \"veto\", \"work\", \"actually\", \"copyrighted_material\", \"illegal\", \"owner\", \"people\", \"permission\", \"pic\", \"stuff\", \"ctrl\", \"save\", \"agenda\", \"republican\", \"shadowbanned\", \"wait\", \"area\", \"confused\", \"grey\", \"pirate\", \"tpb\", \"tree\", \"aid\", \"authority\", \"blind\", \"cliff\", \"fall\", \"firing\", \"glass\", \"incredibly\", \"job\", \"light\", \"net\", \"quit\", \"rage\", \"scapegoat\", \"produce\", \"alternative\", \"build\", \"involve\", \"able\", \"comment\", \"community\", \"default\", \"do\", \"exist\", \"harm\", \"large\", \"low\", \"many\", \"mod\", \"month\", \"post\", \"qgyh\", \"remove\", \"squatter\", \"subreddit\", \"system\", \"top\", \"trip\", \"veto\", \"work\", \"actually\", \"copyrighted_material\", \"illegal\", \"owner\", \"people\", \"permission\", \"pic\", \"stuff\"], \"Freq\": [35.0, 22.0, 11.0, 24.0, 14.0, 15.0, 17.0, 21.0, 15.0, 8.0, 18.0, 12.0, 10.0, 13.0, 12.0, 24.0, 12.0, 9.0, 12.0, 13.0, 10.0, 7.0, 18.0, 10.0, 8.0, 8.0, 13.0, 4.0, 7.0, 16.0, 12.665974751685525, 23.729586690479596, 8.92684296343802, 7.9646797692929905, 6.576192798258932, 5.1877076098800865, 5.1877076098800865, 4.919790129571104, 4.493464124363057, 4.493464124363057, 4.493464124363057, 4.493464124363057, 4.4934636786992534, 3.531303158537045, 3.531303158537045, 3.531303158537045, 2.8370594501881143, 2.8370594501881143, 2.8370594501881143, 2.8370594501881143, 4.221435841132464, 2.1428161875029863, 2.1428161875029863, 2.1428161875029863, 2.1428161875029863, 2.1428161875029863, 2.1428161875029863, 4.493469472328696, 1.4485728134019078, 1.4485728134019078, 2.1428268834342656, 6.473198556325608, 5.799881660356188, 12.408967566945055, 4.240252658235265, 4.131675140174238, 3.3502134656967915, 7.6237585470297455, 5.471504982828145, 8.614700035608868, 5.708546429180914, 5.270724080503021, 4.255665940872289, 4.258113972143799, 4.077321537060344, 11.704771151166208, 7.980771219197511, 5.879245166791252, 5.2585786271943356, 4.63791174040382, 4.63791174040382, 4.63791174040382, 5.63981664177067, 4.017244506419706, 4.017243812032508, 3.7777208503529893, 3.396576925241992, 3.396576925241992, 3.396576925241992, 3.396576925241992, 3.396576925241992, 3.396576925241992, 3.396576925241992, 3.396576925241992, 3.396576925241992, 2.5363865559815593, 2.5363865559815593, 14.503430703000518, 1.9157196691910436, 1.9157194955942443, 1.9157194955942443, 10.634410782265839, 5.145482742665552, 2.4405373398877837, 2.427255275160097, 8.259450327782018, 4.803825839959418, 6.124341627315997, 7.051145775663896, 6.976400548890351, 8.610829692841785, 5.944502981277707, 6.331855075132958, 4.715378964993759, 4.553414539820724, 4.339293650620627, 3.827709784741309, 3.526027711446677, 9.098257131304832, 8.39068201122009, 8.39068201122009, 4.579748477881827, 3.599111964614456, 3.599111964614456, 2.891537159099539, 10.101663152240265, 2.1839631400091855, 2.183962982724273, 2.183962982724273, 2.183962982724273, 1.4763888063490063, 1.4763888063490063, 1.4763888063490063, 1.4763888063490063, 1.4763888063490063, 1.4763888063490063, 1.4763888063490063, 1.4763888063490063, 1.4763888063490063, 1.4763888063490063, 1.4763888063490063, 1.4763888063490063, 1.4763888063490063, 1.4763888063490063, 1.4763888063490063, 1.4763888063490063, 1.4763888063490063, 1.4763888063490063, 4.774064864964746, 2.177479541338967, 5.507414892828912, 2.1226029925921672, 2.797423844182522, 5.868766284321742, 2.1839631400091855, 4.486996306599084, 3.465564490961816, 3.547082744641781, 3.061993110360094, 2.4860531939597097, 3.732529835499053, 4.797997337277114, 1.809738135698959, 2.871178514572933, 3.606171226065059, 2.193956708790621, 2.311887678033755, 9.875542594562825, 7.136549938188742, 5.510078521532933, 4.254446049252585, 4.254446049252585, 4.026718062027206, 4.026718062027206, 3.5127659572057173, 3.1419272882422518, 2.771087242218818, 2.771087242218818, 2.771087242218818, 2.4002471961953846, 2.4002471961953846, 2.4002471961953846, 2.7712232957436336, 2.0294071501719513, 2.0294071501719513, 2.0294071501719513, 2.0294071501719513, 2.0294071501719513, 2.0294071501719513, 2.0294071501719513, 2.0294071501719513, 2.0294071501719513, 2.0294071501719513, 2.0294071501719513, 2.0294071501719513, 2.0294071501719513, 2.0294071501719513, 25.99711633488752, 5.113744138090268, 3.112393758525568, 7.51956649927115, 2.7357287488384845, 5.983340432190892, 3.4262284792993736, 5.3983405708044785, 7.851811960989999, 7.583571144924939, 2.400307511421973, 7.248867355751633, 5.340601548004025, 4.811514727900807, 7.140990681172794, 6.2054546967516755, 5.3934993787818, 4.04340802883653, 3.3712868161174394, 3.4964497244716455, 3.209269651845912, 12.978743384614575, 4.19335574149412, 4.19335574149412, 2.996030144455244, 2.6424105171726526, 4.543916667290041, 4.142534399727712, 2.2887907167102695, 2.2887907167102695, 2.2887907167102695, 2.2887907167102695, 2.2887907167102695, 2.2887907167102695, 2.288790543530477, 2.2887903703506853, 4.86479319129527, 2.6230767251914564, 3.838092637985252, 1.091464773311809, 1.091464773311809, 2.9619712211181075, 9.99445171282208, 2.991006198688722, 0.7378449728494256, 0.7378449728494256, 0.7378449728494256, 0.7378449728494256, 0.7378449728494256, 0.7378449728494256, 1.0914678039581693, 8.332090576584896, 4.859481074354825, 2.30902902674519, 2.257382136910218, 4.535364356440889, 6.70167002846885, 1.9313041578516466, 4.493254304572707, 2.647265439462162, 3.362290857476598, 3.7460295678278537, 2.449874939337121, 2.334160012264281, 4.242986912198459, 3.6751704388733413, 3.6751704388733413, 3.6751704388733413, 3.1073533524008448, 3.1073533524008448, 1.752593182382787, 1.1847769389879361, 1.1847769389879361, 1.1847767857010914, 1.1847767857010914, 1.1847767857010914, 1.1847767857010914, 0.6169605039845294, 0.6169605039845294, 0.6169605039845294, 0.6169605039845294, 0.6169605039845294, 0.6169605039845294, 0.6169605039845294, 0.6169605039845294, 0.6169605039845294, 0.6169605039845294, 0.6169605039845294, 0.6169605039845294, 0.6169605039845294, 0.6169605039845294, 0.6169605039845294, 0.6169605039845294, 0.6169605039845294, 2.017329833380038, 1.1709312280979405, 5.136933717121618, 1.1826737668353746, 1.178034770411116, 2.086193181922544, 2.663952146567908, 1.3919213464892732, 1.5387256905167934, 1.6359320832160655, 0.7153314551646184, 0.6827295659584232, 0.6827295659584232, 0.6822754536810307, 0.6899802636425005, 0.6898215351148247, 0.6662008754258283, 0.6733071002587859, 3.152063353290605, 1.9126910863799693, 1.9126910863799693, 1.2930051726680007, 1.2930051726680007, 1.2930051726680007, 1.2930051726680007, 1.2930051726680007, 1.2930051726680007, 1.2930051726680007, 5.008361703941663, 1.2930051726680007, 0.6733193322038152, 0.6733193322038152, 0.6733193322038152, 0.6733193322038152, 0.6733193322038152, 0.6733193322038152, 0.6733193322038152, 0.6733193322038152, 0.6733193322038152, 0.6733193322038152, 0.6733193322038152, 0.6733193322038152, 0.6733193322038152, 0.6733193322038152, 0.6733193322038152, 0.6733193322038152, 0.6733193322038152, 0.6733193322038152, 1.2871979419284671, 1.9126888889464764, 1.9126888889464764, 2.4749485407100282, 3.8058622245467273, 1.3003634984624064, 1.2930051726680007, 2.3363569962935693, 1.3018658104937355, 1.8749851785793181, 1.7942044469725378, 1.273100820089094, 1.2929635679272014, 1.2986890541407983, 1.3043722031357647, 0.6770206159315135, 0.6770206159315135, 0.6793972135018941, 0.6778530769864163, 3.181091532061725, 2.775071152335135, 2.189147824446832, 2.189147824446832, 1.8961858562545255, 1.8961858562545255, 1.8961858562545255, 1.8961858562545255, 1.8961856534224222, 1.603223380981961, 1.603223380981961, 1.603223380981961, 1.603223380981961, 1.603223380981961, 1.603223380981961, 1.603223380981961, 1.603223380981961, 1.603223380981961, 1.603223380981961, 1.603223380981961, 1.603223380981961, 1.603223380981961, 1.603223380981961, 1.603223380981961, 1.603223380981961, 1.603223380981961, 1.6032242937264256, 0.6112796733670679, 0.6112796733670679, 1.896186870415042, 1.9849395053494818, 6.920803365421791, 1.8400082599384138, 2.405242713292502, 2.2828672090942064, 1.8617544982270098, 2.873032966148016, 5.707648925312641, 2.429147174510636, 0.9261891098234833, 0.9261891098234833, 0.9261891098234833, 0.9261891098234833, 0.9261891098234833, 1.8139603467213559, 2.8730333125249037, 0.48230357796876905, 0.48230357796876905, 0.48230357796876905, 0.48230357796876905, 0.48230357796876905, 0.48230357796876905, 0.48230357796876905, 0.48230357796876905, 0.48230357796876905, 0.48230357796876905, 0.48230357796876905, 0.48230357796876905, 0.48230357796876905, 0.48230357796876905, 0.48230357796876905, 0.48230357796876905, 0.48230357796876905, 0.48230357796876905, 0.48230357796876905, 0.48230357796876905, 0.8079105816870203, 0.9261891098234833, 1.8138999039544652, 1.5991261437673965, 0.9261891098234833, 1.9387048654075612, 1.483257013261254, 1.0153923290415827, 0.7888925854835183, 0.5246267637081314, 0.5176542835544593, 0.5216626867893903, 0.5183557833461222, 0.514774419516522, 0.4874325537322783, 0.4876106780467395, 0.4874325537322783, 0.48741376278612464, 0.4849317991978467, 0.48427970140978144, 11.137540197076268, 2.6771145944245816, 2.6771145944245816, 1.5957751732429446, 1.3492266031052458, 1.3492266031052458, 1.3492266031052458, 1.3492266031052458, 1.3492266031052458, 1.3492266031052458, 1.3492266031052458, 1.3492266031052458, 1.3492266031052458, 1.3492266031052458, 1.3492266031052458, 1.3492266031052458, 1.3492266031052458, 1.3492266031052458, 1.3492266031052458, 1.3492266031052458, 1.3492266031052458, 1.3492266031052458, 1.3492266031052458, 1.3492266031052458, 1.3492266031052458, 1.3492266031052458, 1.3492266031052458, 1.3492266031052458, 1.3492266031052458, 1.3492266031052458, 2.7384687838079387, 1.5957751732429446, 1.4378783118926104, 3.428180537158444, 2.7043607755163097, 2.3424504690634596, 2.342450327186199, 2.342450327186199, 2.3424497596771556, 1.4789638943163343, 2.342450327186199, 1.4652957227626189, 0.7551434232878955, 0.7551434232878955, 0.3932332941816217, 0.3932332941816217, 0.3932332941816217, 0.3932332941816217, 0.3932332941816217, 0.3932332941816217, 0.3932332941816217, 0.3932332941816217, 0.3932332941816217, 0.3932332941816217, 0.3932332941816217, 0.3932332941816217, 0.3932332941816217, 0.3932332941816217, 0.3932332941816217, 0.3932332941816217, 0.3932332941816217, 0.3932332941816217, 0.3932332941816217, 2.3424500434316773, 0.7765070884075902, 1.9805390275925232, 0.7398582056538849, 0.8686267169683188, 0.62407536532995, 0.445246739427456, 0.45547463569128194, 0.4264511946060217, 0.4349661357612323, 0.4260957211290154, 0.39958595494317245, 0.3996091164060027, 0.3996647322922476, 0.39654946233760135, 0.3932332941816217, 2.6331319528275507, 1.255672257529512, 0.8488513884131207, 0.8488513884131207, 0.8488513884131207, 1.2556721323460986, 1.255672257529512, 0.4420307383677028, 0.4420307383677028, 0.4420307383677028, 0.4420307383677028, 0.4420307383677028, 0.4420307383677028, 0.4420307383677028, 0.4420307383677028, 0.4420307383677028, 0.4420307383677028, 0.4420307383677028, 0.4420307383677028, 0.4420307383677028, 0.4420307383677028, 0.4420307383677028, 0.8488513884131207, 0.4420306757759961, 0.4420307383677028, 0.44203033152160925, 0.44203033152160925, 0.4420307383677028, 0.9063361751751793, 0.8488511380462939, 0.9549682413078903, 1.2556721323460986, 1.5070753526405867, 0.5044881858605453, 0.4561402234845625, 0.45863287561233157, 0.4573978160556537, 0.4530337344891501, 0.45069349316720464, 0.44959410113480713, 0.4495075993961426, 0.4494266370235213, 0.4493925558392211, 0.44555045781077324, 0.4445675489445513, 0.44423096204175205, 3.8141433284227593, 2.0818113374570637, 2.0764584972696203, 2.06610877740908, 2.0405651404493597, 0.6711203979840671, 0.3494791226168307, 0.3494791226168307, 0.3494791226168307, 0.3494791226168307, 0.3494791226168307, 0.3494791226168307, 0.3494791226168307, 0.3494791226168307, 0.3494791226168307, 0.3494791226168307, 0.3494791226168307, 0.3494791226168307, 0.3494791226168307, 0.3494791226168307, 0.3494791226168307, 0.3494791226168307, 0.3494791226168307, 0.6711177114896192, 0.3494791226168307, 0.992760889790423, 0.3494791226168307, 0.3494791226168307, 0.3494791226168307, 0.3494753167496961, 1.6665485849808157, 1.598784113215146, 1.3274120182393307, 0.4094389082465896, 0.386504193207587, 0.39050301220897105, 0.3792314609566777, 0.3494791226168307, 0.3494791226168307, 2.166772315675858, 1.4483627268082973, 1.4483627268082973, 0.7299536223938622, 0.7299536223938622, 0.7299536223938622, 0.7299536223938622, 0.7299536223938622, 0.7299536223938622, 0.7299536223938622, 0.7299536223938622, 0.7299536223938622, 0.7299536223938622, 0.7299536223938622, 0.7299536223938622, 0.7299536223938622, 0.7299536223938622, 0.7299536223938622, 0.7299536223938622, 0.7299536223938622, 0.7299536223938622, 0.7299536223938622, 0.7299536223938622, 0.7299536223938622, 0.7299536223938622, 0.7299536223938622, 0.7299536223938622, 0.7299536223938622, 0.7299536223938622, 0.7299536223938622, 0.28825917071687174, 0.15010803026624472, 0.15010803026624472, 0.15010803026624472, 0.15010803026624472, 0.15010803026624472, 0.15010803026624472, 0.15010803026624472, 0.15010803026624472, 0.15010803026624472, 0.1500571952799174, 0.15010622880493524, 0.150095588924076, 0.15008680680019224, 0.01195688277865947, 0.01195688277865947, 0.01195688277865947, 0.01195688277865947, 0.01195688277865947, 0.01195688277865947, 0.01195688277865947, 0.01195688277865947, 0.01195688277865947, 0.01195688277865947, 0.01195688277865947, 0.01195688277865947, 0.01195688277865947, 0.01195688277865947, 0.01195688277865947, 0.01195688277865947, 0.15005146719590984, 0.01195688277865947, 0.01195688277865947, 0.01195688277865947, 0.01195688277865947, 0.01195688277865947, 0.01195688277865947, 0.01195688277865947, 0.01195688277865947, 0.01195688277865947, 0.01195688277865947, 0.01195688277865947, 0.01195688277865947, 0.01195688277865947, 0.01195688277865947, 0.01195688277865947, 0.09301538026500569, 0.09301538026500569, 0.09301538026500569, 0.09301538026500569, 0.09301536393904092, 0.09301538026500569, 0.09301538026500569, 0.09301536393904092, 0.09301535577605853, 0.007409155961439399, 0.007409155961439399, 0.007409155961439399, 0.007409155961439399, 0.007409155961439399, 0.007409155961439399, 0.007409155961439399, 0.007409155961439399, 0.007409155961439399, 0.007409155961439399, 0.007409155961439399, 0.007409155961439399, 0.007409155961439399, 0.007409155961439399, 0.007409155961439399, 0.007409155961439399, 0.007409155961439399, 0.007409155961439399, 0.007409155961439399, 0.007409155961439399, 0.007409155961439399, 0.007409156471625798, 0.007409156471625798, 0.007409156471625798, 0.007409155961439399, 0.007409155961439399, 0.007409155961439399, 0.007409155961439399, 0.007409155961439399, 0.007409155961439399, 0.007409155961439399, 0.007409155961439399, 0.007409155961439399, 0.007409155961439399, 0.007409155961439399, 0.007409155961439399, 0.007409155961439399, 0.007409155961439399, 0.007409155961439399, 0.007409155961439399, 0.007409155961439399, 0.007409155961439399, 0.1340235419849228, 0.0697914097510607, 0.0697914097510607, 0.0697914097510607, 0.0697914097510607, 0.06978629330993061, 0.005559247115809857, 0.005559247115809857, 0.005559247115809857, 0.005559247115809857, 0.005559247115809857, 0.005559247115809857, 0.005559247115809857, 0.005559247115809857, 0.005559247115809857, 0.005559247115809857, 0.005559247115809857, 0.005559247115809857, 0.005559247115809857, 0.005559247115809857, 0.005559247115809857, 0.005559247115809857, 0.005559247115809857, 0.005559247115809857, 0.005559247115809857, 0.005559247115809857, 0.005559247115809857, 0.005559247115809857, 0.005559247115809857, 0.005559247115809857, 0.005559247115809857, 0.005559247115809857, 0.005559247115809857, 0.005559247115809857, 0.005559247115809857, 0.005559247115809857, 0.005559247115809857, 0.005559247115809857, 0.005559247115809857, 0.005559247115809857, 0.005559247115809857, 0.005559247115809857, 0.005559247115809857, 0.005559247115809857, 0.005559247115809857, 0.005559247115809857, 0.005559247115809857, 0.005559247115809857, 0.005559247115809857, 0.005559247115809857, 0.005559247115809857, 0.005559247115809857, 0.005559247115809857, 0.005559247115809857, 0.3491668467798866, 0.25649009669756784, 0.004044200120882468, 0.004044200120882468, 0.004044200120882468, 0.004044200120882468, 0.004044200120882468, 0.004044200120882468, 0.004044200120882468, 0.004044200120882468, 0.004044200120882468, 0.004044200120882468, 0.004044200120882468, 0.004044200120882468, 0.004044200120882468, 0.004044200120882468, 0.004044200120882468, 0.004044200120882468, 0.004044200120882468, 0.004044200120882468, 0.004044200120882468, 0.004044200120882468, 0.004044200120882468, 0.004044200120882468, 0.004044200120882468, 0.004044200120882468, 0.004044200120882468, 0.004044200120882468, 0.004044200120882468, 0.004044200120882468, 0.004044201276015983, 0.004044200987232604, 0.004044200409665847, 0.004044200409665847, 0.004044200120882468, 0.004044200120882468, 0.004044200120882468, 0.004044200120882468, 0.004044200120882468, 0.004044200120882468, 0.004044200120882468, 0.004044200120882468, 0.004044200120882468, 0.004044200120882468, 0.004044200120882468, 0.004044200120882468, 0.004044200120882468, 0.004044200120882468, 0.004044200120882468, 0.004044200120882468, 0.004044200120882468, 0.004044200120882468, 0.004044200120882468, 0.004044200120882468, 0.004044200120882468, 0.004044200120882468, 0.004044200120882468, 0.004044200120882468, 0.0001394207038753936, 0.0001394207038753936, 0.0001394207038753936, 0.0001394207038753936, 0.0001394207038753936, 0.0001394207038753936, 0.0001394207038753936, 0.0001394207038753936, 0.0001394207038753936, 0.0001394207038753936, 0.0001394207038753936, 0.0001394207038753936, 0.0001394207038753936, 0.0001394207038753936, 0.0001394207038753936, 0.0001394207038753936, 0.0001394207038753936, 0.0001394207038753936, 0.0001394207038753936, 0.0001394207038753936, 0.0001394207038753936, 0.0001394207038753936, 0.0001394207038753936, 0.0001394207038753936, 0.0001394207038753936, 0.0001394207038753936, 0.0001394207038753936, 0.0001394207038753936, 0.0001394207038753936, 0.0001394207038753936, 0.0001394207038753936, 0.0001394207038753936, 0.0001394207038753936, 0.0001394207038753936, 0.0001394207038753936, 0.0001394207038753936, 0.0001394207038753936, 0.0001394207038753936, 0.0001394207038753936, 0.0001394207038753936, 0.0001394207038753936, 0.0001394207038753936, 0.0001394207038753936, 0.0001394207038753936, 0.0001394207038753936, 0.0001394207038753936, 0.0001394207038753936, 0.0001394207038753936, 0.0001394207038753936, 0.0001394207038753936, 0.0001394207038753936, 0.0001394207038753936, 0.0001394207038753936, 0.0001394207038753936, 0.0001394207038753936, 0.0001394207038753936, 0.0001394207038753936, 0.0001394207038753936, 0.0001394207038753936, 0.0001394207038753936, 0.00013906033350528186, 0.00013906033350528186, 0.00013906033350528186, 0.00013906033350528186, 0.00013906033350528186, 0.00013906033350528186, 0.00013906033350528186, 0.00013906033350528186, 0.00013906033350528186, 0.00013906033350528186, 0.00013906033350528186, 0.00013906033350528186, 0.00013906033350528186, 0.00013906033350528186, 0.00013906033350528186, 0.00013906033350528186, 0.00013906033350528186, 0.00013906033350528186, 0.00013906033350528186, 0.00013906033350528186, 0.00013906033350528186, 0.00013906033350528186, 0.00013906033350528186, 0.00013906033350528186, 0.00013906033350528186, 0.00013906033350528186, 0.00013906033350528186, 0.00013906033350528186, 0.00013906033350528186, 0.00013906033350528186, 0.00013906033350528186, 0.00013906033350528186, 0.00013906033350528186, 0.00013906033350528186, 0.00013906033350528186, 0.00013906033350528186, 0.00013906033350528186, 0.00013906033350528186, 0.00013906033350528186, 0.00013906033350528186, 0.00013906033350528186, 0.00013906033350528186, 0.00013906033350528186, 0.00013906033350528186, 0.00013906033350528186, 0.00013906033350528186, 0.00013906033350528186, 0.00013906033350528186, 0.00013906033350528186, 0.00013906033350528186, 0.00013906033350528186, 0.00013906033350528186, 0.00013906033350528186, 0.00013906033350528186, 0.00013906033350528186, 0.00013906033350528186, 0.00013906033350528186, 0.00013906033350528186, 0.00013906033350528186, 0.00013906033350528186], \"Total\": [35.0, 22.0, 11.0, 24.0, 14.0, 15.0, 17.0, 21.0, 15.0, 8.0, 18.0, 12.0, 10.0, 13.0, 12.0, 24.0, 12.0, 9.0, 12.0, 13.0, 10.0, 7.0, 18.0, 10.0, 8.0, 8.0, 13.0, 4.0, 7.0, 16.0, 13.166687639709933, 24.834339025164955, 9.427555851462428, 8.465392657317398, 7.076905686283338, 5.688420497904493, 5.688420507060465, 5.420503016010884, 4.994177012387463, 4.994177012387463, 4.994177012387463, 4.994177043945627, 4.994176702395703, 4.032016044976825, 4.032016044976825, 4.032016051972905, 3.337772336627896, 3.337772336627896, 3.337772342052796, 3.337772342052796, 5.168662553732672, 2.643529073942768, 2.643529073942768, 2.643529079367668, 2.643529079367668, 2.643529079367668, 2.643529079367668, 5.561994046281204, 1.9492856998416894, 1.9492856998416894, 2.89008427389994, 9.093676090038318, 8.282327187744226, 22.41993621798849, 6.14796984122066, 6.175414936571012, 4.770684575136799, 14.629114776225776, 9.824505981266553, 18.960061486635414, 10.708955581580291, 12.22101845497578, 15.480454537275088, 16.718244973540113, 24.34429280669672, 12.211852010475855, 8.487852078507158, 6.3863260310160515, 5.765659491419135, 5.144992599713466, 5.144992599713466, 5.144992643831079, 6.285027431601628, 4.524325416825113, 4.524324766179876, 4.284801714577791, 3.9036577845516396, 3.9036577845516396, 3.9036577845516396, 3.9036577845516396, 3.9036577845516396, 3.9036577845516396, 3.9036577845516396, 3.9036577845516396, 3.9036577845516396, 3.043467422254704, 3.0434674249607734, 18.31875760995736, 2.422800545294495, 2.4228003549038917, 2.4228003549038917, 13.971011897652106, 7.056294462640347, 3.355847373929582, 3.3501326068586756, 13.321378046134116, 7.54236976690287, 12.603517698910826, 15.615422051202149, 15.480454537275088, 24.34429280669672, 13.184187728776894, 16.718244973540113, 11.395482958300942, 10.708955581580291, 10.035299317713276, 6.50310015739912, 6.712214755984848, 9.597816248948421, 8.890241125350475, 8.8902411337818, 5.079307600443537, 4.09867107101607, 4.098671125602458, 3.391096260076254, 12.05303045524708, 2.6835222409859005, 2.683522089125888, 2.683522089125888, 2.683522089125888, 1.9759479073257213, 1.9759479073257213, 1.9759479073257213, 1.9759479073257213, 1.9759479073257213, 1.9759479073257213, 1.9759479073257213, 1.9759479073257213, 1.9759479073257213, 1.9759479073257213, 1.9759479073257213, 1.9759479127506212, 1.9759479127506212, 1.9759479127506212, 1.9759479127506212, 1.9759479127506212, 1.9759479127506212, 1.9759479127506212, 6.445028768642972, 3.0422650371185522, 11.507274118844952, 3.2392188766972043, 4.967500909730081, 15.973991615602724, 3.9228940455199055, 14.601649012705774, 9.3214038992493, 11.856152580268738, 9.235499813869987, 6.491704725836527, 18.960061486635414, 35.395824581687876, 3.2471083721141913, 12.22101845497578, 24.34429280669672, 7.184545234488836, 9.824505981266553, 10.404245819157037, 7.665253162782953, 6.038781746127144, 4.783149286235193, 4.783149340324116, 4.555421286621417, 4.555421286621417, 4.041469191380355, 3.670630518261363, 3.2997904690298614, 3.2997904751162666, 3.2997904773330986, 2.928950420789596, 2.9289504221293363, 2.9289504701363374, 3.4380268581145454, 2.5581103747661627, 2.5581103747661627, 2.5581103747661627, 2.5581103747661627, 2.5581103747661627, 2.5581103747661627, 2.5581103747661627, 2.5581103747661627, 2.5581103747661627, 2.5581103747661627, 2.5581103747661627, 2.5581103747661627, 2.5581103747661627, 2.5581103747661627, 35.395824581687876, 6.643647727862671, 4.120333293002132, 12.553028546025537, 3.7506407656420055, 10.470496962267005, 5.105773771814586, 9.680349181687882, 16.572450941596642, 15.973991615602724, 3.2505996282071443, 17.327953051025787, 11.856152580268738, 10.169093497359345, 21.38034695424925, 18.960061486635414, 14.629114776225776, 10.035299317713276, 7.734156196489727, 16.718244973540113, 15.480454537275088, 14.346240646384896, 4.723549353830852, 4.723549353830852, 3.5262237670070897, 3.1726041295093848, 5.484450709064549, 5.086651683957169, 2.8189843290470016, 2.818984333837215, 2.818984333837215, 2.8189843344719017, 2.8189843344719017, 2.81898433550197, 2.8189841650282474, 2.8189840518383993, 6.174200659225735, 3.7552113562642275, 5.660201056630246, 1.6216583883546107, 1.6216584067704527, 4.509786742080538, 15.671383694789162, 4.9075709697457235, 1.2680385921496553, 1.2680385921496553, 1.2680385994337111, 1.2680385994337111, 1.2680385994337111, 1.268038612217921, 2.2649413095991906, 17.327953051025787, 10.169093497359345, 5.186149840134622, 5.188665202330042, 12.553028546025537, 21.38034695424925, 4.48625755446951, 14.601649012705774, 7.734156196489727, 13.184187728776894, 35.395824581687876, 9.3214038992493, 11.395482958300942, 4.7546419801091835, 4.18682548776838, 4.18682550294379, 4.186825548616126, 3.6190084012958845, 3.6190084012958845, 2.264248242127627, 1.6964319878829763, 1.6964319878829763, 1.6964318616278944, 1.6964318616278944, 1.6964318616278944, 2.1403174611343445, 1.1286155528795696, 1.1286155528795696, 1.1286155528795696, 1.1286155528795696, 1.1286155528795696, 1.1286155528795696, 1.1286155528795696, 1.1286155528795696, 1.1286155528795696, 1.1286155528795696, 1.1286155528795696, 1.1286155528795696, 1.1286155528795696, 1.1286155528795696, 1.1286155528795696, 1.1286155528795696, 1.1286155528795696, 4.982277136845822, 2.6830958782251306, 24.34429280669672, 3.0238843420945596, 3.7500610792356617, 13.321378046134116, 22.41993621798849, 6.14796984122066, 11.395482958300942, 15.615422051202149, 2.5195521278026485, 2.5024586050663853, 2.5024586050663853, 2.741572873848601, 3.480822327926867, 4.967500909730081, 3.2392188766972043, 8.282327187744226, 3.659229131774055, 2.4198568648634193, 2.5580080123510043, 1.8001709511514514, 1.8001709511514514, 1.8001709511514514, 1.8001709511514514, 1.8001709511514514, 1.8001709511514514, 1.8001709511514514, 7.181851331699369, 1.9383220986390368, 1.1804851106872658, 1.1804851106872658, 1.1804851106872658, 1.1804851106872658, 1.1804851106872658, 1.1804851106872658, 1.1804851106872658, 1.1804851106872658, 1.1804851106872658, 1.1804851106872658, 1.1804851106872658, 1.1804851106872658, 1.1804851106872658, 1.1804851106872658, 1.1804851106872658, 1.1804851106872658, 1.1804851106872658, 1.1804851106872658, 2.4951131453994133, 4.005448467501638, 4.290685899498939, 9.235499813869987, 21.38034695424925, 3.7500610792356617, 3.9228940455199055, 12.22101845497578, 4.9075709697457235, 12.603517698910826, 16.718244973540113, 7.184545234488836, 9.824505981266553, 15.615422051202149, 18.31875760995736, 1.7486113292383338, 1.7486113292383338, 11.507274118844952, 15.480454537275088, 3.7165350272665094, 3.3105146545034163, 2.7245913266151134, 2.7245913387975795, 2.43162935145931, 2.43162935145931, 2.43162935145931, 2.43162935145931, 2.431629187422745, 2.1386668761867456, 2.1386668761867456, 2.1386668761867456, 2.1386668761867456, 2.1386668761867456, 2.1386668761867456, 2.1386668761867456, 2.1386668761867456, 2.1386668761867456, 2.1386668761867456, 2.1386668761867456, 2.1386668761867456, 2.1386668761867456, 2.1386668761867456, 2.1386668761867456, 2.1386668761867456, 2.1386668761867456, 2.857076646072696, 1.1467231685718526, 1.1467231685718526, 4.290685899498939, 4.776186845559464, 22.41993621798849, 4.443873961315732, 11.395482958300942, 10.470496962267005, 12.603517698910826, 3.395414147456814, 8.17924607913939, 3.6591026188839155, 1.448570277978611, 1.4485702825565974, 1.448570300036439, 1.448570300036439, 1.4485703046144254, 3.0439157846396667, 5.7065414830682855, 1.0046847461238968, 1.0046847461238968, 1.0046847461238968, 1.0046847461238968, 1.0046847461238968, 1.0046847461238968, 1.0046847461238968, 1.0046847461238968, 1.0046847461238968, 1.0046847461238968, 1.0046847461238968, 1.0046847461238968, 1.0046847461238968, 1.0046847461238968, 1.0046847461238968, 1.0046847461238968, 1.0046847461238968, 1.0046847461238968, 1.0046847461238968, 1.0046847461238968, 1.7013170566297608, 2.0163866888187205, 4.48625755446951, 5.338925966131409, 2.7239610342309994, 12.603517698910826, 16.572450941596642, 12.22101845497578, 6.445028768642972, 3.7506407656420055, 4.120333293002132, 15.973991615602724, 14.601649012705774, 16.718244973540113, 1.8688877113984848, 2.318958664967638, 2.329913697326172, 9.3214038992493, 5.168662553732672, 7.181851331699369, 11.67700076004235, 3.2165751573906642, 3.2165751573906642, 2.135235848542704, 1.8886871660713285, 1.8886871660713285, 1.8886871660713285, 1.8886871660713285, 1.8886871660713285, 1.8886871660713285, 1.8886871660713285, 1.8886871660713285, 1.8886871660713285, 1.8886871660713285, 1.8886871660713285, 1.8886871660713285, 1.8886871660713285, 1.8886871660713285, 1.8886871660713285, 1.8886871660713285, 1.8886871660713285, 1.8886871660713285, 1.8886871660713285, 1.8886871660713285, 1.8886871660713285, 1.8886871660713285, 1.8886871660713285, 1.8886871660713285, 1.8886871660713285, 1.8886871660713285, 4.782893336294708, 2.754921245783936, 24.34429280669672, 3.957656628777401, 3.233836858566556, 2.87192655656866, 2.8719264116938144, 2.8719264313544284, 3.1648881264246382, 2.0084399733990494, 3.3158120112002645, 2.379617001740406, 1.2846195023706108, 1.2846195023706108, 0.9227093732643373, 0.9227093732643373, 0.9227093732643373, 0.9227093732643373, 0.9227093732643373, 0.9227093732643373, 0.9227093732643373, 0.9227093732643373, 0.9227093732643373, 0.9227093732643373, 0.9227093732643373, 0.9227093732643373, 0.9227093732643373, 0.9227093732643373, 0.9227093732643373, 0.9227093732643373, 0.9227093732643373, 0.9227093732643373, 0.9227093732643373, 5.7065414830682855, 1.9717894063411634, 8.17924607913939, 2.5094512601276415, 14.346240646384896, 7.54236976690287, 5.086651683957169, 7.056294462640347, 4.509786742080538, 9.3214038992493, 24.34429280669672, 1.6242162220173681, 2.9405072145844313, 4.113488116247872, 3.0422650371185522, 1.6302837216699766, 3.1587211113252147, 1.781261393712198, 1.3744404975640439, 1.3744405245958067, 1.3744405245958067, 2.4009472055668413, 2.4888357344379686, 0.9676198475186262, 0.9676198475186262, 0.9676198475186262, 0.9676198475186262, 0.9676198475186262, 0.9676198475186262, 0.9676198475186262, 0.9676198475186262, 0.9676198475186262, 0.9676198475186262, 0.9676198475186262, 0.9676198475186262, 0.9676198475186262, 0.9676198475186262, 0.9676198475186262, 1.9941264616338634, 1.5071302207578123, 1.5873058115884453, 1.6618635111233038, 1.6618635111233038, 1.6751941959242658, 3.480822327926867, 3.7500610792356617, 4.770684575136799, 7.181851331699369, 9.3214038992493, 4.306164160943367, 6.445028768642972, 13.321378046134116, 11.856152580268738, 35.395824581687876, 13.184187728776894, 15.671383694789162, 18.31875760995736, 8.282327187744226, 9.680349181687882, 5.484450709064549, 15.615422051202149, 7.056294462640347, 4.347104654982822, 2.614772664017128, 2.8618657321237437, 3.2500377316506923, 3.3718380883240044, 1.2040817218381967, 0.8824404464709605, 0.8824404464709605, 0.8824404464709605, 0.8824404464709605, 0.8824404464709605, 0.8824404464709605, 0.8824404464709605, 0.8824404464709605, 0.8824404464709605, 0.8824404464709605, 0.8824404464709605, 0.8824404464709605, 0.8824404464709605, 0.8824404464709605, 0.8824404464709605, 0.8824404464709605, 0.9680466707745268, 2.2649413095991906, 1.3263260459774107, 4.005448467501638, 1.4502568527330837, 1.4502568527330837, 1.5021264105407797, 1.5462457461536143, 7.54236976690287, 15.973991615602724, 15.671383694789162, 7.734156196489727, 5.660201056630246, 21.38034695424925, 13.184187728776894, 4.967500909730081, 1.5900147948766001, 2.7160269392674903, 1.9976173503999295, 1.9976173503999295, 1.2792082459854945, 1.2792082459854945, 1.2792082459854945, 1.2792082459854945, 1.2792082459854945, 1.2792082459854945, 1.2792082459854945, 1.2792082459854945, 1.2792082459854945, 1.2792082459854945, 1.2792082459854945, 1.2792082459854945, 1.2792082459854945, 1.2792082459854945, 1.2792082459854945, 1.2792082459854945, 1.2792082459854945, 1.2792082459854945, 1.2792082459854945, 1.2792082459854945, 1.2792082459854945, 1.2792082459854945, 1.2792082459854945, 1.2792082459854945, 1.2792082459854945, 1.2792082459854945, 1.2792082459854945, 0.8371014345556589, 0.6989502941050318, 0.6989502941050318, 0.6989502941050318, 0.6989502941050318, 0.6989502941050318, 0.6989502941050318, 1.4065246425106714, 1.9383220986390368, 2.5580080123510043, 3.4380268581145454, 3.489062679770301, 4.9075709697457235, 6.285027431601628, 0.6250313092526973, 0.6250313092526973, 0.6464053709210128, 0.6464053709210128, 0.6464053709210128, 0.6892635513862654, 0.8073475090953991, 0.8073475090953991, 0.8073475090953991, 0.8073475090953991, 0.8073475090953991, 0.8073475090953991, 0.8073475090953991, 0.8073475090953991, 0.8073475090953991, 0.8073475090953991, 15.671383694789162, 1.1804851106872658, 15.615422051202149, 15.480454537275088, 1.1804851106872658, 4.290685899498939, 1.5341029649656015, 1.5873058115884453, 1.1804851106872658, 11.507274118844952, 7.184545234488836, 2.754921245783936, 9.824505981266553, 1.1804851106872658, 12.22101845497578, 1.8001709511514514, 0.6464053709210128, 0.6464053709210128, 0.6464053709210128, 0.9680466707745268, 1.2142217608571713, 1.2660913349908323, 1.2660913349908323, 1.9217961092628109, 4.967500909730081, 0.6250313092526973, 0.6250313092526973, 0.6892635513862654, 0.6989502941050318, 0.6989502941050318, 0.6989502941050318, 0.6989502941050318, 0.6989502941050318, 0.6989502941050318, 0.8073475090953991, 0.8073475090953991, 0.8073475090953991, 0.8073475090953991, 0.8073475090953991, 0.8073475090953991, 0.8073475090953991, 0.8073475090953991, 0.8073475090953991, 0.8073475090953991, 0.8073475090953991, 0.8073475090953991, 3.2471083721141913, 1.8393063049190808, 1.3024789357909758, 1.1804851106872658, 15.615422051202149, 15.480454537275088, 1.1804851106872658, 4.290685899498939, 1.5341029649656015, 1.5873058115884453, 1.9383220986390368, 1.1804851106872658, 11.507274118844952, 7.184545234488836, 2.754921245783936, 9.824505981266553, 1.1804851106872658, 12.22101845497578, 1.8001709511514514, 18.31875760995736, 1.1804851106872658, 0.6892635513862654, 0.6250313092526973, 0.6250313092526973, 1.1928477155148205, 1.332605657658337, 6.14796984122066, 0.6464053709210128, 0.6464053709210128, 0.6464053709210128, 0.6989502941050318, 0.6989502941050318, 0.6989502941050318, 0.6989502941050318, 0.6989502941050318, 0.6989502941050318, 0.8073475090953991, 0.8073475090953991, 0.8073475090953991, 0.8073475090953991, 0.8073475090953991, 0.8073475090953991, 0.8073475090953991, 0.8073475090953991, 0.8073475090953991, 0.8073475090953991, 0.8073475090953991, 0.8073475090953991, 0.8073475090953991, 0.8073475090953991, 0.8371014345556589, 1.1804851106872658, 15.615422051202149, 15.480454537275088, 1.1804851106872658, 4.290685899498939, 1.5341029649656015, 1.5873058115884453, 1.9383220986390368, 1.1804851106872658, 11.507274118844952, 7.184545234488836, 2.754921245783936, 9.824505981266553, 1.1804851106872658, 12.22101845497578, 1.8001709511514514, 18.31875760995736, 1.1804851106872658, 2.4951131453994133, 1.1804851106872658, 1.1804851106872658, 1.9221361094901415, 5.660201056630246, 2.2649413095991906, 0.9059218141912947, 2.8618657321237437, 0.6250313092526973, 0.6250313092526973, 0.6464053709210128, 0.6464053709210128, 0.6464053709210128, 0.6892635513862654, 0.6989502941050318, 0.6989502941050318, 0.6989502941050318, 0.6989502941050318, 0.6989502941050318, 0.6989502941050318, 0.8073475090953991, 0.8073475090953991, 0.8073475090953991, 0.8073475090953991, 0.8073475090953991, 0.8073475090953991, 0.8073475090953991, 0.8073475090953991, 0.8073475090953991, 0.8073475090953991, 0.8073475090953991, 0.8073475090953991, 0.8073475090953991, 0.8073475090953991, 0.8371014345556589, 0.8537611496715208, 4.524324766179876, 2.754921245783936, 4.7546419801091835, 4.18682550294379, 1.1804851106872658, 15.615422051202149, 15.480454537275088, 1.1804851106872658, 4.290685899498939, 1.5341029649656015, 1.5873058115884453, 1.9383220986390368, 1.1804851106872658, 11.507274118844952, 7.184545234488836, 9.824505981266553, 1.1804851106872658, 12.22101845497578, 1.8001709511514514, 18.31875760995736, 1.1804851106872658, 2.4951131453994133, 1.1804851106872658, 1.1804851106872658, 1.9221361094901415, 5.660201056630246, 2.2649413095991906, 15.671383694789162, 0.6250313092526973, 0.6250313092526973, 0.6464053709210128, 0.6464053709210128, 0.6464053709210128, 0.6892635513862654, 0.6989502941050318, 0.6989502941050318, 0.6989502941050318, 0.6989502941050318, 0.6989502941050318, 0.6989502941050318, 0.8073475090953991, 0.8073475090953991, 0.8073475090953991, 0.8073475090953991, 0.8073475090953991, 0.8073475090953991, 0.8073475090953991, 0.8073475090953991, 0.8073475090953991, 0.8073475090953991, 0.8073475090953991, 0.8073475090953991, 0.8073475090953991, 0.8073475090953991, 0.8371014345556589, 0.8537611496715208, 0.8537611496715208, 0.8537611496715208, 1.1804851106872658, 15.615422051202149, 15.480454537275088, 1.1804851106872658, 4.290685899498939, 1.5341029649656015, 1.5873058115884453, 1.9383220986390368, 1.1804851106872658, 11.507274118844952, 7.184545234488836, 2.754921245783936, 9.824505981266553, 1.1804851106872658, 12.22101845497578, 1.8001709511514514, 18.31875760995736, 1.1804851106872658, 2.4951131453994133, 1.1804851106872658, 1.1804851106872658, 1.9221361094901415, 5.660201056630246, 2.2649413095991906, 15.671383694789162, 1.2680385921496553, 35.395824581687876, 0.9144189146086191, 0.9144189146086191, 0.9144189146086191, 0.6250313092526973, 0.6250313092526973, 0.6464053709210128, 0.6464053709210128, 0.6464053709210128, 0.6892635513862654, 0.6989502941050318, 0.6989502941050318, 0.6989502941050318, 0.6989502941050318, 0.6989502941050318, 0.6989502941050318, 0.8073475090953991, 0.8073475090953991, 0.8073475090953991, 0.8073475090953991, 0.8073475090953991, 0.8073475090953991, 0.8073475090953991, 0.8073475090953991, 0.8073475090953991, 0.8073475090953991, 0.8073475090953991, 0.8073475090953991, 0.8073475090953991, 0.8073475090953991, 0.8371014345556589, 0.8537611496715208, 0.8537611496715208, 0.8537611496715208, 1.1804851106872658, 15.615422051202149, 15.480454537275088, 1.1804851106872658, 4.290685899498939, 1.5341029649656015, 1.5873058115884453, 1.9383220986390368, 1.1804851106872658, 11.507274118844952, 7.184545234488836, 2.754921245783936, 9.824505981266553, 1.1804851106872658, 12.22101845497578, 1.8001709511514514, 18.31875760995736, 1.1804851106872658, 2.4951131453994133, 1.1804851106872658, 1.1804851106872658, 1.9221361094901415, 5.660201056630246, 2.2649413095991906, 15.671383694789162, 1.2680385921496553, 35.395824581687876, 0.9144189146086191, 0.9144189146086191, 0.9144189146086191], \"Category\": [\"Default\", \"Default\", \"Default\", \"Default\", \"Default\", \"Default\", \"Default\", \"Default\", \"Default\", \"Default\", \"Default\", \"Default\", \"Default\", \"Default\", \"Default\", \"Default\", \"Default\", \"Default\", \"Default\", \"Default\", \"Default\", \"Default\", \"Default\", \"Default\", \"Default\", \"Default\", \"Default\", \"Default\", \"Default\", \"Default\", \"Topic1\", \"Topic1\", \"Topic1\", \"Topic1\", \"Topic1\", \"Topic1\", \"Topic1\", \"Topic1\", \"Topic1\", \"Topic1\", \"Topic1\", \"Topic1\", \"Topic1\", \"Topic1\", \"Topic1\", \"Topic1\", \"Topic1\", \"Topic1\", \"Topic1\", \"Topic1\", \"Topic1\", \"Topic1\", \"Topic1\", \"Topic1\", \"Topic1\", \"Topic1\", \"Topic1\", \"Topic1\", \"Topic1\", \"Topic1\", \"Topic1\", \"Topic1\", \"Topic1\", \"Topic1\", \"Topic1\", \"Topic1\", \"Topic1\", \"Topic1\", \"Topic1\", \"Topic1\", \"Topic1\", \"Topic1\", \"Topic1\", \"Topic1\", \"Topic1\", \"Topic2\", \"Topic2\", \"Topic2\", \"Topic2\", \"Topic2\", \"Topic2\", \"Topic2\", \"Topic2\", \"Topic2\", \"Topic2\", \"Topic2\", \"Topic2\", \"Topic2\", \"Topic2\", \"Topic2\", \"Topic2\", \"Topic2\", \"Topic2\", \"Topic2\", \"Topic2\", \"Topic2\", \"Topic2\", \"Topic2\", \"Topic2\", \"Topic2\", \"Topic2\", \"Topic2\", \"Topic2\", \"Topic2\", \"Topic2\", \"Topic2\", \"Topic2\", \"Topic2\", \"Topic2\", \"Topic2\", \"Topic2\", \"Topic2\", \"Topic2\", \"Topic2\", \"Topic2\", \"Topic2\", \"Topic2\", \"Topic2\", \"Topic3\", \"Topic3\", \"Topic3\", \"Topic3\", \"Topic3\", \"Topic3\", \"Topic3\", \"Topic3\", \"Topic3\", \"Topic3\", \"Topic3\", \"Topic3\", \"Topic3\", \"Topic3\", \"Topic3\", \"Topic3\", \"Topic3\", \"Topic3\", \"Topic3\", \"Topic3\", \"Topic3\", \"Topic3\", \"Topic3\", \"Topic3\", \"Topic3\", \"Topic3\", \"Topic3\", \"Topic3\", \"Topic3\", \"Topic3\", \"Topic3\", \"Topic3\", \"Topic3\", \"Topic3\", \"Topic3\", \"Topic3\", \"Topic3\", \"Topic3\", \"Topic3\", \"Topic3\", \"Topic3\", \"Topic3\", \"Topic3\", \"Topic3\", \"Topic3\", \"Topic3\", \"Topic3\", \"Topic3\", \"Topic3\", \"Topic4\", \"Topic4\", \"Topic4\", \"Topic4\", \"Topic4\", \"Topic4\", \"Topic4\", \"Topic4\", \"Topic4\", \"Topic4\", \"Topic4\", \"Topic4\", \"Topic4\", \"Topic4\", \"Topic4\", \"Topic4\", \"Topic4\", \"Topic4\", \"Topic4\", \"Topic4\", \"Topic4\", \"Topic4\", \"Topic4\", \"Topic4\", \"Topic4\", \"Topic4\", \"Topic4\", \"Topic4\", \"Topic4\", \"Topic4\", \"Topic4\", \"Topic4\", \"Topic4\", \"Topic4\", \"Topic4\", \"Topic4\", \"Topic4\", \"Topic4\", \"Topic4\", \"Topic4\", \"Topic4\", \"Topic4\", \"Topic4\", \"Topic4\", \"Topic4\", \"Topic4\", \"Topic4\", \"Topic4\", \"Topic4\", \"Topic4\", \"Topic4\", \"Topic5\", \"Topic5\", \"Topic5\", \"Topic5\", \"Topic5\", \"Topic5\", \"Topic5\", \"Topic5\", \"Topic5\", \"Topic5\", \"Topic5\", \"Topic5\", \"Topic5\", \"Topic5\", \"Topic5\", \"Topic5\", \"Topic5\", \"Topic5\", \"Topic5\", \"Topic5\", \"Topic5\", \"Topic5\", \"Topic5\", \"Topic5\", \"Topic5\", \"Topic5\", \"Topic5\", \"Topic5\", \"Topic5\", \"Topic5\", \"Topic5\", \"Topic5\", \"Topic5\", \"Topic5\", \"Topic5\", \"Topic5\", \"Topic5\", \"Topic5\", \"Topic5\", \"Topic5\", \"Topic5\", \"Topic5\", \"Topic5\", \"Topic6\", \"Topic6\", \"Topic6\", \"Topic6\", \"Topic6\", \"Topic6\", \"Topic6\", \"Topic6\", \"Topic6\", \"Topic6\", \"Topic6\", \"Topic6\", \"Topic6\", \"Topic6\", \"Topic6\", \"Topic6\", \"Topic6\", \"Topic6\", \"Topic6\", \"Topic6\", \"Topic6\", \"Topic6\", \"Topic6\", \"Topic6\", \"Topic6\", \"Topic6\", \"Topic6\", \"Topic6\", \"Topic6\", \"Topic6\", \"Topic6\", \"Topic6\", \"Topic6\", \"Topic6\", \"Topic6\", \"Topic6\", \"Topic6\", \"Topic6\", \"Topic6\", \"Topic6\", \"Topic6\", \"Topic6\", \"Topic6\", \"Topic6\", \"Topic6\", \"Topic6\", \"Topic6\", \"Topic6\", \"Topic7\", \"Topic7\", \"Topic7\", \"Topic7\", \"Topic7\", \"Topic7\", \"Topic7\", \"Topic7\", \"Topic7\", \"Topic7\", \"Topic7\", \"Topic7\", \"Topic7\", \"Topic7\", \"Topic7\", \"Topic7\", \"Topic7\", \"Topic7\", \"Topic7\", \"Topic7\", \"Topic7\", \"Topic7\", \"Topic7\", \"Topic7\", \"Topic7\", \"Topic7\", \"Topic7\", \"Topic7\", \"Topic7\", \"Topic7\", \"Topic7\", \"Topic7\", \"Topic7\", \"Topic7\", \"Topic7\", \"Topic7\", \"Topic7\", \"Topic7\", \"Topic7\", \"Topic7\", \"Topic7\", \"Topic7\", \"Topic7\", \"Topic7\", \"Topic7\", \"Topic7\", \"Topic7\", \"Topic7\", \"Topic7\", \"Topic8\", \"Topic8\", \"Topic8\", \"Topic8\", \"Topic8\", \"Topic8\", \"Topic8\", \"Topic8\", \"Topic8\", \"Topic8\", \"Topic8\", \"Topic8\", \"Topic8\", \"Topic8\", \"Topic8\", \"Topic8\", \"Topic8\", \"Topic8\", \"Topic8\", \"Topic8\", \"Topic8\", \"Topic8\", \"Topic8\", \"Topic8\", \"Topic8\", \"Topic8\", \"Topic8\", \"Topic8\", \"Topic8\", \"Topic8\", \"Topic8\", \"Topic8\", \"Topic8\", \"Topic8\", \"Topic8\", \"Topic8\", \"Topic9\", \"Topic9\", \"Topic9\", \"Topic9\", \"Topic9\", \"Topic9\", \"Topic9\", \"Topic9\", \"Topic9\", \"Topic9\", \"Topic9\", \"Topic9\", \"Topic9\", \"Topic9\", \"Topic9\", \"Topic9\", \"Topic9\", \"Topic9\", \"Topic9\", \"Topic9\", \"Topic9\", \"Topic9\", \"Topic9\", \"Topic9\", \"Topic9\", \"Topic9\", \"Topic9\", \"Topic9\", \"Topic9\", \"Topic9\", \"Topic9\", \"Topic9\", \"Topic9\", \"Topic9\", \"Topic9\", \"Topic9\", \"Topic9\", \"Topic9\", \"Topic9\", \"Topic9\", \"Topic9\", \"Topic9\", \"Topic9\", \"Topic9\", \"Topic9\", \"Topic9\", \"Topic9\", \"Topic9\", \"Topic9\", \"Topic9\", \"Topic10\", \"Topic10\", \"Topic10\", \"Topic10\", \"Topic10\", \"Topic10\", \"Topic10\", \"Topic10\", \"Topic10\", \"Topic10\", \"Topic10\", \"Topic10\", \"Topic10\", \"Topic10\", \"Topic10\", \"Topic10\", \"Topic10\", \"Topic10\", \"Topic10\", \"Topic10\", \"Topic10\", \"Topic10\", \"Topic10\", \"Topic10\", \"Topic10\", \"Topic10\", \"Topic10\", \"Topic10\", \"Topic10\", \"Topic10\", \"Topic10\", \"Topic10\", \"Topic10\", \"Topic11\", \"Topic11\", \"Topic11\", \"Topic11\", \"Topic11\", \"Topic11\", \"Topic11\", \"Topic11\", \"Topic11\", \"Topic11\", \"Topic11\", \"Topic11\", \"Topic11\", \"Topic11\", \"Topic11\", \"Topic11\", \"Topic11\", \"Topic11\", \"Topic11\", \"Topic11\", \"Topic11\", \"Topic11\", \"Topic11\", \"Topic11\", \"Topic11\", \"Topic11\", \"Topic11\", \"Topic11\", \"Topic11\", \"Topic11\", \"Topic11\", \"Topic11\", \"Topic11\", \"Topic11\", \"Topic11\", \"Topic11\", \"Topic11\", \"Topic11\", \"Topic11\", \"Topic11\", \"Topic11\", \"Topic11\", \"Topic11\", \"Topic11\", \"Topic11\", \"Topic11\", \"Topic12\", \"Topic12\", \"Topic12\", \"Topic12\", \"Topic12\", \"Topic12\", \"Topic12\", \"Topic12\", \"Topic12\", \"Topic12\", \"Topic12\", \"Topic12\", \"Topic12\", \"Topic12\", \"Topic12\", \"Topic12\", \"Topic12\", \"Topic12\", \"Topic12\", \"Topic12\", \"Topic12\", \"Topic12\", \"Topic12\", \"Topic12\", \"Topic12\", \"Topic12\", \"Topic12\", \"Topic12\", \"Topic12\", \"Topic12\", \"Topic12\", \"Topic12\", \"Topic12\", \"Topic12\", \"Topic12\", \"Topic12\", \"Topic12\", \"Topic12\", \"Topic12\", \"Topic12\", \"Topic12\", \"Topic12\", \"Topic12\", \"Topic12\", \"Topic12\", \"Topic12\", \"Topic13\", \"Topic13\", \"Topic13\", \"Topic13\", \"Topic13\", \"Topic13\", \"Topic13\", \"Topic13\", \"Topic13\", \"Topic13\", \"Topic13\", \"Topic13\", \"Topic13\", \"Topic13\", \"Topic13\", \"Topic13\", \"Topic13\", \"Topic13\", \"Topic13\", \"Topic13\", \"Topic13\", \"Topic13\", \"Topic13\", \"Topic13\", \"Topic13\", \"Topic13\", \"Topic13\", \"Topic13\", \"Topic13\", \"Topic13\", \"Topic13\", \"Topic13\", \"Topic13\", \"Topic13\", \"Topic13\", \"Topic13\", \"Topic13\", \"Topic13\", \"Topic13\", \"Topic14\", \"Topic14\", \"Topic14\", \"Topic14\", \"Topic14\", \"Topic14\", \"Topic14\", \"Topic14\", \"Topic14\", \"Topic14\", \"Topic14\", \"Topic14\", \"Topic14\", \"Topic14\", \"Topic14\", \"Topic14\", \"Topic14\", \"Topic14\", \"Topic14\", \"Topic14\", \"Topic14\", \"Topic14\", \"Topic14\", \"Topic14\", \"Topic14\", \"Topic14\", \"Topic14\", \"Topic14\", \"Topic14\", \"Topic14\", \"Topic15\", \"Topic15\", \"Topic15\", \"Topic15\", \"Topic15\", \"Topic15\", \"Topic15\", \"Topic15\", \"Topic15\", \"Topic15\", \"Topic15\", \"Topic15\", \"Topic15\", \"Topic15\", \"Topic15\", \"Topic15\", \"Topic15\", \"Topic15\", \"Topic15\", \"Topic15\", \"Topic15\", \"Topic15\", \"Topic15\", \"Topic15\", \"Topic15\", \"Topic15\", \"Topic15\", \"Topic15\", \"Topic15\", \"Topic15\", \"Topic15\", \"Topic15\", \"Topic15\", \"Topic15\", \"Topic15\", \"Topic15\", \"Topic15\", \"Topic15\", \"Topic15\", \"Topic15\", \"Topic15\", \"Topic15\", \"Topic15\", \"Topic15\", \"Topic15\", \"Topic15\", \"Topic16\", \"Topic16\", \"Topic16\", \"Topic16\", \"Topic16\", \"Topic16\", \"Topic16\", \"Topic16\", \"Topic16\", \"Topic16\", \"Topic16\", \"Topic16\", \"Topic16\", \"Topic16\", \"Topic16\", \"Topic16\", \"Topic16\", \"Topic16\", \"Topic16\", \"Topic16\", \"Topic16\", \"Topic16\", \"Topic16\", \"Topic16\", \"Topic16\", \"Topic16\", \"Topic16\", \"Topic16\", \"Topic16\", \"Topic16\", \"Topic16\", \"Topic16\", \"Topic16\", \"Topic16\", \"Topic16\", \"Topic16\", \"Topic16\", \"Topic16\", \"Topic16\", \"Topic16\", \"Topic16\", \"Topic16\", \"Topic16\", \"Topic16\", \"Topic16\", \"Topic16\", \"Topic16\", \"Topic16\", \"Topic16\", \"Topic16\", \"Topic16\", \"Topic17\", \"Topic17\", \"Topic17\", \"Topic17\", \"Topic17\", \"Topic17\", \"Topic17\", \"Topic17\", \"Topic17\", \"Topic17\", \"Topic17\", \"Topic17\", \"Topic17\", \"Topic17\", \"Topic17\", \"Topic17\", \"Topic17\", \"Topic17\", \"Topic17\", \"Topic17\", \"Topic17\", \"Topic17\", \"Topic17\", \"Topic17\", \"Topic17\", \"Topic17\", \"Topic17\", \"Topic17\", \"Topic17\", \"Topic17\", \"Topic17\", \"Topic17\", \"Topic17\", \"Topic17\", \"Topic17\", \"Topic17\", \"Topic17\", \"Topic17\", \"Topic17\", \"Topic17\", \"Topic17\", \"Topic17\", \"Topic17\", \"Topic17\", \"Topic17\", \"Topic17\", \"Topic17\", \"Topic17\", \"Topic17\", \"Topic17\", \"Topic17\", \"Topic17\", \"Topic17\", \"Topic17\", \"Topic18\", \"Topic18\", \"Topic18\", \"Topic18\", \"Topic18\", \"Topic18\", \"Topic18\", \"Topic18\", \"Topic18\", \"Topic18\", \"Topic18\", \"Topic18\", \"Topic18\", \"Topic18\", \"Topic18\", \"Topic18\", \"Topic18\", \"Topic18\", \"Topic18\", \"Topic18\", \"Topic18\", \"Topic18\", \"Topic18\", \"Topic18\", \"Topic18\", \"Topic18\", \"Topic18\", \"Topic18\", \"Topic18\", \"Topic18\", \"Topic18\", \"Topic18\", \"Topic18\", \"Topic18\", \"Topic18\", \"Topic18\", \"Topic18\", \"Topic18\", \"Topic18\", \"Topic18\", \"Topic18\", \"Topic18\", \"Topic18\", \"Topic18\", \"Topic18\", \"Topic18\", \"Topic18\", \"Topic18\", \"Topic18\", \"Topic18\", \"Topic18\", \"Topic18\", \"Topic18\", \"Topic18\", \"Topic18\", \"Topic18\", \"Topic18\", \"Topic18\", \"Topic19\", \"Topic19\", \"Topic19\", \"Topic19\", \"Topic19\", \"Topic19\", \"Topic19\", \"Topic19\", \"Topic19\", \"Topic19\", \"Topic19\", \"Topic19\", \"Topic19\", \"Topic19\", \"Topic19\", \"Topic19\", \"Topic19\", \"Topic19\", \"Topic19\", \"Topic19\", \"Topic19\", \"Topic19\", \"Topic19\", \"Topic19\", \"Topic19\", \"Topic19\", \"Topic19\", \"Topic19\", \"Topic19\", \"Topic19\", \"Topic19\", \"Topic19\", \"Topic19\", \"Topic19\", \"Topic19\", \"Topic19\", \"Topic19\", \"Topic19\", \"Topic19\", \"Topic19\", \"Topic19\", \"Topic19\", \"Topic19\", \"Topic19\", \"Topic19\", \"Topic19\", \"Topic19\", \"Topic19\", \"Topic19\", \"Topic19\", \"Topic19\", \"Topic19\", \"Topic19\", \"Topic19\", \"Topic19\", \"Topic19\", \"Topic19\", \"Topic19\", \"Topic19\", \"Topic19\", \"Topic20\", \"Topic20\", \"Topic20\", \"Topic20\", \"Topic20\", \"Topic20\", \"Topic20\", \"Topic20\", \"Topic20\", \"Topic20\", \"Topic20\", \"Topic20\", \"Topic20\", \"Topic20\", \"Topic20\", \"Topic20\", \"Topic20\", \"Topic20\", \"Topic20\", \"Topic20\", \"Topic20\", \"Topic20\", \"Topic20\", \"Topic20\", \"Topic20\", \"Topic20\", \"Topic20\", \"Topic20\", \"Topic20\", \"Topic20\", \"Topic20\", \"Topic20\", \"Topic20\", \"Topic20\", \"Topic20\", \"Topic20\", \"Topic20\", \"Topic20\", \"Topic20\", \"Topic20\", \"Topic20\", \"Topic20\", \"Topic20\", \"Topic20\", \"Topic20\", \"Topic20\", \"Topic20\", \"Topic20\", \"Topic20\", \"Topic20\", \"Topic20\", \"Topic20\", \"Topic20\", \"Topic20\", \"Topic20\", \"Topic20\", \"Topic20\", \"Topic20\", \"Topic20\", \"Topic20\"], \"logprob\": [30.0, 29.0, 28.0, 27.0, 26.0, 25.0, 24.0, 23.0, 22.0, 21.0, 20.0, 19.0, 18.0, 17.0, 16.0, 15.0, 14.0, 13.0, 12.0, 11.0, 10.0, 9.0, 8.0, 7.0, 6.0, 5.0, 4.0, 3.0, 2.0, 1.0, -3.6318, -3.004, -3.9817, -4.0957, -4.2873, -4.5244, -4.5244, -4.5774, -4.6681, -4.6681, -4.6681, -4.6681, -4.6681, -4.909, -4.909, -4.909, -5.1279, -5.1279, -5.1279, -5.1279, -4.7305, -5.4086, -5.4086, -5.4086, -5.4086, -5.4086, -5.4086, -4.6681, -5.8001, -5.8001, -5.4086, -4.303, -4.4129, -3.6523, -4.7261, -4.752, -4.9617, -4.1394, -4.4712, -4.0172, -4.4288, -4.5085, -4.7225, -4.7219, -4.7653, -3.461, -3.844, -4.1496, -4.2612, -4.3868, -4.3868, -4.3868, -4.1912, -4.5304, -4.5304, -4.5919, -4.6983, -4.6983, -4.6983, -4.6983, -4.6983, -4.6983, -4.6983, -4.6983, -4.6983, -4.9903, -4.9903, -3.2466, -5.2709, -5.2709, -5.2709, -3.5569, -4.2829, -5.0288, -5.0343, -3.8097, -4.3516, -4.1088, -3.9678, -3.9785, -3.768, -4.1386, -4.0754, -4.3702, -4.4052, -4.4533, -4.5788, -4.6609, -3.6143, -3.6952, -3.6952, -4.3007, -4.5417, -4.5417, -4.7606, -3.5097, -5.0412, -5.0412, -5.0412, -5.0412, -5.4328, -5.4328, -5.4328, -5.4328, -5.4328, -5.4328, -5.4328, -5.4328, -5.4328, -5.4328, -5.4328, -5.4328, -5.4328, -5.4328, -5.4328, -5.4328, -5.4328, -5.4328, -4.2592, -5.0442, -4.1163, -5.0697, -4.7937, -4.0527, -5.0412, -4.3212, -4.5795, -4.5562, -4.7033, -4.9117, -4.5053, -4.2542, -5.2292, -4.7676, -4.5397, -5.0366, -4.9843, -3.3994, -3.7242, -3.9828, -4.2415, -4.2415, -4.2965, -4.2965, -4.433, -4.5446, -4.6702, -4.6702, -4.6702, -4.8138, -4.8138, -4.8138, -4.6701, -4.9817, -4.9817, -4.9817, -4.9817, -4.9817, -4.9817, -4.9817, -4.9817, -4.9817, -4.9817, -4.9817, -4.9817, -4.9817, -4.9817, -2.4314, -4.0575, -4.554, -3.6719, -4.683, -3.9004, -4.458, -4.0033, -3.6287, -3.6634, -4.8138, -3.7086, -4.0141, -4.1184, -3.7236, -3.864, -4.0042, -4.2923, -4.4741, -4.4377, -4.5234, -2.6622, -3.792, -3.792, -4.1282, -4.2538, -3.7117, -3.8042, -4.3975, -4.3975, -4.3975, -4.3975, -4.3975, -4.3975, -4.3975, -4.3975, -3.6435, -4.2611, -3.8805, -5.138, -5.138, -4.1396, -2.9234, -4.1299, -5.5295, -5.5295, -5.5295, -5.5295, -5.5295, -5.5295, -5.138, -3.1054, -3.6445, -4.3887, -4.4113, -3.7136, -3.3231, -4.5673, -3.7229, -4.252, -4.0129, -3.9048, -4.3294, -4.3778, -3.6582, -3.8019, -3.8019, -3.8019, -3.9697, -3.9697, -4.5424, -4.9339, -4.9339, -4.9339, -4.9339, -4.9339, -4.9339, -5.5864, -5.5864, -5.5864, -5.5864, -5.5864, -5.5864, -5.5864, -5.5864, -5.5864, -5.5864, -5.5864, -5.5864, -5.5864, -5.5864, -5.5864, -5.5864, -5.5864, -4.4017, -4.9457, -3.467, -4.9357, -4.9396, -4.3681, -4.1236, -4.7728, -4.6725, -4.6112, -5.4385, -5.4851, -5.4851, -5.4858, -5.4746, -5.4748, -5.5096, -5.499, -3.9101, -4.4096, -4.4096, -4.8012, -4.8012, -4.8012, -4.8012, -4.8012, -4.8012, -4.8012, -3.447, -4.8012, -5.4537, -5.4537, -5.4537, -5.4537, -5.4537, -5.4537, -5.4537, -5.4537, -5.4537, -5.4537, -5.4537, -5.4537, -5.4537, -5.4537, -5.4537, -5.4537, -5.4537, -5.4537, -4.8057, -4.4096, -4.4096, -4.1519, -3.7216, -4.7955, -4.8012, -4.2096, -4.7943, -4.4295, -4.4736, -4.8167, -4.8012, -4.7968, -4.7924, -5.4482, -5.4482, -5.4447, -5.447, -3.5332, -3.6697, -3.9069, -3.9069, -4.0505, -4.0505, -4.0505, -4.0505, -4.0505, -4.2184, -4.2184, -4.2184, -4.2184, -4.2184, -4.2184, -4.2184, -4.2184, -4.2184, -4.2184, -4.2184, -4.2184, -4.2184, -4.2184, -4.2184, -4.2184, -4.2184, -4.2184, -5.1826, -5.1826, -4.0505, -4.0048, -2.7558, -4.0806, -3.8127, -3.8649, -4.0689, -3.477, -2.7906, -3.6448, -4.6091, -4.6091, -4.6091, -4.6091, -4.6091, -3.9369, -3.477, -5.2616, -5.2616, -5.2616, -5.2616, -5.2616, -5.2616, -5.2616, -5.2616, -5.2616, -5.2616, -5.2616, -5.2616, -5.2616, -5.2616, -5.2616, -5.2616, -5.2616, -5.2616, -5.2616, -5.2616, -4.7457, -4.6091, -3.9369, -4.0629, -4.6091, -3.8704, -4.1381, -4.5171, -4.7695, -5.1775, -5.1908, -5.1831, -5.1895, -5.1964, -5.251, -5.2506, -5.251, -5.251, -5.2561, -5.2575, -2.1122, -3.5378, -3.5378, -4.0551, -4.223, -4.223, -4.223, -4.223, -4.223, -4.223, -4.223, -4.223, -4.223, -4.223, -4.223, -4.223, -4.223, -4.223, -4.223, -4.223, -4.223, -4.223, -4.223, -4.223, -4.223, -4.223, -4.223, -4.223, -4.223, -4.223, -3.5151, -4.0551, -4.1593, -3.1009, -3.3381, -3.4818, -3.4818, -3.4818, -3.4818, -3.9416, -3.4818, -3.9509, -4.6138, -4.6138, -5.2663, -5.2663, -5.2663, -5.2663, -5.2663, -5.2663, -5.2663, -5.2663, -5.2663, -5.2663, -5.2663, -5.2663, -5.2663, -5.2663, -5.2663, -5.2663, -5.2663, -5.2663, -5.2663, -3.4818, -4.5859, -3.6496, -4.6343, -4.4738, -4.8044, -5.1421, -5.1194, -5.1852, -5.1655, -5.1861, -5.2503, -5.2502, -5.2501, -5.2579, -5.2663, -3.2396, -3.9801, -4.3717, -4.3717, -4.3717, -3.9801, -3.9801, -5.0242, -5.0242, -5.0242, -5.0242, -5.0242, -5.0242, -5.0242, -5.0242, -5.0242, -5.0242, -5.0242, -5.0242, -5.0242, -5.0242, -5.0242, -4.3717, -5.0242, -5.0242, -5.0242, -5.0242, -5.0242, -4.3061, -4.3717, -4.2539, -3.9801, -3.7976, -4.892, -4.9927, -4.9873, -4.99, -4.9996, -5.0048, -5.0072, -5.0074, -5.0076, -5.0076, -5.0162, -5.0184, -5.0192, -2.7572, -3.3627, -3.3653, -3.3703, -3.3827, -4.4947, -5.1473, -5.1473, -5.1473, -5.1473, -5.1473, -5.1473, -5.1473, -5.1473, -5.1473, -5.1473, -5.1473, -5.1473, -5.1473, -5.1473, -5.1473, -5.1473, -5.1473, -4.4948, -5.1473, -4.1032, -5.1473, -5.1473, -5.1473, -5.1473, -3.5852, -3.6267, -3.8127, -4.9889, -5.0466, -5.0363, -5.0655, -5.1473, -5.1473, -2.996, -3.3988, -3.3988, -4.084, -4.084, -4.084, -4.084, -4.084, -4.084, -4.084, -4.084, -4.084, -4.084, -4.084, -4.084, -4.084, -4.084, -4.084, -4.084, -4.084, -4.084, -4.084, -4.084, -4.084, -4.084, -4.084, -4.084, -4.084, -4.084, -4.084, -3.9594, -4.6119, -4.6119, -4.6119, -4.6119, -4.6119, -4.6119, -4.6119, -4.6119, -4.6119, -4.6122, -4.6119, -4.612, -4.612, -7.1419, -7.1419, -7.1419, -7.1419, -7.1419, -7.1419, -7.1419, -7.1419, -7.1419, -7.1419, -7.1419, -7.1419, -7.1419, -7.1419, -7.1419, -7.1419, -4.6122, -7.1419, -7.1419, -7.1419, -7.1419, -7.1419, -7.1419, -7.1419, -7.1419, -7.1419, -7.1419, -7.1419, -7.1419, -7.1419, -7.1419, -7.1419, -4.5457, -4.5457, -4.5457, -4.5457, -4.5457, -4.5457, -4.5457, -4.5457, -4.5457, -7.0758, -7.0758, -7.0758, -7.0758, -7.0758, -7.0758, -7.0758, -7.0758, -7.0758, -7.0758, -7.0758, -7.0758, -7.0758, -7.0758, -7.0758, -7.0758, -7.0758, -7.0758, -7.0758, -7.0758, -7.0758, -7.0758, -7.0758, -7.0758, -7.0758, -7.0758, -7.0758, -7.0758, -7.0758, -7.0758, -7.0758, -7.0758, -7.0758, -7.0758, -7.0758, -7.0758, -7.0758, -7.0758, -7.0758, -7.0758, -7.0758, -7.0758, -3.8735, -4.526, -4.526, -4.526, -4.526, -4.5261, -7.0561, -7.0561, -7.0561, -7.0561, -7.0561, -7.0561, -7.0561, -7.0561, -7.0561, -7.0561, -7.0561, -7.0561, -7.0561, -7.0561, -7.0561, -7.0561, -7.0561, -7.0561, -7.0561, -7.0561, -7.0561, -7.0561, -7.0561, -7.0561, -7.0561, -7.0561, -7.0561, -7.0561, -7.0561, -7.0561, -7.0561, -7.0561, -7.0561, -7.0561, -7.0561, -7.0561, -7.0561, -7.0561, -7.0561, -7.0561, -7.0561, -7.0561, -7.0561, -7.0561, -7.0561, -7.0561, -7.0561, -7.0561, -2.6539, -2.9623, -7.1121, -7.1121, -7.1121, -7.1121, -7.1121, -7.1121, -7.1121, -7.1121, -7.1121, -7.1121, -7.1121, -7.1121, -7.1121, -7.1121, -7.1121, -7.1121, -7.1121, -7.1121, -7.1121, -7.1121, -7.1121, -7.1121, -7.1121, -7.1121, -7.1121, -7.1121, -7.1121, -7.1121, -7.1121, -7.1121, -7.1121, -7.1121, -7.1121, -7.1121, -7.1121, -7.1121, -7.1121, -7.1121, -7.1121, -7.1121, -7.1121, -7.1121, -7.1121, -7.1121, -7.1121, -7.1121, -7.1121, -7.1121, -7.1121, -7.1121, -7.1121, -7.1121, -7.1121, -7.1121, -7.1121, -7.1121, -6.9838, -6.9838, -6.9838, -6.9838, -6.9838, -6.9838, -6.9838, -6.9838, -6.9838, -6.9838, -6.9838, -6.9838, -6.9838, -6.9838, -6.9838, -6.9838, -6.9838, -6.9838, -6.9838, -6.9838, -6.9838, -6.9838, -6.9838, -6.9838, -6.9838, -6.9838, -6.9838, -6.9838, -6.9838, -6.9838, -6.9838, -6.9838, -6.9838, -6.9838, -6.9838, -6.9838, -6.9838, -6.9838, -6.9838, -6.9838, -6.9838, -6.9838, -6.9838, -6.9838, -6.9838, -6.9838, -6.9838, -6.9838, -6.9838, -6.9838, -6.9838, -6.9838, -6.9838, -6.9838, -6.9838, -6.9838, -6.9838, -6.9838, -6.9838, -6.9838, -6.9838, -6.9838, -6.9838, -6.9838, -6.9838, -6.9838, -6.9838, -6.9838, -6.9838, -6.9838, -6.9838, -6.9838, -6.9838, -6.9838, -6.9838, -6.9838, -6.9838, -6.9838, -6.9838, -6.9838, -6.9838, -6.9838, -6.9838, -6.9838, -6.9838, -6.9838, -6.9838, -6.9838, -6.9838, -6.9838, -6.9838, -6.9838, -6.9838, -6.9838, -6.9838, -6.9838, -6.9838, -6.9838, -6.9838, -6.9838, -6.9838, -6.9838, -6.9838, -6.9838, -6.9838, -6.9838, -6.9838, -6.9838, -6.9838, -6.9838, -6.9838, -6.9838, -6.9838, -6.9838, -6.9838, -6.9838, -6.9838, -6.9838, -6.9838, -6.9838], \"loglift\": [30.0, 29.0, 28.0, 27.0, 26.0, 25.0, 24.0, 23.0, 22.0, 21.0, 20.0, 19.0, 18.0, 17.0, 16.0, 15.0, 14.0, 13.0, 12.0, 11.0, 10.0, 9.0, 8.0, 7.0, 6.0, 5.0, 4.0, 3.0, 2.0, 1.0, 1.6418, 1.6351, 1.626, 1.6196, 1.6072, 1.5884, 1.5884, 1.5836, 1.5749, 1.5749, 1.5749, 1.5749, 1.5749, 1.548, 1.548, 1.548, 1.518, 1.518, 1.518, 1.518, 1.4781, 1.4706, 1.4706, 1.4706, 1.4706, 1.4706, 1.4706, 1.4672, 1.3837, 1.3837, 1.3814, 1.3406, 1.3243, 1.089, 1.3091, 1.2787, 1.3271, 1.0288, 1.0952, 0.8917, 1.0514, 0.8396, 0.3892, 0.3129, -0.1063, 1.8878, 1.8686, 1.8475, 1.8382, 1.8265, 1.8265, 1.8265, 1.8219, 1.8114, 1.8114, 1.8043, 1.7911, 1.7911, 1.7911, 1.7911, 1.7911, 1.7911, 1.7911, 1.7911, 1.7911, 1.748, 1.748, 1.6967, 1.6954, 1.6954, 1.6954, 1.6574, 1.6144, 1.6118, 1.608, 1.4522, 1.4791, 1.2085, 1.1352, 1.1332, 0.891, 1.1337, 0.9593, 1.0479, 1.075, 1.0918, 1.4002, 1.2865, 1.9755, 1.9711, 1.9711, 1.9254, 1.8989, 1.8989, 1.8696, 1.8523, 1.8229, 1.8229, 1.8229, 1.8229, 1.7375, 1.7375, 1.7375, 1.7375, 1.7375, 1.7375, 1.7375, 1.7375, 1.7375, 1.7375, 1.7375, 1.7375, 1.7375, 1.7375, 1.7375, 1.7375, 1.7375, 1.7375, 1.7288, 1.6945, 1.292, 1.6062, 1.4547, 1.0276, 1.4432, 0.849, 1.0395, 0.8222, 0.9249, 1.0691, 0.4037, 0.0305, 1.4443, 0.5805, 0.1193, 0.8427, 0.5821, 2.1097, 2.0904, 2.0702, 2.0447, 2.0447, 2.0385, 2.0385, 2.0216, 2.0063, 1.9872, 1.9872, 1.9872, 1.9628, 1.9628, 1.9628, 1.9462, 1.9303, 1.9303, 1.9303, 1.9303, 1.9303, 1.9303, 1.9303, 1.9303, 1.9303, 1.9303, 1.9303, 1.9303, 1.9303, 1.9303, 1.8532, 1.9001, 1.8813, 1.6494, 1.8463, 1.6023, 1.7629, 1.5778, 1.4149, 1.4169, 1.8586, 1.2904, 1.3643, 1.4135, 1.0652, 1.0449, 1.164, 1.2528, 1.3315, 0.5971, 0.5883, 2.5256, 2.5067, 2.5067, 2.4629, 2.4429, 2.4377, 2.4205, 2.4174, 2.4174, 2.4174, 2.4174, 2.4174, 2.4174, 2.4174, 2.4174, 2.3874, 2.267, 2.2373, 2.2299, 2.2299, 2.2054, 2.176, 2.1306, 2.0843, 2.0843, 2.0843, 2.0843, 2.0843, 2.0843, 1.8958, 1.8936, 1.8874, 1.8166, 1.7935, 1.6077, 1.4657, 1.783, 1.4472, 1.5537, 1.2594, 0.3799, 1.2895, 1.0402, 2.634, 2.6175, 2.6175, 2.6175, 2.5954, 2.5954, 2.4917, 2.3888, 2.3888, 2.3888, 2.3888, 2.3888, 2.1564, 2.1439, 2.1439, 2.1439, 2.1439, 2.1439, 2.1439, 2.1439, 2.1439, 2.1439, 2.1439, 2.1439, 2.1439, 2.1439, 2.1439, 2.1439, 2.1439, 2.1439, 1.8437, 1.9186, 1.192, 1.809, 1.5899, 0.8938, 0.6177, 1.2624, 0.7455, 0.4918, 1.4887, 1.4489, 1.4489, 1.357, 1.1295, 0.7736, 1.1663, 0.2381, 2.6439, 2.5579, 2.5024, 2.4622, 2.4622, 2.4622, 2.4622, 2.4622, 2.4622, 2.4622, 2.4327, 2.3883, 2.2317, 2.2317, 2.2317, 2.2317, 2.2317, 2.2317, 2.2317, 2.2317, 2.2317, 2.2317, 2.2317, 2.2317, 2.2317, 2.2317, 2.2317, 2.2317, 2.2317, 2.2317, 2.1313, 2.054, 1.9852, 1.4763, 1.0672, 1.734, 1.6833, 1.1386, 1.4661, 0.8878, 0.5612, 1.0627, 0.7652, 0.3062, 0.1509, 1.8443, 1.8443, -0.0364, -0.3353, 3.0053, 2.9845, 2.9421, 2.9421, 2.9122, 2.9122, 2.9122, 2.9122, 2.9122, 2.8727, 2.8727, 2.8727, 2.8727, 2.8727, 2.8727, 2.8727, 2.8727, 2.8727, 2.8727, 2.8727, 2.8727, 2.8727, 2.8727, 2.8727, 2.8727, 2.8727, 2.5831, 2.5318, 2.5318, 2.3443, 2.2828, 1.9855, 2.2791, 1.6053, 1.6378, 1.2484, 3.1518, 2.9591, 2.9092, 2.8716, 2.8716, 2.8716, 2.8716, 2.8716, 2.8013, 2.6326, 2.585, 2.585, 2.585, 2.585, 2.585, 2.585, 2.585, 2.585, 2.585, 2.585, 2.585, 2.585, 2.585, 2.585, 2.585, 2.585, 2.585, 2.585, 2.585, 2.585, 2.5742, 2.5409, 2.4133, 2.1133, 2.2401, 1.4469, 0.9054, 0.831, 1.2185, 1.3519, 1.2445, -0.1028, -0.0193, -0.1616, 1.9749, 1.7595, 1.7545, 0.3679, 0.9525, 0.6222, 3.2815, 3.1452, 3.1452, 3.0375, 2.9924, 2.9924, 2.9924, 2.9924, 2.9924, 2.9924, 2.9924, 2.9924, 2.9924, 2.9924, 2.9924, 2.9924, 2.9924, 2.9924, 2.9924, 2.9924, 2.9924, 2.9924, 2.9924, 2.9924, 2.9924, 2.9924, 2.9924, 2.9924, 2.9924, 2.9924, 2.7711, 2.7827, 0.4996, 3.3747, 3.3395, 3.3145, 3.3145, 3.3145, 3.2174, 3.2123, 3.1708, 3.0334, 2.987, 2.987, 2.6654, 2.6654, 2.6654, 2.6654, 2.6654, 2.6654, 2.6654, 2.6654, 2.6654, 2.6654, 2.6654, 2.6654, 2.6654, 2.6654, 2.6654, 2.6654, 2.6654, 2.6654, 2.6654, 2.6279, 2.5864, 2.1001, 2.2969, 0.714, 1.0263, 1.0826, 0.778, 1.1598, 0.4535, -0.5271, 2.116, 1.5225, 1.1869, 1.4808, 2.0962, 3.4615, 3.2938, 3.1616, 3.1616, 3.1616, 2.9953, 2.9593, 2.86, 2.86, 2.86, 2.86, 2.86, 2.86, 2.86, 2.86, 2.86, 2.86, 2.86, 2.86, 2.86, 2.86, 2.86, 2.7894, 2.4169, 2.3651, 2.3192, 2.3192, 2.3112, 2.2979, 2.1578, 2.0349, 1.8996, 1.8213, 1.4992, 0.9952, 0.2746, 0.3884, -0.7149, 0.2675, 0.0922, -0.064, 0.7296, 0.5735, 1.1331, 0.0846, 0.8782, 3.6245, 3.5274, 3.4345, 3.3023, 3.2531, 3.1708, 2.8291, 2.8291, 2.8291, 2.8291, 2.8291, 2.8291, 2.8291, 2.8291, 2.8291, 2.8291, 2.8291, 2.8291, 2.8291, 2.8291, 2.8291, 2.8291, 2.7365, 2.539, 2.4216, 2.3604, 2.3323, 2.3323, 2.2971, 2.2682, 2.2455, 1.4536, 1.2867, 0.8167, 1.0713, -0.2475, 0.2067, 1.1011, 2.2403, 3.8561, 3.7605, 3.7605, 3.521, 3.521, 3.521, 3.521, 3.521, 3.521, 3.521, 3.521, 3.521, 3.521, 3.521, 3.521, 3.521, 3.521, 3.521, 3.521, 3.521, 3.521, 3.521, 3.521, 3.521, 3.521, 3.521, 3.521, 3.521, 3.521, 3.521, 4.0697, 3.5976, 3.5976, 3.5976, 3.5976, 3.5976, 3.5976, 2.8983, 2.5776, 2.3002, 2.0042, 1.9898, 1.6485, 1.4011, 1.1793, 1.1793, 1.1457, 1.1457, 1.1457, 1.0815, 0.9234, 0.9234, 0.9234, 0.9234, 0.9234, 0.9234, 0.9234, 0.9234, 0.9234, 0.9234, 0.4872, 0.5434, -2.0389, -2.0302, 0.5434, -0.7471, 0.2814, 0.2473, 0.5434, -1.7336, -1.2626, -0.304, -1.5755, 0.5434, -1.7938, 0.1215, 3.7419, 3.7419, 3.7419, 3.338, 3.1114, 3.0696, 3.0696, 2.6523, 1.7026, 1.2454, 1.2454, 1.1476, 1.1336, 1.1336, 1.1336, 1.1336, 1.1336, 1.1336, 0.9895, 0.9895, 0.9895, 0.9895, 0.9895, 0.9895, 0.9895, 0.9895, 0.9895, 0.9895, 0.9895, 0.9895, -0.4023, 0.1661, 0.5112, 0.6095, -1.9728, -1.9641, 0.6095, -0.681, 0.3475, 0.3134, 0.1137, 0.6095, -1.6675, -1.1965, -0.2379, -1.5094, 0.6095, -1.7277, 0.1876, -2.1325, 0.6095, 4.3499, 3.7952, 3.7952, 3.1489, 3.0381, 1.5091, 1.2315, 1.2315, 1.2315, 1.1534, 1.1534, 1.1534, 1.1534, 1.1534, 1.1534, 1.0092, 1.0092, 1.0092, 1.0092, 1.0092, 1.0092, 1.0092, 1.0092, 1.0092, 1.0092, 1.0092, 1.0092, 1.0092, 1.0092, 0.973, 0.6293, -1.9531, -1.9444, 0.6293, -0.6612, 0.3673, 0.3332, 0.1334, 0.6293, -1.6478, -1.1767, -0.2182, -1.4897, 0.6293, -1.708, 0.2073, -2.1127, 0.6293, -0.1191, 0.6293, 0.6293, 0.1418, -0.9383, -0.0223, 5.2962, 3.8375, 1.2091, 1.2091, 1.1755, 1.1755, 1.1755, 1.1113, 1.0973, 1.0973, 1.0973, 1.0973, 1.0973, 1.0973, 0.9531, 0.9531, 0.9531, 0.9531, 0.9531, 0.9531, 0.9531, 0.9531, 0.9531, 0.9531, 0.9531, 0.9531, 0.9531, 0.9531, 0.917, 0.8972, -0.7703, -0.2742, -0.82, -0.6928, 0.5732, -2.0091, -2.0004, 0.5732, -0.7173, 0.3112, 0.2771, 0.0773, 0.5732, -1.7038, -1.2328, -1.5457, 0.5732, -1.764, 0.1513, -2.1688, 0.5732, -0.1752, 0.5732, 0.5732, 0.0857, -0.9943, -0.0784, -2.0127, 1.3374, 1.3374, 1.3038, 1.3038, 1.3038, 1.2396, 1.2257, 1.2257, 1.2257, 1.2257, 1.2257, 1.2257, 1.0815, 1.0815, 1.0815, 1.0815, 1.0815, 1.0815, 1.0815, 1.0815, 1.0815, 1.0815, 1.0815, 1.0815, 1.0815, 1.0815, 1.0453, 1.0256, 1.0256, 1.0256, 0.7016, -1.8808, -1.8721, 0.7016, -0.589, 0.4395, 0.4054, 0.2057, 0.7016, -1.5755, -1.1045, -0.1459, -1.4174, 0.7016, -1.6357, 0.2796, -2.0404, 0.7016, -0.0469, 0.7016, 0.7016, 0.214, -0.866, 0.0499, -1.8844, 0.63, -2.6991, 0.9569, 0.9569, 0.9569, 1.3374, 1.3374, 1.3038, 1.3038, 1.3038, 1.2396, 1.2257, 1.2257, 1.2257, 1.2257, 1.2257, 1.2257, 1.0815, 1.0815, 1.0815, 1.0815, 1.0815, 1.0815, 1.0815, 1.0815, 1.0815, 1.0815, 1.0815, 1.0815, 1.0815, 1.0815, 1.0453, 1.0256, 1.0256, 1.0256, 0.7016, -1.8808, -1.8721, 0.7016, -0.589, 0.4395, 0.4054, 0.2057, 0.7016, -1.5755, -1.1045, -0.1459, -1.4174, 0.7016, -1.6357, 0.2796, -2.0404, 0.7016, -0.0469, 0.7016, 0.7016, 0.214, -0.866, 0.0499, -1.8844, 0.63, -2.6991, 0.9569, 0.9569, 0.9569]}, \"token.table\": {\"Topic\": [7, 4, 5, 12, 3, 6, 6, 7, 2, 11, 2, 2, 5, 6, 6, 12, 2, 4, 7, 1, 1, 14, 7, 1, 6, 5, 7, 1, 2, 3, 1, 12, 1, 10, 11, 1, 3, 1, 4, 5, 13, 14, 6, 6, 8, 6, 3, 1, 6, 8, 8, 4, 4, 1, 6, 7, 12, 11, 4, 10, 5, 4, 6, 6, 2, 3, 2, 11, 4, 6, 1, 2, 6, 3, 6, 6, 10, 3, 4, 6, 10, 6, 7, 14, 4, 8, 14, 4, 9, 14, 1, 3, 7, 10, 7, 1, 2, 4, 6, 7, 11, 5, 14, 1, 1, 2, 4, 7, 5, 6, 4, 1, 4, 9, 6, 14, 6, 4, 13, 2, 4, 5, 7, 6, 2, 7, 13, 5, 13, 6, 6, 1, 14, 6, 3, 14, 6, 5, 3, 1, 6, 1, 6, 5, 5, 7, 11, 12, 3, 7, 6, 7, 6, 3, 5, 2, 6, 6, 5, 10, 10, 8, 9, 9, 10, 4, 6, 14, 1, 8, 2, 13, 7, 3, 7, 7, 8, 2, 2, 2, 12, 10, 4, 4, 10, 6, 10, 9, 11, 4, 8, 1, 7, 1, 10, 2, 2, 5, 6, 9, 11, 3, 4, 5, 7, 10, 3, 3, 3, 6, 8, 11, 4, 6, 14, 10, 5, 10, 3, 6, 9, 1, 1, 14, 3, 14, 3, 4, 1, 3, 4, 8, 6, 4, 14, 4, 3, 4, 5, 14, 7, 14, 9, 7, 1, 3, 7, 3, 1, 3, 4, 2, 7, 1, 1, 3, 3, 3, 3, 10, 5, 7, 8, 3, 6, 7, 5, 2, 5, 13, 14, 4, 2, 9, 4, 8, 1, 3, 6, 3, 4, 5, 5, 8, 7, 7, 2, 10, 9, 3, 5, 10, 10, 7, 4, 11, 3, 14, 2, 11, 13, 2, 1, 1, 7, 5, 8, 6, 5, 10, 2, 7, 6, 2, 14, 12, 8, 4, 7, 7, 1, 2, 3, 4, 9, 2, 3, 4, 7, 4, 5, 4, 6, 9, 2, 1, 8, 3, 7, 1, 7, 7, 1, 2, 3, 7, 7, 1, 1, 7, 10, 1, 3, 4, 5, 9, 3, 14, 5, 11, 14, 8, 8, 8, 1, 6, 8, 7, 2, 7, 14, 8, 7, 12, 8, 8, 10, 7, 12, 3, 9, 13, 1, 6, 5, 2, 6, 14, 3, 4, 5, 9, 2, 5, 3, 4, 5, 3, 13, 3, 5, 4, 5, 8, 2, 1, 2, 6, 3, 6, 7, 3, 9, 1, 2, 4, 7, 9, 4, 6, 2, 2, 3, 4, 1, 3, 7, 10, 8, 4, 11, 1, 4, 4, 1, 3, 6, 1, 3, 7, 5, 14, 8, 7, 7, 2, 3, 5, 3, 4, 5, 6, 8, 5, 3, 14, 2, 6, 3, 1, 2, 6, 7, 1, 3, 7, 9, 4, 3, 14, 14, 5, 14, 14, 10, 3, 6, 7, 2, 7, 8, 9, 1, 2, 3, 5, 6, 10, 5, 1, 3, 5, 7, 12, 2, 14, 10, 1, 1, 8, 3, 3, 3, 3, 4, 8, 14, 1, 6, 8, 8, 4, 4, 8, 1, 8, 6, 7, 12, 5, 7, 4, 11, 1, 3, 3, 9, 5, 9, 1, 2, 3, 7, 7, 1, 2, 6, 7, 8, 3, 3, 11, 3, 4, 11, 7, 2, 4, 9, 7, 1, 3, 3, 4, 1, 2, 3, 5, 1, 3, 4, 4, 2, 3, 10, 10, 1, 7, 1, 7, 2, 9, 5, 11, 6, 7, 3, 2, 5, 6, 8, 1, 6, 8, 5, 2, 6, 3, 7, 13, 4, 10, 3, 6, 12, 8, 2, 3, 4, 10, 4, 10, 10, 1, 3, 8, 12, 2, 1, 4, 7, 3, 12, 2, 3, 4, 9, 13, 8, 10, 3], \"Freq\": [0.8471093713480305, 0.6372964078483603, 0.3983102549052252, 0.949751464047858, 0.6156815739458282, 0.8860413073775054, 0.5718823750476233, 0.5718823750476233, 0.9425234942839671, 0.6963966688578372, 0.9718186878255448, 0.17667216941501046, 0.7066886776600418, 0.8860413073775054, 0.8860413073775054, 0.5613999177941944, 0.7873445445886852, 0.14315355356157913, 0.07157677678078957, 0.8988030630725574, 0.5130084317969473, 0.7817335474018977, 0.8471093713480305, 0.7191665375252305, 0.17979163438130763, 0.6113003802684568, 0.20376679342281892, 0.6597991769876991, 0.10996652949794986, 0.10996652949794986, 0.6288405684238673, 0.20961352280795573, 0.9920595442528778, 0.5294683089736386, 0.9276905827988468, 0.5130084317969473, 0.9843861394736929, 0.800932764313014, 0.3856425405456631, 0.3856425405456631, 0.8305084130613345, 0.7817335474018977, 0.8860413073775054, 0.6895330286600256, 0.8224937730743078, 0.8860413073775054, 0.7452891884528762, 0.5352379187578544, 0.1338094796894636, 0.31222211927541504, 0.9351620031474984, 0.6152710972600131, 0.7818270938300778, 0.6021343087910278, 0.40142287252735187, 0.5014727095997021, 0.5014727095997021, 0.7580243263617238, 0.99357788577936, 0.5294683089736386, 0.7094753865756999, 0.7818270938300778, 0.8860413073775054, 0.8860413073775054, 0.7685099887270394, 0.5060862162876629, 0.9826519343426272, 0.42023569308364295, 0.9091486347864991, 0.8289563513933177, 0.3075456246394165, 0.615091249278833, 0.15377281231970824, 0.5060862162876629, 0.9553777670427316, 0.8860413073775054, 0.5294683089736386, 0.1505197206357162, 0.7525986031785811, 0.8832953749455832, 0.5294683089736386, 0.5894725409368349, 0.8471093713480305, 0.7817335474018977, 0.41874408700309707, 0.41874408700309707, 0.7817335474018977, 0.7998633266831896, 0.26662110889439655, 0.7817335474018977, 0.9920595425315236, 0.509827687618552, 0.254913843809276, 0.5294683089736386, 0.8471093713480305, 0.12807851068271514, 0.448274787389503, 0.1921177660240727, 0.12807851068271514, 0.06403925534135757, 0.77844061852916, 0.8468208333117033, 0.7817335474018977, 0.9224236173711521, 0.25839034573361375, 0.4521831050338241, 0.19379275930021034, 0.06459758643340344, 0.7886195266032016, 0.8860413073775054, 0.7818270938300778, 0.9546482823121006, 0.7280964394543331, 0.24269881315144437, 0.8860413073775054, 0.7817335474018977, 0.8860413073775054, 0.7677667350472083, 0.6988448051739425, 0.14031577721444613, 0.32740348016704096, 0.32740348016704096, 0.18708770295259486, 0.4672204091957513, 0.24965993399079753, 0.49931986798159506, 0.24965993399079753, 0.4415125441713818, 0.4415125441713818, 0.5894724970659904, 0.8860413073775054, 0.773894592346971, 0.7817335474018977, 0.8412831116903876, 0.8998631060299371, 0.7817335474018977, 0.8860413073775054, 0.7886195266032016, 0.5060862162876629, 0.36475411962922105, 0.36475411962922105, 0.6506212787806734, 0.16265531969516836, 0.7094753864159634, 0.8468208333117033, 0.3984934937326241, 0.3984934937326241, 0.7275687686042861, 0.5060862148982199, 0.5555027978650392, 0.8860413073775054, 0.8471093713480305, 0.8860413073775054, 0.1619642857745092, 0.8098214288725459, 0.5959746606884772, 0.8860413073775054, 0.8860413073775054, 0.7886195311333071, 0.5294683089736386, 0.5294683089736386, 0.9351620031474984, 0.6903358413564719, 0.6903358435381733, 0.9326690200622101, 0.9132118471946952, 0.9553777566209136, 0.7817335474018977, 0.7565644030964849, 0.9351620031474984, 0.30768873550649534, 0.6153774710129907, 0.7818583797796034, 0.5060862162876629, 0.8198448066425265, 0.46612594043147215, 0.46612594043147215, 0.7685099887270394, 0.7685099887270394, 0.884109702879628, 0.7275687829137206, 0.5294683089736386, 0.7818270938300778, 0.7818270938300778, 0.9326690200622101, 0.5894725409368349, 0.5294683089736386, 0.7335639424399508, 0.24452131414665026, 0.45005776883191456, 0.45005776883191456, 0.43122804002802495, 0.43122804002802495, 0.800932764313014, 0.5294683089736386, 0.9857177952343835, 0.6005384707418924, 0.1501346176854731, 0.1501346176854731, 0.5257124668069466, 0.3504749778712978, 0.12929658706063712, 0.3878897611819113, 0.3878897611819113, 0.6518467292203053, 0.5294683089736386, 0.9759260690651402, 0.5060862162876629, 0.3968959359741923, 0.3968959359741923, 0.9351620031474984, 0.49789887337664224, 0.9091486324988154, 0.5894724970659904, 0.7817335474018977, 0.9420227185084216, 0.7094753865756999, 0.5294683089736386, 0.3671124467029352, 0.3671124467029352, 0.3671124467029352, 0.6920213427898275, 0.7565644046490634, 0.7817335474018977, 0.5060862148982199, 0.7817335474018977, 0.1958566996290165, 0.5875700988870496, 0.7565644030964849, 0.1910129010311057, 0.5730387030933171, 0.1910129010311057, 0.8289563513933177, 0.8362691107114476, 0.7817335474018977, 0.7818270938300778, 0.33737757446348027, 0.42172196807935036, 0.16868878723174013, 0.7817335474018977, 0.5555027978650392, 0.7817335474018977, 0.6903358435381733, 0.5555027978650392, 0.34007738360244955, 0.34007738360244955, 0.34007738360244955, 0.7452891884528762, 0.47468200492619333, 0.21096977996719704, 0.3164546699507956, 0.9718186961587582, 0.629998323385008, 0.8009328140274258, 0.8009327592519263, 0.5060862162876629, 0.5060862148982199, 0.5060862148982199, 0.7504095410769952, 0.9366646786887723, 0.6652199253696827, 0.22173997512322755, 0.8224937730743078, 0.6039254052523185, 0.20130846841743952, 0.20130846841743952, 0.7886195266032016, 0.1914317241174766, 0.6381057470582554, 0.06381057470582553, 0.5005963728738123, 0.8780746605692419, 0.5969912939880142, 0.690335854050131, 0.6828384502886127, 0.9351620031474984, 0.7244340707619593, 0.12073901179365988, 0.12073901179365988, 0.10330205876164875, 0.5165102938082438, 0.2066041175232975, 0.7988897868546261, 0.2662965956182087, 0.5555027978650392, 0.5555027978650392, 0.7685099887270394, 0.5294683089736386, 0.8835446486688577, 0.5060862162876629, 0.7886195186524362, 0.5294683089736386, 0.5294683089736386, 0.8471093713480305, 0.8362691012547293, 0.6963966384953708, 0.657404918900254, 0.7817335474018977, 0.6629216220531646, 0.13258432441063292, 0.26516864882126584, 0.9718186961587582, 0.7565644046490634, 0.9450240908890247, 0.5159101269609084, 0.7094753877812896, 0.9351620031474984, 0.8383299787503978, 0.616652678409326, 0.5294683089736386, 0.8841098300238533, 0.8471093713480305, 0.6895330286600256, 0.7685099887270394, 0.7817335474018977, 0.7275687686042861, 0.9351620031474984, 0.9897390801669846, 0.8471093713480305, 0.8471093713480305, 0.18102331457020868, 0.12068220971347245, 0.12068220971347245, 0.4827288388538898, 0.06034110485673622, 0.17380310743833666, 0.5214093223150099, 0.26070466115750496, 0.08690155371916833, 0.49168591097115716, 0.49168591097115716, 0.6828384614806854, 0.49593662046332976, 0.49593662046332976, 0.8672034842573266, 0.8789786187209616, 0.9351620031474984, 0.42920044684385017, 0.42920044684385017, 0.6017341335836117, 0.8471093713480305, 0.8471093713480305, 0.2783753090451932, 0.2783753090451932, 0.2783753090451932, 0.1391876545225966, 0.8471093713480305, 0.8988030630725574, 0.8988030616117277, 0.3629867828455625, 0.725973565691125, 0.20545624657800768, 0.2739416621040102, 0.1369708310520051, 0.2739416621040102, 0.06848541552600255, 0.9377133054600915, 0.7817335474018977, 0.9061607371876803, 0.06970467209136003, 0.7817335474018977, 0.9351620031474984, 0.8224937730743078, 0.8224937730743078, 0.6477297543703286, 0.16193243859258216, 0.16193243859258216, 0.7898324333822575, 0.8254909814529933, 0.6657229331584621, 0.7817335474018977, 0.9351620031474984, 0.41650228613165585, 0.41650228613165585, 0.8720500530615563, 0.41815693124977643, 0.6272353968746646, 0.6961993181244118, 0.13923986362488236, 0.27329105088203726, 0.5465821017640745, 0.920152680339785, 0.3996070096725824, 0.3996070096725824, 0.7094754575485096, 0.708587209118408, 0.1417174418236816, 0.7817335474018977, 0.05771022099698046, 0.4039715469788632, 0.4616817679758437, 0.6903358518684293, 0.7685099887270394, 0.7886195311333071, 0.14125959937621466, 0.7345499167563162, 0.11300767950097172, 0.29657414555663225, 0.5931482911132645, 0.8296668657007061, 0.08296668657007061, 0.3854555886746889, 0.3854555886746889, 0.8072034779681555, 0.9335321133743866, 0.29796424469534877, 0.5959284893906975, 0.14898212234767438, 0.3307004788772206, 0.3307004788772206, 0.3307004788772206, 0.7757917271566765, 0.15515834543133533, 0.23925956380773108, 0.35888934571159664, 0.17944467285579832, 0.11962978190386554, 0.05981489095193277, 0.5436832339048576, 0.5436832339048576, 0.7685099887270394, 0.9857177961108249, 0.7109722572759068, 0.9091486331095905, 0.5089314424088133, 0.2035725769635253, 0.10178628848176265, 0.5294683089736386, 0.9351620031474984, 0.7818270938300778, 0.6319338694159127, 0.8988030616117277, 0.7818270938300778, 0.8780746605692419, 0.800932764313014, 0.5203465628742446, 0.5203465628742446, 0.9920595442528778, 0.6289249654922924, 0.7898324333822575, 0.78637190995712, 0.7817335474018977, 0.7340550417462766, 0.5350776260665239, 0.8471093713480305, 0.4621282277458202, 0.3080854851638801, 0.15404274258194006, 0.5060862148982199, 0.7818270938300778, 0.7094753861567182, 0.5894725409368349, 0.734055038464096, 0.6166526854121439, 0.6133901643670052, 0.7817335474018977, 0.8254910463224431, 0.8235727873086849, 0.5060862148982199, 0.5602787269302126, 0.4668989391085105, 0.9553777705055579, 0.8264951654952052, 0.4091312044426422, 0.24547872266558535, 0.1636524817770569, 0.08182624088852845, 0.8172982775234443, 0.5060862162876629, 0.7817335474018977, 0.5005963728738123, 0.7094754290611488, 0.7817335474018977, 0.7817335474018977, 0.5294683089736386, 0.6174328059112987, 0.30871640295564934, 0.8471093713480305, 0.4760575692704037, 0.1586858564234679, 0.1586858564234679, 0.1586858564234679, 0.16430955837417732, 0.369696506341899, 0.16430955837417732, 0.04107738959354433, 0.20538694796772164, 0.04107738959354433, 0.7094753864159634, 0.6017341335836117, 0.3218399323133724, 0.2145599548755816, 0.1072799774377908, 0.2145599548755816, 0.9546497712693366, 0.736369721185239, 0.5294683089736386, 0.7565644030964849, 0.9891328654510122, 0.9062035100551475, 0.5060862148982199, 0.9759260820625918, 0.5060862162876629, 0.745289146277103, 0.9611460718841619, 0.7000162220881181, 0.35000811104405904, 0.3996070096725824, 0.3996070096725824, 0.9351620031474984, 0.8224938285593522, 0.7818270938300778, 0.7818270938300778, 0.9351620031474984, 0.8789786201357488, 0.8720500530615563, 0.26666232332509643, 0.26666232332509643, 0.26666232332509643, 0.8507684702455153, 0.5555027978650392, 0.7818270938300778, 0.60317050340741, 0.4862053671919453, 0.24310268359597265, 0.328524200651753, 0.657048401303506, 0.44580588067385174, 0.44580588067385174, 0.21655568624411375, 0.10827784312205688, 0.32483352936617066, 0.21655568624411375, 0.5555027978650392, 0.05458885483895694, 0.8188328225843541, 0.05458885483895694, 0.05458885483895694, 0.9351620031474984, 0.5060862162876629, 0.5071535513803129, 0.5071535513803129, 0.61593263014434, 0.30796631507217, 0.77844061852916, 0.8471093713480305, 0.18730358996242102, 0.5619107698872631, 0.37460717992484205, 0.8471093713480305, 0.5732198540301569, 0.2866099270150784, 0.8846696672457598, 0.8725935322230832, 0.07584843454688661, 0.4550906072813197, 0.15169686909377322, 0.22754530364065986, 0.5468546882276872, 0.0683568360284609, 0.34178418014230455, 0.6828384617930247, 0.9395073115372113, 0.8998631068833491, 0.5294683089736386, 0.5294683089736386, 0.40078342813584983, 0.40078342813584983, 0.9873401994281984, 0.8471093713480305, 0.7685099887270394, 0.5877799179777571, 0.9116683265538584, 0.6963966736252247, 0.5718823750476233, 0.5718823750476233, 0.5969457167610729, 0.4387703459604398, 0.17550813838417592, 0.17550813838417592, 0.17550813838417592, 0.9664038159292458, 0.04026682566371858, 0.9351620031474984, 0.945595440696827, 0.372703788975853, 0.372703788975853, 0.7452891884528762, 0.8471093713480305, 0.7648848511852498, 0.7818270938300778, 0.5294683089736386, 0.2872884352576499, 0.2872884352576499, 0.2872884352576499, 0.9351620031474984, 0.3985929939269088, 0.0996482484817272, 0.3985929939269088, 0.5294683089736386, 0.7818270938300778, 0.5294683089736386, 0.5294683089736386, 0.46445047732733274, 0.23222523866366637, 0.23222523866366637, 0.23222523866366637, 0.8254910463224431, 0.7565644030964849, 0.5202545205111704, 0.5202545205111704, 0.4017942952855509, 0.4017942952855509, 0.7685099887270394, 0.37561056399575493, 0.5008140853276732, 0.06260176066595916, 0.1252035213319183, 0.9351620031474984, 0.5294683089736386, 0.5060862162876629], \"Term\": [\"able\", \"abuse\", \"abuse\", \"accept\", \"acceptable\", \"accusation\", \"accuse\", \"accuse\", \"action\", \"active\", \"activity\", \"actually\", \"actually\", \"ad\", \"adamant\", \"address\", \"admin\", \"admin\", \"admin\", \"administration\", \"admit\", \"afraid\", \"age\", \"agree\", \"agree\", \"allow\", \"allow\", \"also\", \"also\", \"also\", \"announcement\", \"announcement\", \"announcements_comment\", \"anonymous\", \"anti\", \"apologize\", \"appear\", \"application\", \"apply\", \"apply\", \"approach\", \"approve\", \"archive\", \"article\", \"available\", \"aware\", \"bad\", \"ban\", \"ban\", \"ban\", \"banner\", \"base\", \"basis\", \"bastion\", \"bastion\", \"bdsm\", \"bdsm\", \"behavior\", \"behaviors_intimidate\", \"behaviour\", \"belief\", \"bit\", \"blogpost\", \"bonus\", \"bother\", \"brag\", \"brigade\", \"bully\", \"bullying\", \"buy\", \"call\", \"call\", \"call\", \"cancerous\", \"care\", \"careful\", \"carry\", \"case\", \"case\", \"censor\", \"chamber\", \"check\", \"chillingeffect\", \"civilization\", \"claim\", \"claim\", \"clarification\", \"clarify\", \"clarify\", \"classification\", \"clear\", \"clearly\", \"clearly\", \"close\", \"clueless\", \"comment\", \"comment\", \"comment\", \"comment\", \"comment\", \"commit\", \"common\", \"commonly\", \"communication\", \"community\", \"community\", \"community\", \"community\", \"company\", \"companys\", \"compare\", \"complete\", \"concern\", \"concern\", \"condone\", \"confidential\", \"confirm\", \"conservative\", \"consider\", \"content\", \"content\", \"content\", \"content\", \"context\", \"copyright\", \"copyright\", \"copyright\", \"copyrighted_material\", \"copyrighted_material\", \"core\", \"corporate\", \"could\", \"cover\", \"create\", \"criticism\", \"cultural\", \"culture\", \"damn\", \"dark\", \"dautm\", \"dautm\", \"day\", \"day\", \"death\", \"decency\", \"decide\", \"decide\", \"decision\", \"dedicated\", \"deem\", \"deeply\", \"default\", \"defend\", \"define\", \"define\", \"definition\", \"degenerate\", \"deliberation\", \"depend\", \"describe\", \"despicable\", \"destiny\", \"destroy\", \"detail\", \"determination\", \"different\", \"differently\", \"difficult\", \"directly\", \"disclaimer\", \"discuss\", \"discuss\", \"discussion\", \"disturb\", \"dmca\", \"do\", \"do\", \"double\", \"downright\", \"drug\", \"early\", \"echo\", \"effectively\", \"efficiently\", \"effort\", \"else\", \"empty\", \"enforce\", \"enforce\", \"enough\", \"enough\", \"envision\", \"envision\", \"equal\", \"equally\", \"especially\", \"even\", \"even\", \"even\", \"exactly\", \"exactly\", \"example\", \"example\", \"example\", \"exist\", \"existence\", \"expect\", \"face\", \"fact\", \"fact\", \"fairness\", \"fat\", \"fatpeoplehate\", \"favourite\", \"fece\", \"feel\", \"figure\", \"fill\", \"find\", \"find\", \"find\", \"fire\", \"fix\", \"folly\", \"frequently\", \"generate\", \"get\", \"get\", \"give\", \"go\", \"go\", \"go\", \"gold\", \"good\", \"graphic\", \"great\", \"group\", \"group\", \"group\", \"grow\", \"guess\", \"guide\", \"hand\", \"handle\", \"happen\", \"happen\", \"happen\", \"happy\", \"harassment\", \"harassment\", \"harassment\", \"hard\", \"harm\", \"hate\", \"head\", \"hear\", \"highlight\", \"history\", \"hit\", \"hold\", \"honest\", \"honest\", \"hope\", \"http\", \"http\", \"http\", \"huge\", \"illegal\", \"illegal\", \"illegal\", \"imagery\", \"imagine\", \"implement\", \"imply\", \"importantly\", \"inbox\", \"include\", \"include\", \"include\", \"individual\", \"individual\", \"individual\", \"information\", \"information\", \"infringement\", \"infringing\", \"innocuous\", \"insincerely\", \"intend\", \"intention\", \"interpretation\", \"intimidated\", \"intimidation\", \"investor\", \"issue\", \"jurisdiction\", \"kill\", \"king\", \"know\", \"know\", \"know\", \"kotakuinaction\", \"krispykracker\", \"lack\", \"large\", \"law\", \"leak\", \"least\", \"legal\", \"legitimately\", \"let\", \"liable\", \"limit\", \"limited\", \"listing\", \"little\", \"live\", \"long\", \"lose\", \"low\", \"make\", \"make\", \"make\", \"make\", \"make\", \"many\", \"many\", \"many\", \"many\", \"may\", \"may\", \"maybe\", \"mean\", \"mean\", \"member\", \"mention\", \"mere\", \"message\", \"message\", \"minority\", \"miss\", \"mistake\", \"mod\", \"mod\", \"mod\", \"mod\", \"moderate\", \"moderator\", \"moment\", \"month\", \"month\", \"much\", \"much\", \"much\", \"much\", \"much\", \"must\", \"nazi\", \"need\", \"need\", \"negative\", \"neofag\", \"neogaf\", \"neogafinaction\", \"new\", \"new\", \"new\", \"news\", \"non\", \"notice\", \"nsfw\", \"nude\", \"obscene\", \"obscene\", \"odd\", \"offend\", \"offend\", \"offensive\", \"offensive\", \"offer\", \"offer\", \"often\", \"one\", \"one\", \"online\", \"opinion\", \"opinion\", \"opted\", \"other\", \"other\", \"other\", \"outline\", \"outright\", \"owner\", \"people\", \"people\", \"people\", \"perhaps\", \"perhaps\", \"person\", \"person\", \"personally\", \"personally\", \"picture\", \"place\", \"plan\", \"plan\", \"plan\", \"platform\", \"platform\", \"platform\", \"point\", \"point\", \"policy\", \"policy\", \"policy\", \"policy\", \"policy\", \"politic\", \"politic\", \"political\", \"popular\", \"portion\", \"possible\", \"post\", \"post\", \"post\", \"precisely\", \"presume\", \"principle\", \"private\", \"problem\", \"prohibit\", \"prohibition\", \"promise\", \"promote\", \"promote\", \"proper\", \"propose\", \"protect\", \"public\", \"publication\", \"publicly\", \"put\", \"qgyh\", \"question\", \"question\", \"question\", \"racism\", \"rapidly\", \"rather\", \"read\", \"real\", \"really\", \"reasonable\", \"reasoning\", \"recent\", \"redditblog\", \"redditor\", \"regard\", \"regard\", \"remember\", \"removal\", \"remove\", \"remove\", \"remove\", \"remove\", \"report\", \"reprehensible\", \"repulsive\", \"require\", \"respond\", \"result\", \"revenue\", \"ridiculous\", \"right\", \"right\", \"roadcam\", \"rule\", \"rule\", \"rule\", \"rule\", \"say\", \"say\", \"say\", \"say\", \"say\", \"say\", \"search\", \"section\", \"see\", \"see\", \"see\", \"see\", \"seem\", \"sense\", \"sentiment\", \"set\", \"shadowban\", \"shadowbanne\", \"shit\", \"shitredditsay\", \"showcase\", \"side\", \"silence\", \"simply\", \"simply\", \"site\", \"site\", \"slap\", \"small\", \"social\", \"sound\", \"spamme\", \"spammer\", \"speak\", \"specific\", \"specific\", \"specific\", \"speech\", \"squatter\", \"staff\", \"standard\", \"state\", \"state\", \"statement\", \"statement\", \"still\", \"still\", \"sub\", \"sub\", \"sub\", \"sub\", \"subject\", \"subreddit\", \"subreddit\", \"subreddit\", \"subreddit\", \"subsequently\", \"suicidal\", \"suicide\", \"suicide\", \"support\", \"support\", \"surely\", \"system\", \"take\", \"take\", \"take\", \"takedown\", \"talk\", \"talk\", \"tell\", \"term\", \"thing\", \"thing\", \"thing\", \"thing\", \"think\", \"think\", \"think\", \"thought\", \"thread\", \"threaten\", \"threatened\", \"tolerance\", \"top\", \"top\", \"transparency\", \"trip\", \"truly\", \"try\", \"type\", \"unacceptable\", \"understand\", \"understand\", \"unwanted\", \"use\", \"use\", \"use\", \"use\", \"user\", \"user\", \"username\", \"vague\", \"value\", \"value\", \"vast\", \"veto\", \"violate\", \"vision\", \"vote\", \"want\", \"want\", \"want\", \"warrant\", \"way\", \"way\", \"way\", \"weapon\", \"website\", \"weight\", \"welcome\", \"well\", \"well\", \"well\", \"well\", \"whatnot\", \"whole\", \"work\", \"work\", \"world\", \"world\", \"worth\", \"would\", \"would\", \"would\", \"would\", \"wrist\", \"wrong\", \"young\"]}, \"R\": 30, \"lambda.step\": 0.01, \"plot.opts\": {\"xlab\": \"PC1\", \"ylab\": \"PC2\"}, \"topic.order\": [8, 7, 6, 15, 5, 16, 11, 20, 1, 19, 10, 17, 13, 12, 9, 2, 14, 18, 4, 3]};\n",
              "\n",
              "function LDAvis_load_lib(url, callback){\n",
              "  var s = document.createElement('script');\n",
              "  s.src = url;\n",
              "  s.async = true;\n",
              "  s.onreadystatechange = s.onload = callback;\n",
              "  s.onerror = function(){console.warn(\"failed to load library \" + url);};\n",
              "  document.getElementsByTagName(\"head\")[0].appendChild(s);\n",
              "}\n",
              "\n",
              "if(typeof(LDAvis) !== \"undefined\"){\n",
              "   // already loaded: just create the visualization\n",
              "   !function(LDAvis){\n",
              "       new LDAvis(\"#\" + \"ldavis_el1741402711592596003625535724\", ldavis_el1741402711592596003625535724_data);\n",
              "   }(LDAvis);\n",
              "}else if(typeof define === \"function\" && define.amd){\n",
              "   // require.js is available: use it to load d3/LDAvis\n",
              "   require.config({paths: {d3: \"https://d3js.org/d3.v5\"}});\n",
              "   require([\"d3\"], function(d3){\n",
              "      window.d3 = d3;\n",
              "      LDAvis_load_lib(\"https://cdn.jsdelivr.net/gh/bmabey/pyLDAvis@3.3.1/pyLDAvis/js/ldavis.v3.0.0.js\", function(){\n",
              "        new LDAvis(\"#\" + \"ldavis_el1741402711592596003625535724\", ldavis_el1741402711592596003625535724_data);\n",
              "      });\n",
              "    });\n",
              "}else{\n",
              "    // require.js not available: dynamically load d3 & LDAvis\n",
              "    LDAvis_load_lib(\"https://d3js.org/d3.v5.js\", function(){\n",
              "         LDAvis_load_lib(\"https://cdn.jsdelivr.net/gh/bmabey/pyLDAvis@3.3.1/pyLDAvis/js/ldavis.v3.0.0.js\", function(){\n",
              "                 new LDAvis(\"#\" + \"ldavis_el1741402711592596003625535724\", ldavis_el1741402711592596003625535724_data);\n",
              "            })\n",
              "         });\n",
              "}\n",
              "</script>"
            ],
            "text/plain": [
              "PreparedData(topic_coordinates=              x         y  topics  cluster       Freq\n",
              "topic                                                \n",
              "7     -0.057841  0.106420       1        1  18.627010\n",
              "6      0.049275  0.206286       2        1  14.511339\n",
              "5      0.072099 -0.004270       3        1  13.147792\n",
              "14     0.314765 -0.059448       4        1  11.511148\n",
              "4      0.244137 -0.028859       5        1   7.238240\n",
              "15    -0.081068  0.069235       6        1   6.406793\n",
              "10    -0.018256  0.054843       7        1   6.122944\n",
              "19    -0.035319 -0.087249       8        1   4.238796\n",
              "0     -0.025338 -0.000135       9        1   3.619301\n",
              "18    -0.084254 -0.098009      10        1   3.583739\n",
              "9     -0.052103 -0.008081      11        1   2.964958\n",
              "16    -0.015961  0.018516      12        1   2.616089\n",
              "12     0.000160  0.024863      13        1   2.339271\n",
              "11    -0.088886 -0.192691      14        1   1.687354\n",
              "8     -0.031322  0.003085      15        1   0.588235\n",
              "1     -0.040074 -0.000498      16        1   0.341181\n",
              "13    -0.039575  0.000053      17        1   0.250994\n",
              "17    -0.041773 -0.001377      18        1   0.193120\n",
              "3     -0.034332 -0.001341      19        1   0.005856\n",
              "2     -0.034332 -0.001341      20        1   0.005841, topic_info=           Term       Freq      Total Category  logprob  loglift\n",
              "26       people  35.000000  35.000000  Default  30.0000  30.0000\n",
              "333         ban  22.000000  22.000000  Default  29.0000  29.0000\n",
              "55         feel  11.000000  11.000000  Default  28.0000  28.0000\n",
              "462        user  24.000000  24.000000  Default  27.0000  27.0000\n",
              "233        need  14.000000  14.000000  Default  26.0000  26.0000\n",
              "..          ...        ...        ...      ...      ...      ...\n",
              "25        owner   0.000139   1.268039  Topic20  -6.9838   0.6300\n",
              "26       people   0.000139  35.395825  Topic20  -6.9838  -2.6991\n",
              "27   permission   0.000139   0.914419  Topic20  -6.9838   0.9569\n",
              "28          pic   0.000139   0.914419  Topic20  -6.9838   0.9569\n",
              "29        stuff   0.000139   0.914419  Topic20  -6.9838   0.9569\n",
              "\n",
              "[967 rows x 6 columns], token_table=      Topic      Freq        Term\n",
              "term                             \n",
              "0         7  0.847109        able\n",
              "101       4  0.637296       abuse\n",
              "101       5  0.398310       abuse\n",
              "293      12  0.949751      accept\n",
              "208       3  0.615682  acceptable\n",
              "...     ...       ...         ...\n",
              "207       9  0.062602       would\n",
              "207      13  0.125204       would\n",
              "1052      8  0.935162       wrist\n",
              "1034     10  0.529468       wrong\n",
              "837       3  0.506086       young\n",
              "\n",
              "[621 rows x 3 columns], R=30, lambda_step=0.01, plot_opts={'xlab': 'PC1', 'ylab': 'PC2'}, topic_order=[8, 7, 6, 15, 5, 16, 11, 20, 1, 19, 10, 17, 13, 12, 9, 2, 14, 18, 4, 3])"
            ]
          },
          "metadata": {},
          "execution_count": 42
        }
      ]
    },
    {
      "cell_type": "markdown",
      "source": [
        "#**Topic Modeling for 'Content Policy Update' in r/announcements, 2015:**"
      ],
      "metadata": {
        "id": "3uduTWqN9v9Y"
      }
    },
    {
      "cell_type": "markdown",
      "source": [
        "###**Preparing the data:**"
      ],
      "metadata": {
        "id": "x2mwvcuPf2BK"
      }
    },
    {
      "cell_type": "code",
      "source": [
        "data2015 = content15.comment.values.tolist()\n",
        "data2015 = [re.sub('\\s+', ' ', sent) for sent in data2015]\n",
        "data2015 = [re.sub(\"\\'\",\" \", sent) for sent in data2015]"
      ],
      "metadata": {
        "id": "JEfNL3PyeBuO"
      },
      "execution_count": null,
      "outputs": []
    },
    {
      "cell_type": "code",
      "source": [
        "data_words2015 = list(sent_to_words(data2015))\n",
        "print(data_words2015[:1])"
      ],
      "metadata": {
        "id": "1yOtF7nlgfR0",
        "colab": {
          "base_uri": "https://localhost:8080/"
        },
        "outputId": "ce88bcd0-7503-4e82-ecd1-cf37e5745a67"
      },
      "execution_count": null,
      "outputs": [
        {
          "output_type": "stream",
          "name": "stdout",
          "text": [
            "[['today', 'in', 'addition', 'to', 'applying', 'quarantines', 'we', 'are', 'banning', 'handful', 'of', 'communities', 'that', 'exist', 'solely', 'to', 'annoy', 'other', 'redditors', 'prevent', 'us', 'from', 'improving', 'reddit', 'and', 'generally', 'make', 'reddit', 'worse', 'for', 'everyone', 'else', 'our', 'most', 'important', 'policy', 'over', 'the', 'last', 'ten', 'years', 'has', 'been', 'to', 'allow', 'just', 'about', 'anything', 'so', 'long', 'as', 'it', 'does', 'not', 'prevent', 'others', 'from', 'enjoying', 'reddit', 'for', 'what', 'it', 'is', 'the', 'best', 'place', 'online', 'to', 'have', 'truly', 'authentic', 'conversations', 'which', 'communities', 'have', 'been', 'banned']]\n"
          ]
        }
      ]
    },
    {
      "cell_type": "markdown",
      "source": [
        "###**Building bigrams and trigrams:**"
      ],
      "metadata": {
        "id": "HpK7uahbf6ZI"
      }
    },
    {
      "cell_type": "code",
      "source": [
        "bigram2015 = gensim.models.Phrases(data_words2015, min_count = 5, threshold = 100) \n",
        "trigram2015 = gensim.models.Phrases(bigram2015[data_words2015], threshold = 100) \n",
        "bigram_mod2015 = gensim.models.phrases.Phraser(bigram2015)\n",
        "trigram_mod2015 = gensim.models.phrases.Phraser(trigram2015)"
      ],
      "metadata": {
        "colab": {
          "base_uri": "https://localhost:8080/"
        },
        "id": "VF1mz-Te4TRY",
        "outputId": "7f30cab2-4602-40bc-f57e-a72720de70c8"
      },
      "execution_count": null,
      "outputs": [
        {
          "output_type": "stream",
          "name": "stderr",
          "text": [
            "/usr/local/lib/python3.7/dist-packages/gensim/models/phrases.py:598: UserWarning: For a faster implementation, use the gensim.models.phrases.Phraser class\n",
            "  warnings.warn(\"For a faster implementation, use the gensim.models.phrases.Phraser class\")\n"
          ]
        }
      ]
    },
    {
      "cell_type": "markdown",
      "source": [
        "###**Removing stopwords, making bigrams and trigrams, and lemmatizing:**"
      ],
      "metadata": {
        "id": "YFBehSRygHN8"
      }
    },
    {
      "cell_type": "code",
      "source": [
        "def make_bigrams2015(texts):\n",
        "    return [bigram_mod2015[doc] for doc in texts]\n",
        "\n",
        "def make_trigrams2015(texts):\n",
        "    return [trigram_mod2015[doc] for doc in texts]\n",
        "\n",
        "def lemmatization2015(texts, allowed_postags = ['NOUN', 'ADJ', 'VERB', 'ADV']):\n",
        "    \"\"\"https://spacy.io/api/annotation\"\"\"\n",
        "    texts_out = []\n",
        "    for sent in texts:\n",
        "        doc = nlp(\" \".join(sent)) \n",
        "        texts_out.append([token.lemma_ for token in doc if token.pos_ in allowed_postags])\n",
        "    return texts_out"
      ],
      "metadata": {
        "id": "VXVQqRQI4oFT"
      },
      "execution_count": null,
      "outputs": []
    },
    {
      "cell_type": "code",
      "source": [
        "#bigrams, stopwords, lemmatize for 2015\n",
        "data_words_nostops2015 = remove_stopwords(data_words2015)\n",
        "data_words_bigrams2015 = make_bigrams2015(data_words_nostops2015)\n",
        "data_words_trigrams2015 = make_trigrams2015(data_words_bigrams2015)\n",
        "data_lemmatized2015 = lemmatization2015(data_words_trigrams2015, allowed_postags = ['NOUN', 'ADJ', 'VERB', 'ADV'])\n",
        "print(data_lemmatized2015[:1])"
      ],
      "metadata": {
        "id": "LBrlEWml4v5z",
        "colab": {
          "base_uri": "https://localhost:8080/"
        },
        "outputId": "05e6de5b-3da5-4b1e-f1ff-8023f1750ff3"
      },
      "execution_count": null,
      "outputs": [
        {
          "output_type": "stream",
          "name": "stdout",
          "text": [
            "[['today', 'addition', 'community', 'exist_solely', 'annoy', 'redditors_prevent_us', 'improve', 'generally_make', 'bad', 'important', 'policy', 'last', 'year', 'allow', 'long', 'prevent', 'other', 'enjoy', 'good', 'place', 'online', 'truly_authentic_conversation', 'community', 'ban']]\n"
          ]
        }
      ]
    },
    {
      "cell_type": "markdown",
      "source": [
        "###**Creating dictionary and corpus:**"
      ],
      "metadata": {
        "id": "I_Qsoqm9aVWh"
      }
    },
    {
      "cell_type": "code",
      "source": [
        "#creating dictionary, corpus, freq for 2015\n",
        "id2word2015 = corpora.Dictionary(data_lemmatized2015)\n",
        "texts2015 = data_lemmatized2015\n",
        "corpus2015 = [id2word2015.doc2bow(text) for text in texts2015]\n",
        "print(corpus2015[:1])"
      ],
      "metadata": {
        "id": "-rXNhBwz5EVY",
        "colab": {
          "base_uri": "https://localhost:8080/"
        },
        "outputId": "fed117f0-52ff-4929-a9bf-225aa93e4c2e"
      },
      "execution_count": null,
      "outputs": [
        {
          "output_type": "stream",
          "name": "stdout",
          "text": [
            "[[(0, 1), (1, 1), (2, 1), (3, 1), (4, 1), (5, 2), (6, 1), (7, 1), (8, 1), (9, 1), (10, 1), (11, 1), (12, 1), (13, 1), (14, 1), (15, 1), (16, 1), (17, 1), (18, 1), (19, 1), (20, 1), (21, 1), (22, 1)]]\n"
          ]
        }
      ]
    },
    {
      "cell_type": "markdown",
      "source": [
        "###**Build the LDA Model**"
      ],
      "metadata": {
        "id": "JCn6X8BbgTff"
      }
    },
    {
      "cell_type": "code",
      "source": [
        "lda_model2015 = gensim.models.ldamodel.LdaModel(corpus = corpus2015,\n",
        "                                           id2word = id2word2015,\n",
        "                                           num_topics = 20, \n",
        "                                           random_state = 100,\n",
        "                                           update_every = 1,\n",
        "                                           chunksize = 30,\n",
        "                                           passes = 200,\n",
        "                                           alpha = 'auto',\n",
        "                                           per_word_topics = True)"
      ],
      "metadata": {
        "id": "wBoqt9OT5dFG"
      },
      "execution_count": null,
      "outputs": []
    },
    {
      "cell_type": "markdown",
      "source": [
        "##**View the topics for 'Content Policy Update' in r/announcements, 2015:**"
      ],
      "metadata": {
        "id": "40NQJkaXgX_W"
      }
    },
    {
      "cell_type": "code",
      "source": [
        "#give us the topics\n",
        "pprint(lda_model2015.print_topics())\n",
        "doc_lda2015 = lda_model2015[corpus2015]"
      ],
      "metadata": {
        "colab": {
          "base_uri": "https://localhost:8080/"
        },
        "id": "8aCtUBST5vA1",
        "outputId": "01b82982-01b4-478c-dd24-f02d77e81c5f"
      },
      "execution_count": null,
      "outputs": [
        {
          "output_type": "stream",
          "name": "stdout",
          "text": [
            "[(0,\n",
            "  '0.076*\"decide\" + 0.073*\"use\" + 0.037*\"threaten\" + 0.037*\"vague\" + '\n",
            "  '0.028*\"encourage\" + 0.021*\"bully\" + 0.021*\"constitute\" + 0.016*\"around\" + '\n",
            "  '0.015*\"action\" + 0.014*\"realize\"'),\n",
            " (1,\n",
            "  '0.114*\"ban\" + 0.061*\"sub\" + 0.058*\"community\" + 0.051*\"subreddit\" + '\n",
            "  '0.039*\"bad\" + 0.035*\"people\" + 0.033*\"annoy\" + 0.030*\"rule\" + '\n",
            "  '0.022*\"exist_solely\" + 0.022*\"know\"'),\n",
            " (2,\n",
            "  '0.036*\"brigade\" + 0.030*\"harass\" + 0.025*\"time\" + 0.022*\"child\" + '\n",
            "  '0.021*\"little\" + 0.017*\"speech\" + 0.017*\"free\" + 0.016*\"leave\" + '\n",
            "  '0.016*\"redditor\" + 0.015*\"update\"'),\n",
            " (3,\n",
            "  '0.033*\"understand\" + 0.022*\"problem\" + 0.022*\"maybe\" + 0.020*\"think\" + '\n",
            "  '0.019*\"solely\" + 0.018*\"harmful\" + 0.017*\"simple\" + 0.017*\"respect\" + '\n",
            "  '0.016*\"behavior\" + 0.014*\"drawing\"'),\n",
            " (4,\n",
            "  '0.034*\"break\" + 0.024*\"soon\" + 0.022*\"great\" + 0.021*\"correct\" + '\n",
            "  '0.020*\"continue\" + 0.017*\"shitredditsay\" + 0.017*\"hate\" + 0.015*\"dark\" + '\n",
            "  '0.014*\"thousand\" + 0.014*\"full\"'),\n",
            " (5,\n",
            "  '0.023*\"story\" + 0.022*\"delete\" + 0.021*\"clearly\" + 0.021*\"news\" + '\n",
            "  '0.020*\"opinion\" + 0.020*\"thread\" + 0.019*\"large\" + 0.018*\"mod\" + '\n",
            "  '0.018*\"comment\" + 0.014*\"non\"'),\n",
            " (6,\n",
            "  '0.030*\"list\" + 0.028*\"controversial\" + 0.021*\"spend\" + 0.020*\"fall\" + '\n",
            "  '0.020*\"violation\" + 0.015*\"next\" + 0.015*\"amount\" + 0.014*\"interpret\" + '\n",
            "  '0.014*\"rewrite\" + 0.012*\"point\"'),\n",
            " (7,\n",
            "  '0.123*\"still\" + 0.052*\"page\" + 0.033*\"yet\" + 0.028*\"front\" + 0.018*\"tool\" + '\n",
            "  '0.018*\"else\" + 0.015*\"logic\" + 0.012*\"rape\" + 0.012*\"value\" + 0.012*\"seek\"'),\n",
            " (8,\n",
            "  '0.061*\"quarantine\" + 0.054*\"average_redditor\" + 0.047*\"content\" + '\n",
            "  '0.045*\"community\" + 0.043*\"change\" + 0.031*\"post\" + 0.031*\"pretty\" + '\n",
            "  '0.031*\"offensive\" + 0.022*\"would\" + 0.020*\"upsetting\"'),\n",
            " (9,\n",
            "  '0.061*\"user\" + 0.032*\"word\" + 0.026*\"expect\" + 0.024*\"protect\" + '\n",
            "  '0.021*\"small\" + 0.019*\"grow\" + 0.018*\"essentially\" + 0.018*\"seem\" + '\n",
            "  '0.018*\"read\" + 0.017*\"mean\"'),\n",
            " (10,\n",
            "  '0.058*\"policy\" + 0.055*\"content\" + 0.047*\"say\" + 0.034*\"would\" + '\n",
            "  '0.028*\"user\" + 0.021*\"new\" + 0.021*\"reason\" + 0.020*\"comment\" + '\n",
            "  '0.020*\"make\" + 0.018*\"place\"'),\n",
            " (11,\n",
            "  '0.053*\"try\" + 0.028*\"run\" + 0.026*\"quarantine\" + 0.025*\"information\" + '\n",
            "  '0.024*\"email\" + 0.024*\"represent\" + 0.023*\"easily\" + 0.023*\"deserve\" + '\n",
            "  '0.019*\"handful\" + 0.014*\"positive\"'),\n",
            " (12,\n",
            "  '0.034*\"worldnews\" + 0.030*\"hope\" + 0.028*\"redditor\" + 0.027*\"exactly\" + '\n",
            "  '0.024*\"agree\" + 0.021*\"kill\" + 0.021*\"ctk\" + 0.021*\"adult\" + 0.021*\"back\" + '\n",
            "  '0.020*\"direct\"'),\n",
            " (13,\n",
            "  '0.065*\"offensive\" + 0.054*\"real\" + 0.039*\"racist\" + 0.028*\"force\" + '\n",
            "  '0.027*\"email\" + 0.022*\"hard\" + 0.020*\"see\" + 0.019*\"end\" + 0.019*\"link\" + '\n",
            "  '0.019*\"purpose\"'),\n",
            " (14,\n",
            "  '0.057*\"many\" + 0.046*\"actually\" + 0.037*\"let\" + 0.031*\"fact\" + 0.029*\"new\" '\n",
            "  '+ 0.028*\"literally\" + 0.020*\"manipulation\" + 0.018*\"rid\" + 0.018*\"minute\" + '\n",
            "  '0.017*\"talk\"'),\n",
            " (15,\n",
            "  '0.030*\"content\" + 0.027*\"take\" + 0.025*\"well\" + 0.025*\"find\" + '\n",
            "  '0.022*\"policy\" + 0.021*\"much\" + 0.020*\"harassment\" + 0.019*\"comment\" + '\n",
            "  '0.019*\"shit\" + 0.018*\"get\"'),\n",
            " (16,\n",
            "  '0.027*\"bullshit\" + 0.024*\"guy\" + 0.024*\"stop\" + 0.022*\"censorship\" + '\n",
            "  '0.022*\"vote\" + 0.022*\"absolutely\" + 0.021*\"come\" + 0.020*\"fuck\" + '\n",
            "  '0.018*\"open\" + 0.017*\"already\"'),\n",
            " (17,\n",
            "  '0.210*\"go\" + 0.055*\"far\" + 0.036*\"actual\" + 0.030*\"personally\" + '\n",
            "  '0.020*\"understand\" + 0.019*\"honest\" + 0.016*\"glad\" + 0.014*\"however\" + '\n",
            "  '0.011*\"variant\" + 0.011*\"probably\"'),\n",
            " (18,\n",
            "  '0.139*\"get\" + 0.099*\"create\" + 0.038*\"least\" + 0.033*\"bother\" + '\n",
            "  '0.029*\"show\" + 0.023*\"first\" + 0.021*\"turn\" + 0.019*\"extremely\" + '\n",
            "  '0.018*\"unpopular\" + 0.014*\"raid\"'),\n",
            " (19,\n",
            "  '0.155*\"really\" + 0.059*\"seem\" + 0.048*\"opt\" + 0.045*\"set\" + 0.044*\"ignore\" '\n",
            "  '+ 0.025*\"offend\" + 0.018*\"thing\" + 0.013*\"warn\" + 0.012*\"find\" + '\n",
            "  '0.011*\"add\"')]\n"
          ]
        }
      ]
    },
    {
      "cell_type": "markdown",
      "source": [
        "###**Get perplexity score and coherence score:**"
      ],
      "metadata": {
        "id": "vZr72Qicg6Iq"
      }
    },
    {
      "cell_type": "code",
      "source": [
        "print('\\nPerplexity: ', lda_model2015.log_perplexity(corpus2015))\n",
        "coherence_model_lda2015 = CoherenceModel(model = lda_model2015, texts = data_lemmatized2015, dictionary = id2word2015, coherence = 'c_v')\n",
        "coherence_lda2015 = coherence_model_lda2015.get_coherence()\n",
        "print('\\nCoherence Score: ', coherence_lda2015)"
      ],
      "metadata": {
        "colab": {
          "base_uri": "https://localhost:8080/"
        },
        "id": "bPwNTqj5fPWW",
        "outputId": "6c4f9dee-87ac-4319-8fb8-900bdcda9cb0"
      },
      "execution_count": null,
      "outputs": [
        {
          "output_type": "stream",
          "name": "stdout",
          "text": [
            "\n",
            "Perplexity:  -7.276842279325897\n",
            "\n",
            "Coherence Score:  0.40848219445192446\n"
          ]
        }
      ]
    },
    {
      "cell_type": "markdown",
      "source": [
        "##**Visualize the topics for 'Content Policy Update' in r/announcements, 2015:**"
      ],
      "metadata": {
        "id": "q17jv5Y7gxuH"
      }
    },
    {
      "cell_type": "code",
      "source": [
        "pyLDAvis.enable_notebook()\n",
        "lda2015_prepared = gensimvis.prepare(lda_model2015, corpus2015, id2word2015)\n",
        "lda2015_prepared"
      ],
      "metadata": {
        "colab": {
          "base_uri": "https://localhost:8080/"
        },
        "id": "ZbuPFyFoP5Y5",
        "outputId": "62efcb0d-0e4d-434b-eb14-917ab1c0359a"
      },
      "execution_count": null,
      "outputs": [
        {
          "output_type": "stream",
          "name": "stderr",
          "text": [
            "/usr/local/lib/python3.7/dist-packages/pyLDAvis/_prepare.py:247: FutureWarning: In a future version of pandas all arguments of DataFrame.drop except for the argument 'labels' will be keyword-only\n",
            "  by='saliency', ascending=False).head(R).drop('saliency', 1)\n"
          ]
        },
        {
          "output_type": "execute_result",
          "data": {
            "text/html": [
              "\n",
              "<link rel=\"stylesheet\" type=\"text/css\" href=\"https://cdn.jsdelivr.net/gh/bmabey/pyLDAvis@3.3.1/pyLDAvis/js/ldavis.v1.0.0.css\">\n",
              "\n",
              "\n",
              "<div id=\"ldavis_el1741402710903660329075961296\"></div>\n",
              "<script type=\"text/javascript\">\n",
              "\n",
              "var ldavis_el1741402710903660329075961296_data = {\"mdsDat\": {\"x\": [-0.36137953595507427, -0.20850722481059383, -0.10662455868634481, 0.08410293873568638, 0.07440230399570405, -0.11305144755966216, 0.06207355900011274, 0.06686297528308188, 0.07203628307646215, 0.01755513094181794, 0.05382417307952829, 0.02648921455241411, 0.05523280415377286, 0.03412609316092874, 0.05093969110239245, 0.03641570574933973, 0.028697564119830266, 0.04088336197086539, 0.03569927776189918, 0.050221690327838985], \"y\": [-0.24989618811538913, 0.2651007010520033, 0.19363124175076982, -0.07500134373484209, -0.05426871443239564, -0.015214181713902892, -0.022329534400769693, -0.029081256235501424, -0.03064757434915586, 0.03176244197728497, -0.012241585421451397, -0.036489344670269507, -0.010529424045882578, 0.038161100540669166, 0.0023733884653144733, 0.009934085238480333, -0.014452519235811007, 0.004070831116745692, 0.025235724910546847, -0.02011784869644367], \"topics\": [1, 2, 3, 4, 5, 6, 7, 8, 9, 10, 11, 12, 13, 14, 15, 16, 17, 18, 19, 20], \"cluster\": [1, 1, 1, 1, 1, 1, 1, 1, 1, 1, 1, 1, 1, 1, 1, 1, 1, 1, 1, 1], \"Freq\": [23.00311372679448, 15.026927264456466, 9.292348401729763, 8.048513872873231, 6.130847991785264, 4.611803382872415, 4.543338387516743, 3.56261684410721, 3.2153248243330594, 2.925266107058553, 2.462847636530312, 2.3223621299110553, 2.3183913428018466, 2.1369813837964124, 2.0685399314658093, 1.8883811800625545, 1.7297581885027409, 1.6948473509287347, 1.5401776810175085, 1.4776123714558393]}, \"tinfo\": {\"Term\": [\"ban\", \"community\", \"go\", \"sub\", \"content\", \"quarantine\", \"get\", \"user\", \"subreddit\", \"policy\", \"really\", \"say\", \"still\", \"bad\", \"people\", \"would\", \"offensive\", \"new\", \"annoy\", \"list\", \"use\", \"average_redditor\", \"create\", \"rule\", \"comment\", \"brigade\", \"thing\", \"find\", \"change\", \"decide\", \"ban\", \"sub\", \"subreddit\", \"bad\", \"people\", \"annoy\", \"rule\", \"exist_solely\", \"know\", \"want\", \"improve\", \"generally_make\", \"even\", \"redditors_prevent_us\", \"look\", \"never\", \"violate\", \"feel\", \"banning_handful\", \"today\", \"tell\", \"simply\", \"transparency\", \"addition\", \"sure\", \"remove\", \"example\", \"group\", \"rather\", \"matter\", \"community\", \"coontown\", \"thing\", \"give\", \"could\", \"list\", \"quarantine\", \"make\", \"say\", \"reason\", \"place\", \"right\", \"way\", \"good\", \"enough\", \"clear\", \"start\", \"keep\", \"long\", \"allow\", \"provide\", \"need\", \"view\", \"year\", \"censor\", \"prevent\", \"enjoy\", \"thank\", \"certain\", \"admin\", \"bring\", \"may\", \"click\", \"truly_authentic_conversation\", \"message\", \"top\", \"happen\", \"choose\", \"policy\", \"new\", \"user\", \"content\", \"would\", \"comment\", \"make\", \"mean\", \"also\", \"ever\", \"exist\", \"take\", \"well\", \"harassment\", \"shit\", \"pornography\", \"sexual\", \"safety\", \"define\", \"harm\", \"standard\", \"engage\", \"conversation\", \"illegal\", \"porn\", \"corporate\", \"hear\", \"demean\", \"character\", \"nsfw\", \"http\", \"involuntary\", \"act\", \"express\", \"generally\", \"continued\", \"liberal\", \"exception\", \"permission\", \"action\", \"big\", \"see\", \"safe\", \"abuse\", \"find\", \"much\", \"platform\", \"incite\", \"image\", \"idea\", \"get\", \"content\", \"comment\", \"policy\", \"vague\", \"also\", \"use\", \"brigade\", \"harass\", \"time\", \"child\", \"little\", \"speech\", \"leave\", \"considered_extremely\", \"apply\", \"definition\", \"loli\", \"crackertown\", \"prohibit\", \"support\", \"control\", \"can\", \"acceptable\", \"away\", \"entire\", \"play\", \"become\", \"worry\", \"free\", \"fucking\", \"produce\", \"less\", \"love\", \"awful\", \"kiketown\", \"blow\", \"update\", \"behavior\", \"redditor\", \"hurt\", \"fuck\", \"think\", \"bullshit\", \"guy\", \"stop\", \"censorship\", \"vote\", \"absolutely\", \"open\", \"already\", \"write\", \"basically\", \"s\", \"step\", \"actively\", \"must\", \"completely\", \"lie\", \"constantly\", \"life\", \"order\", \"mind\", \"board\", \"fatpeoplehate\", \"advertiser\", \"decision\", \"infringement\", \"law\", \"racial\", \"whole\", \"host\", \"future\", \"point\", \"come\", \"fuck\", \"update\", \"average_redditor\", \"change\", \"pretty\", \"upsetting\", \"remember\", \"die\", \"restriction\", \"picture\", \"appear\", \"care\", \"specifically\", \"type\", \"regard\", \"always\", \"honestly\", \"filter\", \"post\", \"concept\", \"entail\", \"viewable\", \"current\", \"dramatically\", \"stick\", \"trust\", \"self\", \"photo\", \"source\", \"apartheid\", \"additional\", \"enforce\", \"stuff\", \"offensive\", \"quarantine\", \"content\", \"community\", \"would\", \"think\", \"image\", \"could\", \"break\", \"soon\", \"great\", \"correct\", \"continue\", \"shitredditsay\", \"hate\", \"dark\", \"thousand\", \"full\", \"buy\", \"move\", \"lol\", \"money\", \"silence\", \"shitty\", \"morally\", \"due\", \"objectionable\", \"sad\", \"lose\", \"politically\", \"throw\", \"destroy\", \"sale\", \"advertisement\", \"explain\", \"sole\", \"cool\", \"advertise\", \"downvote\", \"worldnews\", \"exactly\", \"agree\", \"ctk\", \"kill\", \"adult\", \"back\", \"direct\", \"sound\", \"dentist\", \"remain\", \"hope\", \"somewhere\", \"man\", \"torture\", \"rip\", \"context\", \"handle\", \"consider\", \"interesting\", \"communitie\", \"average\", \"web\", \"lion\", \"poacher\", \"treat\", \"put\", \"aware\", \"bandwidth\", \"intentionally\", \"redditor\", \"come\", \"legal\", \"asshole\", \"problem\", \"maybe\", \"solely\", \"harmful\", \"simple\", \"respect\", \"draw\", \"wrong\", \"stay\", \"term\", \"perfectly\", \"merely\", \"okay\", \"ad\", \"cp\", \"clarification\", \"part\", \"annoyed\", \"course\", \"thought\", \"age\", \"demand\", \"fictional\", \"understand\", \"drawing\", \"annoying\", \"chew\", \"circlejerk\", \"cook\", \"country\", \"legal\", \"behavior\", \"think\", \"minor\", \"story\", \"delete\", \"clearly\", \"news\", \"opinion\", \"thread\", \"large\", \"mod\", \"non\", \"blatant\", \"chance\", \"rest\", \"default\", \"pretend\", \"hand\", \"american\", \"brief\", \"civility\", \"cloud\", \"commune\", \"controversy\", \"court\", \"dedication\", \"determination\", \"diversity\", \"general\", \"indian\", \"indiancountry\", \"medium\", \"name\", \"moderator\", \"claim\", \"comment\", \"plan\", \"post\", \"give\", \"also\", \"political\", \"go\", \"far\", \"actual\", \"personally\", \"honest\", \"glad\", \"however\", \"variant\", \"radar\", \"probably\", \"comms\", \"gross\", \"scare\", \"approach\", \"core\", \"thus\", \"vast\", \"digg\", \"anonymity\", \"bigot\", \"customer\", \"distateful\", \"edit\", \"ignorant\", \"negatively\", \"sly\", \"trick\", \"typey\", \"usp\", \"angry\", \"understand\", \"try\", \"run\", \"information\", \"represent\", \"easily\", \"deserve\", \"handful\", \"positive\", \"private\", \"related\", \"address\", \"datum\", \"verified\", \"obvious\", \"describe\", \"drama\", \"imo\", \"feefee\", \"disappointing\", \"former\", \"occasion\", \"package\", \"ribbon\", \"several\", \"unaffected\", \"pc\", \"size\", \"tolerate\", \"whatnot\", \"evidence\", \"email\", \"security\", \"annoying\", \"quarantine\", \"coontown\", \"still\", \"page\", \"yet\", \"front\", \"tool\", \"else\", \"logic\", \"rape\", \"seek\", \"supposedly\", \"value\", \"cuck\", \"commercial\", \"either\", \"inconvenient\", \"abusive\", \"ancient\", \"attention\", \"bunk\", \"complicit\", \"consistently\", \"couple\", \"dirt\", \"exact\", \"feeling\", \"fph\", \"goddamn\", \"motive\", \"numerous\", \"pass\", \"expect\", \"protect\", \"small\", \"grow\", \"essentially\", \"read\", \"explanation\", \"ton\", \"comfortable\", \"mention\", \"develop\", \"internet\", \"ok\", \"hell\", \"easy\", \"wall\", \"registration\", \"space\", \"aim\", \"butt\", \"coating\", \"difference\", \"radfem\", \"righteous\", \"sugar\", \"tongue\", \"enter\", \"huge\", \"word\", \"expose\", \"user\", \"seem\", \"mean\", \"many\", \"actually\", \"fact\", \"literally\", \"manipulation\", \"rid\", \"minute\", \"badly\", \"refuse\", \"push\", \"different\", \"involvement\", \"ability\", \"apparent\", \"declare\", \"publicly\", \"secretly\", \"vaguely\", \"formal\", \"taken\", \"srs\", \"absent\", \"balance\", \"doxx\", \"exempt\", \"harrass\", \"offender\", \"simmer\", \"strike\", \"afraid\", \"let\", \"talk\", \"downvote\", \"new\", \"real\", \"racist\", \"hard\", \"end\", \"link\", \"purpose\", \"questionable\", \"sense\", \"material\", \"verify\", \"sponsor\", \"force\", \"activity\", \"carry\", \"crusade\", \"puppet\", \"replace\", \"utter\", \"offensive\", \"accident\", \"asinine\", \"growth\", \"identity\", \"meaning\", \"pedophile\", \"undermine\", \"email\", \"button\", \"account\", \"security\", \"ever\", \"see\", \"limit\", \"really\", \"opt\", \"set\", \"ignore\", \"seem\", \"warn\", \"discriminate\", \"mostly\", \"popular\", \"regular\", \"thoughtful\", \"traditionally\", \"unorthodox\", \"suck\", \"mess\", \"original\", \"permanent\", \"silly\", \"offend\", \"add\", \"thing\", \"find\", \"punishment\", \"shadowbanne\", \"declaration\", \"desk\", \"mom\", \"poll\", \"sit\", \"study\", \"interesting\", \"future\", \"spam\", \"private\", \"simply\", \"may\", \"apply\", \"sale\", \"create\", \"least\", \"bother\", \"first\", \"turn\", \"extremely\", \"unpopular\", \"raid\", \"get\", \"pick\", \"complain\", \"ekjp\", \"gild\", \"send\", \"compliance\", \"department\", \"hugboxes\", \"otherwise\", \"show\", \"punishment\", \"shadowbanne\", \"declaration\", \"desk\", \"mom\", \"poll\", \"sit\", \"study\", \"generate\", \"in\", \"out\", \"serious\", \"place\", \"truly_authentic_conversation\", \"provide\", \"claim\", \"opinion\", \"datum\", \"arbitrary\", \"hard\", \"start\", \"read\", \"decide\", \"threaten\", \"encourage\", \"bully\", \"constitute\", \"around\", \"harasse\", \"violence\", \"realize\", \"use\", \"strugglefucke\", \"center\", \"encouragement\", \"fairly\", \"hatred\", \"nit\", \"picking\", \"pre\", \"vague\", \"action\", \"incite\", \"person\", \"other\", \"exist\", \"punishment\", \"shadowbanne\", \"go\", \"declaration\", \"desk\", \"mom\", \"group\", \"information\", \"still\", \"hell\", \"turn\", \"controversial\", \"violation\", \"next\", \"amount\", \"interpret\", \"rewrite\", \"spend\", \"dodge\", \"eventually\", \"hide\", \"prove\", \"ridiculous\", \"comrade\", \"flip\", \"flopping\", \"lawful\", \"position\", \"ream\", \"slippery\", \"fall\", \"cat\", \"chamber\", \"circle\", \"complacent\", \"devalue\", \"echo\", \"jerk\", \"troll\", \"vision\", \"wait\", \"list\", \"point\"], \"Freq\": [110.0, 64.0, 22.0, 58.0, 55.0, 35.0, 17.0, 23.0, 49.0, 45.0, 11.0, 30.0, 12.0, 38.0, 34.0, 33.0, 11.0, 16.0, 32.0, 13.0, 8.0, 11.0, 7.0, 29.0, 23.0, 12.0, 13.0, 16.0, 8.0, 5.0, 109.88783916176273, 58.35266620793864, 49.04484133232955, 37.86562238212487, 34.01848528584021, 31.673515810207334, 29.03067667369227, 21.541811208642834, 21.35419233291626, 17.16253790707693, 16.355312166848137, 15.789171756252868, 15.552010816963502, 15.008363425556166, 14.616282377365282, 11.732322920081938, 10.988945234279582, 10.584523979231468, 9.821565613303168, 8.83202619170194, 8.189064090563061, 7.816793407895496, 7.603641770300149, 7.485073861575634, 7.2182826088167245, 7.21707092862473, 6.864906690313029, 6.538996120966932, 6.509869141512723, 6.304385048471826, 55.41451624942147, 13.857537302945023, 11.842314411956933, 11.126779800125822, 11.85566038963625, 11.000996539972933, 20.842580671190785, 17.573344595613698, 29.71849687016059, 12.901627298914356, 11.619627048069557, 11.243942951142001, 10.723164526606185, 10.717145206757193, 9.794120897929027, 9.449371533389956, 9.448862792432903, 9.234653544159334, 9.028907096207048, 8.593637593845413, 8.545408013345533, 8.181416166823771, 7.892564421887245, 7.613214059041469, 7.369922176794487, 6.900598093986316, 6.819427536517317, 6.173776651308963, 5.777055998585888, 5.696425831856983, 5.3745117857830085, 5.259967118202884, 5.2512604973307555, 5.140405960010539, 4.494754488695093, 3.7208378757970917, 3.671932513818546, 3.552371648679747, 36.771294668048185, 13.445988328459327, 17.688917215627857, 34.33564927537998, 21.128351888484612, 12.741516907573754, 12.456623143838808, 8.0636983154401, 6.924879924757869, 5.908454761743187, 6.038194255719133, 10.66549271885438, 9.833843806024333, 7.605181553288468, 7.238518023349763, 6.722289152174869, 6.593319644084826, 6.362143685504743, 5.710098875237612, 5.536716725084154, 5.330022284497995, 4.2460075460395155, 4.1170384003862655, 4.1170384003862655, 3.790405289258062, 3.7554062179950702, 3.4827261726079306, 3.2916118024024676, 3.2916118024024676, 3.2916118024024676, 2.964978691274265, 2.595153987635129, 2.470536620544258, 2.4661850232002744, 2.4661850232002744, 2.4661850232002744, 2.4661850232002744, 2.4083912147736495, 2.350597587565421, 5.324840525681776, 2.139551368416883, 6.790238077078492, 5.871651450934711, 3.877864186678791, 9.66483010652569, 8.229427461603862, 3.261271131227946, 3.088772964410346, 4.126736121631671, 5.435139102428354, 7.08672442071593, 11.85274504047634, 7.573617657940711, 8.560960718160846, 4.123220847185388, 5.308427213116113, 3.685719771110266, 12.206478391357525, 9.953833705957335, 8.330772589808694, 7.572240317312838, 7.227988472565335, 5.705914351789909, 5.303378393851073, 5.1014062866398415, 4.900945716425637, 4.445995996665028, 4.319505934700207, 3.810755229443916, 3.684265795324161, 3.3558045679157074, 3.35153741892285, 3.1683648765307333, 3.1683648765307333, 3.1683648765307333, 2.874709496060705, 2.75707675836819, 2.668470867701682, 2.4764420997661247, 5.679389153430427, 2.415491685539639, 2.4154915285783725, 2.3588087342285435, 2.004202782570763, 2.004202782570763, 2.004202782570763, 2.004202782570763, 5.140418381599696, 3.974488432894396, 5.300064627591337, 2.854358212160321, 5.0250348988570686, 4.336035525682248, 7.044472804124653, 6.18285005541535, 6.103507949532668, 5.685259314402407, 5.662856527989733, 5.648198564136821, 4.5489804033695895, 4.465623366933051, 4.0103146989160985, 3.412703166220864, 3.408687996540707, 3.2103482750434145, 3.206030610595501, 3.0217620370143043, 2.9273609524759214, 2.815090437894136, 2.7044258955338942, 2.593760635794756, 2.593760635794756, 2.593760635794756, 2.391406461996203, 2.3870892758008866, 2.387089036674588, 2.276424255188047, 2.1657589954489094, 2.1657589954489094, 1.9961489835363724, 1.8854837237972344, 1.8854837237972344, 1.8854837237972344, 3.609252070867778, 5.453251327438075, 5.173047913239135, 2.9724123471362502, 10.368157337343938, 8.238563150933645, 6.020231286538924, 3.8722963994855455, 3.657761898842289, 3.339814929215366, 3.01966913331335, 2.8331270366380066, 2.727952844442768, 2.1556484070409896, 2.1556482271631854, 2.1052351342037188, 2.051026439703779, 2.051026439703779, 2.051026439703779, 2.0006131668665086, 6.026246760057549, 1.945438348681725, 1.945438348681725, 1.945438348681725, 1.735642189149276, 1.6454302326839354, 1.5329308766797445, 1.435634432907094, 1.435634432907094, 1.3310122856920796, 1.3310122856920796, 1.112924748726933, 0.8129168126069471, 0.8129168126069471, 3.1722155841928217, 5.959784789554716, 11.708770061186728, 9.0358247485711, 8.60641613799079, 4.194555040072382, 1.982741227780433, 1.7277755931505305, 1.7608979322083806, 6.545453386344738, 4.648223720743836, 4.217113179969563, 3.93056100133119, 3.872439097432939, 3.259609446290299, 3.150972798178128, 2.7703773560325957, 2.7090712121891407, 2.709071034981731, 2.4295061445084976, 2.378990691464938, 2.2585780793548453, 2.15374447946261, 2.1499412540352645, 1.7080398452536865, 1.7080398452536865, 1.7080398452536865, 1.7080398452536865, 1.7080398452536865, 1.7080398452536865, 1.482793190232834, 1.482793101629129, 1.482793101629129, 1.482793101629129, 1.482793101629129, 1.4284746003656337, 1.4284746003656337, 1.4284746003656337, 1.4284746003656337, 2.430483443373087, 5.042679825061443, 4.019357766292069, 3.610837330615413, 3.1652363274362028, 3.1652363274362028, 3.113153840410053, 3.113153840410053, 2.9175919623425526, 2.8365780952351716, 2.5394213650426094, 2.0658663951491767, 4.494555746656288, 2.011387758549428, 1.960723729818761, 1.6659631491997975, 1.6659630102442435, 1.6659630102442435, 1.483353874145139, 1.4400518496222454, 1.4400518496222454, 1.3855730740669427, 1.3349091842918295, 1.3349091842918295, 1.2877922739887464, 1.2877922739887464, 1.2877922739887464, 1.7637538151223298, 0.7597586674955654, 0.7597586674955654, 0.7597586674955654, 4.185194272242643, 2.4098161302483914, 1.6379330348419696, 1.2914795985703413, 3.003630356781731, 2.907728943210715, 2.5865161939834342, 2.4906147804124177, 2.343632430211754, 2.247731016640738, 1.8768285022445885, 1.6339442368335104, 1.3589433868280765, 1.3589433868280765, 1.3589433868280765, 1.3589433868280765, 1.358943261418227, 1.3092529946099603, 1.3092529946099603, 1.3092529946099603, 1.3092529946099603, 1.2630417224373611, 1.2630417224373611, 1.2630417224373611, 1.2630417224373611, 1.2630417224373611, 1.2630417224373611, 4.496361472722268, 1.9044833806224004, 1.8768285022445885, 0.6492550680399832, 0.6492550680399832, 0.6492550680399832, 0.6492550680399832, 1.7145233258092851, 2.1245993624424004, 2.63814391755701, 1.1895301055315568, 2.8698183005558753, 2.634024729426955, 2.5941477882358, 2.555769161765941, 2.5068322770201714, 2.4677047213825856, 2.313727440258739, 2.2380246668083754, 1.697534786058631, 1.4646871855437718, 1.4226134310992034, 1.0721767631742651, 1.0330492075366793, 1.0330492075366793, 1.0330492075366793, 0.8637832859264787, 0.8637832859264787, 0.8637832859264787, 0.8637832859264787, 0.8637832859264787, 0.8637832859264787, 0.8637832859264787, 0.8637832859264787, 0.8637832859264787, 0.8637832859264787, 0.8637832859264787, 0.8637832859264787, 0.8637832859264787, 0.8637832859264787, 0.8637832859264787, 1.5010627345504066, 1.4165756745943665, 2.2068277279578603, 0.9912967487253098, 1.3463469070367533, 1.2584236039752257, 1.2244147578519167, 1.0546920510614917, 21.64416687275838, 5.62271078405791, 3.678429694740187, 3.043702609227855, 1.9441736938034768, 1.6656049073910577, 1.3958548488765168, 1.1673869344032919, 1.087713199468399, 1.087713199468399, 0.8475358118287799, 0.8475358118287799, 0.8475358118287799, 0.8475358118287799, 0.8475358118287799, 0.8475358118287799, 0.8475358118287799, 0.8475358118287799, 0.8475358118287799, 0.8475358118287799, 0.8475358118287799, 0.8475358118287799, 0.8475358118287799, 0.8475358118287799, 0.8475358118287799, 0.8475358118287799, 0.8475358118287799, 0.8475358118287799, 0.8475358118287799, 0.5777858013444331, 2.0850164746909123, 5.121907984460893, 2.7022323307226066, 2.469353854282137, 2.297141225315666, 2.2700678560359826, 2.2527984222053243, 1.7994554034432193, 1.3943644791981216, 1.320348362620564, 1.2104836688388707, 1.2104836688388707, 1.050886425960474, 1.0125358225448615, 1.0125358225448615, 0.6627500309727163, 0.6627500309727163, 0.6627500309727163, 0.6627500309727163, 0.6627499403917949, 0.6627499403917949, 0.6627499403917949, 0.6627499403917949, 0.6627499403917949, 0.6627499403917949, 0.6627499403917949, 0.6184070467005317, 0.6184070467005317, 0.6184070467005317, 0.6184070467005317, 0.6184070467005317, 2.3388984866049816, 0.9768735702960877, 1.1277901717319951, 2.487547938158656, 1.308153000265117, 11.942700960064414, 5.095320672991699, 3.2210451943159364, 2.760431194311489, 1.782067678191934, 1.7031116338503824, 1.4241883363530785, 1.1977789701977894, 1.1977789701977894, 1.1977789701977894, 1.1977789701977894, 0.6574805440538404, 0.6134901265645762, 0.6134901265645762, 0.6134901265645762, 0.6134901265645762, 0.6134901265645762, 0.6134901265645762, 0.6134901265645762, 0.6134901265645762, 0.6134901265645762, 0.6134901265645762, 0.6134901265645762, 0.6134901265645762, 0.6134901265645762, 0.6134901265645762, 0.6134901265645762, 0.6134901265645762, 0.6134901265645762, 0.6134901265645762, 2.350241051745005, 2.165063535124283, 1.9184021179706405, 1.7336468543243395, 1.6091252356609544, 1.5676909332301197, 1.4424314970914922, 1.2131219599645062, 1.0973193734557396, 1.0973193734557396, 1.0973193734557396, 1.0558851543752747, 1.0558851543752747, 1.0558851543752747, 1.0173521116234094, 1.0173521116234094, 0.8506581230028372, 1.4117327223166924, 0.6213486275510363, 0.6213486275510363, 0.6213486275510363, 0.6213486275510363, 0.6213486275510363, 0.6213486275510363, 0.6213486275510363, 0.6213486275510363, 0.6213486275510363, 0.6213486275510363, 2.8375199840228302, 0.5055462494181945, 5.466952435325184, 1.584334501812514, 1.515176699414409, 4.900559441936397, 3.941860327379063, 2.728429362327249, 2.463704699017276, 1.6913515023347767, 1.5857574777131505, 1.5665739815309756, 1.3934410123156122, 1.1785570519960706, 1.1036204762253827, 1.097978219260635, 0.986932425265152, 0.7971444184067615, 0.7971444184067615, 0.7971444184067615, 0.7971444184067615, 0.7971444184067615, 0.7971444184067615, 0.7971443377258675, 0.7971443377258675, 0.6240114895318452, 0.5822604177467728, 0.5822604177467728, 0.5822604177467728, 0.5822604177467728, 0.5822604177467728, 0.5822604177467728, 0.5822604177467728, 0.5822604177467728, 0.5822604177467728, 3.1702337428285263, 1.4395483682949073, 1.3980609616716442, 2.545708598384607, 4.299669509293026, 3.108754415519501, 1.7173658944966446, 1.5302756973380374, 1.4935646186540308, 1.4935644713459904, 1.4227129865918242, 1.0454338939897794, 1.0059588745428591, 0.9692476485508121, 0.9692476485508121, 2.182575439716342, 0.8104357339927621, 0.8104357339927621, 0.8104357339927621, 0.8104357339927621, 0.8104357339927621, 0.8104357339927621, 5.164826129340868, 0.4816420149206707, 0.4816420149206707, 0.4816420149206707, 0.4816420149206707, 0.4816420149206707, 0.4816420149206707, 0.4816420149206707, 2.1060481761637395, 0.4759478594441883, 1.1841730993783313, 0.48163899510584157, 1.4696161612863425, 1.5608615603922025, 0.483529914767044, 11.222523273406157, 3.5022302085785713, 3.230801878288637, 3.1910043720070878, 4.284186843376051, 0.9087581231779893, 0.5948228744298584, 0.5948228744298584, 0.5948228744298584, 0.5948228744298584, 0.5948228744298584, 0.5948228744298584, 0.5948228744298584, 0.5550247272106443, 0.5550247272106443, 0.48359316901548705, 0.4515832914954144, 0.4515832914954144, 1.788999782710771, 0.8212757317126445, 1.2785544627640293, 0.8660334208480275, 0.026418377391516215, 0.026418377391516215, 0.026418377391516215, 0.026418377391516215, 0.026418377391516215, 0.026418377391516215, 0.026418377391516215, 0.026418377391516215, 0.02641838582490654, 0.026418383716558958, 0.026418383716558958, 0.02641838160821138, 0.02641838160821138, 0.02641838160821138, 0.02641838160821138, 0.02641838160821138, 6.999547829778427, 2.680083831954036, 2.362563140965078, 1.6176154694812923, 1.4785742527840646, 1.374655664329484, 1.294407857318978, 1.014265709762628, 9.841137896143328, 0.5975670517226431, 0.5975669856171755, 0.5975669856171755, 0.5975669856171755, 0.5975669856171755, 0.5975669856171755, 0.5975669856171755, 0.5204029986738229, 0.597598848452596, 2.0894045072251104, 0.02654025453228387, 0.02654025453228387, 0.02654025453228387, 0.02654025453228387, 0.02654025453228387, 0.02654025453228387, 0.02654025453228387, 0.02654025453228387, 0.02654025453228387, 0.02654025453228387, 0.02654025453228387, 0.0265402586638756, 0.026540256598079733, 0.026540256598079733, 0.026540256598079733, 0.026540256598079733, 0.026540256598079733, 0.026540256598079733, 0.026540256598079733, 0.026540256598079733, 0.026540256598079733, 0.026540256598079733, 4.900541498615197, 2.400179675290865, 1.8058287534587896, 1.3529869179069236, 1.3529869179069236, 1.0103205750673352, 0.900145022282293, 0.900145022282293, 0.900145022282293, 4.699680280639663, 0.5891852648059085, 0.44730327683957377, 0.44730327683957377, 0.44730327683957377, 0.44730327683957377, 0.44730327683957377, 0.44730327683957377, 0.44730327683957377, 2.3599484642700475, 0.964014565801209, 0.5268772527294645, 0.5248457720496892, 0.8182991244723986, 0.5311525112390382, 0.026167990982707664, 0.026167990982707664, 0.554162362474109, 0.026167990982707664, 0.026167990982707664, 0.026167990982707664, 0.026167996614529343, 0.026167992859981556, 0.026167992859981556, 0.026167992859981556, 0.026167992859981556, 1.7039289519552154, 1.207102967094262, 0.946753538735095, 0.9132143167224681, 0.850832458796111, 0.850832458796111, 1.3274414305661573, 0.6403586977326319, 0.6403586977326319, 0.6403586977326319, 0.6403586977326319, 0.6403586977326319, 0.6403586977326319, 0.6403586977326319, 0.6403586977326319, 0.6403586977326319, 0.6403586977326319, 0.6403586977326319, 0.6403586977326319, 1.2237283240019456, 0.5012783245075958, 0.5012783245075958, 0.5012783245075958, 0.5012783245075958, 0.5012783245075958, 0.5012783245075958, 0.5012783245075958, 0.5012783245075958, 0.5012783245075958, 0.5012783245075958, 1.8465447896950116, 0.743916657659404], \"Total\": [110.0, 64.0, 22.0, 58.0, 55.0, 35.0, 17.0, 23.0, 49.0, 45.0, 11.0, 30.0, 12.0, 38.0, 34.0, 33.0, 11.0, 16.0, 32.0, 13.0, 8.0, 11.0, 7.0, 29.0, 23.0, 12.0, 13.0, 16.0, 8.0, 5.0, 110.51889410549649, 58.98372115167238, 49.67589628064225, 38.496677325858606, 34.649540231682295, 32.30457075394107, 29.66173161742601, 22.172866152376574, 21.98524728255753, 17.79359285357954, 16.986367110581877, 16.420226699986607, 16.183065764433596, 15.639418369289913, 15.24733732109903, 12.363377868755732, 11.62000017801333, 11.215578927535098, 10.452620557036916, 9.463081139001202, 8.820119041769507, 8.447848358614806, 8.234696714033898, 8.116128805309383, 7.849337552550473, 7.848125878692858, 7.495961634046778, 7.170051075995577, 7.140924088811985, 6.93543999400659, 64.61329366216272, 15.76730996545593, 13.725505443873784, 12.986226726224967, 14.208919607260002, 13.45633257063877, 35.601824665062495, 30.613474889354954, 30.350521055695232, 13.533651487217872, 12.25165123843887, 11.875967146853336, 11.355188727216163, 11.3491694001261, 10.426145088156135, 10.081395718924606, 10.080886981834366, 9.86667773909341, 9.660931283912879, 9.225661782884785, 9.177432205557587, 8.813440357254871, 8.524588607421896, 8.245238246377136, 8.001946362329138, 7.532622285058331, 7.451451722051968, 6.805800843974644, 6.409080200419363, 6.3284500199129115, 6.006535977822873, 5.891991315065457, 5.8832846884865875, 5.772430147610986, 5.126778674229744, 4.352862061331742, 4.3039567077851375, 4.1843958342143965, 45.91658132689865, 16.596006362145825, 23.758318542536887, 55.769851338435444, 33.176192220119496, 23.076256610986945, 30.613474889354954, 13.417158384667136, 14.012016214574068, 7.9819182457566855, 10.655878353487017, 11.297366458315345, 10.465717569754968, 8.237055289980567, 7.870391771667379, 7.354162888866967, 7.225193384695981, 6.994017422196841, 6.34197261192971, 6.168590461776252, 5.9618960211900935, 4.877881285252891, 4.748912139249544, 4.748912140814712, 4.422279025950161, 4.387279962025915, 4.114599922373636, 3.923485541265744, 3.9234855430136215, 3.9234855430136215, 3.59685247767351, 3.22702772612824, 3.1024103600052197, 3.098058759892371, 3.098058759892371, 3.0980587620635514, 3.0980587664393098, 3.0402649514657454, 2.9824713242575167, 6.894560840928724, 2.7714251081108667, 8.954796520364738, 8.173975977677781, 5.182768802665137, 16.082516282833762, 13.46183014624218, 4.387928497773735, 4.221355962849199, 6.447691782491014, 11.006854853535682, 17.533195801787937, 55.769851338435444, 23.076256610986945, 45.91658132689865, 7.0888750571648265, 14.012016214574068, 8.99110580576555, 12.842544710240528, 10.589900022009685, 8.966838910430926, 8.208306635536369, 7.864054792219714, 6.341980673379622, 5.939444712672287, 5.737472608313372, 5.5370120486311745, 5.082062318562073, 4.955572263169634, 4.446821547604614, 4.320332123294218, 3.991870891141069, 3.9876037395450785, 3.804431196319429, 3.8044312137631353, 3.8044312171925196, 3.510775832591438, 3.39314308014061, 3.304537185555044, 3.1125084282689395, 7.159350431181793, 3.0515580043608526, 3.0515578517670696, 2.9948750632913184, 2.64026909862311, 2.640269115927418, 2.640269115927418, 2.640269115927418, 8.707968452455274, 6.699685738015054, 10.08516180905983, 4.456109439974218, 10.79322053868994, 9.518824944657716, 7.683116188499413, 6.821493439289437, 6.7421513336715355, 6.323902706860849, 6.301499917163045, 6.286841946209893, 5.1876237893617185, 5.104266753593196, 4.648958098021632, 4.051346565784355, 4.047331385026397, 3.848991677286844, 3.8446739983201983, 3.660405421608652, 3.566004338468049, 3.4537338273719813, 3.343069285517398, 3.2324040178678257, 3.2324040178678257, 3.232404030313214, 3.030049858401869, 3.0257326667306086, 3.0257324213523558, 2.915067637261117, 2.804402377521979, 2.8044023899673673, 2.6347923823927775, 2.5241271104492653, 2.5241271233696936, 2.5241271262483, 4.96954840783733, 8.465547424138176, 10.79322053868994, 8.707968452455274, 11.009035649897775, 8.879441466318136, 6.661109609929348, 4.513174717702457, 4.298640231584173, 3.980693260459358, 3.660547445867184, 3.4740053673573015, 3.3688311613389628, 2.7965267223636894, 2.796526539717019, 2.746113499998886, 2.6919047618967435, 2.691904762374306, 2.69190477660243, 2.6414914872584583, 7.9834403637013835, 2.586316661235559, 2.586316661235559, 2.586316661235559, 2.37652050170311, 2.2863085452377696, 2.173809189233579, 2.076512748965649, 2.076512765725493, 1.9718906039089892, 1.9718906155963425, 1.7538030612807676, 1.4537951251607821, 1.4537951251607821, 6.000015646163271, 11.7373123697407, 35.601824665062495, 55.769851338435444, 64.61329366216272, 33.176192220119496, 9.518824944657716, 6.447691782491014, 14.208919607260002, 7.188968354826239, 5.291738681495628, 4.860628138550175, 4.574075959911801, 4.5159540666185105, 3.903124406671924, 3.794487756758738, 3.413892314613206, 3.352586178914227, 3.352586001646024, 3.0730211135127647, 3.0225056530474355, 2.9020930398127294, 2.7972594401515676, 2.7934562151371525, 2.3515548038342966, 2.351554807399811, 2.351554807399811, 2.3515548142579537, 2.351554826088528, 2.351554837327861, 2.126308148813444, 2.1263080602097393, 2.1263080602097393, 2.1263080644264343, 2.1263080644264343, 2.071989558946244, 2.071989561772058, 2.071989561772058, 2.071989561772058, 4.444344606672634, 5.686088389176183, 4.662766354672229, 4.254245937317236, 3.8086448915509417, 3.8086448915509417, 3.756562404524792, 3.756562404524792, 3.56100053358832, 3.479986662180564, 3.1828299291573483, 2.709274965830917, 5.915006785086046, 2.654796324729963, 2.604132332329263, 2.309371723738194, 2.309371579264022, 2.3093715886210404, 2.126762438259878, 2.0834604162582626, 2.0834604249392403, 2.0289816419180307, 1.9783177656062003, 1.9783178057136739, 1.9312008381034858, 1.9312008381034858, 1.9312008381034858, 3.020938986307352, 1.403167231610305, 1.403167231610305, 1.403167231610305, 10.08516180905983, 8.465547424138176, 4.946075310896375, 3.610515055505989, 3.6477339656236674, 3.5518325818224863, 3.230619799975283, 3.1347183835784524, 2.987736044074332, 2.891834630503316, 2.520932124861707, 2.2780478463339255, 2.003046989994112, 2.003046989994112, 2.0030469949911063, 2.0030469984715538, 2.0030468645842623, 1.9533566005448613, 1.9533566033137268, 1.9533566033137268, 1.9533566033137268, 1.9071453256033966, 1.9071453256033966, 1.9071453256033966, 1.9071453256033966, 1.9071453256033966, 1.9071453256033966, 7.196014814132943, 3.324221829464891, 3.619286993352973, 1.2933586712060183, 1.2933586712060183, 1.2933586712060183, 1.2933586712060183, 4.946075310896375, 6.699685738015054, 9.518824944657716, 3.4295506448270086, 3.5193586667522525, 3.283565088386762, 3.243688161598704, 3.205309532304679, 3.1563726747636864, 3.117245077573527, 2.9632678048814522, 2.8875650257681826, 2.3470751422495724, 2.114227541734713, 2.0721537872901448, 1.721717136466669, 1.6825895674639697, 1.6825895714432515, 1.6825895805997413, 1.5133236421174203, 1.5133236421174203, 1.5133236421174203, 1.5133236421174203, 1.5133236421174203, 1.5133236421174203, 1.5133236421174203, 1.5133236421174203, 1.5133236421174203, 1.5133236421174203, 1.5133236421174203, 1.5133236421174203, 1.5133236421174203, 1.5133236421174203, 1.5133236421174203, 2.7133339230404054, 3.1257088136709643, 23.076256610986945, 2.414541982047808, 7.9834403637013835, 12.986226726224967, 14.012016214574068, 7.308655978395512, 22.82226648981718, 6.272816023046006, 4.328534932513212, 3.693807844479602, 2.5942789318240895, 2.3157101426428044, 2.0459600859292784, 1.8174921714560535, 1.7378184384564945, 1.73781844122536, 1.4976410470805268, 1.4976410470805268, 1.4976410470805268, 1.4976410470805268, 1.4976410470805268, 1.4976410470805268, 1.4976410470805268, 1.4976410470805268, 1.4976410470805268, 1.4976410470805268, 1.4976410470805268, 1.4976410470805268, 1.4976410470805268, 1.4976410470805268, 1.4976410470805268, 1.4976410470805268, 1.4976410470805268, 1.4976410470805268, 1.4976410470805268, 1.22789103659618, 7.196014814132943, 5.772044689681065, 3.3523690284700813, 3.1194905721906303, 2.947277926065028, 2.920204556594048, 2.9029351229546863, 2.449592104792724, 2.0445012078117264, 1.9704851011197329, 1.8606203665863457, 1.8606203701518602, 1.7010231293757747, 1.6626725202923365, 1.662672524028685, 1.3128867287201915, 1.3128867287201915, 1.3128867287201915, 1.312886735961261, 1.31288663813927, 1.31288663813927, 1.31288663813927, 1.31288663813927, 1.31288663813927, 1.31288663813927, 1.31288663813927, 1.268543744448007, 1.268543744448007, 1.268543744448007, 1.268543744448007, 1.268543744448007, 5.06690649489811, 2.0804723975313184, 3.619286993352973, 35.601824665062495, 15.76730996545593, 12.593071706431871, 5.745691420043028, 3.8714159385129325, 3.410801937125524, 2.432438413533272, 2.3534823717129982, 2.074559076599456, 1.8481497055391278, 1.8481497055391278, 1.8481497055391278, 1.8481497055391278, 1.3078512793951789, 1.2638608619059148, 1.2638608619059148, 1.2638608619059148, 1.2638608619059148, 1.2638608619059148, 1.2638608619059148, 1.2638608619059148, 1.2638608619059148, 1.2638608619059148, 1.2638608619059148, 1.2638608619059148, 1.2638608619059148, 1.2638608619059148, 1.2638608619059148, 1.2638608619059148, 1.2638608619059148, 1.2638608619059148, 1.2638608619059148, 3.0002377365006754, 2.815060218616127, 2.568398802162683, 2.383643541166123, 2.2591219414345356, 2.217687626202765, 2.092428202128568, 1.8631186411546623, 1.747316054645896, 1.7473160654824837, 1.7473160666280587, 1.7058818355654308, 1.7058818468915806, 1.7058818645899143, 1.6673488069503062, 1.6673488720157232, 1.5006548041929935, 2.627893387369395, 1.2713453087411923, 1.2713453087411923, 1.2713453087411923, 1.2713453087411923, 1.2713453087411923, 1.2713453087411923, 1.2713453087411923, 1.2713453087411923, 1.2713453087411923, 1.2713453087411923, 5.876864617715157, 1.1555429306083507, 23.758318542536887, 6.492099658155, 13.417158384667136, 5.552416670086324, 4.59371755846869, 3.380286589742315, 3.115561925402703, 2.343208726919189, 2.237614724106655, 2.2184312061153877, 2.045298252187768, 1.8304142765804834, 1.75547770437531, 1.7498354438450479, 1.6387896498495649, 1.4490016429911743, 1.4490016429911743, 1.4490016429911743, 1.4490016429911743, 1.4490016429911743, 1.4490016429911743, 1.44900156231028, 1.44900156231028, 1.275868714116258, 1.2341176423311855, 1.2341176423311855, 1.2341176423311855, 1.2341176423311855, 1.2341176423311855, 1.2341176423311855, 1.2341176423311855, 1.2341176423311855, 1.2341176423311855, 7.369305680610485, 3.8798172128901225, 4.444344606672634, 16.596006362145825, 4.951064632133005, 3.760149551379364, 2.368761051691123, 2.1816708168591017, 2.144959753860909, 2.1449596037840024, 2.0741081025108588, 1.696829016244189, 1.6573539932307597, 1.620642764469847, 1.6206427682061955, 3.8385543384861114, 1.4618308499117971, 1.4618308499117971, 1.4618308499117971, 1.4618308499117971, 1.4618308499117971, 1.4618308499117971, 11.7373123697407, 1.1330371308397056, 1.1330371308397056, 1.1330371308397056, 1.1330371308397056, 1.1330371308397056, 1.1330371308397056, 1.1330371308397056, 5.06690649489811, 1.9021635073470244, 4.892416061822168, 2.0804723975313184, 7.9819182457566855, 8.954796520364738, 2.7247890659430145, 11.875676877551761, 4.155383815554829, 3.8839554952388062, 3.8441579789833455, 6.492099658155, 1.5619117273235934, 1.2479764785754626, 1.2479764785754626, 1.2479764785754626, 1.2479764785754626, 1.2479764785754626, 1.2479764785754626, 1.2479764785754626, 1.2081783313562484, 1.2081783313562484, 1.1367467731610912, 1.1047368956410184, 1.1047368956410184, 7.818346969882055, 4.998461974898078, 13.725505443873784, 16.082516282833762, 1.0648493909254608, 1.0648493909254608, 1.0938563658572664, 1.0938563658572664, 1.0938563658572664, 1.0938563658572664, 1.0938563658572664, 1.0938563658572664, 2.0834604249392403, 2.5241271262483, 2.368491459464727, 1.9704851011197329, 8.447848358614806, 5.891991315065457, 5.5370120486311745, 2.1263080644264343, 7.652579562446338, 3.3331155646219472, 3.015594870078262, 2.2706472278982783, 2.131606013153007, 2.02768740266047, 1.9474395843238141, 1.6672974367674642, 17.533195801787937, 1.2505987787274795, 1.250598712622012, 1.250598712622012, 1.250598712622012, 1.250598712622012, 1.250598712622012, 1.250598712622012, 1.1734347256786593, 1.8967398243782945, 6.949928599542012, 1.0648493909254608, 1.0648493909254608, 1.0938563658572664, 1.0938563658572664, 1.0938563658572664, 1.0938563658572664, 1.0938563658572664, 1.0938563658572664, 1.0938563658572664, 1.0938563658572664, 1.0938563658572664, 2.4677982147750352, 12.25165123843887, 5.772430147610986, 9.177432205557587, 3.1257088136709643, 3.1563726747636864, 1.7010231293757747, 2.4016009640534146, 2.368761051691123, 10.080886981834366, 2.217687626202765, 5.553945490970625, 3.0535836686710915, 2.4592327575143926, 2.006390908461336, 2.0063909215971076, 1.6637245656217476, 1.5535490128367053, 1.5535490128367053, 1.5535490177417453, 8.99110580576555, 1.242589255360321, 1.1007072673939862, 1.1007072673939862, 1.1007072673939862, 1.1007072673939862, 1.1007072673939862, 1.1007072673939862, 1.1007072673939862, 7.0888750571648265, 6.894560840928724, 4.221355962849199, 4.98794655467356, 11.995505633955345, 10.655878353487017, 1.0648493909254608, 1.0648493909254608, 22.82226648981718, 1.0938563658572664, 1.0938563658572664, 1.0938563658572664, 7.170051075995577, 3.1194905721906303, 12.593071706431871, 1.7058818645899143, 2.131606013153007, 2.3612372307294125, 1.864411245868459, 1.604061817509292, 1.570522595496665, 1.508140737570308, 1.508140737570308, 2.6557934454606875, 1.2976669765068287, 1.2976669765068287, 1.2976669765068287, 1.2976669765068287, 1.2976669765068287, 1.2976669765068287, 1.2976669765068287, 1.2976669765068287, 1.2976669765068287, 1.2976669765068287, 1.2976669765068287, 1.2976669765068287, 2.612075194198468, 1.1585866032817926, 1.1585866032817926, 1.1585866032817926, 1.1585866032817926, 1.1585866032817926, 1.1585866032817926, 1.1585866032817926, 1.1585866032817926, 1.1585866032817926, 1.1585866032817926, 13.45633257063877, 4.96954840783733], \"Category\": [\"Default\", \"Default\", \"Default\", \"Default\", \"Default\", \"Default\", \"Default\", \"Default\", \"Default\", \"Default\", \"Default\", \"Default\", \"Default\", \"Default\", \"Default\", \"Default\", \"Default\", \"Default\", \"Default\", \"Default\", \"Default\", \"Default\", \"Default\", \"Default\", \"Default\", \"Default\", \"Default\", \"Default\", \"Default\", \"Default\", \"Topic1\", \"Topic1\", \"Topic1\", \"Topic1\", \"Topic1\", \"Topic1\", \"Topic1\", \"Topic1\", \"Topic1\", \"Topic1\", \"Topic1\", \"Topic1\", \"Topic1\", \"Topic1\", \"Topic1\", \"Topic1\", \"Topic1\", \"Topic1\", \"Topic1\", \"Topic1\", \"Topic1\", \"Topic1\", \"Topic1\", \"Topic1\", \"Topic1\", \"Topic1\", \"Topic1\", \"Topic1\", \"Topic1\", \"Topic1\", \"Topic1\", \"Topic1\", \"Topic1\", \"Topic1\", \"Topic1\", \"Topic1\", \"Topic1\", \"Topic1\", \"Topic2\", \"Topic2\", \"Topic2\", \"Topic2\", \"Topic2\", \"Topic2\", \"Topic2\", \"Topic2\", \"Topic2\", \"Topic2\", \"Topic2\", \"Topic2\", \"Topic2\", \"Topic2\", \"Topic2\", \"Topic2\", \"Topic2\", \"Topic2\", \"Topic2\", \"Topic2\", \"Topic2\", \"Topic2\", \"Topic2\", \"Topic2\", \"Topic2\", \"Topic2\", \"Topic2\", \"Topic2\", \"Topic2\", \"Topic2\", \"Topic2\", \"Topic2\", \"Topic2\", \"Topic2\", \"Topic2\", \"Topic2\", \"Topic2\", \"Topic2\", \"Topic2\", \"Topic2\", \"Topic2\", \"Topic3\", \"Topic3\", \"Topic3\", \"Topic3\", \"Topic3\", \"Topic3\", \"Topic3\", \"Topic3\", \"Topic3\", \"Topic3\", \"Topic3\", \"Topic3\", \"Topic3\", \"Topic3\", \"Topic3\", \"Topic3\", \"Topic3\", \"Topic3\", \"Topic3\", \"Topic3\", \"Topic3\", \"Topic3\", \"Topic3\", \"Topic3\", \"Topic3\", \"Topic3\", \"Topic3\", \"Topic3\", \"Topic3\", \"Topic3\", \"Topic3\", \"Topic3\", \"Topic3\", \"Topic3\", \"Topic3\", \"Topic3\", \"Topic3\", \"Topic3\", \"Topic3\", \"Topic3\", \"Topic3\", \"Topic3\", \"Topic3\", \"Topic3\", \"Topic3\", \"Topic3\", \"Topic4\", \"Topic4\", \"Topic4\", \"Topic4\", \"Topic4\", \"Topic4\", \"Topic4\", \"Topic4\", \"Topic4\", \"Topic4\", \"Topic4\", \"Topic4\", \"Topic4\", \"Topic4\", \"Topic4\", \"Topic4\", \"Topic4\", \"Topic4\", \"Topic4\", \"Topic4\", \"Topic4\", \"Topic4\", \"Topic4\", \"Topic4\", \"Topic4\", \"Topic4\", \"Topic4\", \"Topic4\", \"Topic4\", \"Topic4\", \"Topic4\", \"Topic4\", \"Topic4\", \"Topic4\", \"Topic4\", \"Topic4\", \"Topic5\", \"Topic5\", \"Topic5\", \"Topic5\", \"Topic5\", \"Topic5\", \"Topic5\", \"Topic5\", \"Topic5\", \"Topic5\", \"Topic5\", \"Topic5\", \"Topic5\", \"Topic5\", \"Topic5\", \"Topic5\", \"Topic5\", \"Topic5\", \"Topic5\", \"Topic5\", \"Topic5\", \"Topic5\", \"Topic5\", \"Topic5\", \"Topic5\", \"Topic5\", \"Topic5\", \"Topic5\", \"Topic5\", \"Topic5\", \"Topic5\", \"Topic5\", \"Topic5\", \"Topic5\", \"Topic6\", \"Topic6\", \"Topic6\", \"Topic6\", \"Topic6\", \"Topic6\", \"Topic6\", \"Topic6\", \"Topic6\", \"Topic6\", \"Topic6\", \"Topic6\", \"Topic6\", \"Topic6\", \"Topic6\", \"Topic6\", \"Topic6\", \"Topic6\", \"Topic6\", \"Topic6\", \"Topic6\", \"Topic6\", \"Topic6\", \"Topic6\", \"Topic6\", \"Topic6\", \"Topic6\", \"Topic6\", \"Topic6\", \"Topic6\", \"Topic6\", \"Topic6\", \"Topic6\", \"Topic6\", \"Topic6\", \"Topic6\", \"Topic6\", \"Topic6\", \"Topic6\", \"Topic7\", \"Topic7\", \"Topic7\", \"Topic7\", \"Topic7\", \"Topic7\", \"Topic7\", \"Topic7\", \"Topic7\", \"Topic7\", \"Topic7\", \"Topic7\", \"Topic7\", \"Topic7\", \"Topic7\", \"Topic7\", \"Topic7\", \"Topic7\", \"Topic7\", \"Topic7\", \"Topic7\", \"Topic7\", \"Topic7\", \"Topic7\", \"Topic7\", \"Topic7\", \"Topic7\", \"Topic7\", \"Topic7\", \"Topic7\", \"Topic7\", \"Topic8\", \"Topic8\", \"Topic8\", \"Topic8\", \"Topic8\", \"Topic8\", \"Topic8\", \"Topic8\", \"Topic8\", \"Topic8\", \"Topic8\", \"Topic8\", \"Topic8\", \"Topic8\", \"Topic8\", \"Topic8\", \"Topic8\", \"Topic8\", \"Topic8\", \"Topic8\", \"Topic8\", \"Topic8\", \"Topic8\", \"Topic8\", \"Topic8\", \"Topic8\", \"Topic8\", \"Topic8\", \"Topic8\", \"Topic8\", \"Topic8\", \"Topic8\", \"Topic8\", \"Topic8\", \"Topic9\", \"Topic9\", \"Topic9\", \"Topic9\", \"Topic9\", \"Topic9\", \"Topic9\", \"Topic9\", \"Topic9\", \"Topic9\", \"Topic9\", \"Topic9\", \"Topic9\", \"Topic9\", \"Topic9\", \"Topic9\", \"Topic9\", \"Topic9\", \"Topic9\", \"Topic9\", \"Topic9\", \"Topic9\", \"Topic9\", \"Topic9\", \"Topic9\", \"Topic9\", \"Topic9\", \"Topic9\", \"Topic9\", \"Topic9\", \"Topic9\", \"Topic9\", \"Topic9\", \"Topic9\", \"Topic10\", \"Topic10\", \"Topic10\", \"Topic10\", \"Topic10\", \"Topic10\", \"Topic10\", \"Topic10\", \"Topic10\", \"Topic10\", \"Topic10\", \"Topic10\", \"Topic10\", \"Topic10\", \"Topic10\", \"Topic10\", \"Topic10\", \"Topic10\", \"Topic10\", \"Topic10\", \"Topic10\", \"Topic10\", \"Topic10\", \"Topic10\", \"Topic10\", \"Topic10\", \"Topic10\", \"Topic10\", \"Topic10\", \"Topic10\", \"Topic10\", \"Topic10\", \"Topic10\", \"Topic10\", \"Topic10\", \"Topic10\", \"Topic10\", \"Topic10\", \"Topic11\", \"Topic11\", \"Topic11\", \"Topic11\", \"Topic11\", \"Topic11\", \"Topic11\", \"Topic11\", \"Topic11\", \"Topic11\", \"Topic11\", \"Topic11\", \"Topic11\", \"Topic11\", \"Topic11\", \"Topic11\", \"Topic11\", \"Topic11\", \"Topic11\", \"Topic11\", \"Topic11\", \"Topic11\", \"Topic11\", \"Topic11\", \"Topic11\", \"Topic11\", \"Topic11\", \"Topic11\", \"Topic11\", \"Topic11\", \"Topic11\", \"Topic12\", \"Topic12\", \"Topic12\", \"Topic12\", \"Topic12\", \"Topic12\", \"Topic12\", \"Topic12\", \"Topic12\", \"Topic12\", \"Topic12\", \"Topic12\", \"Topic12\", \"Topic12\", \"Topic12\", \"Topic12\", \"Topic12\", \"Topic12\", \"Topic12\", \"Topic12\", \"Topic12\", \"Topic12\", \"Topic12\", \"Topic12\", \"Topic12\", \"Topic12\", \"Topic12\", \"Topic12\", \"Topic12\", \"Topic12\", \"Topic12\", \"Topic12\", \"Topic12\", \"Topic12\", \"Topic12\", \"Topic13\", \"Topic13\", \"Topic13\", \"Topic13\", \"Topic13\", \"Topic13\", \"Topic13\", \"Topic13\", \"Topic13\", \"Topic13\", \"Topic13\", \"Topic13\", \"Topic13\", \"Topic13\", \"Topic13\", \"Topic13\", \"Topic13\", \"Topic13\", \"Topic13\", \"Topic13\", \"Topic13\", \"Topic13\", \"Topic13\", \"Topic13\", \"Topic13\", \"Topic13\", \"Topic13\", \"Topic13\", \"Topic13\", \"Topic13\", \"Topic14\", \"Topic14\", \"Topic14\", \"Topic14\", \"Topic14\", \"Topic14\", \"Topic14\", \"Topic14\", \"Topic14\", \"Topic14\", \"Topic14\", \"Topic14\", \"Topic14\", \"Topic14\", \"Topic14\", \"Topic14\", \"Topic14\", \"Topic14\", \"Topic14\", \"Topic14\", \"Topic14\", \"Topic14\", \"Topic14\", \"Topic14\", \"Topic14\", \"Topic14\", \"Topic14\", \"Topic14\", \"Topic14\", \"Topic14\", \"Topic14\", \"Topic14\", \"Topic14\", \"Topic15\", \"Topic15\", \"Topic15\", \"Topic15\", \"Topic15\", \"Topic15\", \"Topic15\", \"Topic15\", \"Topic15\", \"Topic15\", \"Topic15\", \"Topic15\", \"Topic15\", \"Topic15\", \"Topic15\", \"Topic15\", \"Topic15\", \"Topic15\", \"Topic15\", \"Topic15\", \"Topic15\", \"Topic15\", \"Topic15\", \"Topic15\", \"Topic15\", \"Topic15\", \"Topic15\", \"Topic15\", \"Topic15\", \"Topic15\", \"Topic15\", \"Topic15\", \"Topic15\", \"Topic15\", \"Topic16\", \"Topic16\", \"Topic16\", \"Topic16\", \"Topic16\", \"Topic16\", \"Topic16\", \"Topic16\", \"Topic16\", \"Topic16\", \"Topic16\", \"Topic16\", \"Topic16\", \"Topic16\", \"Topic16\", \"Topic16\", \"Topic16\", \"Topic16\", \"Topic16\", \"Topic16\", \"Topic16\", \"Topic16\", \"Topic16\", \"Topic16\", \"Topic16\", \"Topic16\", \"Topic16\", \"Topic16\", \"Topic16\", \"Topic16\", \"Topic16\", \"Topic16\", \"Topic16\", \"Topic17\", \"Topic17\", \"Topic17\", \"Topic17\", \"Topic17\", \"Topic17\", \"Topic17\", \"Topic17\", \"Topic17\", \"Topic17\", \"Topic17\", \"Topic17\", \"Topic17\", \"Topic17\", \"Topic17\", \"Topic17\", \"Topic17\", \"Topic17\", \"Topic17\", \"Topic17\", \"Topic17\", \"Topic17\", \"Topic17\", \"Topic17\", \"Topic17\", \"Topic17\", \"Topic17\", \"Topic17\", \"Topic17\", \"Topic17\", \"Topic17\", \"Topic17\", \"Topic17\", \"Topic17\", \"Topic17\", \"Topic17\", \"Topic17\", \"Topic17\", \"Topic18\", \"Topic18\", \"Topic18\", \"Topic18\", \"Topic18\", \"Topic18\", \"Topic18\", \"Topic18\", \"Topic18\", \"Topic18\", \"Topic18\", \"Topic18\", \"Topic18\", \"Topic18\", \"Topic18\", \"Topic18\", \"Topic18\", \"Topic18\", \"Topic18\", \"Topic18\", \"Topic18\", \"Topic18\", \"Topic18\", \"Topic18\", \"Topic18\", \"Topic18\", \"Topic18\", \"Topic18\", \"Topic18\", \"Topic18\", \"Topic18\", \"Topic18\", \"Topic18\", \"Topic18\", \"Topic18\", \"Topic18\", \"Topic18\", \"Topic18\", \"Topic18\", \"Topic18\", \"Topic18\", \"Topic19\", \"Topic19\", \"Topic19\", \"Topic19\", \"Topic19\", \"Topic19\", \"Topic19\", \"Topic19\", \"Topic19\", \"Topic19\", \"Topic19\", \"Topic19\", \"Topic19\", \"Topic19\", \"Topic19\", \"Topic19\", \"Topic19\", \"Topic19\", \"Topic19\", \"Topic19\", \"Topic19\", \"Topic19\", \"Topic19\", \"Topic19\", \"Topic19\", \"Topic19\", \"Topic19\", \"Topic19\", \"Topic19\", \"Topic19\", \"Topic19\", \"Topic19\", \"Topic19\", \"Topic19\", \"Topic19\", \"Topic20\", \"Topic20\", \"Topic20\", \"Topic20\", \"Topic20\", \"Topic20\", \"Topic20\", \"Topic20\", \"Topic20\", \"Topic20\", \"Topic20\", \"Topic20\", \"Topic20\", \"Topic20\", \"Topic20\", \"Topic20\", \"Topic20\", \"Topic20\", \"Topic20\", \"Topic20\", \"Topic20\", \"Topic20\", \"Topic20\", \"Topic20\", \"Topic20\", \"Topic20\", \"Topic20\", \"Topic20\", \"Topic20\", \"Topic20\", \"Topic20\", \"Topic20\"], \"logprob\": [30.0, 29.0, 28.0, 27.0, 26.0, 25.0, 24.0, 23.0, 22.0, 21.0, 20.0, 19.0, 18.0, 17.0, 16.0, 15.0, 14.0, 13.0, 12.0, 11.0, 10.0, 9.0, 8.0, 7.0, 6.0, 5.0, 4.0, 3.0, 2.0, 1.0, -2.171, -2.8039, -2.9777, -3.2364, -3.3435, -3.415, -3.5021, -3.8004, -3.8092, -4.0277, -4.0759, -4.1111, -4.1262, -4.1618, -4.1883, -4.4081, -4.4735, -4.511, -4.5859, -4.6921, -4.7676, -4.8142, -4.8418, -4.8575, -4.8938, -4.894, -4.944, -4.9927, -4.9971, -5.0292, -2.8556, -4.2416, -4.3988, -4.4611, -4.3976, -4.4725, -3.8334, -4.0041, -3.0529, -3.8873, -3.992, -4.0248, -4.0722, -4.0728, -4.1629, -4.1987, -4.1988, -4.2217, -4.2442, -4.2936, -4.2993, -4.3428, -4.3787, -4.4148, -4.4472, -4.513, -4.5249, -4.6243, -4.6908, -4.7048, -4.763, -4.7845, -4.7862, -4.8075, -4.9417, -5.1307, -5.1439, -5.177, -2.8399, -3.846, -3.5717, -2.9085, -3.394, -3.8998, -3.9224, -4.3573, -4.5095, -4.6683, -4.6465, -3.597, -3.6782, -3.9352, -3.9846, -4.0586, -4.0779, -4.1136, -4.2218, -4.2526, -4.2906, -4.518, -4.5489, -4.5489, -4.6315, -4.6408, -4.7162, -4.7726, -4.7726, -4.7726, -4.8771, -5.0104, -5.0596, -5.0613, -5.0613, -5.0613, -5.0613, -5.085, -5.1093, -4.2916, -5.2034, -4.0485, -4.1939, -4.6087, -3.6955, -3.8563, -4.7819, -4.8362, -4.5465, -4.2711, -4.0058, -3.4914, -3.9393, -3.8168, -4.5474, -4.2947, -4.6595, -3.3183, -3.5223, -3.7003, -3.7958, -3.8423, -4.0788, -4.152, -4.1908, -4.2309, -4.3283, -4.3572, -4.4825, -4.5162, -4.6096, -4.6109, -4.6671, -4.6671, -4.6671, -4.7643, -4.8061, -4.8388, -4.9135, -4.0835, -4.9384, -4.9384, -4.9621, -5.125, -5.125, -5.125, -5.125, -4.1832, -4.4404, -4.1526, -4.7714, -4.2059, -4.3533, -3.5959, -3.7264, -3.7393, -3.8103, -3.8142, -3.8168, -4.0332, -4.0517, -4.1593, -4.3206, -4.3218, -4.3818, -4.3831, -4.4423, -4.474, -4.5131, -4.5533, -4.595, -4.595, -4.595, -4.6763, -4.6781, -4.6781, -4.7255, -4.7754, -4.7754, -4.8569, -4.914, -4.914, -4.914, -4.2646, -3.8519, -3.9047, -4.4588, -2.9247, -3.1546, -3.4683, -3.9096, -3.9666, -4.0575, -4.1583, -4.222, -4.2599, -4.4953, -4.4953, -4.519, -4.5451, -4.5451, -4.5451, -4.57, -3.4673, -4.5979, -4.5979, -4.5979, -4.712, -4.7654, -4.8362, -4.9018, -4.9018, -4.9775, -4.9775, -5.1564, -5.4706, -5.4706, -4.109, -3.4784, -2.8031, -3.0622, -3.1109, -3.8296, -4.5789, -4.7166, -4.6976, -3.3697, -3.712, -3.8093, -3.8797, -3.8946, -4.0669, -4.1008, -4.2295, -4.2519, -4.2519, -4.3608, -4.3818, -4.4337, -4.4813, -4.483, -4.7131, -4.7131, -4.7131, -4.7131, -4.7131, -4.7131, -4.8545, -4.8545, -4.8545, -4.8545, -4.8545, -4.8919, -4.8919, -4.8919, -4.8919, -4.3604, -3.3874, -3.6142, -3.7214, -3.8531, -3.8531, -3.8697, -3.8697, -3.9345, -3.9627, -4.0734, -4.2798, -3.5024, -4.3065, -4.332, -4.4949, -4.4949, -4.4949, -4.611, -4.6406, -4.6406, -4.6792, -4.7164, -4.7164, -4.7524, -4.7524, -4.7524, -4.4379, -5.2801, -5.2801, -5.2801, -3.5738, -4.1258, -4.5119, -4.7495, -3.8029, -3.8354, -3.9524, -3.9902, -4.051, -4.0928, -4.2732, -4.4117, -4.596, -4.596, -4.596, -4.596, -4.596, -4.6333, -4.6333, -4.6333, -4.6333, -4.6692, -4.6692, -4.6692, -4.6692, -4.6692, -4.6692, -3.3995, -4.2585, -4.2732, -5.3347, -5.3347, -5.3347, -5.3347, -4.3636, -4.1492, -3.9327, -4.7292, -3.7539, -3.8397, -3.8549, -3.8698, -3.8892, -3.9049, -3.9693, -4.0026, -4.279, -4.4266, -4.4557, -4.7385, -4.7757, -4.7757, -4.7757, -4.9546, -4.9546, -4.9546, -4.9546, -4.9546, -4.9546, -4.9546, -4.9546, -4.9546, -4.9546, -4.9546, -4.9546, -4.9546, -4.9546, -4.9546, -4.402, -4.46, -4.0166, -4.8169, -4.5108, -4.5783, -4.6057, -4.7549, -1.5614, -2.9093, -3.3336, -3.5231, -3.9713, -4.1259, -4.3026, -4.4814, -4.552, -4.552, -4.8015, -4.8015, -4.8015, -4.8015, -4.8015, -4.8015, -4.8015, -4.8015, -4.8015, -4.8015, -4.8015, -4.8015, -4.8015, -4.8015, -4.8015, -4.8015, -4.8015, -4.8015, -4.8015, -5.1847, -3.9013, -2.9439, -3.5833, -3.6734, -3.7457, -3.7576, -3.7652, -3.9899, -4.245, -4.2995, -4.3864, -4.3864, -4.5278, -4.5649, -4.5649, -4.9888, -4.9888, -4.9888, -4.9888, -4.9888, -4.9888, -4.9888, -4.9888, -4.9888, -4.9888, -4.9888, -5.058, -5.058, -5.058, -5.058, -5.058, -3.7277, -4.6008, -4.4571, -3.6661, -4.3088, -2.0956, -2.9474, -3.406, -3.5603, -3.9979, -4.0432, -4.2221, -4.3952, -4.3952, -4.3952, -4.3952, -4.995, -5.0643, -5.0643, -5.0643, -5.0643, -5.0643, -5.0643, -5.0643, -5.0643, -5.0643, -5.0643, -5.0643, -5.0643, -5.0643, -5.0643, -5.0643, -5.0643, -5.0643, -5.0643, -3.6397, -3.7218, -3.8427, -3.944, -4.0185, -4.0446, -4.1279, -4.301, -4.4013, -4.4013, -4.4013, -4.4398, -4.4398, -4.4398, -4.477, -4.477, -4.6559, -4.1494, -4.9701, -4.9701, -4.9701, -4.9701, -4.9701, -4.9701, -4.9701, -4.9701, -4.9701, -4.9701, -3.4513, -5.1763, -2.7955, -4.034, -4.0787, -2.8723, -3.09, -3.4579, -3.56, -3.9361, -4.0006, -4.0128, -4.1299, -4.2974, -4.3631, -4.3682, -4.4748, -4.6884, -4.6884, -4.6884, -4.6884, -4.6884, -4.6884, -4.6884, -4.6884, -4.9332, -5.0025, -5.0025, -5.0025, -5.0025, -5.0025, -5.0025, -5.0025, -5.0025, -5.0025, -3.3078, -4.0973, -4.1266, -3.5272, -2.912, -3.2363, -3.8297, -3.9451, -3.9694, -3.9694, -4.018, -4.3261, -4.3646, -4.4018, -4.4018, -3.59, -4.5807, -4.5807, -4.5807, -4.5807, -4.5807, -4.5807, -2.7287, -5.1011, -5.1011, -5.1011, -5.1011, -5.1011, -5.1011, -5.1011, -3.6257, -5.113, -4.2015, -5.1011, -3.9855, -3.9253, -5.0972, -1.8649, -3.0294, -3.1101, -3.1225, -2.8279, -4.3785, -4.8023, -4.8023, -4.8023, -4.8023, -4.8023, -4.8023, -4.8023, -4.8715, -4.8715, -5.0093, -5.0778, -5.0778, -3.7011, -4.4797, -4.0371, -4.4266, -7.9165, -7.9165, -7.9165, -7.9165, -7.9165, -7.9165, -7.9165, -7.9165, -7.9165, -7.9165, -7.9165, -7.9165, -7.9165, -7.9165, -7.9165, -7.9165, -2.3166, -3.2766, -3.4027, -3.7814, -3.8713, -3.9442, -4.0043, -4.2482, -1.9758, -4.7773, -4.7773, -4.7773, -4.7773, -4.7773, -4.7773, -4.7773, -4.9156, -4.7772, -3.5255, -7.8915, -7.8915, -7.8915, -7.8915, -7.8915, -7.8915, -7.8915, -7.8915, -7.8915, -7.8915, -7.8915, -7.8915, -7.8915, -7.8915, -7.8915, -7.8915, -7.8915, -7.8915, -7.8915, -7.8915, -7.8915, -7.8915, -2.5774, -3.2912, -3.5757, -3.8644, -3.8644, -4.1564, -4.2719, -4.2719, -4.2719, -2.6192, -4.6957, -4.9712, -4.9712, -4.9712, -4.9712, -4.9712, -4.9712, -4.9712, -3.3081, -4.2034, -4.8075, -4.8114, -4.3672, -4.7994, -7.8099, -7.8099, -4.757, -7.8099, -7.8099, -7.8099, -7.8099, -7.8099, -7.8099, -7.8099, -7.8099, -3.5923, -3.937, -4.18, -4.216, -4.2868, -4.2868, -3.842, -4.571, -4.571, -4.571, -4.571, -4.571, -4.571, -4.571, -4.571, -4.571, -4.571, -4.571, -4.571, -3.9233, -4.8158, -4.8158, -4.8158, -4.8158, -4.8158, -4.8158, -4.8158, -4.8158, -4.8158, -4.8158, -3.5119, -4.4211], \"loglift\": [30.0, 29.0, 28.0, 27.0, 26.0, 25.0, 24.0, 23.0, 22.0, 21.0, 20.0, 19.0, 18.0, 17.0, 16.0, 15.0, 14.0, 13.0, 12.0, 11.0, 10.0, 9.0, 8.0, 7.0, 6.0, 5.0, 4.0, 3.0, 2.0, 1.0, 1.4638, 1.4588, 1.4568, 1.453, 1.4512, 1.4498, 1.448, 1.4407, 1.4404, 1.4334, 1.4317, 1.4304, 1.4298, 1.4284, 1.4273, 1.4171, 1.4137, 1.4116, 1.4073, 1.4005, 1.3953, 1.3919, 1.3898, 1.3886, 1.3857, 1.3857, 1.3816, 1.3774, 1.377, 1.3741, 1.316, 1.3404, 1.322, 1.315, 1.2885, 1.2681, 0.9341, 0.9145, 1.8743, 1.8475, 1.8424, 1.8406, 1.8381, 1.838, 1.8328, 1.8306, 1.8306, 1.8291, 1.8277, 1.8244, 1.824, 1.8209, 1.8183, 1.8156, 1.813, 1.8077, 1.8067, 1.7979, 1.7915, 1.7901, 1.7841, 1.7819, 1.7817, 1.7794, 1.7638, 1.7384, 1.7365, 1.7316, 1.6732, 1.6848, 1.6003, 1.4103, 1.4441, 1.3014, 0.9961, 1.3862, 1.1905, 1.5945, 1.3273, 2.3184, 2.3137, 2.2962, 2.2923, 2.2861, 2.2845, 2.2813, 2.271, 2.2679, 2.2639, 2.2372, 2.2332, 2.2332, 2.2218, 2.2205, 2.2093, 2.2004, 2.2004, 2.2004, 2.1828, 2.1581, 2.1482, 2.1479, 2.1479, 2.1479, 2.1479, 2.143, 2.1379, 2.1176, 2.1172, 2.0993, 2.0452, 2.0859, 1.8667, 1.8838, 2.0792, 2.0636, 1.9297, 1.6703, 1.4701, 0.8273, 1.2618, 0.6964, 1.8341, 1.4054, 1.4842, 2.4689, 2.4577, 2.4461, 2.439, 2.4353, 2.414, 2.4064, 2.4022, 2.3977, 2.386, 2.3823, 2.3653, 2.3604, 2.3461, 2.3459, 2.3367, 2.3367, 2.3367, 2.3198, 2.3121, 2.3059, 2.2911, 2.2881, 2.2859, 2.2859, 2.2809, 2.244, 2.244, 2.244, 2.244, 1.9926, 1.9975, 1.8763, 2.0743, 1.7552, 1.7334, 2.7051, 2.6935, 2.6923, 2.6854, 2.685, 2.6847, 2.6605, 2.6582, 2.6441, 2.6203, 2.6201, 2.6104, 2.6102, 2.6001, 2.5945, 2.5874, 2.5798, 2.5717, 2.5717, 2.5717, 2.5551, 2.5548, 2.5548, 2.5445, 2.5334, 2.5334, 2.5143, 2.5001, 2.5001, 2.5001, 2.472, 2.352, 2.0564, 1.717, 3.0166, 3.0016, 2.9754, 2.9234, 2.9151, 2.901, 2.8841, 2.8726, 2.8655, 2.8163, 2.8163, 2.8108, 2.8046, 2.8046, 2.8046, 2.7987, 2.7953, 2.7918, 2.7918, 2.7918, 2.7623, 2.7476, 2.7273, 2.7075, 2.7075, 2.6835, 2.6835, 2.6218, 2.4952, 2.4952, 2.4392, 2.3988, 1.9645, 1.2565, 1.0606, 1.0085, 1.5078, 1.7597, 0.9885, 2.9977, 2.9618, 2.9495, 2.9399, 2.9378, 2.9113, 2.9057, 2.8826, 2.8784, 2.8784, 2.8565, 2.8521, 2.8408, 2.8301, 2.8297, 2.7718, 2.7718, 2.7718, 2.7718, 2.7718, 2.7718, 2.731, 2.731, 2.731, 2.731, 2.731, 2.7196, 2.7196, 2.7196, 2.7196, 2.488, 3.2146, 3.1862, 3.1707, 3.1496, 3.1496, 3.1468, 3.1468, 3.1354, 3.1302, 3.1088, 3.0635, 3.06, 3.0571, 3.0509, 3.0081, 3.0081, 3.0081, 2.9744, 2.9653, 2.9653, 2.9533, 2.9413, 2.9413, 2.9295, 2.9295, 2.9295, 2.7966, 2.7212, 2.7212, 2.7212, 2.4552, 2.0782, 2.2295, 2.3066, 3.243, 3.2372, 3.2149, 3.2072, 3.1944, 3.1853, 3.1422, 3.1049, 3.0493, 3.0493, 3.0493, 3.0493, 3.0493, 3.0371, 3.0371, 3.0371, 3.0371, 3.0252, 3.0252, 3.0252, 3.0252, 3.0252, 3.0252, 2.967, 2.8802, 2.7805, 2.7481, 2.7481, 2.7481, 2.7481, 2.3778, 2.2888, 2.154, 2.3784, 3.3278, 3.3114, 3.3083, 3.3053, 3.3014, 3.2981, 3.2844, 3.277, 3.2078, 3.1647, 3.1557, 3.0582, 3.044, 3.044, 3.044, 2.971, 2.971, 2.971, 2.971, 2.971, 2.971, 2.971, 2.971, 2.971, 2.971, 2.971, 2.971, 2.971, 2.971, 2.971, 2.9398, 2.7404, 1.1845, 2.6415, 1.7518, 1.1978, 1.0943, 1.596, 3.6509, 3.5944, 3.5411, 3.5103, 3.4154, 3.3743, 3.3215, 3.2612, 3.2353, 3.2353, 3.1345, 3.1345, 3.1345, 3.1345, 3.1345, 3.1345, 3.1345, 3.1345, 3.1345, 3.1345, 3.1345, 3.1345, 3.1345, 3.1345, 3.1345, 3.1345, 3.1345, 3.1345, 3.1345, 2.95, 2.4651, 3.6431, 3.547, 3.5289, 3.5134, 3.5107, 3.509, 3.4541, 3.3799, 3.3622, 3.3327, 3.3327, 3.281, 3.2666, 3.2666, 3.079, 3.079, 3.079, 3.079, 3.079, 3.079, 3.079, 3.079, 3.079, 3.079, 3.079, 3.0441, 3.0441, 3.0441, 3.0441, 3.0441, 2.9895, 3.0066, 2.5966, 1.1015, 1.2733, 3.7113, 3.6442, 3.5804, 3.5527, 3.4532, 3.4409, 3.3882, 3.3306, 3.3306, 3.3306, 3.3306, 3.0766, 3.0415, 3.0415, 3.0415, 3.0415, 3.0415, 3.0415, 3.0415, 3.0415, 3.0415, 3.0415, 3.0415, 3.0415, 3.0415, 3.0415, 3.0415, 3.0415, 3.0415, 3.0415, 3.6016, 3.5832, 3.554, 3.5274, 3.5065, 3.4989, 3.4738, 3.4167, 3.3806, 3.3806, 3.3806, 3.3661, 3.3661, 3.3661, 3.3517, 3.3517, 3.2781, 3.2244, 3.1298, 3.1298, 3.1298, 3.1298, 3.1298, 3.1298, 3.1298, 3.1298, 3.1298, 3.1298, 3.1177, 3.0191, 2.3766, 2.4354, 1.6648, 3.7534, 3.7253, 3.6641, 3.6436, 3.5523, 3.534, 3.5304, 3.4946, 3.4381, 3.4142, 3.4123, 3.3712, 3.2807, 3.2807, 3.2807, 3.2807, 3.2807, 3.2807, 3.2807, 3.2807, 3.1631, 3.1271, 3.1271, 3.1271, 3.1271, 3.1271, 3.1271, 3.1271, 3.1271, 3.1271, 3.0348, 2.8869, 2.7218, 2.0036, 3.8284, 3.7792, 3.6479, 3.6148, 3.6075, 3.6075, 3.5925, 3.4851, 3.4702, 3.4554, 3.4554, 3.4049, 3.3796, 3.3796, 3.3796, 3.3796, 3.3796, 3.3796, 3.1485, 3.114, 3.114, 3.114, 3.114, 3.114, 3.114, 3.114, 3.0915, 2.584, 2.5508, 2.5063, 2.2773, 2.2225, 2.2404, 4.0006, 3.8862, 3.8731, 3.871, 3.6415, 3.5156, 3.3162, 3.3162, 3.3162, 3.3162, 3.3162, 3.3162, 3.3162, 3.2793, 3.2793, 3.2025, 3.1626, 3.1626, 2.5824, 2.2512, 1.6837, 1.1356, 0.3607, 0.3607, 0.3338, 0.3338, 0.3338, 0.3338, 0.3338, 0.3338, -0.3105, -0.5024, -0.4388, -0.2548, -1.7104, -1.3501, -1.288, -0.3309, 3.9884, 3.8595, 3.8335, 3.7385, 3.7118, 3.6889, 3.6691, 3.5805, 3.5001, 3.3391, 3.3391, 3.3391, 3.3391, 3.3391, 3.3391, 3.3391, 3.2645, 2.9226, 2.8757, 0.3857, 0.3857, 0.3588, 0.3588, 0.3588, 0.3588, 0.3588, 0.3588, 0.3588, 0.3588, 0.3588, -0.4548, -2.0572, -1.3046, -1.7683, -0.6912, -0.7009, -0.0827, -0.4277, -0.4139, -1.8622, -0.348, 4.0481, 3.9325, 3.8644, 3.7792, 3.7792, 3.6745, 3.6275, 3.6275, 3.6275, 3.5245, 3.4271, 3.2728, 3.2728, 3.2728, 3.2728, 3.2728, 3.2728, 3.2728, 3.0734, 2.2059, 2.0923, 1.9216, 1.4882, 1.1745, 0.4672, 0.4672, 0.4552, 0.4403, 0.4403, 0.4403, -1.4399, -0.6076, -2.0031, -0.004, -0.2268, 3.8885, 3.78, 3.6875, 3.6725, 3.6423, 3.6423, 3.5213, 3.5084, 3.5084, 3.5084, 3.5084, 3.5084, 3.5084, 3.5084, 3.5084, 3.5084, 3.5084, 3.5084, 3.5084, 3.4565, 3.3769, 3.3769, 3.3769, 3.3769, 3.3769, 3.3769, 3.3769, 3.3769, 3.3769, 3.3769, 2.2286, 2.3156]}, \"token.table\": {\"Topic\": [15, 15, 5, 3, 10, 13, 4, 2, 16, 3, 3, 19, 5, 16, 11, 15, 9, 2, 17, 1, 6, 12, 2, 8, 7, 7, 5, 15, 9, 8, 14, 2, 5, 2, 3, 10, 6, 10, 20, 13, 11, 1, 9, 9, 12, 11, 6, 15, 6, 4, 11, 3, 19, 4, 8, 13, 8, 6, 8, 4, 4, 8, 1, 15, 15, 1, 8, 1, 5, 4, 4, 9, 3, 11, 10, 4, 5, 18, 7, 10, 4, 2, 5, 19, 13, 14, 2, 7, 4, 6, 16, 20, 2, 5, 2, 20, 10, 6, 3, 9, 4, 2, 20, 9, 10, 1, 10, 9, 2, 10, 2, 10, 14, 5, 8, 14, 2, 3, 10, 13, 11, 10, 8, 1, 6, 20, 18, 5, 18, 13, 20, 6, 8, 4, 13, 5, 19, 2, 3, 6, 8, 7, 3, 4, 20, 10, 3, 9, 7, 1, 12, 11, 3, 7, 1, 6, 9, 13, 9, 10, 9, 4, 18, 16, 8, 13, 6, 11, 7, 12, 19, 5, 15, 10, 10, 3, 4, 10, 9, 3, 8, 18, 12, 12, 7, 10, 20, 14, 6, 14, 15, 11, 8, 13, 12, 17, 11, 10, 20, 7, 15, 15, 12, 6, 9, 4, 9, 7, 12, 14, 20, 11, 13, 18, 13, 12, 16, 19, 16, 6, 3, 2, 2, 6, 14, 4, 14, 1, 20, 2, 16, 12, 13, 8, 1, 3, 15, 2, 3, 19, 1, 14, 7, 14, 14, 3, 18, 15, 5, 20, 11, 5, 12, 1, 13, 9, 6, 1, 3, 17, 18, 20, 20, 1, 16, 15, 12, 13, 4, 5, 13, 4, 5, 4, 7, 5, 10, 3, 1, 3, 18, 18, 1, 10, 11, 11, 19, 13, 2, 7, 11, 1, 14, 5, 10, 12, 8, 2, 4, 19, 3, 16, 3, 9, 15, 7, 3, 14, 20, 11, 6, 4, 8, 5, 11, 3, 18, 14, 4, 9, 1, 3, 11, 17, 3, 3, 6, 12, 1, 3, 19, 13, 10, 10, 12, 5, 8, 8, 14, 20, 3, 15, 20, 2, 4, 8, 1, 10, 5, 20, 18, 4, 4, 8, 9, 4, 4, 5, 15, 3, 5, 5, 3, 16, 8, 1, 20, 15, 4, 13, 7, 4, 2, 1, 7, 4, 1, 2, 8, 15, 15, 16, 1, 2, 9, 2, 3, 14, 10, 14, 9, 17, 2, 5, 4, 9, 15, 10, 10, 12, 7, 7, 17, 13, 7, 1, 3, 5, 10, 2, 11, 1, 2, 15, 10, 20, 10, 3, 13, 7, 12, 12, 1, 17, 15, 6, 16, 14, 9, 5, 10, 17, 5, 1, 2, 19, 10, 18, 12, 13, 9, 13, 12, 1, 9, 3, 2, 3, 19, 11, 6, 18, 6, 2, 2, 10, 3, 14, 4, 8, 5, 20, 2, 3, 2, 10, 7, 17, 3, 3, 20, 12, 6, 10, 10, 6, 2, 12, 11, 9, 4, 4, 14, 20, 2, 15, 16, 16, 15, 8, 9, 1, 6, 12, 16, 5, 16, 11, 14, 18, 13, 1, 14, 16, 19, 17, 20, 2, 4, 8, 1, 15, 6, 14, 17, 12, 8, 6, 1, 16, 12, 9, 10, 6, 20, 12, 15, 20, 2, 14, 8, 1, 12, 5, 7, 2, 3, 3, 7, 2, 11, 15, 12, 3, 16, 13, 14, 17, 6, 18, 16, 2, 17, 12, 3, 3, 7, 7, 1, 18, 7, 15, 9, 1, 12, 20, 11, 14, 7, 9, 8, 7, 8, 6, 10, 14, 4, 6, 4, 7, 20, 16, 15, 3, 2, 9, 5, 6, 13, 5, 10, 15, 19, 3, 6, 1, 1, 17, 14, 4, 13, 1, 3, 15, 5, 15, 1, 9, 2, 1, 17, 4, 6, 9, 9, 17, 7, 10, 19, 7, 11, 4, 1, 12, 14, 14, 13, 2, 8, 17, 1, 8, 11, 20, 2, 6, 12, 18, 6, 11, 12, 9, 11, 17, 18, 4, 5, 6, 3, 19, 2, 14, 11, 16, 3, 19, 15, 13, 11, 11, 12, 16, 2, 6, 1, 20, 19, 20, 5, 20, 14, 1, 17, 2, 8, 3, 12, 5, 3, 14, 8, 4, 1, 2, 6, 5, 9, 2, 13], \"Freq\": [0.6901303423891914, 0.8102955226464884, 0.9543742392978689, 0.7717882375812478, 0.19294705939531195, 0.7912263368073523, 0.7885541442166236, 0.6131939643094577, 0.20439798810315257, 0.6446600442620476, 0.7252093520327076, 0.14504187040654154, 0.7803002286567728, 0.6840736738182378, 0.9241002007294742, 0.8707544486765083, 0.5119392945051938, 0.8002461597362782, 0.20006153993406955, 0.8624801513032619, 0.6878548309132659, 0.5374551499285058, 0.9480994526496345, 0.7986024660169334, 0.48262791398657207, 0.4702987383296913, 0.6609969823789299, 0.8102955226464884, 0.5243438906175715, 0.9402371322524983, 0.7865683643337924, 0.9755397728428081, 0.7836581027400582, 0.4995712175039603, 0.3568365839314002, 0.07136731678628004, 0.7429683352675397, 0.660797183212452, 0.6367307308200543, 0.7912263368073523, 0.8144045116349138, 0.9905718990584664, 0.5243438906175715, 0.5525950287095536, 0.2762975143547768, 0.6677167415712738, 0.5701894483350485, 0.6901303423891914, 0.8905165786959864, 0.9030141087079753, 0.6677167415712738, 0.8327778136066394, 0.601061029369541, 0.5539375876441854, 0.2769687938220927, 0.7912263368073523, 0.5054799675691017, 0.9083447740577401, 0.7126734272809225, 0.7885541435058064, 0.7574985398022513, 0.7986024660169334, 0.9870981767684927, 0.4889262477637884, 0.8102955226464884, 0.9953049285400813, 0.7126734272809225, 0.9566978869492969, 0.7404945371340231, 0.9078427118671104, 0.5970429295367364, 0.2985214647683682, 0.7216503863470061, 0.6677167415712738, 0.47298598673040887, 0.7574985398022513, 0.6600551454472946, 0.6632190616334664, 0.9737141206499571, 0.660797183212452, 0.9343942552468834, 0.8324265464255654, 0.9110886557303474, 0.4984073620862255, 0.7912263368073523, 0.7865683643337924, 0.5257171616096845, 0.6508253364109834, 0.7885541478322251, 0.715172854958294, 0.6840736738182378, 0.8631206309199649, 0.8747871684011764, 0.9487812001741511, 0.936171776974706, 0.8631206309199649, 0.48258966401704584, 0.900957569273465, 0.7646262403953465, 0.7731807287977819, 0.9746224593225424, 0.9559325069806605, 0.8631206309199649, 0.7731807287977819, 0.660797183212452, 0.31992743393955425, 0.31992743393955425, 0.5119392937795244, 0.8927335312416484, 0.9248731229827598, 0.8498653838364904, 0.660797183212452, 0.7865683643337924, 0.590629258746255, 0.23625170349850202, 0.5723063079178632, 0.5633496029772225, 0.3466766787552138, 0.08666916968880345, 0.7912263368073523, 0.6677167415712738, 0.660797183212452, 0.4928580817787405, 0.8512180215974313, 0.13929022171594332, 0.8631206309199649, 0.7996170073639326, 0.8412777201748431, 0.7996170073639326, 0.7912263368073523, 0.7706137384276248, 0.7733005126466385, 0.47997072188005585, 0.8714638554884249, 0.7912263368073523, 0.8973789484401002, 0.49840735882316983, 0.6096483885831679, 0.21517001949994163, 0.16137751462495623, 0.8660364619771863, 0.885748601733487, 0.6455655472034502, 0.7523315243811692, 0.8470135799875464, 0.660797183212452, 0.8422981690775411, 0.7731807287977819, 0.48262791398657207, 0.8879130321324392, 0.06342235943803137, 0.6677167415712738, 0.9117266357793404, 0.874493566581944, 0.8445399320767948, 0.14075665534613246, 0.7731807287977819, 0.7912263368073523, 0.5243438906175715, 0.660797183212452, 0.5119392937795244, 0.8995188939287871, 0.9147242368248277, 0.6840736738182378, 0.7876817307528903, 0.7646129309614271, 0.8415664828335038, 0.6677167415712738, 0.8787623403229402, 0.5878814830501279, 0.9002609060763729, 0.686090427006051, 0.6901303423891914, 0.660797183212452, 0.5943220018338867, 0.9460778794146107, 0.7870820445058545, 0.9136410941297711, 0.5243438906175715, 0.7646262407359806, 0.9425574305801026, 0.7996170073639326, 0.7616803324493995, 0.6889578703241379, 0.4702987392623437, 0.660797183212452, 0.8631206309199649, 0.5723063039932914, 0.753637571073188, 0.7865683643337924, 0.5714823091036625, 0.6677167415712738, 0.8424598569147038, 0.7912263368073523, 0.7616803850005522, 0.8012971535661295, 0.6677167415712738, 0.660797183212452, 0.7706137384276248, 0.45001010880147485, 0.22500505440073743, 0.8102955226464884, 0.7616803324493995, 0.8747725691555799, 0.7933573380559447, 0.30082228301863134, 0.6016445660372627, 0.8505011210908001, 0.6848835282733344, 0.5997545299648894, 0.8631206309199649, 0.6677167415712738, 0.7912263368073523, 0.7996170073639326, 0.8498045381764582, 0.3947181583109553, 0.3947181583109553, 0.8132617760107625, 0.9167285845989136, 0.6878548309132659, 0.8200281569157997, 0.9394142592756881, 0.959127262803946, 0.7733005126466385, 0.7865683643337924, 0.8545119777088089, 0.8852997101741246, 0.9886878192860138, 0.7706137384276248, 0.7516990045832272, 0.12528316743053788, 0.7883054915344201, 0.7912263368073523, 0.8578598402195046, 0.9338361562852573, 0.6578374029657441, 0.8102955226464884, 0.5630694909384516, 0.3753796606256344, 0.0938449151564086, 0.9922037073967523, 0.6666138405194177, 0.48262791464478816, 0.4779136502665794, 0.8653940701913488, 0.6455655476558753, 0.4931726649225758, 0.8874987136012912, 0.3828373709229517, 0.3828373709229517, 0.9565082058769628, 0.6609969287739679, 0.7616803282484428, 0.9807786179449163, 0.7912263368073523, 0.5243438906175715, 0.7571480012891326, 0.3108966228958167, 0.6217932457916334, 0.06217932457916334, 0.8808061311449112, 0.7706137384276248, 0.7706137384276248, 0.26051474378616984, 0.5210294875723397, 0.690130380815881, 0.7616803850005522, 0.7912263368073523, 0.8380648576535149, 0.13967747627558583, 0.8795585481953461, 0.46325376027263965, 0.46325376027263965, 0.6554029112806915, 0.8948316310236593, 0.7923531185105844, 0.660797183212452, 0.6455655476558753, 0.9744079842705856, 0.3992426753875742, 0.5703466791251061, 0.7996170073639326, 0.8470512822470678, 0.07700466202246072, 0.8636659498833044, 0.9639708663386233, 0.043816857560846516, 0.7912263368073523, 0.9692339247203219, 0.8229389054216185, 0.6677167415712738, 0.9762831430078809, 0.8390516306064633, 0.8795727876013308, 0.5943219971940873, 0.8164624616836905, 0.47019826098593426, 0.929377377975171, 0.9442959781694202, 0.6436874483760563, 0.9712208693962613, 0.8443232374882834, 0.9726695323962703, 0.6380158455308801, 0.8102955226464884, 0.7906205507334693, 0.7291109844452035, 0.5862070643680799, 0.7706137384276248, 0.7709271256324624, 0.7429683313405636, 0.16906151359308255, 0.6762460543723302, 0.7923531194142127, 0.48876808833042235, 0.8340625640394455, 0.8521990854000397, 0.7865683643337924, 0.6732330164712825, 0.2244110054904275, 0.45426237254267715, 0.45426237254267715, 0.6677167415712738, 0.7804049720124672, 0.8422981687999327, 0.6203770488630014, 0.3101885244315007, 0.7616803324493995, 0.9419318383877735, 0.7106721220389939, 0.23689070734633128, 0.7912263368073523, 0.660797183212452, 0.660797183212452, 0.6411303235949581, 0.7131644217786024, 0.7126734272809225, 0.4799707198802026, 0.5862070743420165, 0.6630680911193018, 0.9296480398076326, 0.6102064411328181, 0.8631206309199649, 0.9121611385299948, 0.7574985398022513, 0.7876817307528903, 0.95518598131306, 0.6749305603446839, 0.7131644186137184, 0.7706137384276248, 0.9000588013936054, 0.8418295382617325, 0.20218050416599306, 0.4043610083319861, 0.4043610083319861, 0.6678074903739166, 0.271395988534203, 0.1356979942671015, 0.40709398280130443, 0.6455655462916409, 0.868625131509559, 0.9281018039257589, 0.7340017709986757, 0.46620921357615625, 0.5178125341857447, 0.8174589875997567, 0.1486289068363194, 0.64193877312886, 0.8901260462891784, 0.48203013897254965, 0.6891577811471747, 0.8071721665181733, 0.9315872078488495, 0.9837783269373356, 0.8505011102665406, 0.7574985447668922, 0.5879763752745049, 0.39198425018300326, 0.7680101257416141, 0.8535304503707469, 0.9005087869103067, 0.6033714004879863, 0.8651217522154369, 0.848609533285514, 0.8446344051668858, 0.5962514394361061, 0.2235942897885398, 0.14906285985902654, 0.660797183212452, 0.5723063043685067, 0.4992394091417029, 0.8276923812045557, 0.7802170240167364, 0.9281018003523852, 0.5831667781365809, 0.29158338906829046, 0.9015379852603703, 0.6926250948990966, 0.7371005769016868, 0.3685502884508434, 0.714985521647442, 0.8505011210908001, 0.8012971535661295, 0.7912263368073523, 0.6617026499134928, 0.3714205234862313, 0.59427283757797, 0.8195813453586185, 0.660797183212452, 0.9077045598220587, 0.6677167415712738, 0.9706085284609761, 0.7833209819473177, 0.180766380449381, 0.9359470496576168, 0.6234173702561854, 0.8521244011314799, 0.7646262403953465, 0.7912263368073523, 0.850501118610374, 0.6014413455134161, 0.7616803850005522, 0.6395213744364467, 0.2558085497745787, 0.8102955226464884, 0.5111902802781547, 0.42599190023179556, 0.5862070704499127, 0.499239442511772, 0.9638324217445221, 0.9504581078102908, 0.9626066273413346, 0.9281018039257589, 0.5001873354146879, 0.3334582236097919, 0.08336455590244797, 0.5272204374829194, 0.5272204374829194, 0.7616803850005522, 0.8702172870889325, 0.5119392937795244, 0.7912263368073523, 0.7883054915344201, 0.9812540014286141, 0.4992394100091696, 0.6705848212967808, 0.2004833029060885, 0.6014499087182655, 0.2004833029060885, 0.8121700224562308, 0.5071275242235264, 0.7996169650969346, 0.8635565241748948, 0.9794598104744177, 0.41415722212950945, 0.41415722212950945, 0.6836939119500429, 0.22789797065001433, 0.884136014646244, 0.5178125341857447, 0.80490211015788, 0.20122552753947, 0.8058091201647197, 0.19600762382385073, 0.8209443730469846, 0.13682406217449744, 0.470298719664897, 0.8012971535661295, 0.9045109945636163, 0.951841848729906, 0.7706137384276248, 0.4891168546045133, 0.7515556861025018, 0.12525928101708364, 0.5943220004283302, 0.9007508285190401, 0.9292912527799466, 0.5074892469025762, 0.5754341053573387, 0.822428397539972, 0.65540294405425, 0.9258547458499632, 0.7104643754239803, 0.7706137384276248, 0.9806664651306126, 0.6901303423891914, 0.6840736738182378, 0.46620924619552884, 0.5696455144418093, 0.6620458106122501, 0.33102290530612505, 0.5898574075223776, 0.3370613757270729, 0.05617689595451215, 0.48213494696319215, 0.7590730918174687, 0.7978406068714706, 0.5754341062741777, 0.7865683643337924, 0.5997730086713189, 0.5410817083718268, 0.9802652868089191, 0.9018402665773536, 0.807907045696701, 0.6436874463437338, 0.9262629922840838, 0.7706137384276248, 0.9605685510874955, 0.49577786600392837, 0.39662229280314265, 0.9591149520914731, 0.5463244101593031, 0.7429683353993474, 0.666375769567985, 0.8012971535661295, 0.5374551509584333, 0.7382048796167918, 0.9305268141795352, 0.8919326866308983, 0.6840736738182378, 0.6785922638352067, 0.6916024792371704, 0.5808155003046629, 0.81954954671795, 0.6630680911193018, 0.7616803850005522, 0.8938089200313427, 0.7706137384276248, 0.9262403528048296, 0.7865683643337924, 0.8660364654861578, 0.9776907287153375, 0.8948895466228276, 0.7412291494338396, 0.8505011143315384, 0.2446789671833851, 0.7340369015501553, 0.8578760443115085, 0.4702987383296913, 0.9884509048443682, 0.6677167415712738, 0.6901303423891914, 0.4806600660439411, 0.7817039710596219, 0.22334399173132055, 0.5410817083718268, 0.30806674347454227, 0.6161334869490845, 0.4815766204310425, 0.7996170073639326, 0.5893345707945455, 0.8104390334775894, 0.7724084386851462, 0.7616803850005522, 0.9688321996788386, 0.8894093462029804, 0.768615008753464, 0.8505011223803615, 0.5755454811814316, 0.2877727405907158, 0.7159589576390781, 0.8102955226464884, 0.6694031770198244, 0.9469866953567998, 0.7883054915344201, 0.7706137384276248, 0.6677167415712738, 0.7786952704992421, 0.48262791398657207, 0.9286143792045578, 0.7533534611938387, 0.9448690309451991, 0.8620722695874347, 0.5071275212177925, 0.38053294125490833, 0.38053294125490833, 0.8444193421123819, 0.7151729016676452, 0.9460766768314067, 0.3765353068813433, 0.3765353068813433, 0.6170391276955177, 0.7837797015758468, 0.838659376518599, 0.8927785834934852, 0.4992394112546204, 0.7794249121667889, 0.9200439532161243, 0.9529049210345589, 0.8899236613148839, 0.8524280370572378, 0.8102955226464884, 0.8047711628650965, 0.33333246410430717, 0.4999986961564608, 0.9833221585131462, 0.9863938784954418, 0.8276923812045557, 0.7865683643337924, 0.7515273118320857, 0.5410817083718268, 0.8917950022069698, 0.9736782497573608, 0.690130380815881, 0.5154882022161492, 0.2577441011080746, 0.9070172366284783, 0.4992394112546204, 0.881600878067415, 0.8742847430333472, 0.0728570619194456, 0.42021993505037974, 0.21010996752518987, 0.3151649512877848, 0.5243438906175715, 0.8012971535661295, 0.894831583709381, 0.6415921591756288, 0.6549681348244807, 0.4702987392623437, 0.6677167415712738, 0.8921761704332366, 0.9510644437895965, 0.7883054915344201, 0.5367344719283432, 0.7865683643337924, 0.8222202004674283, 0.918935620665226, 0.8660364113069627, 0.8012971535661295, 0.9714990457834447, 0.5178125341857447, 0.6677167415712738, 0.8631206309199649, 0.8661863153197846, 0.48157662431791914, 0.8662441593598048, 0.4691298456795167, 0.728302016650372, 0.6677167415712738, 0.7616803850005522, 0.555863224759351, 0.2779316123796755, 0.8012971535661295, 0.5134947487201345, 0.5741867379629991, 0.3445120427777995, 0.886294072398841, 0.4448840983981079, 0.5561051229976349, 0.7576293738032346, 0.21045260383423184, 0.6677167415712738, 0.6840736738182378, 0.564264423867528, 0.282132211933764, 0.6901303423891914, 0.5410817083718268, 0.5502086972946171, 0.6677167415712738, 0.6014413468649717, 0.617039129118085, 0.9384617098161001, 0.7733005126466385, 0.9466437032258866, 0.5363623515015815, 0.6436874483760563, 0.8631206309199649, 0.9521542615049686, 0.8631206309199649, 0.5997545065605022, 0.9554000779881904, 0.6402410472412198, 0.9687201388062494, 0.5054799573212415, 0.9555006556740216, 0.7883054915344201, 0.7923531234700868, 0.340317521348241, 0.5104762820223615, 0.8793391269678126, 0.6425685411275577, 0.21099467815823944, 0.6329840344747183, 0.12056838751899396, 0.8604078409960725, 0.8779446854984239, 0.9702569848136419, 0.7749102776986406], \"Term\": [\"ability\", \"absent\", \"absolutely\", \"abuse\", \"abuse\", \"abusive\", \"acceptable\", \"account\", \"account\", \"act\", \"action\", \"action\", \"actively\", \"activity\", \"actual\", \"actually\", \"ad\", \"add\", \"add\", \"addition\", \"additional\", \"address\", \"admin\", \"adult\", \"advertise\", \"advertisement\", \"advertiser\", \"afraid\", \"age\", \"agree\", \"aim\", \"allow\", \"already\", \"also\", \"also\", \"also\", \"always\", \"american\", \"amount\", \"ancient\", \"angry\", \"annoy\", \"annoyed\", \"annoying\", \"annoying\", \"anonymity\", \"apartheid\", \"apparent\", \"appear\", \"apply\", \"approach\", \"arbitrary\", \"around\", \"asshole\", \"asshole\", \"attention\", \"average\", \"average_redditor\", \"aware\", \"away\", \"awful\", \"back\", \"bad\", \"badly\", \"balance\", \"ban\", \"bandwidth\", \"banning_handful\", \"basically\", \"become\", \"behavior\", \"behavior\", \"big\", \"bigot\", \"blatant\", \"blow\", \"board\", \"bother\", \"break\", \"brief\", \"brigade\", \"bring\", \"bullshit\", \"bully\", \"bunk\", \"butt\", \"button\", \"buy\", \"can\", \"care\", \"carry\", \"cat\", \"censor\", \"censorship\", \"certain\", \"chamber\", \"chance\", \"change\", \"character\", \"chew\", \"child\", \"choose\", \"circle\", \"circlejerk\", \"civility\", \"claim\", \"claim\", \"clarification\", \"clear\", \"clearly\", \"click\", \"cloud\", \"coating\", \"come\", \"come\", \"comfortable\", \"comment\", \"comment\", \"comment\", \"commercial\", \"comms\", \"commune\", \"communitie\", \"community\", \"community\", \"complacent\", \"complain\", \"completely\", \"compliance\", \"complicit\", \"comrade\", \"concept\", \"consider\", \"considered_extremely\", \"consistently\", \"constantly\", \"constitute\", \"content\", \"content\", \"content\", \"context\", \"continue\", \"continued\", \"control\", \"controversial\", \"controversy\", \"conversation\", \"cook\", \"cool\", \"coontown\", \"coontown\", \"core\", \"corporate\", \"correct\", \"could\", \"could\", \"country\", \"couple\", \"course\", \"court\", \"cp\", \"crackertown\", \"create\", \"crusade\", \"ctk\", \"cuck\", \"current\", \"customer\", \"dark\", \"datum\", \"decide\", \"decision\", \"declare\", \"dedication\", \"default\", \"define\", \"definition\", \"delete\", \"demand\", \"demean\", \"dentist\", \"department\", \"describe\", \"deserve\", \"destroy\", \"determination\", \"devalue\", \"develop\", \"die\", \"difference\", \"different\", \"digg\", \"direct\", \"dirt\", \"disappointing\", \"discriminate\", \"distateful\", \"diversity\", \"dodge\", \"downvote\", \"downvote\", \"doxx\", \"drama\", \"dramatically\", \"draw\", \"drawing\", \"drawing\", \"due\", \"easily\", \"easy\", \"echo\", \"edit\", \"either\", \"ekjp\", \"else\", \"email\", \"email\", \"encourage\", \"end\", \"enforce\", \"engage\", \"enjoy\", \"enough\", \"entail\", \"enter\", \"entire\", \"essentially\", \"even\", \"eventually\", \"ever\", \"ever\", \"evidence\", \"exact\", \"exactly\", \"example\", \"exception\", \"exempt\", \"exist\", \"exist\", \"exist\", \"exist_solely\", \"expect\", \"explain\", \"explanation\", \"expose\", \"express\", \"extremely\", \"fact\", \"fall\", \"fall\", \"far\", \"fatpeoplehate\", \"feefee\", \"feel\", \"feeling\", \"fictional\", \"filter\", \"find\", \"find\", \"find\", \"first\", \"flip\", \"flopping\", \"force\", \"force\", \"formal\", \"former\", \"fph\", \"free\", \"free\", \"front\", \"fuck\", \"fuck\", \"fucking\", \"full\", \"future\", \"general\", \"generally\", \"generally_make\", \"get\", \"get\", \"gild\", \"give\", \"give\", \"glad\", \"go\", \"go\", \"goddamn\", \"good\", \"great\", \"gross\", \"group\", \"grow\", \"guy\", \"hand\", \"handful\", \"handle\", \"happen\", \"harass\", \"harasse\", \"harassment\", \"hard\", \"harm\", \"harmful\", \"harrass\", \"hate\", \"hear\", \"hell\", \"hide\", \"honest\", \"honestly\", \"hope\", \"hope\", \"host\", \"however\", \"http\", \"hugboxes\", \"huge\", \"hurt\", \"hurt\", \"idea\", \"idea\", \"ignorant\", \"ignore\", \"illegal\", \"image\", \"image\", \"imo\", \"improve\", \"incite\", \"incite\", \"inconvenient\", \"indian\", \"indiancountry\", \"information\", \"infringement\", \"intentionally\", \"interesting\", \"internet\", \"interpret\", \"involuntary\", \"involvement\", \"jerk\", \"keep\", \"kiketown\", \"kill\", \"know\", \"large\", \"law\", \"lawful\", \"least\", \"leave\", \"legal\", \"legal\", \"legal\", \"less\", \"let\", \"let\", \"let\", \"liberal\", \"lie\", \"life\", \"limit\", \"link\", \"lion\", \"list\", \"list\", \"literally\", \"little\", \"logic\", \"lol\", \"loli\", \"long\", \"look\", \"lose\", \"love\", \"make\", \"make\", \"man\", \"manipulation\", \"many\", \"material\", \"matter\", \"may\", \"maybe\", \"mean\", \"mean\", \"mean\", \"medium\", \"mention\", \"merely\", \"mess\", \"message\", \"mind\", \"minor\", \"minor\", \"minute\", \"mod\", \"moderator\", \"moderator\", \"money\", \"morally\", \"mostly\", \"motive\", \"move\", \"much\", \"much\", \"must\", \"name\", \"need\", \"negatively\", \"never\", \"new\", \"new\", \"news\", \"next\", \"non\", \"nsfw\", \"numerous\", \"objectionable\", \"obvious\", \"occasion\", \"offend\", \"offend\", \"offender\", \"offensive\", \"offensive\", \"ok\", \"okay\", \"open\", \"opinion\", \"opt\", \"order\", \"other\", \"other\", \"other\", \"otherwise\", \"otherwise\", \"package\", \"page\", \"part\", \"pass\", \"pc\", \"people\", \"perfectly\", \"permission\", \"person\", \"person\", \"person\", \"personally\", \"photo\", \"pick\", \"picture\", \"place\", \"plan\", \"plan\", \"platform\", \"platform\", \"play\", \"poacher\", \"point\", \"point\", \"policy\", \"policy\", \"political\", \"political\", \"politically\", \"popular\", \"porn\", \"pornography\", \"position\", \"positive\", \"post\", \"post\", \"pretend\", \"pretty\", \"prevent\", \"private\", \"probably\", \"problem\", \"produce\", \"prohibit\", \"protect\", \"prove\", \"provide\", \"publicly\", \"puppet\", \"purpose\", \"push\", \"put\", \"put\", \"quarantine\", \"quarantine\", \"quarantine\", \"questionable\", \"racial\", \"racist\", \"radar\", \"radfem\", \"raid\", \"rape\", \"rather\", \"read\", \"real\", \"realize\", \"really\", \"ream\", \"reason\", \"redditor\", \"redditor\", \"redditors_prevent_us\", \"refuse\", \"regard\", \"registration\", \"regular\", \"related\", \"remain\", \"remember\", \"remove\", \"replace\", \"represent\", \"respect\", \"rest\", \"restriction\", \"rewrite\", \"ribbon\", \"rid\", \"ridiculous\", \"right\", \"righteous\", \"rip\", \"rule\", \"run\", \"s\", \"sad\", \"safe\", \"safe\", \"safety\", \"sale\", \"say\", \"scare\", \"secretly\", \"security\", \"see\", \"see\", \"seek\", \"seem\", \"seem\", \"self\", \"send\", \"sense\", \"serious\", \"set\", \"several\", \"sexual\", \"shit\", \"shitredditsay\", \"shitty\", \"show\", \"show\", \"silence\", \"simmer\", \"simple\", \"simply\", \"size\", \"slippery\", \"sly\", \"small\", \"sole\", \"solely\", \"somewhere\", \"soon\", \"sound\", \"source\", \"space\", \"space\", \"spam\", \"specifically\", \"speech\", \"spend\", \"spend\", \"sponsor\", \"srs\", \"standard\", \"start\", \"stay\", \"step\", \"stick\", \"still\", \"stop\", \"story\", \"strike\", \"strugglefucke\", \"stuff\", \"stuff\", \"sub\", \"subreddit\", \"suck\", \"sugar\", \"support\", \"supposedly\", \"sure\", \"take\", \"taken\", \"talk\", \"talk\", \"tell\", \"term\", \"thank\", \"thing\", \"thing\", \"think\", \"think\", \"think\", \"thought\", \"thoughtful\", \"thousand\", \"thread\", \"threaten\", \"throw\", \"thus\", \"time\", \"today\", \"tolerate\", \"ton\", \"tongue\", \"tool\", \"top\", \"torture\", \"traditionally\", \"transparency\", \"treat\", \"trick\", \"troll\", \"truly_authentic_conversation\", \"trust\", \"try\", \"turn\", \"type\", \"typey\", \"unaffected\", \"understand\", \"understand\", \"unorthodox\", \"unpopular\", \"update\", \"update\", \"upsetting\", \"use\", \"use\", \"user\", \"user\", \"usp\", \"utter\", \"vague\", \"vague\", \"vaguely\", \"value\", \"variant\", \"vast\", \"verified\", \"verify\", \"view\", \"viewable\", \"violate\", \"violation\", \"violence\", \"vision\", \"vote\", \"wait\", \"wall\", \"want\", \"warn\", \"way\", \"web\", \"well\", \"whatnot\", \"whole\", \"word\", \"word\", \"worldnews\", \"worry\", \"would\", \"would\", \"would\", \"write\", \"wrong\", \"year\", \"yet\"]}, \"R\": 30, \"lambda.step\": 0.01, \"plot.opts\": {\"xlab\": \"PC1\", \"ylab\": \"PC2\"}, \"topic.order\": [2, 11, 16, 3, 17, 9, 5, 13, 4, 6, 18, 12, 8, 10, 15, 14, 20, 19, 1, 7]};\n",
              "\n",
              "function LDAvis_load_lib(url, callback){\n",
              "  var s = document.createElement('script');\n",
              "  s.src = url;\n",
              "  s.async = true;\n",
              "  s.onreadystatechange = s.onload = callback;\n",
              "  s.onerror = function(){console.warn(\"failed to load library \" + url);};\n",
              "  document.getElementsByTagName(\"head\")[0].appendChild(s);\n",
              "}\n",
              "\n",
              "if(typeof(LDAvis) !== \"undefined\"){\n",
              "   // already loaded: just create the visualization\n",
              "   !function(LDAvis){\n",
              "       new LDAvis(\"#\" + \"ldavis_el1741402710903660329075961296\", ldavis_el1741402710903660329075961296_data);\n",
              "   }(LDAvis);\n",
              "}else if(typeof define === \"function\" && define.amd){\n",
              "   // require.js is available: use it to load d3/LDAvis\n",
              "   require.config({paths: {d3: \"https://d3js.org/d3.v5\"}});\n",
              "   require([\"d3\"], function(d3){\n",
              "      window.d3 = d3;\n",
              "      LDAvis_load_lib(\"https://cdn.jsdelivr.net/gh/bmabey/pyLDAvis@3.3.1/pyLDAvis/js/ldavis.v3.0.0.js\", function(){\n",
              "        new LDAvis(\"#\" + \"ldavis_el1741402710903660329075961296\", ldavis_el1741402710903660329075961296_data);\n",
              "      });\n",
              "    });\n",
              "}else{\n",
              "    // require.js not available: dynamically load d3 & LDAvis\n",
              "    LDAvis_load_lib(\"https://d3js.org/d3.v5.js\", function(){\n",
              "         LDAvis_load_lib(\"https://cdn.jsdelivr.net/gh/bmabey/pyLDAvis@3.3.1/pyLDAvis/js/ldavis.v3.0.0.js\", function(){\n",
              "                 new LDAvis(\"#\" + \"ldavis_el1741402710903660329075961296\", ldavis_el1741402710903660329075961296_data);\n",
              "            })\n",
              "         });\n",
              "}\n",
              "</script>"
            ],
            "text/plain": [
              "PreparedData(topic_coordinates=              x         y  topics  cluster       Freq\n",
              "topic                                                \n",
              "1     -0.361380 -0.249896       1        1  23.003114\n",
              "10    -0.208507  0.265101       2        1  15.026927\n",
              "15    -0.106625  0.193631       3        1   9.292348\n",
              "2      0.084103 -0.075001       4        1   8.048514\n",
              "16     0.074402 -0.054269       5        1   6.130848\n",
              "8     -0.113051 -0.015214       6        1   4.611803\n",
              "4      0.062074 -0.022330       7        1   4.543338\n",
              "12     0.066863 -0.029081       8        1   3.562617\n",
              "3      0.072036 -0.030648       9        1   3.215325\n",
              "5      0.017555  0.031762      10        1   2.925266\n",
              "17     0.053824 -0.012242      11        1   2.462848\n",
              "11     0.026489 -0.036489      12        1   2.322362\n",
              "7      0.055233 -0.010529      13        1   2.318391\n",
              "9      0.034126  0.038161      14        1   2.136981\n",
              "14     0.050940  0.002373      15        1   2.068540\n",
              "13     0.036416  0.009934      16        1   1.888381\n",
              "19     0.028698 -0.014453      17        1   1.729758\n",
              "18     0.040883  0.004071      18        1   1.694847\n",
              "0      0.035699  0.025236      19        1   1.540178\n",
              "6      0.050222 -0.020118      20        1   1.477612, topic_info=           Term        Freq       Total Category  logprob  loglift\n",
              "4           ban  110.000000  110.000000  Default  30.0000  30.0000\n",
              "5     community   64.000000   64.000000  Default  29.0000  29.0000\n",
              "148          go   22.000000   22.000000  Default  28.0000  28.0000\n",
              "34          sub   58.000000   58.000000  Default  27.0000  27.0000\n",
              "134     content   55.000000   55.000000  Default  26.0000  26.0000\n",
              "...         ...         ...         ...      ...      ...      ...\n",
              "1202      troll    0.501278    1.158587  Topic20  -4.8158   3.3769\n",
              "1203     vision    0.501278    1.158587  Topic20  -4.8158   3.3769\n",
              "1204       wait    0.501278    1.158587  Topic20  -4.8158   3.3769\n",
              "29         list    1.846545   13.456333  Topic20  -3.5119   2.2286\n",
              "590       point    0.743917    4.969548  Topic20  -4.4211   2.3156\n",
              "\n",
              "[743 rows x 6 columns], token_table=      Topic      Freq        Term\n",
              "term                             \n",
              "1286     15  0.690130     ability\n",
              "1052     15  0.810296      absent\n",
              "651       5  0.954374  absolutely\n",
              "82        3  0.771788       abuse\n",
              "82       10  0.192947       abuse\n",
              "...     ...       ...         ...\n",
              "38        6  0.120568       would\n",
              "606       5  0.860408       write\n",
              "650       9  0.877945       wrong\n",
              "22        2  0.970257        year\n",
              "1062     13  0.774910         yet\n",
              "\n",
              "[689 rows x 3 columns], R=30, lambda_step=0.01, plot_opts={'xlab': 'PC1', 'ylab': 'PC2'}, topic_order=[2, 11, 16, 3, 17, 9, 5, 13, 4, 6, 18, 12, 8, 10, 15, 14, 20, 19, 1, 7])"
            ]
          },
          "metadata": {},
          "execution_count": 52
        }
      ]
    },
    {
      "cell_type": "markdown",
      "source": [
        "#**Topic Modeling for 'Update on site-wide rules regarding violent content' in r/modnews, 2017:**"
      ],
      "metadata": {
        "id": "F9jQDk1orhq6"
      }
    },
    {
      "cell_type": "markdown",
      "source": [
        "###**Preparing the data:**"
      ],
      "metadata": {
        "id": "OTD6q9Uyhf93"
      }
    },
    {
      "cell_type": "code",
      "source": [
        "data2017 = content17.comment.values.tolist()\n",
        "data2017 = [re.sub('\\s+', ' ', sent) for sent in data2017]\n",
        "data2017 = [re.sub(\"\\'\",\" \", sent) for sent in data2017]"
      ],
      "metadata": {
        "id": "3hNipYgfrhQ7"
      },
      "execution_count": null,
      "outputs": []
    },
    {
      "cell_type": "code",
      "source": [
        "data_words2017 = list(sent_to_words(data2017))"
      ],
      "metadata": {
        "id": "QvGsaSOWrq-b"
      },
      "execution_count": null,
      "outputs": []
    },
    {
      "cell_type": "markdown",
      "source": [
        "###**Building bigrams and trigrams:**"
      ],
      "metadata": {
        "id": "kyCvTd4XhkZ9"
      }
    },
    {
      "cell_type": "code",
      "source": [
        "bigram2017 = gensim.models.Phrases(data_words2017, min_count = 5, threshold = 100) \n",
        "trigram2017 = gensim.models.Phrases(bigram2017[data_words2017], threshold = 100) \n",
        "bigram_mod2017 = gensim.models.phrases.Phraser(bigram2017)\n",
        "trigram_mod2017 = gensim.models.phrases.Phraser(trigram2017)"
      ],
      "metadata": {
        "colab": {
          "base_uri": "https://localhost:8080/"
        },
        "id": "mOsw6xtfruoX",
        "outputId": "054a58bb-1429-45fb-db67-57332cbd9825"
      },
      "execution_count": null,
      "outputs": [
        {
          "output_type": "stream",
          "name": "stderr",
          "text": [
            "/usr/local/lib/python3.7/dist-packages/gensim/models/phrases.py:598: UserWarning: For a faster implementation, use the gensim.models.phrases.Phraser class\n",
            "  warnings.warn(\"For a faster implementation, use the gensim.models.phrases.Phraser class\")\n"
          ]
        }
      ]
    },
    {
      "cell_type": "markdown",
      "source": [
        "###**Removing stopwords, making bigrams and trigrams, and lemmatizing:**"
      ],
      "metadata": {
        "id": "DvgL0doGho1g"
      }
    },
    {
      "cell_type": "code",
      "source": [
        "def make_bigrams2017(texts):\n",
        "    return [bigram_mod2017[doc] for doc in texts]\n",
        "\n",
        "def make_trigrams2017(texts):\n",
        "    return [trigram_mod2017[doc] for doc in texts]\n",
        "\n",
        "def lemmatization2017(texts, allowed_postags = ['NOUN', 'ADJ', 'VERB', 'ADV']):\n",
        "    \"\"\"https://spacy.io/api/annotation\"\"\"\n",
        "    texts_out = []\n",
        "    for sent in texts:\n",
        "        doc = nlp(\" \".join(sent)) \n",
        "        texts_out.append([token.lemma_ for token in doc if token.pos_ in allowed_postags])\n",
        "    return texts_out"
      ],
      "metadata": {
        "id": "IT3vVK87r2fu"
      },
      "execution_count": null,
      "outputs": []
    },
    {
      "cell_type": "code",
      "source": [
        "data_words_nostops2017 = remove_stopwords(data_words2017)\n",
        "data_words_bigrams2017 = make_bigrams2017(data_words_nostops2017)\n",
        "data_words_trigrams2017 = make_trigrams2017(data_words_bigrams2017)\n",
        "data_lemmatized2017 = lemmatization2017(data_words_trigrams2017, allowed_postags = ['NOUN', 'ADJ', 'VERB', 'ADV'])\n",
        "print(data_lemmatized2017[:1])"
      ],
      "metadata": {
        "colab": {
          "base_uri": "https://localhost:8080/"
        },
        "id": "YxfZsjI5r70d",
        "outputId": "e4c37d33-eee0-460e-c5a0-0a0ebb349b7b"
      },
      "execution_count": null,
      "outputs": [
        {
          "output_type": "stream",
          "name": "stdout",
          "text": [
            "[['post', 'announcement', 'user', 'inform', 'wide', 'rule', 'change', 'moderator']]\n"
          ]
        }
      ]
    },
    {
      "cell_type": "markdown",
      "source": [
        "###**Creating dictionary and corpus:**"
      ],
      "metadata": {
        "id": "cKmyAGryhtpP"
      }
    },
    {
      "cell_type": "code",
      "source": [
        "id2word2017 = corpora.Dictionary(data_lemmatized2017)\n",
        "texts2017 = data_lemmatized2017\n",
        "corpus2017 = [id2word2017.doc2bow(text) for text in texts2017]"
      ],
      "metadata": {
        "id": "tXWLczhesEB9"
      },
      "execution_count": null,
      "outputs": []
    },
    {
      "cell_type": "markdown",
      "source": [
        "###**Build the LDA Model**"
      ],
      "metadata": {
        "id": "RUoUhCjQhzKa"
      }
    },
    {
      "cell_type": "code",
      "source": [
        "lda_model2017 = gensim.models.ldamodel.LdaModel(corpus = corpus2017,\n",
        "                                           id2word = id2word2017,\n",
        "                                           num_topics = 20, \n",
        "                                           random_state = 100,\n",
        "                                           update_every = 1,\n",
        "                                           chunksize = 30,\n",
        "                                           passes = 200,\n",
        "                                           alpha = 'auto',\n",
        "                                           per_word_topics = True)"
      ],
      "metadata": {
        "id": "MIW4hPWDsN5w"
      },
      "execution_count": null,
      "outputs": []
    },
    {
      "cell_type": "markdown",
      "source": [
        "##**View the topics for 'Update on site-wide rules regarding violent content' in r/modnews, 2017:**"
      ],
      "metadata": {
        "id": "pBQK86cQh4gC"
      }
    },
    {
      "cell_type": "code",
      "source": [
        "pprint(lda_model2017.print_topics())\n",
        "doc_lda2017 = lda_model2017[corpus2017]"
      ],
      "metadata": {
        "colab": {
          "base_uri": "https://localhost:8080/"
        },
        "id": "eB0k7OpFsTY4",
        "outputId": "4560ccda-56d3-4268-d132-8e9247871c6e"
      },
      "execution_count": null,
      "outputs": [
        {
          "output_type": "stream",
          "name": "stdout",
          "text": [
            "[(0,\n",
            "  '0.048*\"would\" + 0.045*\"prohibit\" + 0.045*\"view\" + 0.034*\"people\" + '\n",
            "  '0.033*\"mention\" + 0.031*\"rule\" + 0.031*\"violence\" + 0.031*\"require\" + '\n",
            "  '0.031*\"change\" + 0.016*\"hold\"'),\n",
            " (1,\n",
            "  '0.123*\"remove\" + 0.002*\"uncensorednew\" + 0.002*\"bad\" + 0.002*\"block\" + '\n",
            "  '0.002*\"chopping\" + 0.002*\"person\" + 0.002*\"sigh\" + 0.002*\"context\" + '\n",
            "  '0.002*\"also\" + 0.002*\"represent\"'),\n",
            " (2,\n",
            "  '0.049*\"number\" + 0.037*\"phone\" + 0.025*\"know\" + 0.025*\"fuck\" + '\n",
            "  '0.025*\"source\" + 0.013*\"bit\" + 0.013*\"law\" + 0.013*\"bcnd\" + 0.013*\"faith\" + '\n",
            "  '0.013*\"behavior\"'),\n",
            " (3,\n",
            "  '0.044*\"kill\" + 0.041*\"call\" + 0.031*\"die\" + 0.029*\"finally\" + '\n",
            "  '0.029*\"remove\" + 0.020*\"clarification\" + 0.020*\"really\" + 0.020*\"literally\" '\n",
            "  '+ 0.020*\"dad\" + 0.020*\"specifically\"'),\n",
            " (4,\n",
            "  '0.078*\"many\" + 0.078*\"clarify\" + 0.002*\"political\" + 0.002*\"uncensorednew\" '\n",
            "  '+ 0.002*\"chopping\" + 0.002*\"person\" + 0.002*\"bad\" + 0.002*\"upset\" + '\n",
            "  '0.002*\"else\" + 0.002*\"encouragement\"'),\n",
            " (5,\n",
            "  '0.117*\"mean\" + 0.070*\"action\" + 0.049*\"incite\" + 0.023*\"take\" + '\n",
            "  '0.023*\"violence\" + 0.023*\"encourage\" + 0.023*\"policy\" + 0.023*\"violation\" + '\n",
            "  '0.023*\"foster\" + 0.023*\"particular\"'),\n",
            " (6,\n",
            "  '0.070*\"incel\" + 0.056*\"call\" + 0.056*\"go\" + 0.044*\"rape\" + 0.031*\"week\" + '\n",
            "  '0.031*\"theredpill\" + 0.029*\"mean\" + 0.029*\"long\" + 0.026*\"would\" + '\n",
            "  '0.016*\"sort\"'),\n",
            " (7,\n",
            "  '0.068*\"post\" + 0.063*\"need\" + 0.059*\"sub\" + 0.048*\"clear\" + 0.045*\"still\" + '\n",
            "  '0.045*\"report\" + 0.045*\"user\" + 0.034*\"would\" + 0.031*\"rule\" + '\n",
            "  '0.030*\"exactly\"'),\n",
            " (8,\n",
            "  '0.041*\"mma\" + 0.002*\"person\" + 0.002*\"upset\" + 0.002*\"bad\" + 0.002*\"block\" '\n",
            "  '+ 0.002*\"chopping\" + 0.002*\"sigh\" + 0.002*\"uncensorednew\" + 0.002*\"context\" '\n",
            "  '+ 0.002*\"encouragement\"'),\n",
            " (9,\n",
            "  '0.082*\"post\" + 0.057*\"kill\" + 0.040*\"announcement\" + 0.022*\"other\" + '\n",
            "  '0.022*\"suggest\" + 0.022*\"shutdown\" + 0.022*\"communist\" + 0.022*\"put\" + '\n",
            "  '0.022*\"online\" + 0.022*\"voilence\"'),\n",
            " (10,\n",
            "  '0.089*\"comment\" + 0.083*\"incel\" + 0.063*\"https\" + 0.033*\"get\" + '\n",
            "  '0.029*\"still\" + 0.028*\"think\" + 0.028*\"support\" + 0.026*\"great\" + '\n",
            "  '0.026*\"people\" + 0.019*\"even\"'),\n",
            " (11,\n",
            "  '0.053*\"stop\" + 0.052*\"change\" + 0.029*\"key\" + 0.029*\"context\" + '\n",
            "  '0.029*\"else\" + 0.025*\"announcement\" + 0.025*\"mobile\" + 0.025*\"ask\" + '\n",
            "  '0.025*\"make\" + 0.025*\"inform\"'),\n",
            " (12,\n",
            "  '0.058*\"go\" + 0.057*\"ban\" + 0.040*\"take\" + 0.040*\"incite\" + 0.039*\"group\" + '\n",
            "  '0.022*\"away\" + 0.022*\"call\" + 0.019*\"physical\" + 0.019*\"rehabilitation\" + '\n",
            "  '0.019*\"simple\"'),\n",
            " (13,\n",
            "  '0.033*\"good\" + 0.017*\"used\" + 0.017*\"visit\" + 0.017*\"point\" + '\n",
            "  '0.017*\"popular\" + 0.017*\"quite\" + 0.017*\"rage\" + 0.017*\"riddance\" + '\n",
            "  '0.017*\"settle\" + 0.017*\"turning\"'),\n",
            " (14,\n",
            "  '0.052*\"rule\" + 0.047*\"comment\" + 0.041*\"sub\" + 0.041*\"content\" + '\n",
            "  '0.041*\"violent\" + 0.037*\"regard\" + 0.031*\"admin\" + 0.031*\"update\" + '\n",
            "  '0.030*\"hate\" + 0.028*\"incel\"'),\n",
            " (15,\n",
            "  '0.095*\"ban\" + 0.078*\"come\" + 0.064*\"people\" + 0.038*\"want\" + 0.032*\"get\" + '\n",
            "  '0.025*\"consider\" + 0.025*\"political\" + 0.025*\"vague\" + 0.025*\"sub\" + '\n",
            "  '0.024*\"group\"'),\n",
            " (16,\n",
            "  '0.045*\"run\" + 0.023*\"banhammer\" + 0.023*\"law\" + 0.023*\"reminder\" + '\n",
            "  '0.023*\"relevance\" + 0.023*\"celebrate\" + 0.023*\"misgendering\" + 0.023*\"sort\" '\n",
            "  '+ 0.023*\"intentional\" + 0.023*\"violate\"'),\n",
            " (17,\n",
            "  '0.032*\"uncensorednew\" + 0.032*\"bad\" + 0.032*\"block\" + 0.032*\"chopping\" + '\n",
            "  '0.032*\"upset\" + 0.032*\"person\" + 0.032*\"get\" + 0.032*\"incel\" + '\n",
            "  '0.002*\"context\" + 0.002*\"encouragement\"'),\n",
            " (18,\n",
            "  '0.056*\"woman\" + 0.050*\"rule\" + 0.045*\"violence\" + 0.021*\"say\" + '\n",
            "  '0.019*\"question\" + 0.019*\"make\" + 0.019*\"definition\" + 0.018*\"content\" + '\n",
            "  '0.018*\"violent\" + 0.018*\"specific\"'),\n",
            " (19,\n",
            "  '0.042*\"promote\" + 0.042*\"shoplift\" + 0.039*\"violent\" + 0.039*\"satire\" + '\n",
            "  '0.039*\"post\" + 0.024*\"haul\" + 0.020*\"define\" + 0.020*\"newsworthy\" + '\n",
            "  '0.020*\"reason\" + 0.020*\"artistic\"')]\n"
          ]
        }
      ]
    },
    {
      "cell_type": "markdown",
      "source": [
        "###**Get perplexity score and coherence score:**"
      ],
      "metadata": {
        "id": "LrgeC_FoiJbC"
      }
    },
    {
      "cell_type": "code",
      "source": [
        "print('\\nPerplexity: ', lda_model2017.log_perplexity(corpus2017))\n",
        "coherence_model_lda2017 = CoherenceModel(model = lda_model2017, texts = data_lemmatized2017, dictionary = id2word2017, coherence = 'c_v')\n",
        "coherence_lda2017 = coherence_model_lda2017.get_coherence()\n",
        "print('\\nCoherence Score: ', coherence_lda2017)"
      ],
      "metadata": {
        "colab": {
          "base_uri": "https://localhost:8080/"
        },
        "id": "-FKTVr0qsXne",
        "outputId": "bfd6d4dc-641c-437b-a339-b6fcc4f9cded"
      },
      "execution_count": null,
      "outputs": [
        {
          "output_type": "stream",
          "name": "stdout",
          "text": [
            "\n",
            "Perplexity:  -6.49595643267927\n",
            "\n",
            "Coherence Score:  0.4870299886552071\n"
          ]
        }
      ]
    },
    {
      "cell_type": "markdown",
      "source": [
        "##**Visualize the topics for 'Update on site-wide rules regarding violent content' in r/modnews, 2017:**"
      ],
      "metadata": {
        "id": "tekiqDtpiCFG"
      }
    },
    {
      "cell_type": "code",
      "source": [
        "pyLDAvis.enable_notebook()\n",
        "lda2017_prepared = gensimvis.prepare(lda_model2017, corpus2017, id2word2017, mds='mmds')\n",
        "lda2017_prepared"
      ],
      "metadata": {
        "colab": {
          "base_uri": "https://localhost:8080/"
        },
        "id": "TD4gl8DGse7b",
        "outputId": "354d835a-1d60-49ea-d288-19395541769b"
      },
      "execution_count": null,
      "outputs": [
        {
          "output_type": "stream",
          "name": "stderr",
          "text": [
            "/usr/local/lib/python3.7/dist-packages/pyLDAvis/_prepare.py:247: FutureWarning: In a future version of pandas all arguments of DataFrame.drop except for the argument 'labels' will be keyword-only\n",
            "  by='saliency', ascending=False).head(R).drop('saliency', 1)\n"
          ]
        },
        {
          "output_type": "execute_result",
          "data": {
            "text/html": [
              "\n",
              "<link rel=\"stylesheet\" type=\"text/css\" href=\"https://cdn.jsdelivr.net/gh/bmabey/pyLDAvis@3.3.1/pyLDAvis/js/ldavis.v1.0.0.css\">\n",
              "\n",
              "\n",
              "<div id=\"ldavis_el1741402710883651365470919997\"></div>\n",
              "<script type=\"text/javascript\">\n",
              "\n",
              "var ldavis_el1741402710883651365470919997_data = {\"mdsDat\": {\"x\": [0.32204043382833997, 0.2608048842240446, -0.29841887004825524, -0.2766072757212467, 0.18838727154824203, -0.09471594082556534, -0.17601039103358962, 0.18211163029947783, 0.020115420623309156, 0.019726921946975978, 0.1117033784227429, -0.08856377229505225, 0.07311440591713791, -0.1632222159330433, 0.0755997630284194, -0.022647213969147244, -0.061149245018555454, -0.034212213262713245, -0.022295952911689204, -0.015761018819832103], \"y\": [-0.060800664953884934, 0.15873135585330495, 0.09313958782031524, -0.07635276284970219, -0.1880061005823793, -0.28541179585224674, -0.15700844938482025, 0.04461530525164549, 0.2571663070284322, -0.24536080397576057, -0.07473161847072098, 0.19789785335886576, 0.16285042713586012, 0.10262217243574526, 0.026025442459636502, 0.09973266067436068, -0.030800284607247444, 0.004868809446138596, -0.025077788295117212, -0.004099652492425244], \"topics\": [1, 2, 3, 4, 5, 6, 7, 8, 9, 10, 11, 12, 13, 14, 15, 16, 17, 18, 19, 20], \"cluster\": [1, 1, 1, 1, 1, 1, 1, 1, 1, 1, 1, 1, 1, 1, 1, 1, 1, 1, 1, 1], \"Freq\": [17.659622792343686, 14.60110590334276, 9.41546523457398, 9.002154250436824, 6.621720930920418, 6.616549542823528, 5.096780506355988, 4.517989760926742, 4.4901974070865425, 4.480361705162089, 3.1493042032726364, 2.9879033906408643, 2.9188126604881592, 2.63962676268814, 2.2978230978207534, 1.7684087834479394, 0.8398060489352935, 0.4983746291303014, 0.2882687260999632, 0.10972366350338737]}, \"tinfo\": {\"Term\": [\"incel\", \"comment\", \"ban\", \"post\", \"remove\", \"rule\", \"go\", \"mean\", \"violent\", \"sub\", \"people\", \"come\", \"call\", \"kill\", \"woman\", \"violence\", \"https\", \"get\", \"change\", \"incite\", \"content\", \"would\", \"user\", \"still\", \"wide\", \"need\", \"regard\", \"group\", \"action\", \"number\", \"regard\", \"hate\", \"place\", \"link\", \"wide\", \"update\", \"believe\", \"keep\", \"follow\", \"bot\", \"drama\", \"oppression\", \"subredditcancer\", \"enforce\", \"remain\", \"example\", \"encouragement\", \"thread\", \"policy\", \"advocate\", \"anarchism\", \"bestdankmeme\", \"censor\", \"compose\", \"confuse\", \"contact\", \"declare\", \"effect\", \"info\", \"message\", \"violent\", \"admin\", \"content\", \"sub\", \"comment\", \"rule\", \"glorify\", \"long\", \"incel\", \"ban\", \"violence\", \"also\", \"woman\", \"say\", \"definition\", \"specific\", \"apply\", \"fine\", \"honestly\", \"mod\", \"guy\", \"gendercritical\", \"judgment\", \"question\", \"chance\", \"equally\", \"global\", \"spectrum\", \"algorithmically\", \"allow\", \"curator\", \"decision\", \"end\", \"exception\", \"generally\", \"induce\", \"last\", \"least\", \"meaning\", \"paragraph\", \"participate\", \"purely\", \"make\", \"problem\", \"violence\", \"rule\", \"vague\", \"actually\", \"violent\", \"content\", \"incite\", \"change\", \"admin\", \"go\", \"still\", \"ban\", \"call\", \"sub\", \"https\", \"support\", \"great\", \"hour\", \"already\", \"text\", \"think\", \"differential\", \"previous\", \"discourage\", \"feel\", \"foremost\", \"harming\", \"instead\", \"approve\", \"count\", \"dovptf\", \"fucking\", \"outright\", \"start\", \"telling\", \"try\", \"see\", \"shit\", \"even\", \"get\", \"comment\", \"incel\", \"pretty\", \"understand\", \"ignore\", \"still\", \"people\", \"actually\", \"ban\", \"go\", \"sub\", \"would\", \"handle\", \"literally\", \"new\", \"die\", \"finally\", \"dad\", \"former\", \"specifically\", \"clarification\", \"really\", \"remove\", \"kill\", \"add\", \"auto\", \"back\", \"care\", \"complete\", \"cycle\", \"derivative\", \"despicable\", \"different\", \"emerge\", \"ever\", \"force\", \"headline\", \"horrible\", \"horrific\", \"maybe\", \"mess\", \"miss\", \"month\", \"must\", \"national\", \"call\", \"literally\", \"subreddit\", \"go\", \"still\", \"handle\", \"self\", \"admin\", \"always\", \"come\", \"political\", \"consider\", \"want\", \"curious\", \"include\", \"aspect\", \"combatfootage\", \"constitute\", \"damned\", \"gamed\", \"glorification\", \"justiceserve\", \"leave\", \"matter\", \"multiple\", \"open\", \"represent\", \"sigh\", \"site\", \"vague\", \"single\", \"wait\", \"people\", \"ban\", \"get\", \"respect\", \"subreddit\", \"violation\", \"group\", \"user\", \"sub\", \"rule\", \"violence\", \"time\", \"number\", \"phone\", \"fuck\", \"source\", \"anti\", \"especially\", \"fact\", \"mind\", \"purpose\", \"raise\", \"relate\", \"result\", \"type\", \"challenge\", \"day\", \"enough\", \"http\", \"later\", \"acceptable\", \"bcnd\", \"behavior\", \"bit\", \"citation\", \"cop\", \"dead\", \"domain\", \"doxxe\", \"esp\", \"faith\", \"ill\", \"know\", \"theredpill\", \"run\", \"good\", \"law\", \"being\", \"human\", \"disagree\", \"rape\", \"week\", \"cause\", \"happen\", \"lot\", \"basis\", \"beat\", \"girl\", \"regular\", \"thing\", \"young\", \"course\", \"fall\", \"much\", \"par\", \"redd\", \"virgin\", \"theredpill\", \"sort\", \"man\", \"long\", \"tell\", \"mean\", \"call\", \"go\", \"know\", \"community\", \"incel\", \"would\", \"pretty\", \"sub\", \"prohibit\", \"mention\", \"require\", \"view\", \"current\", \"express\", \"expressly\", \"generalize\", \"help\", \"however\", \"may\", \"position\", \"racism\", \"sympathy\", \"hold\", \"threat\", \"would\", \"change\", \"individual\", \"want\", \"take\", \"question\", \"people\", \"group\", \"violence\", \"user\", \"post\", \"rule\", \"content\", \"mma\", \"ban\", \"need\", \"clear\", \"exactly\", \"history\", \"categorize\", \"enforcement\", \"guideline\", \"opinion\", \"sidebar\", \"currently\", \"report\", \"particular\", \"post\", \"give\", \"subjective\", \"user\", \"still\", \"community\", \"would\", \"sub\", \"rule\", \"mma\", \"bad\", \"block\", \"chopping\", \"person\", \"uncensorednew\", \"upset\", \"clarify\", \"many\", \"action\", \"long\", \"follow\", \"gendercritical\", \"hate\", \"announcement\", \"change\", \"inform\", \"moderator\", \"accordingly\", \"ago\", \"become\", \"big\", \"dude\", \"find\", \"head\", \"hesitant\", \"home\", \"internet\", \"less\", \"level\", \"opposite\", \"outlet\", \"perfect\", \"plenty\", \"point\", \"popular\", \"quite\", \"rage\", \"read\", \"riddance\", \"settle\", \"turning\", \"used\", \"vile\", \"visit\", \"year\", \"acknowledge\", \"apparent\", \"good\", \"rid\", \"know\", \"away\", \"rehabilitation\", \"room\", \"simple\", \"glorifie\", \"take\", \"right\", \"harm\", \"physical\", \"violation\", \"group\", \"encourage\", \"incite\", \"action\", \"individual\", \"handle\", \"go\", \"ban\", \"user\", \"call\", \"people\", \"content\", \"mma\", \"violence\", \"bad\", \"block\", \"chopping\", \"person\", \"uncensorednew\", \"upset\", \"think\", \"clarify\", \"hate\", \"announcement\", \"change\", \"inform\", \"moderator\", \"announcement\", \"put\", \"communist\", \"could\", \"facist\", \"image\", \"online\", \"other\", \"shutdown\", \"suggest\", \"voilence\", \"whole\", \"exact\", \"phrase\", \"affect\", \"massive\", \"disagree\", \"self\", \"kill\", \"post\", \"handle\", \"change\", \"user\", \"mma\", \"bad\", \"block\", \"chopping\", \"person\", \"uncensorednew\", \"upset\", \"literally\", \"specifically\", \"consider\", \"incite\", \"subreddit\", \"mean\", \"people\", \"promote\", \"shoplift\", \"satire\", \"haul\", \"artistic\", \"define\", \"documentary\", \"educational\", \"newsworthy\", \"sometimes\", \"activity\", \"criminal\", \"merchandise\", \"picture\", \"racist\", \"steal\", \"understand\", \"reason\", \"time\", \"post\", \"violent\", \"people\", \"content\", \"mma\", \"bad\", \"block\", \"chopping\", \"person\", \"uncensorednew\", \"upset\", \"announcement\", \"change\", \"inform\", \"moderator\", \"rule\", \"user\", \"wide\", \"car\", \"celebrate\", \"relevance\", \"reminder\", \"search\", \"banhammer\", \"intentional\", \"live\", \"misgendering\", \"violate\", \"cover\", \"css\", \"fascist\", \"nazi\", \"bold\", \"check\", \"exist\", \"nice\", \"shot\", \"today\", \"run\", \"sort\", \"man\", \"law\", \"mma\", \"bad\", \"block\", \"chopping\", \"person\", \"uncensorednew\", \"hate\", \"see\", \"single\", \"wait\", \"group\", \"people\", \"action\", \"mean\", \"foster\", \"particular\", \"violation\", \"incite\", \"encourage\", \"new\", \"policy\", \"community\", \"individual\", \"take\", \"user\", \"mma\", \"violence\", \"bad\", \"block\", \"chopping\", \"person\", \"uncensorednew\", \"upset\", \"clarify\", \"many\", \"inform\", \"moderator\", \"mobile\", \"context\", \"else\", \"key\", \"affect\", \"announcement\", \"change\", \"post\", \"rule\", \"wide\", \"categorize\", \"sub\", \"exact\", \"handle\", \"kill\", \"phrase\", \"self\", \"add\", \"admin\", \"stop\", \"context\", \"else\", \"key\", \"inform\", \"moderator\", \"mobile\", \"ask\", \"announcement\", \"change\", \"make\", \"wide\", \"user\", \"post\", \"mma\", \"bad\", \"block\", \"chopping\", \"person\", \"uncensorednew\", \"upset\", \"clarify\", \"many\", \"rule\", \"foster\", \"affect\", \"massive\", \"exact\", \"phrase\", \"activity\", \"example\", \"categorize\", \"sub\", \"handle\", \"kill\", \"self\", \"add\", \"admin\", \"always\", \"auto\", \"back\", \"call\", \"care\", \"bad\", \"block\", \"chopping\", \"person\", \"uncensorednew\", \"upset\", \"get\", \"mma\", \"incel\", \"clarify\", \"many\", \"inform\", \"moderator\", \"mobile\", \"foster\", \"context\", \"else\", \"key\", \"affect\", \"massive\", \"exact\", \"phrase\", \"activity\", \"criminal\", \"merchandise\", \"picture\", \"racist\", \"steal\", \"artistic\", \"define\", \"announcement\", \"change\", \"post\", \"rule\", \"user\", \"wide\", \"categorize\", \"sub\", \"handle\", \"kill\", \"self\", \"add\", \"admin\", \"always\", \"auto\", \"back\", \"call\", \"care\", \"clarify\", \"many\", \"mma\", \"bad\", \"block\", \"chopping\", \"person\", \"uncensorednew\", \"upset\", \"inform\", \"moderator\", \"mobile\", \"foster\", \"context\", \"else\", \"key\", \"affect\", \"massive\", \"exact\", \"phrase\", \"activity\", \"criminal\", \"merchandise\", \"picture\", \"racist\", \"steal\", \"artistic\", \"define\", \"documentary\", \"educational\", \"political\", \"announcement\", \"change\", \"post\", \"rule\", \"user\", \"wide\", \"categorize\", \"sub\", \"handle\", \"kill\", \"self\", \"add\", \"admin\", \"always\", \"auto\", \"back\", \"call\", \"care\", \"clarification\", \"complete\", \"cycle\", \"dad\", \"derivative\", \"remove\", \"mma\", \"bad\", \"block\", \"chopping\", \"person\", \"uncensorednew\", \"upset\", \"clarify\", \"many\", \"inform\", \"moderator\", \"mobile\", \"foster\", \"context\", \"else\", \"key\", \"affect\", \"massive\", \"exact\", \"phrase\", \"activity\", \"criminal\", \"merchandise\", \"picture\", \"racist\", \"steal\", \"artistic\", \"define\", \"documentary\", \"announcement\", \"change\", \"post\", \"rule\", \"user\", \"wide\", \"categorize\", \"sub\", \"handle\", \"kill\", \"self\", \"add\", \"admin\", \"always\", \"auto\", \"back\", \"call\", \"care\", \"clarification\", \"complete\", \"cycle\", \"dad\", \"derivative\", \"despicable\", \"die\", \"mma\", \"bad\", \"block\", \"chopping\", \"person\", \"uncensorednew\", \"upset\", \"clarify\", \"many\", \"inform\", \"moderator\", \"mobile\", \"foster\", \"context\", \"else\", \"key\", \"affect\", \"massive\", \"exact\", \"phrase\", \"activity\", \"criminal\", \"merchandise\", \"picture\", \"racist\", \"steal\", \"artistic\", \"define\", \"documentary\", \"educational\", \"announcement\", \"change\", \"post\", \"rule\", \"user\", \"wide\", \"categorize\", \"sub\", \"handle\", \"kill\", \"self\", \"add\", \"admin\", \"always\", \"auto\", \"back\", \"call\", \"care\", \"clarification\", \"complete\", \"cycle\", \"dad\", \"derivative\", \"despicable\", \"die\"], \"Freq\": [15.0, 16.0, 16.0, 8.0, 3.0, 19.0, 10.0, 4.0, 10.0, 14.0, 10.0, 5.0, 9.0, 5.0, 8.0, 12.0, 6.0, 5.0, 5.0, 5.0, 11.0, 6.0, 7.0, 7.0, 5.0, 3.0, 6.0, 4.0, 2.0, 3.0, 6.156313932344656, 4.95934605912442, 2.927368215731492, 2.5933658902371004, 4.291340484483033, 5.140327165837598, 1.9113800637455307, 1.9113800637455307, 1.9113800637455307, 1.744378285229933, 1.744378285229933, 1.744378285229933, 1.744378285229933, 1.7443781312878326, 1.7443781312878326, 2.927368215731492, 1.0623929205646645, 2.5933658902371004, 1.744378285229933, 0.895391526904318, 0.895391526904318, 0.895391526904318, 0.895391526904318, 0.895391526904318, 0.895391526904318, 0.895391526904318, 0.895391526904318, 0.895391526904318, 0.895391526904318, 0.895391526904318, 6.8382989891257235, 5.140327165837598, 6.8382989891257235, 6.852642698275013, 7.687286594132891, 8.536274199140058, 1.7443781312878326, 1.9113800637455307, 4.657010855224452, 4.24442970822023, 2.9145334470505784, 1.1071979998067911, 7.69800367641238, 2.8142893400085844, 2.653738786089228, 2.493188741291712, 1.837546981849665, 1.837546981849665, 1.837546981849665, 1.837546981849665, 1.837546981849665, 1.837546981849665, 1.676996046088929, 2.653739040650148, 1.021354668488262, 1.021354668488262, 1.021354668488262, 1.021354668488262, 0.8608041782091358, 0.8608041782091358, 0.8608041782091358, 0.8608041782091358, 0.8608041782091358, 0.8608041782091358, 0.8608041782091358, 0.8608041782091358, 0.8608041782091358, 0.8608041782091358, 0.8608041782091358, 0.8608041782091358, 0.8608041782091358, 0.8608041782091358, 2.653739040650148, 1.837546981849665, 6.084499833116452, 6.857057095519901, 1.676996046088929, 1.4039456029242654, 2.493188741291712, 2.493188741291712, 1.6457894229218661, 1.676996046088929, 1.837546981849665, 1.9873130623986595, 1.674487602784514, 2.229496212102449, 1.6970434822115794, 1.321198412152174, 5.520115083560704, 2.475107834721313, 2.325364386157611, 1.7138562277022145, 1.7138562277022145, 1.5641126149859133, 2.475107834721313, 0.8028609258905152, 0.8028609258905152, 0.8028609258905152, 0.8028609258905152, 0.8028609258905152, 0.8028609258905152, 0.8028609258905152, 0.8028608438142154, 0.8028608438142154, 0.8028608438142154, 0.8028608438142154, 0.8028608438142154, 0.8028608438142154, 0.8028608438142154, 0.8028608438142154, 1.7138562277022145, 1.7138562277022145, 1.7138562277022145, 2.9178259184809123, 7.886196865439782, 7.272638441015326, 1.6604261980569868, 0.8028609258905152, 1.5641124508333137, 2.550358176974151, 2.310393012463294, 1.207274985448032, 1.3368425200706597, 0.956489538181653, 0.9152813261873695, 0.8268240865333613, 0.8028609258905152, 0.8028609258905152, 0.8028609258905152, 2.600800530211116, 2.4524291581465336, 1.6981526276811183, 1.6981526276811183, 1.6981526276811183, 1.6981526276811183, 1.6981526276811183, 2.4524291581465336, 3.6773589708165737, 0.7955044897309392, 0.7955044897309392, 0.7955044897309392, 0.7955044897309392, 0.7955044897309392, 0.7955044897309392, 0.7955044897309392, 0.7955044897309392, 0.7955044897309392, 0.7955044897309392, 0.7955044897309392, 0.7955044897309392, 0.7955044897309392, 0.7955044897309392, 0.7955044897309392, 0.7955044897309392, 0.7955044897309392, 0.7955044897309392, 0.7955044897309392, 0.7955044897309392, 0.7955044897309392, 3.443973447583197, 1.6981526276811183, 1.1375915149971925, 1.6016295685782163, 1.0158270179394746, 0.7955044897309392, 0.7955044897309392, 0.7955044897309392, 0.7955044897309392, 4.830637903014067, 1.5452165716103918, 1.5452165716103918, 2.3665716447090284, 0.8588701139739701, 0.7238611521753786, 0.7238610944526492, 0.7238610944526492, 0.7238610944526492, 0.7238610944526492, 0.7238610944526492, 0.7238610944526492, 0.7238610944526492, 0.7238610944526492, 0.7238610944526492, 0.7238610944526492, 0.7238610944526492, 0.7238610944526492, 0.7238610944526492, 0.7238610944526492, 1.5452165716103918, 0.8588701139739701, 0.8588701139739701, 3.968728571889368, 5.878585282230319, 1.9674164307978423, 0.7238610944526492, 1.2339379792241996, 0.7238610944526492, 1.5164729612560377, 1.4102074943663414, 1.5295201452379146, 0.7429270274337397, 0.7238610944526492, 0.7238610944526492, 3.036652113095796, 2.2860598681862503, 1.535467392566107, 1.535467392566107, 0.7848750899789121, 0.7848750899789121, 0.7848750899789121, 0.7848750899789121, 0.7848750899789121, 0.7848750899789121, 0.7848750899789121, 0.7848750899789121, 0.7848750899789121, 0.7848750899789121, 0.7848750899789121, 0.7848750899789121, 0.7848750899789121, 0.7848750899789121, 0.7848750899789121, 0.7848750899789121, 0.7848750899789121, 0.7848750899789121, 0.7848750899789121, 0.7848750899789121, 0.7848750899789121, 0.7848750899789121, 0.7848750899789121, 0.7848750899789121, 0.7848750899789121, 0.7848750899789121, 1.535467392566107, 0.7848750899789121, 0.7848750899789121, 0.7848750899789121, 0.7848750899789121, 0.7848750899789121, 0.7848750899789121, 0.7848750899789121, 2.086553316652037, 1.4814170677088878, 0.7572465897379309, 0.7572465897379309, 0.7572465897379309, 0.7572465897379309, 0.7572465897379309, 0.7572465897379309, 0.7572465897379309, 0.7572465897379309, 0.7572465897379309, 0.6382121829919223, 0.6382121829919223, 0.6382121829919223, 0.6382121829919223, 0.6382121829919223, 0.6382121829919223, 1.4814170677088878, 0.7572465897379309, 0.7572465897379309, 1.3623829275401802, 0.6382121829919223, 1.3623829275401802, 2.6636393245416667, 2.6482796736169223, 0.7572465897379309, 0.6382121829919223, 3.329473714300921, 1.2576806050829472, 0.6382121385623721, 0.7377764945511108, 1.922126110419917, 1.4166585619497218, 1.2928817325850561, 1.922126110419917, 0.663637748591469, 0.663637748591469, 0.663637748591469, 0.663637748591469, 0.663637748591469, 0.663637748591469, 0.663637748591469, 0.663637748591469, 0.663637748591469, 0.663637748591469, 0.663637748591469, 0.663637748591469, 2.045902545943309, 1.2928817325850561, 0.663637748591469, 0.663637748591469, 0.663637748591469, 0.663637748591469, 1.428273728796024, 0.663637748591469, 1.2928817325850561, 0.663637748591469, 0.663637748591469, 1.2928817325850561, 0.663637748591469, 0.034393754751850004, 0.663637748591469, 2.632556010410457, 2.0133299626742884, 1.2722979021711074, 1.2722979021711074, 0.6530720501442213, 0.6530720501442213, 0.6530720501442213, 0.6530720501442213, 0.6530720501442213, 0.6530720501442213, 1.8915241064747015, 0.6530720501442213, 2.876168349079334, 0.6745709105047796, 0.6745709105047796, 1.8915241064747015, 1.8949529330991017, 0.6530720501442213, 1.4467376561620686, 2.4590545650021456, 1.284072477142555, 0.03384617610004087, 0.03384617610004087, 0.03384617610004087, 0.03384617610004087, 0.03384617610004087, 0.03384617610004087, 0.03384617610004087, 0.03384617610004087, 0.03384617610004087, 0.033846178546406896, 0.033846178546406896, 0.033846178546406896, 0.033846178546406896, 0.033846178546406896, 0.03384617610004087, 0.03384617610004087, 0.03384617610004087, 0.03384617610004087, 0.7010257403752774, 0.7010257403752774, 0.7010257403752774, 0.7010257403752774, 0.7010257403752774, 0.7010257403752774, 0.7010257403752774, 0.7010257403752774, 0.7010257403752774, 0.7010257403752774, 0.7010257403752774, 0.7010257403752774, 0.7010257403752774, 0.7010257403752774, 0.7010257403752774, 0.7010257403752774, 0.7010257403752774, 0.7010257403752774, 0.7010257403752774, 0.7010257403752774, 0.7010257403752774, 0.7010257403752774, 0.7010257403752774, 0.7010257403752774, 0.7010257403752774, 0.7010257403752774, 0.7010257403752774, 0.7010257403752774, 0.7010257403752774, 0.7010257403752774, 1.371431172679855, 0.7010257403752774, 0.7010257403752774, 0.6609124076909828, 0.5570211724672182, 0.5570211724672182, 0.5570211724672182, 0.5570211724672182, 1.1890654903614135, 0.5570211724672182, 0.5570211724672182, 0.5570211724672182, 0.5570211724672182, 1.1561357767531115, 0.5570211724672182, 1.1869506172171747, 0.5570211724672182, 0.5570211724672182, 0.5570211724672182, 1.723084411276083, 1.6838686081372343, 0.5570211724672182, 0.6383947024673688, 0.557021062655019, 0.557021062655019, 0.028868230493667775, 0.557021062655019, 0.028868230493667775, 0.028868230493667775, 0.028868230493667775, 0.028868230493667775, 0.028868230493667775, 0.028868230493667775, 0.028868233925298997, 0.028868233925298997, 0.028868233925298997, 0.028868230493667775, 0.028868230493667775, 0.028868230493667775, 0.028868230493667775, 1.1064341506619195, 0.6149838148944295, 0.6149838148944295, 0.6149838148944295, 0.6149838148944295, 0.6149838148944295, 0.6149838148944295, 0.6149838148944295, 0.6149838148944295, 0.6149838148944295, 0.6149838148944295, 0.6149838148944295, 0.5183122934444946, 0.5183122934444946, 0.5183122413523147, 0.5183122413523147, 0.6149838148944295, 0.5183122934444946, 1.5812445772162407, 2.282678073465489, 0.5183122934444946, 0.5183122413523147, 0.5183122413523147, 0.026862100930499438, 0.026862100930499438, 0.026862100930499438, 0.026862100930499438, 0.026862100930499438, 0.026862100930499438, 0.026862100930499438, 0.026862105814141304, 0.026862105814141304, 0.026862105814141304, 0.02686210418626068, 0.02686210418626068, 0.02686210255838006, 0.02686210255838006, 1.1564473854953172, 1.1564473854953172, 1.0554059304252712, 0.6427824338202818, 0.5417411314131177, 0.5417411314131177, 0.5417411314131177, 0.5417411314131177, 0.5417411314131177, 0.5417411314131177, 0.5417410805254904, 0.5417410805254904, 0.5417410805254904, 0.5417410805254904, 0.5417410805254904, 0.5417410805254904, 0.5417411314131177, 0.5417411314131177, 0.5417410805254904, 1.0554059304252712, 1.0554059304252712, 0.5417410296378631, 0.5417410296378631, 0.028076326040010854, 0.028076326040010854, 0.028076326040010854, 0.028076326040010854, 0.028076326040010854, 0.028076326040010854, 0.028076326040010854, 0.028076326040010854, 0.028076326040010854, 0.028076326040010854, 0.028076326040010854, 0.028076326040010854, 0.028076326040010854, 0.028076326040010854, 0.5671440193581354, 0.5671440193581354, 0.5671440193581354, 0.5671440193581354, 0.5671440193581354, 0.5671440193581354, 0.5671440193581354, 0.5671440193581354, 0.5671440193581354, 0.5671440193581354, 0.5671440193581354, 0.5671440193581354, 0.5671440193581354, 0.5671440193581354, 0.5671440193581354, 0.5671440193581354, 0.5671440193581354, 0.5671440193581354, 0.5671440193581354, 0.5671440193581354, 1.10951554902888, 0.5671440193581354, 0.5671440193581354, 0.5671440193581354, 0.024772486811128452, 0.024772486811128452, 0.024772486811128452, 0.024772486811128452, 0.024772486811128452, 0.024772486811128452, 0.0247724983161785, 0.024772492563653475, 0.024772492563653475, 0.024772492563653475, 0.024772492563653475, 0.024772492563653475, 1.5048212755342336, 2.521518093279828, 0.4881250587047265, 0.4881250587047265, 0.4881250587047265, 1.0615431853027817, 0.4881250587047265, 0.4881250587047265, 0.4881250587047265, 0.4881250587047265, 0.4881250587047265, 0.5048186277789887, 0.4881250587047265, 0.025297615803416395, 0.4920358205975602, 0.025297615803416395, 0.025297615803416395, 0.025297615803416395, 0.025297615803416395, 0.025297615803416395, 0.025297615803416395, 0.025297615803416395, 0.025297615803416395, 0.025297615803416395, 0.025297615803416395, 0.025297615803416395, 0.025297615803416395, 0.025297615803416395, 0.025297615803416395, 0.025297615803416395, 0.025297615803416395, 0.025297615803416395, 0.025297615803416395, 0.025297615803416395, 0.025297615803416395, 0.025297615803416395, 0.025297615803416395, 0.025297615803416395, 0.025297615803416395, 0.025297615803416395, 0.025297615803416395, 0.025297615803416395, 0.025297615803416395, 0.025297615803416395, 0.8755392785187038, 0.486646663917943, 0.486646663917943, 0.486646663917943, 0.41014888228204666, 0.41014888228204666, 0.41014888228204666, 0.41014888228204666, 0.41014888228204666, 0.8687989276078699, 0.41014888228204666, 0.41014888228204666, 0.41014888228204666, 0.41014888228204666, 0.021256416055826163, 0.021256416055826163, 0.021256416055826163, 0.021256416055826163, 0.021256416055826163, 0.021256416055826163, 0.021256416055826163, 0.021256416055826163, 0.021256416055826163, 0.41014882061990005, 0.021256416055826163, 0.021256416055826163, 0.021256416055826163, 0.021256416055826163, 0.021256416055826163, 0.021256416055826163, 0.021256421836652408, 0.021256416055826163, 0.021256416055826163, 0.021256416055826163, 0.021256416055826163, 0.021256416055826163, 0.021256416055826163, 0.021256416055826163, 0.021256416055826163, 0.021256416055826163, 0.021256416055826163, 0.021256416055826163, 0.021256416055826163, 0.25432912586904055, 0.25432912586904055, 0.25432912586904055, 0.25432912586904055, 0.25432912586904055, 0.25432912586904055, 0.2543290965860805, 0.013180885320766025, 0.25432906730312044, 0.013180885320766025, 0.013180885320766025, 0.013180885320766025, 0.013180885320766025, 0.013180885320766025, 0.013180885320766025, 0.013180885320766025, 0.013180885320766025, 0.013180885320766025, 0.013180885320766025, 0.013180885320766025, 0.013180885320766025, 0.013180885320766025, 0.013180885320766025, 0.013180885320766025, 0.013180885320766025, 0.013180885320766025, 0.013180885320766025, 0.013180885320766025, 0.013180885320766025, 0.013180885320766025, 0.013180885320766025, 0.013180885320766025, 0.013180885320766025, 0.013180885320766025, 0.013180885320766025, 0.013180885320766025, 0.013180885320766025, 0.013180885320766025, 0.013180885320766025, 0.013180885320766025, 0.013180885320766025, 0.013180885320766025, 0.013180885320766025, 0.013180885320766025, 0.013180885320766025, 0.013180885320766025, 0.013180885320766025, 0.013180885320766025, 0.362269003721215, 0.362269003721215, 0.008795196810061995, 0.008795196810061995, 0.008795196810061995, 0.008795196810061995, 0.008795196810061995, 0.008795196810061995, 0.008795196810061995, 0.008795196810061995, 0.008795196810061995, 0.008795196810061995, 0.008795196810061995, 0.008795196810061995, 0.008795196810061995, 0.008795196810061995, 0.008795196810061995, 0.008795196810061995, 0.008795196810061995, 0.008795196810061995, 0.008795196810061995, 0.008795196810061995, 0.008795196810061995, 0.008795196810061995, 0.008795196810061995, 0.008795196810061995, 0.008795196810061995, 0.008795196810061995, 0.008795196810061995, 0.008795196810061995, 0.008795197353114627, 0.008795196810061995, 0.008795196810061995, 0.008795196810061995, 0.008795196810061995, 0.008795196810061995, 0.008795196810061995, 0.008795196810061995, 0.008795196810061995, 0.008795196810061995, 0.008795196810061995, 0.008795196810061995, 0.008795196810061995, 0.008795196810061995, 0.008795196810061995, 0.008795196810061995, 0.008795196810061995, 0.008795196810061995, 0.008795196810061995, 0.008795196810061995, 0.008795196810061995, 0.008795196810061995, 0.008795196810061995, 0.008795196810061995, 0.33239040116244695, 0.005269052687756045, 0.005269052687756045, 0.005269052687756045, 0.005269052687756045, 0.005269052687756045, 0.005269052687756045, 0.005269052687756045, 0.005269052687756045, 0.005269052687756045, 0.005269052687756045, 0.005269052687756045, 0.005269052687756045, 0.005269052687756045, 0.005269052687756045, 0.005269052687756045, 0.005269052687756045, 0.005269052687756045, 0.005269052687756045, 0.005269052687756045, 0.005269052687756045, 0.005269052687756045, 0.005269052687756045, 0.005269052687756045, 0.005269052687756045, 0.005269052687756045, 0.005269052687756045, 0.005269052687756045, 0.005269052687756045, 0.005269052687756045, 0.005269052687756045, 0.005269052687756045, 0.005269052687756045, 0.005269052687756045, 0.005269052687756045, 0.005269052687756045, 0.005269052687756045, 0.005269052687756045, 0.005269052687756045, 0.005269052687756045, 0.005269052687756045, 0.005269052687756045, 0.005269052687756045, 0.005269052687756045, 0.005269052687756045, 0.005269052687756045, 0.005269052687756045, 0.005269052687756045, 0.005269052687756045, 0.005269052687756045, 0.005269052687756045, 0.005269052687756045, 0.005269052687756045, 0.005269052687756045, 0.005269052687756045, 0.042316312558673436, 0.002193089142863842, 0.002193089142863842, 0.002193089142863842, 0.002193089142863842, 0.002193089142863842, 0.002193089142863842, 0.002193089142863842, 0.002193089142863842, 0.002193089142863842, 0.002193089142863842, 0.002193089142863842, 0.002193089142863842, 0.002193089142863842, 0.002193089142863842, 0.002193089142863842, 0.002193089142863842, 0.002193089142863842, 0.002193089142863842, 0.002193089142863842, 0.002193089142863842, 0.002193089142863842, 0.002193089142863842, 0.002193089142863842, 0.002193089142863842, 0.002193089142863842, 0.002193089142863842, 0.002193089142863842, 0.002193089142863842, 0.002193089142863842, 0.002193089142863842, 0.002193089142863842, 0.002193089142863842, 0.002193089142863842, 0.002193089142863842, 0.002193089142863842, 0.002193089142863842, 0.002193089142863842, 0.002193089142863842, 0.002193089142863842, 0.002193089142863842, 0.002193089142863842, 0.002193089142863842, 0.002193089142863842, 0.002193089142863842, 0.002193089142863842, 0.002193089142863842, 0.002193089142863842, 0.002193089142863842, 0.002193089142863842, 0.002193089142863842, 0.002193089142863842, 0.002193089142863842, 0.002193089142863842, 0.002193089142863842], \"Total\": [15.0, 16.0, 16.0, 8.0, 3.0, 19.0, 10.0, 4.0, 10.0, 14.0, 10.0, 5.0, 9.0, 5.0, 8.0, 12.0, 6.0, 5.0, 5.0, 5.0, 11.0, 6.0, 7.0, 7.0, 5.0, 3.0, 6.0, 4.0, 2.0, 3.0, 6.672068558972144, 5.475100703137771, 3.443122882708456, 3.1091205132597364, 5.195987573731888, 6.472273847660715, 2.427134686768167, 2.4271346903730198, 2.427134712146203, 2.2601329082525687, 2.2601329082525687, 2.2601329082525687, 2.2601329082525687, 2.2601327543104683, 2.2601327543104683, 4.259314850509765, 1.5781475435873002, 3.870372212614672, 2.722960351153879, 1.4111461499269538, 1.4111461499269538, 1.4111461499269538, 1.4111461499269538, 1.4111461499269538, 1.4111461499269538, 1.4111461499269538, 1.4111461499269538, 1.4111461499269538, 1.4111461499269538, 1.4111461499269538, 10.82995983841668, 8.203293253207729, 11.473691763630244, 14.140569882769231, 16.936103319177995, 19.46749261257896, 3.076324813110952, 3.756441594563735, 15.941340625963763, 16.365616563074738, 12.409900996453855, 2.3404441297015133, 8.21555083833877, 3.3318365286366345, 3.1712859380146483, 3.0107358884064417, 2.355094128964395, 2.3550941317412417, 2.3550941325720656, 2.3550941338464093, 2.3550941338464093, 2.355094140770957, 2.1945431932036588, 3.8005301816044965, 1.5389018156029914, 1.5389018156029914, 1.5389018156029914, 1.5389018156029914, 1.3783513253238653, 1.3783513253238653, 1.3783513253238653, 1.3783513253238653, 1.3783513253238653, 1.3783513253238653, 1.3783513253238653, 1.3783513253238653, 1.3783513253238653, 1.3783513253238653, 1.3783513253238653, 1.3783513253238653, 1.3783513253238653, 1.3783513253238653, 4.3144552555617395, 3.1093707280940297, 12.409900996453855, 19.46749261257896, 3.702244875455247, 3.0871585934687547, 10.82995983841668, 11.473691763630244, 5.206651416523654, 5.65572541602561, 8.203293253207729, 10.138548973892938, 7.536489678114475, 16.365616563074738, 9.828054258431436, 14.140569882769231, 6.64580125751124, 2.995657960390268, 2.8459145082217137, 2.234406349766317, 2.234406362074372, 2.0846627370500155, 3.8118500190175295, 1.3234110479546173, 1.3234110479546173, 1.3234110528592045, 1.3234110528592045, 1.3234110528592045, 1.3234110528592045, 1.3234110528592045, 1.3234109658783175, 1.3234109658783175, 1.3234109658783175, 1.3234109658783175, 1.3234109658783175, 1.3234109658783175, 1.3234109658783175, 1.3234109658783175, 2.988682954648477, 2.9886829562189736, 3.083393238051903, 5.6094257920855215, 16.936103319177995, 15.941340625963763, 3.6595904872508487, 1.8370758582323115, 3.6551311035470744, 7.536489678114475, 10.098030424965513, 3.0871585934687547, 16.365616563074738, 10.138548973892938, 14.140569882769231, 6.858722748909505, 3.097290781571798, 3.7965278487185565, 2.6352253742594995, 3.1217319133429, 2.9733605396223055, 2.2190840036031965, 2.2190840036031965, 2.2190840084868384, 2.2190840108129026, 2.2190840108129026, 3.3004818861481553, 5.752672828578087, 1.3164358656530168, 1.3164358656530168, 1.3164358656530168, 1.3164358656530168, 1.3164358656530168, 1.3164358656530168, 1.3164358656530168, 1.3164358656530168, 1.3164358656530168, 1.3164358656530168, 1.3164358656530168, 1.3164358656530168, 1.3164358656530168, 1.3164358656530168, 1.3164358656530168, 1.3164358656530168, 1.3164358656530168, 1.3164358656530168, 1.3164358656530168, 1.3164358656530168, 1.3164358656530168, 9.828054258431436, 3.7965278487185565, 3.703932860234293, 10.138548973892938, 7.536489678114475, 3.097290781571798, 1.8078860607318963, 8.203293253207729, 2.1326279244535002, 5.355282279014799, 2.0698609460858313, 2.069860946448906, 3.5204600157132258, 1.3835144839288422, 1.248505522130251, 1.2485054644075215, 1.2485054644075215, 1.2485054644075215, 1.2485054644075215, 1.2485054644075215, 1.2485054644075215, 1.2485054644075215, 1.2485054644075215, 1.2485054644075215, 1.2485054644075215, 1.2485054644075215, 1.2485054644075215, 1.2485054644075215, 1.2485054644075215, 3.702244875455247, 2.137791088811002, 2.137791088811002, 10.098030424965513, 16.365616563074738, 5.6094257920855215, 2.097492347811093, 3.703932860234293, 2.2394858492823824, 4.7351036810382165, 7.14208366346196, 14.140569882769231, 19.46749261257896, 12.409900996453855, 2.578362277693484, 3.5645285381546645, 2.813936293245119, 2.063343817624976, 2.063343817624976, 1.3127515150377804, 1.3127515150377804, 1.3127515150377804, 1.3127515150377804, 1.3127515150377804, 1.3127515150377804, 1.3127515150377804, 1.3127515150377804, 1.3127515150377804, 1.3127515150377804, 1.3127515150377804, 1.3127515150377804, 1.3127515150377804, 1.3127515150377804, 1.3127515150377804, 1.3127515150377804, 1.3127515150377804, 1.3127515150377804, 1.3127515150377804, 1.3127515150377804, 1.3127515150377804, 1.3127515150377804, 1.3127515150377804, 1.3127515150377804, 1.3127515150377804, 1.3127515150377804, 3.457919748165697, 2.76109253762402, 2.397494577255532, 2.653562333267797, 1.8551230475847873, 1.983156900963219, 1.983156900963219, 1.9008732290017105, 2.6156365380527706, 2.0105002891096215, 1.2863298111386643, 1.2863298111386643, 1.2863298111386643, 1.2863298111386643, 1.2863298111386643, 1.2863298111386643, 1.2863298111386643, 1.2863298111386643, 1.2863298111386643, 1.1672954043926556, 1.1672954043926556, 1.1672954043926556, 1.1672954043926556, 1.1672954043926556, 1.1672954043926556, 2.76109253762402, 1.8287013436856712, 1.8287013436856712, 3.756441594563735, 2.0162822877962276, 4.38768663202272, 9.828054258431436, 10.138548973892938, 3.457919748165697, 3.0036253230326655, 15.941340625963763, 6.858722748909505, 3.6595904872508487, 14.140569882769231, 2.449891622191449, 1.9444241018628745, 1.8206472443565882, 3.2660836809919327, 1.1914032603630011, 1.1914032603630011, 1.1914032603630011, 1.1914032603630011, 1.1914032603630011, 1.1914032603630011, 1.1914032603630011, 1.1914032603630011, 1.1914032603630011, 1.1914032603630011, 2.0075953191634843, 2.0075953191634843, 6.858722748909505, 5.65572541602561, 3.031370528641433, 3.5204600157132258, 3.6178747053838207, 3.8005301816044965, 10.098030424965513, 4.7351036810382165, 12.409900996453855, 7.14208366346196, 8.467015185929672, 19.46749261257896, 11.473691763630244, 0.6022824899391915, 16.365616563074738, 3.1608691123936805, 2.5416430559738927, 1.8006109925944487, 1.8006109925944487, 1.1813851405675624, 1.1813851405675624, 1.1813851405675624, 1.1813851405675624, 1.1813851405675624, 1.1813851405675624, 3.990305854828161, 1.6442125834688726, 8.467015185929672, 1.990738783610104, 1.990738783610104, 7.14208366346196, 7.536489678114475, 3.0036253230326655, 6.858722748909505, 14.140569882769231, 19.46749261257896, 0.6022824899391915, 0.8033075070716565, 0.8033075070716565, 0.8033075070716565, 0.8033075070716565, 0.8033075070716565, 0.8033075070716565, 0.9156330864875476, 0.9156330870334307, 2.569835893605786, 3.756441594563735, 2.427134712146203, 2.355094140770957, 5.475100703137771, 2.030623782481023, 5.65572541602561, 0.9510517327496024, 0.9510517327496024, 1.232564652448821, 1.232564652448821, 1.232564652448821, 1.232564652448821, 1.232564652448821, 1.232564652448821, 1.232564652448821, 1.232564652448821, 1.232564652448821, 1.232564652448821, 1.232564652448821, 1.232564652448821, 1.232564652448821, 1.232564652448821, 1.232564652448821, 1.232564652448821, 1.232564652448821, 1.232564652448821, 1.232564652448821, 1.232564652448821, 1.232564652448821, 1.232564652448821, 1.232564652448821, 1.232564652448821, 1.232564652448821, 1.232564652448821, 1.232564652448821, 1.232564652448821, 1.232564652448821, 1.232564652448821, 2.653562333267797, 1.2325646552256677, 3.457919748165697, 1.194203443720697, 1.0903122084969323, 1.0903122084969323, 1.0903122084969323, 1.0903122084969323, 3.6178747053838207, 1.939299091900504, 1.939299091900504, 1.939299091900504, 2.2394858492823824, 4.7351036810382165, 2.4021265348018144, 5.206651416523654, 2.569835893605786, 3.031370528641433, 3.097290781571798, 10.138548973892938, 16.365616563074738, 7.14208366346196, 9.828054258431436, 10.098030424965513, 11.473691763630244, 0.6022824899391915, 12.409900996453855, 0.8033075070716565, 0.8033075070716565, 0.8033075070716565, 0.8033075070716565, 0.8033075070716565, 0.8033075070716565, 3.8118500190175295, 0.9156330864875476, 5.475100703137771, 2.030623782481023, 5.65572541602561, 0.9510517327496024, 0.9510517327496024, 2.030623782481023, 1.150280980487312, 1.150280980487312, 1.150280980487312, 1.150280980487312, 1.150280980487312, 1.150280980487312, 1.150280980487312, 1.150280980487312, 1.150280980487312, 1.150280980487312, 1.150280980487312, 1.0536094590373772, 1.0536094590373772, 1.0536094069451973, 1.0536094069451973, 1.9008732290017105, 1.8078860607318963, 5.752672828578087, 8.467015185929672, 3.097290781571798, 5.65572541602561, 7.14208366346196, 0.6022824899391915, 0.8033075070716565, 0.8033075070716565, 0.8033075070716565, 0.8033075070716565, 0.8033075070716565, 0.8033075070716565, 3.7965278487185565, 2.2190840084868384, 2.069860946448906, 5.206651416523654, 3.703932860234293, 4.38768663202272, 10.098030424965513, 1.6905303259786884, 1.6905303259786884, 1.5894888709086423, 1.176865374303653, 1.0758240718964889, 1.0758240718964889, 1.0758240718964889, 1.0758240718964889, 1.0758240718964889, 1.0758240718964889, 1.0758240210088617, 1.0758240210088617, 1.0758240210088617, 1.0758240210088617, 1.0758240210088617, 1.0758240210088617, 1.8370758582323115, 1.9248109553000607, 2.578362277693484, 8.467015185929672, 10.82995983841668, 10.098030424965513, 11.473691763630244, 0.6022824899391915, 0.8033075070716565, 0.8033075070716565, 0.8033075070716565, 0.8033075070716565, 0.8033075070716565, 0.8033075070716565, 2.030623782481023, 5.65572541602561, 0.9510517327496024, 0.9510517327496024, 19.46749261257896, 7.14208366346196, 5.195987573731888, 1.104530799070389, 1.104530799070389, 1.104530799070389, 1.104530799070389, 1.104530799070389, 1.104530799070389, 1.104530799070389, 1.104530799070389, 1.104530799070389, 1.104530799070389, 1.104530799070389, 1.104530799070389, 1.104530799070389, 1.104530799070389, 1.104530799070389, 1.104530799070389, 1.104530799070389, 1.104530799070389, 1.104530799070389, 1.104530799070389, 2.397494577255532, 1.8287013436856712, 1.8287013436856712, 1.8551230475847873, 0.6022824899391915, 0.8033075070716565, 0.8033075070716565, 0.8033075070716565, 0.8033075070716565, 0.8033075070716565, 5.475100703137771, 2.988682954648477, 2.137791088811002, 2.137791088811002, 4.7351036810382165, 10.098030424965513, 2.569835893605786, 4.38768663202272, 1.024986709424692, 1.6442125834688726, 2.2394858492823824, 5.206651416523654, 2.4021265348018144, 2.6352253742594995, 2.722960351153879, 3.0036253230326655, 3.031370528641433, 3.6178747053838207, 7.14208366346196, 0.6022824899391915, 12.409900996453855, 0.8033075070716565, 0.8033075070716565, 0.8033075070716565, 0.8033075070716565, 0.8033075070716565, 0.8033075070716565, 0.9156330864875476, 0.9156330870334307, 0.9510517327496024, 0.9510517327496024, 0.9510517327496024, 1.027549514385499, 1.027549514385499, 1.027549514385499, 1.0536094069451973, 2.030623782481023, 5.65572541602561, 8.467015185929672, 19.46749261257896, 5.195987573731888, 1.1813851405675624, 14.140569882769231, 1.0536094590373772, 3.097290781571798, 5.752672828578087, 1.0536094590373772, 1.8078860607318963, 1.3164358656530168, 8.203293253207729, 1.4164421522458657, 1.027549514385499, 1.027549514385499, 1.027549514385499, 0.9510517327496024, 0.9510517327496024, 0.9510517327496024, 1.7672437915500858, 2.030623782481023, 5.65572541602561, 4.3144552555617395, 5.195987573731888, 7.14208366346196, 8.467015185929672, 0.6022824899391915, 0.8033075070716565, 0.8033075070716565, 0.8033075070716565, 0.8033075070716565, 0.8033075070716565, 0.8033075070716565, 0.9156330864875476, 0.9156330870334307, 19.46749261257896, 1.024986709424692, 1.0536094069451973, 1.0536094069451973, 1.0536094590373772, 1.0536094590373772, 1.0758240210088617, 4.259314850509765, 1.1813851405675624, 14.140569882769231, 3.097290781571798, 5.752672828578087, 1.8078860607318963, 1.3164358656530168, 8.203293253207729, 2.1326279244535002, 1.3164358656530168, 1.3164358656530168, 9.828054258431436, 1.3164358656530168, 0.8033075070716565, 0.8033075070716565, 0.8033075070716565, 0.8033075070716565, 0.8033075070716565, 0.8033075070716565, 5.6094257920855215, 0.6022824899391915, 15.941340625963763, 0.9156330864875476, 0.9156330870334307, 0.9510517327496024, 0.9510517327496024, 0.9510517327496024, 1.024986709424692, 1.027549514385499, 1.027549514385499, 1.027549514385499, 1.0536094069451973, 1.0536094069451973, 1.0536094590373772, 1.0536094590373772, 1.0758240210088617, 1.0758240210088617, 1.0758240210088617, 1.0758240210088617, 1.0758240210088617, 1.0758240210088617, 1.0758240718964889, 1.0758240718964889, 2.030623782481023, 5.65572541602561, 8.467015185929672, 19.46749261257896, 7.14208366346196, 5.195987573731888, 1.1813851405675624, 14.140569882769231, 3.097290781571798, 5.752672828578087, 1.8078860607318963, 1.3164358656530168, 8.203293253207729, 2.1326279244535002, 1.3164358656530168, 1.3164358656530168, 9.828054258431436, 1.3164358656530168, 0.9156330864875476, 0.9156330870334307, 0.6022824899391915, 0.8033075070716565, 0.8033075070716565, 0.8033075070716565, 0.8033075070716565, 0.8033075070716565, 0.8033075070716565, 0.9510517327496024, 0.9510517327496024, 0.9510517327496024, 1.024986709424692, 1.027549514385499, 1.027549514385499, 1.027549514385499, 1.0536094069451973, 1.0536094069451973, 1.0536094590373772, 1.0536094590373772, 1.0758240210088617, 1.0758240210088617, 1.0758240210088617, 1.0758240210088617, 1.0758240210088617, 1.0758240210088617, 1.0758240718964889, 1.0758240718964889, 1.0758240718964889, 1.0758240718964889, 2.0698609460858313, 2.030623782481023, 5.65572541602561, 8.467015185929672, 19.46749261257896, 7.14208366346196, 5.195987573731888, 1.1813851405675624, 14.140569882769231, 3.097290781571798, 5.752672828578087, 1.8078860607318963, 1.3164358656530168, 8.203293253207729, 2.1326279244535002, 1.3164358656530168, 1.3164358656530168, 9.828054258431436, 1.3164358656530168, 2.2190840108129026, 1.3164358656530168, 1.3164358656530168, 2.2190840036031965, 1.3164358656530168, 3.3004818861481553, 0.6022824899391915, 0.8033075070716565, 0.8033075070716565, 0.8033075070716565, 0.8033075070716565, 0.8033075070716565, 0.8033075070716565, 0.9156330864875476, 0.9156330870334307, 0.9510517327496024, 0.9510517327496024, 0.9510517327496024, 1.024986709424692, 1.027549514385499, 1.027549514385499, 1.027549514385499, 1.0536094069451973, 1.0536094069451973, 1.0536094590373772, 1.0536094590373772, 1.0758240210088617, 1.0758240210088617, 1.0758240210088617, 1.0758240210088617, 1.0758240210088617, 1.0758240210088617, 1.0758240718964889, 1.0758240718964889, 1.0758240718964889, 2.030623782481023, 5.65572541602561, 8.467015185929672, 19.46749261257896, 7.14208366346196, 5.195987573731888, 1.1813851405675624, 14.140569882769231, 3.097290781571798, 5.752672828578087, 1.8078860607318963, 1.3164358656530168, 8.203293253207729, 2.1326279244535002, 1.3164358656530168, 1.3164358656530168, 9.828054258431436, 1.3164358656530168, 2.2190840108129026, 1.3164358656530168, 1.3164358656530168, 2.2190840036031965, 1.3164358656530168, 1.3164358656530168, 3.1217319133429, 0.6022824899391915, 0.8033075070716565, 0.8033075070716565, 0.8033075070716565, 0.8033075070716565, 0.8033075070716565, 0.8033075070716565, 0.9156330864875476, 0.9156330870334307, 0.9510517327496024, 0.9510517327496024, 0.9510517327496024, 1.024986709424692, 1.027549514385499, 1.027549514385499, 1.027549514385499, 1.0536094069451973, 1.0536094069451973, 1.0536094590373772, 1.0536094590373772, 1.0758240210088617, 1.0758240210088617, 1.0758240210088617, 1.0758240210088617, 1.0758240210088617, 1.0758240210088617, 1.0758240718964889, 1.0758240718964889, 1.0758240718964889, 1.0758240718964889, 2.030623782481023, 5.65572541602561, 8.467015185929672, 19.46749261257896, 7.14208366346196, 5.195987573731888, 1.1813851405675624, 14.140569882769231, 3.097290781571798, 5.752672828578087, 1.8078860607318963, 1.3164358656530168, 8.203293253207729, 2.1326279244535002, 1.3164358656530168, 1.3164358656530168, 9.828054258431436, 1.3164358656530168, 2.2190840108129026, 1.3164358656530168, 1.3164358656530168, 2.2190840036031965, 1.3164358656530168, 1.3164358656530168, 3.1217319133429], \"Category\": [\"Default\", \"Default\", \"Default\", \"Default\", \"Default\", \"Default\", \"Default\", \"Default\", \"Default\", \"Default\", \"Default\", \"Default\", \"Default\", \"Default\", \"Default\", \"Default\", \"Default\", \"Default\", \"Default\", \"Default\", \"Default\", \"Default\", \"Default\", \"Default\", \"Default\", \"Default\", \"Default\", \"Default\", \"Default\", \"Default\", \"Topic1\", \"Topic1\", \"Topic1\", \"Topic1\", \"Topic1\", \"Topic1\", \"Topic1\", \"Topic1\", \"Topic1\", \"Topic1\", \"Topic1\", \"Topic1\", \"Topic1\", \"Topic1\", \"Topic1\", \"Topic1\", \"Topic1\", \"Topic1\", \"Topic1\", \"Topic1\", \"Topic1\", \"Topic1\", \"Topic1\", \"Topic1\", \"Topic1\", \"Topic1\", \"Topic1\", \"Topic1\", \"Topic1\", \"Topic1\", \"Topic1\", \"Topic1\", \"Topic1\", \"Topic1\", \"Topic1\", \"Topic1\", \"Topic1\", \"Topic1\", \"Topic1\", \"Topic1\", \"Topic1\", \"Topic1\", \"Topic2\", \"Topic2\", \"Topic2\", \"Topic2\", \"Topic2\", \"Topic2\", \"Topic2\", \"Topic2\", \"Topic2\", \"Topic2\", \"Topic2\", \"Topic2\", \"Topic2\", \"Topic2\", \"Topic2\", \"Topic2\", \"Topic2\", \"Topic2\", \"Topic2\", \"Topic2\", \"Topic2\", \"Topic2\", \"Topic2\", \"Topic2\", \"Topic2\", \"Topic2\", \"Topic2\", \"Topic2\", \"Topic2\", \"Topic2\", \"Topic2\", \"Topic2\", \"Topic2\", \"Topic2\", \"Topic2\", \"Topic2\", \"Topic2\", \"Topic2\", \"Topic2\", \"Topic2\", \"Topic2\", \"Topic2\", \"Topic2\", \"Topic2\", \"Topic2\", \"Topic2\", \"Topic3\", \"Topic3\", \"Topic3\", \"Topic3\", \"Topic3\", \"Topic3\", \"Topic3\", \"Topic3\", \"Topic3\", \"Topic3\", \"Topic3\", \"Topic3\", \"Topic3\", \"Topic3\", \"Topic3\", \"Topic3\", \"Topic3\", \"Topic3\", \"Topic3\", \"Topic3\", \"Topic3\", \"Topic3\", \"Topic3\", \"Topic3\", \"Topic3\", \"Topic3\", \"Topic3\", \"Topic3\", \"Topic3\", \"Topic3\", \"Topic3\", \"Topic3\", \"Topic3\", \"Topic3\", \"Topic3\", \"Topic3\", \"Topic3\", \"Topic3\", \"Topic3\", \"Topic3\", \"Topic3\", \"Topic4\", \"Topic4\", \"Topic4\", \"Topic4\", \"Topic4\", \"Topic4\", \"Topic4\", \"Topic4\", \"Topic4\", \"Topic4\", \"Topic4\", \"Topic4\", \"Topic4\", \"Topic4\", \"Topic4\", \"Topic4\", \"Topic4\", \"Topic4\", \"Topic4\", \"Topic4\", \"Topic4\", \"Topic4\", \"Topic4\", \"Topic4\", \"Topic4\", \"Topic4\", \"Topic4\", \"Topic4\", \"Topic4\", \"Topic4\", \"Topic4\", \"Topic4\", \"Topic4\", \"Topic4\", \"Topic4\", \"Topic4\", \"Topic4\", \"Topic4\", \"Topic4\", \"Topic5\", \"Topic5\", \"Topic5\", \"Topic5\", \"Topic5\", \"Topic5\", \"Topic5\", \"Topic5\", \"Topic5\", \"Topic5\", \"Topic5\", \"Topic5\", \"Topic5\", \"Topic5\", \"Topic5\", \"Topic5\", \"Topic5\", \"Topic5\", \"Topic5\", \"Topic5\", \"Topic5\", \"Topic5\", \"Topic5\", \"Topic5\", \"Topic5\", \"Topic5\", \"Topic5\", \"Topic5\", \"Topic5\", \"Topic5\", \"Topic5\", \"Topic5\", \"Topic5\", \"Topic5\", \"Topic5\", \"Topic6\", \"Topic6\", \"Topic6\", \"Topic6\", \"Topic6\", \"Topic6\", \"Topic6\", \"Topic6\", \"Topic6\", \"Topic6\", \"Topic6\", \"Topic6\", \"Topic6\", \"Topic6\", \"Topic6\", \"Topic6\", \"Topic6\", \"Topic6\", \"Topic6\", \"Topic6\", \"Topic6\", \"Topic6\", \"Topic6\", \"Topic6\", \"Topic6\", \"Topic6\", \"Topic6\", \"Topic6\", \"Topic6\", \"Topic6\", \"Topic6\", \"Topic6\", \"Topic6\", \"Topic6\", \"Topic6\", \"Topic6\", \"Topic6\", \"Topic6\", \"Topic7\", \"Topic7\", \"Topic7\", \"Topic7\", \"Topic7\", \"Topic7\", \"Topic7\", \"Topic7\", \"Topic7\", \"Topic7\", \"Topic7\", \"Topic7\", \"Topic7\", \"Topic7\", \"Topic7\", \"Topic7\", \"Topic7\", \"Topic7\", \"Topic7\", \"Topic7\", \"Topic7\", \"Topic7\", \"Topic7\", \"Topic7\", \"Topic7\", \"Topic7\", \"Topic7\", \"Topic7\", \"Topic7\", \"Topic7\", \"Topic7\", \"Topic8\", \"Topic8\", \"Topic8\", \"Topic8\", \"Topic8\", \"Topic8\", \"Topic8\", \"Topic8\", \"Topic8\", \"Topic8\", \"Topic8\", \"Topic8\", \"Topic8\", \"Topic8\", \"Topic8\", \"Topic8\", \"Topic8\", \"Topic8\", \"Topic8\", \"Topic8\", \"Topic8\", \"Topic8\", \"Topic8\", \"Topic8\", \"Topic8\", \"Topic8\", \"Topic8\", \"Topic8\", \"Topic8\", \"Topic8\", \"Topic8\", \"Topic9\", \"Topic9\", \"Topic9\", \"Topic9\", \"Topic9\", \"Topic9\", \"Topic9\", \"Topic9\", \"Topic9\", \"Topic9\", \"Topic9\", \"Topic9\", \"Topic9\", \"Topic9\", \"Topic9\", \"Topic9\", \"Topic9\", \"Topic9\", \"Topic9\", \"Topic9\", \"Topic9\", \"Topic9\", \"Topic9\", \"Topic9\", \"Topic9\", \"Topic9\", \"Topic9\", \"Topic9\", \"Topic9\", \"Topic9\", \"Topic9\", \"Topic9\", \"Topic9\", \"Topic9\", \"Topic9\", \"Topic9\", \"Topic9\", \"Topic9\", \"Topic9\", \"Topic10\", \"Topic10\", \"Topic10\", \"Topic10\", \"Topic10\", \"Topic10\", \"Topic10\", \"Topic10\", \"Topic10\", \"Topic10\", \"Topic10\", \"Topic10\", \"Topic10\", \"Topic10\", \"Topic10\", \"Topic10\", \"Topic10\", \"Topic10\", \"Topic10\", \"Topic10\", \"Topic10\", \"Topic10\", \"Topic10\", \"Topic10\", \"Topic10\", \"Topic10\", \"Topic10\", \"Topic10\", \"Topic10\", \"Topic10\", \"Topic10\", \"Topic10\", \"Topic10\", \"Topic11\", \"Topic11\", \"Topic11\", \"Topic11\", \"Topic11\", \"Topic11\", \"Topic11\", \"Topic11\", \"Topic11\", \"Topic11\", \"Topic11\", \"Topic11\", \"Topic11\", \"Topic11\", \"Topic11\", \"Topic11\", \"Topic11\", \"Topic11\", \"Topic11\", \"Topic11\", \"Topic11\", \"Topic11\", \"Topic11\", \"Topic11\", \"Topic11\", \"Topic11\", \"Topic11\", \"Topic11\", \"Topic11\", \"Topic11\", \"Topic11\", \"Topic11\", \"Topic11\", \"Topic11\", \"Topic11\", \"Topic11\", \"Topic11\", \"Topic12\", \"Topic12\", \"Topic12\", \"Topic12\", \"Topic12\", \"Topic12\", \"Topic12\", \"Topic12\", \"Topic12\", \"Topic12\", \"Topic12\", \"Topic12\", \"Topic12\", \"Topic12\", \"Topic12\", \"Topic12\", \"Topic12\", \"Topic12\", \"Topic12\", \"Topic12\", \"Topic12\", \"Topic12\", \"Topic12\", \"Topic12\", \"Topic12\", \"Topic12\", \"Topic12\", \"Topic12\", \"Topic12\", \"Topic12\", \"Topic12\", \"Topic12\", \"Topic12\", \"Topic12\", \"Topic12\", \"Topic12\", \"Topic12\", \"Topic13\", \"Topic13\", \"Topic13\", \"Topic13\", \"Topic13\", \"Topic13\", \"Topic13\", \"Topic13\", \"Topic13\", \"Topic13\", \"Topic13\", \"Topic13\", \"Topic13\", \"Topic13\", \"Topic13\", \"Topic13\", \"Topic13\", \"Topic13\", \"Topic13\", \"Topic13\", \"Topic13\", \"Topic13\", \"Topic13\", \"Topic13\", \"Topic13\", \"Topic13\", \"Topic13\", \"Topic13\", \"Topic13\", \"Topic13\", \"Topic13\", \"Topic13\", \"Topic13\", \"Topic13\", \"Topic13\", \"Topic13\", \"Topic13\", \"Topic14\", \"Topic14\", \"Topic14\", \"Topic14\", \"Topic14\", \"Topic14\", \"Topic14\", \"Topic14\", \"Topic14\", \"Topic14\", \"Topic14\", \"Topic14\", \"Topic14\", \"Topic14\", \"Topic14\", \"Topic14\", \"Topic14\", \"Topic14\", \"Topic14\", \"Topic14\", \"Topic14\", \"Topic14\", \"Topic14\", \"Topic14\", \"Topic14\", \"Topic14\", \"Topic14\", \"Topic14\", \"Topic14\", \"Topic14\", \"Topic14\", \"Topic14\", \"Topic14\", \"Topic14\", \"Topic14\", \"Topic14\", \"Topic15\", \"Topic15\", \"Topic15\", \"Topic15\", \"Topic15\", \"Topic15\", \"Topic15\", \"Topic15\", \"Topic15\", \"Topic15\", \"Topic15\", \"Topic15\", \"Topic15\", \"Topic15\", \"Topic15\", \"Topic15\", \"Topic15\", \"Topic15\", \"Topic15\", \"Topic15\", \"Topic15\", \"Topic15\", \"Topic15\", \"Topic15\", \"Topic15\", \"Topic15\", \"Topic15\", \"Topic15\", \"Topic15\", \"Topic15\", \"Topic15\", \"Topic15\", \"Topic15\", \"Topic15\", \"Topic15\", \"Topic15\", \"Topic15\", \"Topic15\", \"Topic15\", \"Topic15\", \"Topic15\", \"Topic15\", \"Topic15\", \"Topic15\", \"Topic16\", \"Topic16\", \"Topic16\", \"Topic16\", \"Topic16\", \"Topic16\", \"Topic16\", \"Topic16\", \"Topic16\", \"Topic16\", \"Topic16\", \"Topic16\", \"Topic16\", \"Topic16\", \"Topic16\", \"Topic16\", \"Topic16\", \"Topic16\", \"Topic16\", \"Topic16\", \"Topic16\", \"Topic16\", \"Topic16\", \"Topic16\", \"Topic16\", \"Topic16\", \"Topic16\", \"Topic16\", \"Topic16\", \"Topic16\", \"Topic16\", \"Topic16\", \"Topic16\", \"Topic16\", \"Topic16\", \"Topic16\", \"Topic16\", \"Topic16\", \"Topic16\", \"Topic16\", \"Topic16\", \"Topic16\", \"Topic16\", \"Topic17\", \"Topic17\", \"Topic17\", \"Topic17\", \"Topic17\", \"Topic17\", \"Topic17\", \"Topic17\", \"Topic17\", \"Topic17\", \"Topic17\", \"Topic17\", \"Topic17\", \"Topic17\", \"Topic17\", \"Topic17\", \"Topic17\", \"Topic17\", \"Topic17\", \"Topic17\", \"Topic17\", \"Topic17\", \"Topic17\", \"Topic17\", \"Topic17\", \"Topic17\", \"Topic17\", \"Topic17\", \"Topic17\", \"Topic17\", \"Topic17\", \"Topic17\", \"Topic17\", \"Topic17\", \"Topic17\", \"Topic17\", \"Topic17\", \"Topic17\", \"Topic17\", \"Topic17\", \"Topic17\", \"Topic17\", \"Topic17\", \"Topic17\", \"Topic17\", \"Topic17\", \"Topic17\", \"Topic17\", \"Topic18\", \"Topic18\", \"Topic18\", \"Topic18\", \"Topic18\", \"Topic18\", \"Topic18\", \"Topic18\", \"Topic18\", \"Topic18\", \"Topic18\", \"Topic18\", \"Topic18\", \"Topic18\", \"Topic18\", \"Topic18\", \"Topic18\", \"Topic18\", \"Topic18\", \"Topic18\", \"Topic18\", \"Topic18\", \"Topic18\", \"Topic18\", \"Topic18\", \"Topic18\", \"Topic18\", \"Topic18\", \"Topic18\", \"Topic18\", \"Topic18\", \"Topic18\", \"Topic18\", \"Topic18\", \"Topic18\", \"Topic18\", \"Topic18\", \"Topic18\", \"Topic18\", \"Topic18\", \"Topic18\", \"Topic18\", \"Topic18\", \"Topic18\", \"Topic18\", \"Topic18\", \"Topic18\", \"Topic18\", \"Topic18\", \"Topic18\", \"Topic18\", \"Topic18\", \"Topic18\", \"Topic18\", \"Topic19\", \"Topic19\", \"Topic19\", \"Topic19\", \"Topic19\", \"Topic19\", \"Topic19\", \"Topic19\", \"Topic19\", \"Topic19\", \"Topic19\", \"Topic19\", \"Topic19\", \"Topic19\", \"Topic19\", \"Topic19\", \"Topic19\", \"Topic19\", \"Topic19\", \"Topic19\", \"Topic19\", \"Topic19\", \"Topic19\", \"Topic19\", \"Topic19\", \"Topic19\", \"Topic19\", \"Topic19\", \"Topic19\", \"Topic19\", \"Topic19\", \"Topic19\", \"Topic19\", \"Topic19\", \"Topic19\", \"Topic19\", \"Topic19\", \"Topic19\", \"Topic19\", \"Topic19\", \"Topic19\", \"Topic19\", \"Topic19\", \"Topic19\", \"Topic19\", \"Topic19\", \"Topic19\", \"Topic19\", \"Topic19\", \"Topic19\", \"Topic19\", \"Topic19\", \"Topic19\", \"Topic19\", \"Topic19\", \"Topic20\", \"Topic20\", \"Topic20\", \"Topic20\", \"Topic20\", \"Topic20\", \"Topic20\", \"Topic20\", \"Topic20\", \"Topic20\", \"Topic20\", \"Topic20\", \"Topic20\", \"Topic20\", \"Topic20\", \"Topic20\", \"Topic20\", \"Topic20\", \"Topic20\", \"Topic20\", \"Topic20\", \"Topic20\", \"Topic20\", \"Topic20\", \"Topic20\", \"Topic20\", \"Topic20\", \"Topic20\", \"Topic20\", \"Topic20\", \"Topic20\", \"Topic20\", \"Topic20\", \"Topic20\", \"Topic20\", \"Topic20\", \"Topic20\", \"Topic20\", \"Topic20\", \"Topic20\", \"Topic20\", \"Topic20\", \"Topic20\", \"Topic20\", \"Topic20\", \"Topic20\", \"Topic20\", \"Topic20\", \"Topic20\", \"Topic20\", \"Topic20\", \"Topic20\", \"Topic20\", \"Topic20\", \"Topic20\"], \"logprob\": [30.0, 29.0, 28.0, 27.0, 26.0, 25.0, 24.0, 23.0, 22.0, 21.0, 20.0, 19.0, 18.0, 17.0, 16.0, 15.0, 14.0, 13.0, 12.0, 11.0, 10.0, 9.0, 8.0, 7.0, 6.0, 5.0, 4.0, 3.0, 2.0, 1.0, -3.2902, -3.5065, -4.0336, -4.1548, -3.6511, -3.4706, -4.4599, -4.4599, -4.4599, -4.5513, -4.5513, -4.5513, -4.5513, -4.5513, -4.5513, -4.0336, -5.0472, -4.1548, -4.5513, -5.2182, -5.2182, -5.2182, -5.2182, -5.2182, -5.2182, -5.2182, -5.2182, -5.2182, -5.2182, -5.2182, -3.1852, -3.4706, -3.1852, -3.1831, -3.0682, -2.9634, -4.5513, -4.4599, -3.5694, -3.6621, -4.038, -5.0059, -2.8766, -3.8828, -3.9416, -4.004, -4.3091, -4.3091, -4.3091, -4.3091, -4.3091, -4.3091, -4.4005, -3.9416, -4.8964, -4.8964, -4.8964, -4.8964, -5.0674, -5.0674, -5.0674, -5.0674, -5.0674, -5.0674, -5.0674, -5.0674, -5.0674, -5.0674, -5.0674, -5.0674, -5.0674, -5.0674, -3.9416, -4.3091, -3.1118, -2.9923, -4.4005, -4.5783, -4.004, -4.004, -4.4193, -4.4005, -4.3091, -4.2308, -4.402, -4.1158, -4.3887, -4.639, -2.7704, -3.5725, -3.6349, -3.9401, -3.9401, -4.0315, -3.5725, -4.6984, -4.6984, -4.6984, -4.6984, -4.6984, -4.6984, -4.6984, -4.6984, -4.6984, -4.6984, -4.6984, -4.6984, -4.6984, -4.6984, -4.6984, -3.9401, -3.9401, -3.9401, -3.408, -2.4137, -2.4947, -3.9717, -4.6984, -4.0315, -3.5426, -3.6414, -4.2904, -4.1885, -4.5233, -4.5673, -4.669, -4.6984, -4.6984, -4.6984, -3.4781, -3.5368, -3.9044, -3.9044, -3.9044, -3.9044, -3.9044, -3.5368, -3.1317, -4.6627, -4.6627, -4.6627, -4.6627, -4.6627, -4.6627, -4.6627, -4.6627, -4.6627, -4.6627, -4.6627, -4.6627, -4.6627, -4.6627, -4.6627, -4.6627, -4.6627, -4.6627, -4.6627, -4.6627, -4.6627, -3.1973, -3.9044, -4.305, -3.9629, -4.4182, -4.6627, -4.6627, -4.6627, -4.6627, -2.5518, -3.6916, -3.6916, -3.2654, -4.2789, -4.45, -4.45, -4.45, -4.45, -4.45, -4.45, -4.45, -4.45, -4.45, -4.45, -4.45, -4.45, -4.45, -4.45, -4.45, -3.6916, -4.2789, -4.2789, -2.7484, -2.3555, -3.4501, -4.45, -3.9166, -4.45, -3.7104, -3.7831, -3.7018, -4.424, -4.45, -4.45, -3.0153, -3.2992, -3.6972, -3.6972, -4.3683, -4.3683, -4.3683, -4.3683, -4.3683, -4.3683, -4.3683, -4.3683, -4.3683, -4.3683, -4.3683, -4.3683, -4.3683, -4.3683, -4.3683, -4.3683, -4.3683, -4.3683, -4.3683, -4.3683, -4.3683, -4.3683, -4.3683, -4.3683, -4.3683, -4.3683, -3.6972, -4.3683, -4.3683, -4.3683, -4.3683, -4.3683, -4.3683, -4.3683, -3.1295, -3.4721, -4.1431, -4.1431, -4.1431, -4.1431, -4.1431, -4.1431, -4.1431, -4.1431, -4.1431, -4.3141, -4.3141, -4.3141, -4.3141, -4.3141, -4.3141, -3.4721, -4.1431, -4.1431, -3.5558, -4.3141, -3.5558, -2.8854, -2.8911, -4.1431, -4.3141, -2.6622, -3.6358, -4.3141, -4.1692, -3.0911, -3.3962, -3.4876, -3.0911, -4.1545, -4.1545, -4.1545, -4.1545, -4.1545, -4.1545, -4.1545, -4.1545, -4.1545, -4.1545, -4.1545, -4.1545, -3.0287, -3.4876, -4.1545, -4.1545, -4.1545, -4.1545, -3.388, -4.1545, -3.4876, -4.1545, -4.1545, -3.4876, -4.1545, -7.1144, -4.1545, -2.7704, -3.0386, -3.4975, -3.4975, -4.1644, -4.1644, -4.1644, -4.1644, -4.1644, -4.1644, -3.101, -4.1644, -2.6819, -4.132, -4.132, -3.101, -3.0991, -4.1644, -3.369, -2.8386, -3.4883, -7.1243, -7.1243, -7.1243, -7.1243, -7.1243, -7.1243, -7.1243, -7.1243, -7.1243, -7.1243, -7.1243, -7.1243, -7.1243, -7.1243, -7.1243, -7.1243, -7.1243, -7.1243, -4.0914, -4.0914, -4.0914, -4.0914, -4.0914, -4.0914, -4.0914, -4.0914, -4.0914, -4.0914, -4.0914, -4.0914, -4.0914, -4.0914, -4.0914, -4.0914, -4.0914, -4.0914, -4.0914, -4.0914, -4.0914, -4.0914, -4.0914, -4.0914, -4.0914, -4.0914, -4.0914, -4.0914, -4.0914, -4.0914, -3.4203, -4.0914, -4.0914, -3.7978, -3.9688, -3.9688, -3.9688, -3.9688, -3.2105, -3.9688, -3.9688, -3.9688, -3.9688, -3.2385, -3.9688, -3.2122, -3.9688, -3.9688, -3.9688, -2.8395, -2.8625, -3.9688, -3.8324, -3.9688, -3.9688, -6.9286, -3.9688, -6.9286, -6.9286, -6.9286, -6.9286, -6.9286, -6.9286, -6.9286, -6.9286, -6.9286, -6.9286, -6.9286, -6.9286, -6.9286, -3.2299, -3.8172, -3.8172, -3.8172, -3.8172, -3.8172, -3.8172, -3.8172, -3.8172, -3.8172, -3.8172, -3.8172, -3.9882, -3.9882, -3.9882, -3.9882, -3.8172, -3.9882, -2.8728, -2.5057, -3.9882, -3.9882, -3.9882, -6.9481, -6.9481, -6.9481, -6.9481, -6.9481, -6.9481, -6.9481, -6.9481, -6.9481, -6.9481, -6.9481, -6.9481, -6.9481, -6.9481, -3.1623, -3.1623, -3.2537, -3.7496, -3.9206, -3.9206, -3.9206, -3.9206, -3.9206, -3.9206, -3.9206, -3.9206, -3.9206, -3.9206, -3.9206, -3.9206, -3.9206, -3.9206, -3.9206, -3.2537, -3.2537, -3.9206, -3.9206, -6.8805, -6.8805, -6.8805, -6.8805, -6.8805, -6.8805, -6.8805, -6.8805, -6.8805, -6.8805, -6.8805, -6.8805, -6.8805, -6.8805, -3.7742, -3.7742, -3.7742, -3.7742, -3.7742, -3.7742, -3.7742, -3.7742, -3.7742, -3.7742, -3.7742, -3.7742, -3.7742, -3.7742, -3.7742, -3.7742, -3.7742, -3.7742, -3.7742, -3.7742, -3.1032, -3.7742, -3.7742, -3.7742, -6.9051, -6.9051, -6.9051, -6.9051, -6.9051, -6.9051, -6.9051, -6.9051, -6.9051, -6.9051, -6.9051, -6.9051, -2.6597, -2.1435, -3.7856, -3.7856, -3.7856, -3.0087, -3.7856, -3.7856, -3.7856, -3.7856, -3.7856, -3.752, -3.7856, -6.7455, -3.7776, -6.7455, -6.7455, -6.7455, -6.7455, -6.7455, -6.7455, -6.7455, -6.7455, -6.7455, -6.7455, -6.7455, -6.7455, -6.7455, -6.7455, -6.7455, -6.7455, -6.7455, -6.7455, -6.7455, -6.7455, -6.7455, -6.7455, -6.7455, -6.7455, -6.7455, -6.7455, -6.7455, -6.7455, -6.7455, -2.9394, -3.5267, -3.5267, -3.5267, -3.6978, -3.6978, -3.6978, -3.6978, -3.6978, -2.9472, -3.6978, -3.6978, -3.6978, -3.6978, -6.6576, -6.6576, -6.6576, -6.6576, -6.6576, -6.6576, -6.6576, -6.6576, -6.6576, -3.6978, -6.6576, -6.6576, -6.6576, -6.6576, -6.6576, -6.6576, -6.6576, -6.6576, -6.6576, -6.6576, -6.6576, -6.6576, -6.6576, -6.6576, -6.6576, -6.6576, -6.6576, -6.6576, -6.6576, -3.431, -3.431, -3.431, -3.431, -3.431, -3.431, -3.431, -6.3908, -3.431, -6.3908, -6.3908, -6.3908, -6.3908, -6.3908, -6.3908, -6.3908, -6.3908, -6.3908, -6.3908, -6.3908, -6.3908, -6.3908, -6.3908, -6.3908, -6.3908, -6.3908, -6.3908, -6.3908, -6.3908, -6.3908, -6.3908, -6.3908, -6.3908, -6.3908, -6.3908, -6.3908, -6.3908, -6.3908, -6.3908, -6.3908, -6.3908, -6.3908, -6.3908, -6.3908, -6.3908, -6.3908, -6.3908, -6.3908, -2.5554, -2.5554, -6.2736, -6.2736, -6.2736, -6.2736, -6.2736, -6.2736, -6.2736, -6.2736, -6.2736, -6.2736, -6.2736, -6.2736, -6.2736, -6.2736, -6.2736, -6.2736, -6.2736, -6.2736, -6.2736, -6.2736, -6.2736, -6.2736, -6.2736, -6.2736, -6.2736, -6.2736, -6.2736, -6.2736, -6.2736, -6.2736, -6.2736, -6.2736, -6.2736, -6.2736, -6.2736, -6.2736, -6.2736, -6.2736, -6.2736, -6.2736, -6.2736, -6.2736, -6.2736, -6.2736, -6.2736, -6.2736, -6.2736, -6.2736, -6.2736, -6.2736, -6.2736, -6.2736, -2.094, -6.2385, -6.2385, -6.2385, -6.2385, -6.2385, -6.2385, -6.2385, -6.2385, -6.2385, -6.2385, -6.2385, -6.2385, -6.2385, -6.2385, -6.2385, -6.2385, -6.2385, -6.2385, -6.2385, -6.2385, -6.2385, -6.2385, -6.2385, -6.2385, -6.2385, -6.2385, -6.2385, -6.2385, -6.2385, -6.2385, -6.2385, -6.2385, -6.2385, -6.2385, -6.2385, -6.2385, -6.2385, -6.2385, -6.2385, -6.2385, -6.2385, -6.2385, -6.2385, -6.2385, -6.2385, -6.2385, -6.2385, -6.2385, -6.2385, -6.2385, -6.2385, -6.2385, -6.2385, -6.2385, -3.1892, -6.1491, -6.1491, -6.1491, -6.1491, -6.1491, -6.1491, -6.1491, -6.1491, -6.1491, -6.1491, -6.1491, -6.1491, -6.1491, -6.1491, -6.1491, -6.1491, -6.1491, -6.1491, -6.1491, -6.1491, -6.1491, -6.1491, -6.1491, -6.1491, -6.1491, -6.1491, -6.1491, -6.1491, -6.1491, -6.1491, -6.1491, -6.1491, -6.1491, -6.1491, -6.1491, -6.1491, -6.1491, -6.1491, -6.1491, -6.1491, -6.1491, -6.1491, -6.1491, -6.1491, -6.1491, -6.1491, -6.1491, -6.1491, -6.1491, -6.1491, -6.1491, -6.1491, -6.1491, -6.1491], \"loglift\": [30.0, 29.0, 28.0, 27.0, 26.0, 25.0, 24.0, 23.0, 22.0, 21.0, 20.0, 19.0, 18.0, 17.0, 16.0, 15.0, 14.0, 13.0, 12.0, 11.0, 10.0, 9.0, 8.0, 7.0, 6.0, 5.0, 4.0, 3.0, 2.0, 1.0, 1.6534, 1.635, 1.5716, 1.5525, 1.5426, 1.5035, 1.495, 1.495, 1.495, 1.4749, 1.4749, 1.4749, 1.4749, 1.4749, 1.4749, 1.3589, 1.3382, 1.3335, 1.2886, 1.279, 1.279, 1.279, 1.279, 1.279, 1.279, 1.279, 1.279, 1.279, 1.279, 1.279, 1.2741, 1.2665, 1.2164, 1.0095, 0.944, 0.9095, 1.1666, 1.0582, 0.5033, 0.3843, 0.2851, 0.9854, 1.859, 1.7553, 1.7459, 1.7355, 1.6759, 1.6759, 1.6759, 1.6759, 1.6759, 1.6759, 1.6551, 1.5649, 1.5141, 1.5141, 1.5141, 1.5141, 1.4533, 1.4533, 1.4533, 1.4533, 1.4533, 1.4533, 1.4533, 1.4533, 1.4533, 1.4533, 1.4533, 1.4533, 1.4533, 1.4533, 1.4381, 1.3981, 1.2113, 0.8806, 1.1321, 1.1361, 0.4553, 0.3976, 0.7724, 0.7084, 0.428, 0.2945, 0.4198, -0.0693, 0.1677, -0.4464, 2.1772, 2.1719, 2.1608, 2.0976, 2.0976, 2.0755, 1.931, 1.863, 1.863, 1.863, 1.863, 1.863, 1.863, 1.863, 1.863, 1.863, 1.863, 1.863, 1.863, 1.863, 1.863, 1.863, 1.8067, 1.8067, 1.7755, 1.7092, 1.5985, 1.578, 1.5725, 1.5351, 1.514, 1.2793, 0.8879, 1.4239, -0.1421, 0.002, -0.3748, 0.2471, 1.0127, 0.8092, 1.1743, 2.2251, 2.2151, 2.1402, 2.1402, 2.1402, 2.1402, 2.1402, 2.1107, 1.9602, 1.904, 1.904, 1.904, 1.904, 1.904, 1.904, 1.904, 1.904, 1.904, 1.904, 1.904, 1.904, 1.904, 1.904, 1.904, 1.904, 1.904, 1.904, 1.904, 1.904, 1.904, 1.3591, 1.6032, 1.2272, 0.5624, 0.4037, 1.0484, 1.5868, 0.0744, 1.4216, 2.6117, 2.4225, 2.4225, 2.3177, 2.2381, 2.1697, 2.1697, 2.1697, 2.1697, 2.1697, 2.1697, 2.1697, 2.1697, 2.1697, 2.1697, 2.1697, 2.1697, 2.1697, 2.1697, 2.1697, 1.841, 1.8029, 1.8029, 1.7809, 1.6909, 1.6671, 1.6509, 1.6156, 1.5854, 1.5762, 1.0925, 0.4907, -0.5511, -0.1268, 1.4445, 2.5553, 2.5078, 2.4201, 2.4201, 2.2012, 2.2012, 2.2012, 2.2012, 2.2012, 2.2012, 2.2012, 2.2012, 2.2012, 2.2012, 2.2012, 2.2012, 2.2012, 2.2012, 2.2012, 2.2012, 2.2012, 2.2012, 2.2012, 2.2012, 2.2012, 2.2012, 2.2012, 2.2012, 2.2012, 2.2012, 1.9038, 1.4577, 1.5989, 1.4975, 1.8554, 1.7887, 1.7887, 1.8311, 2.7506, 2.6712, 2.4467, 2.4467, 2.4467, 2.4467, 2.4467, 2.4467, 2.4467, 2.4467, 2.4467, 2.3728, 2.3728, 2.3728, 2.3728, 2.3728, 2.3728, 2.3539, 2.0949, 2.0949, 1.9623, 1.8262, 1.807, 1.671, 1.6341, 1.4578, 1.4277, 1.4105, 1.2803, 1.2301, 0.0234, 2.8545, 2.7804, 2.7548, 2.5669, 2.512, 2.512, 2.512, 2.512, 2.512, 2.512, 2.512, 2.512, 2.512, 2.512, 1.9901, 1.9901, 1.8874, 1.6213, 1.5781, 1.4285, 1.4012, 1.3519, 1.1412, 1.1321, 0.8355, 0.7211, 0.5509, 0.3852, 0.247, 0.2343, -0.1081, 2.9204, 2.8703, 2.756, 2.756, 2.5105, 2.5105, 2.5105, 2.5105, 2.5105, 2.5105, 2.3568, 2.1799, 2.0236, 2.0211, 2.0211, 1.7747, 1.7227, 1.5774, 1.5471, 1.354, 0.3846, 0.2244, -0.0636, -0.0636, -0.0636, -0.0636, -0.0636, -0.0636, -0.1945, -0.1945, -1.2265, -1.6061, -1.1694, -1.1392, -1.9829, -0.991, -2.0153, -0.2325, -0.2325, 2.5412, 2.5412, 2.5412, 2.5412, 2.5412, 2.5412, 2.5412, 2.5412, 2.5412, 2.5412, 2.5412, 2.5412, 2.5412, 2.5412, 2.5412, 2.5412, 2.5412, 2.5412, 2.5412, 2.5412, 2.5412, 2.5412, 2.5412, 2.5412, 2.5412, 2.5412, 2.5412, 2.5412, 2.5412, 2.5412, 2.4454, 2.5412, 1.5096, 2.8664, 2.7864, 2.7864, 2.7864, 2.7864, 2.3453, 2.2105, 2.2105, 2.2105, 2.0666, 2.0481, 1.9965, 1.9794, 1.929, 1.7638, 1.7423, 1.6858, 1.1839, 0.9068, 0.7239, 0.5605, 0.4328, 0.42, 0.3543, 0.132, 0.132, 0.132, 0.132, 0.132, 0.132, -1.4251, 0.0011, -1.7872, -0.7954, -1.8197, -0.0368, -0.0368, 2.9034, 2.8844, 2.8844, 2.8844, 2.8844, 2.8844, 2.8844, 2.8844, 2.8844, 2.8844, 2.8844, 2.8844, 2.8012, 2.8012, 2.8012, 2.8012, 2.3821, 2.2613, 2.2191, 2.1998, 1.7229, 1.1208, 0.8874, 0.4006, 0.1126, 0.1126, 0.1126, 0.1126, 0.1126, 0.1126, -1.4405, -0.9035, -0.8339, -1.7564, -1.4158, -1.5852, -2.4188, 3.1543, 3.1543, 3.1245, 2.9292, 2.8479, 2.8479, 2.8479, 2.8479, 2.8479, 2.8479, 2.8479, 2.8479, 2.8479, 2.8479, 2.8479, 2.8479, 2.3129, 2.2662, 1.9739, 1.4517, 1.2056, 0.6087, 0.481, 0.4682, 0.1802, 0.1802, 0.1802, 0.1802, 0.1802, 0.1802, -0.7472, -1.7715, 0.0114, 0.0114, -3.0076, -2.0048, -1.6867, 2.968, 2.968, 2.968, 2.968, 2.968, 2.968, 2.968, 2.968, 2.968, 2.968, 2.968, 2.968, 2.968, 2.968, 2.968, 2.968, 2.968, 2.968, 2.968, 2.968, 2.864, 2.4638, 2.4638, 2.4494, 0.4435, 0.1555, 0.1555, 0.1555, 0.1555, 0.1555, -1.7637, -1.1583, -0.8233, -0.8233, -1.6185, -2.3758, 3.238, 3.2193, 3.0313, 2.5588, 2.2498, 2.183, 2.1797, 2.0871, 2.0543, 1.9562, 1.947, 1.8038, 1.09, 0.6032, 0.5455, 0.3152, 0.3152, 0.3152, 0.3152, 0.3152, 0.3152, 0.1843, 0.1843, 0.1463, 0.1463, 0.1463, 0.069, 0.069, 0.069, 0.0439, -0.6122, -1.6365, -2.04, -2.8726, -1.5517, -0.0705, -2.5529, 0.0439, -1.0344, -1.6535, 0.0439, -0.496, -0.1788, -2.0084, 3.554, 3.2877, 3.2877, 3.2877, 3.194, 3.194, 3.194, 2.5744, 2.4355, 2.1618, 1.6819, 1.496, 1.1779, 1.0077, 0.691, 0.403, 0.403, 0.403, 0.403, 0.403, 0.403, 0.2721, 0.2721, 0.1751, 0.1593, 0.1318, 0.1318, 0.1318, 0.1318, 0.1109, -1.2651, 0.0173, -2.4651, -0.9465, -1.5657, -0.4082, -0.0909, -1.9205, -0.5734, -0.0909, -0.0909, -2.1012, -0.0909, 3.6296, 3.6296, 3.6296, 3.6296, 3.6296, 3.6296, 1.6862, 0.9578, 0.6417, 0.5389, 0.5389, 0.501, 0.501, 0.501, 0.4261, 0.4236, 0.4236, 0.4236, 0.3985, 0.3985, 0.3985, 0.3985, 0.3777, 0.3777, 0.3777, 0.3777, 0.3777, 0.3777, 0.3777, 0.3777, -0.2576, -1.2819, -1.6854, -2.518, -1.5152, -1.1971, 0.2841, -2.1983, -0.6798, -1.2989, -0.1414, 0.1758, -1.6538, -0.3066, 0.1758, 0.1758, -1.8345, 0.1758, 4.3743, 4.3743, 1.0751, 0.787, 0.787, 0.787, 0.787, 0.787, 0.787, 0.6182, 0.6182, 0.6182, 0.5433, 0.5408, 0.5408, 0.5408, 0.5158, 0.5158, 0.5158, 0.5158, 0.4949, 0.4949, 0.4949, 0.4949, 0.4949, 0.4949, 0.4949, 0.4949, 0.4949, 0.4949, -0.1595, -0.1403, -1.1646, -1.5682, -2.4007, -1.398, -1.0799, 0.4013, -2.081, -0.5625, -1.1816, -0.0241, 0.2931, -1.5365, -0.1893, 0.2931, 0.2931, -1.7172, 0.2931, -0.2291, 0.2931, 0.2931, -0.2291, 0.2931, 3.5535, 1.1102, 0.8221, 0.8221, 0.8221, 0.8221, 0.8221, 0.8221, 0.6913, 0.6913, 0.6533, 0.6533, 0.6533, 0.5784, 0.576, 0.576, 0.576, 0.5509, 0.5509, 0.5509, 0.5509, 0.53, 0.53, 0.53, 0.53, 0.53, 0.53, 0.53, 0.53, 0.53, -0.1052, -1.1295, -1.5331, -2.3656, -1.3629, -1.0448, 0.4364, -2.0459, -0.5274, -1.1465, 0.011, 0.3282, -1.5014, -0.1542, 0.3282, 0.3282, -1.6821, 0.3282, -0.194, 0.3282, 0.3282, -0.194, 0.3282, 0.3282, -0.5353, 4.1594, 0.9115, 0.9115, 0.9115, 0.9115, 0.9115, 0.9115, 0.7807, 0.7807, 0.7427, 0.7427, 0.7427, 0.6678, 0.6653, 0.6653, 0.6653, 0.6403, 0.6403, 0.6403, 0.6403, 0.6194, 0.6194, 0.6194, 0.6194, 0.6194, 0.6194, 0.6194, 0.6194, 0.6194, 0.6194, -0.0158, -1.0402, -1.4437, -2.2762, -1.2735, -0.9554, 0.5258, -1.9565, -0.438, -1.0571, 0.1004, 0.4176, -1.412, -0.0648, 0.4176, 0.4176, -1.5927, 0.4176, -0.1046, 0.4176, 0.4176, -0.1046, 0.4176, 0.4176, -0.4459]}, \"token.table\": {\"Topic\": [6, 10, 10, 11, 15, 13, 2, 3, 4, 1, 2, 4, 1, 12, 10, 2, 2, 3, 1, 6, 2, 4, 1, 12, 6, 10, 2, 3, 13, 2, 5, 4, 11, 4, 1, 2, 3, 5, 8, 11, 14, 7, 6, 7, 10, 6, 6, 10, 1, 1, 10, 6, 14, 1, 1, 2, 4, 7, 11, 14, 4, 9, 7, 14, 1, 6, 2, 1, 2, 8, 12, 16, 14, 6, 4, 9, 5, 5, 1, 2, 3, 12, 4, 7, 9, 4, 1, 1, 5, 5, 1, 1, 2, 8, 11, 13, 6, 12, 3, 7, 14, 13, 14, 2, 5, 8, 9, 4, 4, 5, 6, 6, 2, 1, 13, 2, 4, 4, 4, 4, 3, 6, 12, 3, 13, 6, 3, 6, 1, 10, 13, 1, 4, 1, 11, 1, 2, 1, 9, 6, 2, 6, 6, 1, 3, 4, 12, 9, 1, 2, 2, 14, 8, 8, 12, 6, 6, 7, 14, 3, 4, 10, 2, 1, 4, 3, 4, 6, 3, 5, 2, 8, 2, 3, 5, 7, 2, 9, 2, 5, 11, 1, 2, 1, 2, 3, 4, 7, 11, 6, 10, 3, 1, 5, 8, 11, 9, 2, 3, 4, 11, 12, 7, 1, 11, 3, 1, 13, 10, 4, 8, 10, 9, 2, 8, 10, 2, 4, 4, 3, 8, 6, 3, 7, 6, 10, 2, 3, 4, 6, 12, 1, 3, 7, 1, 2, 11, 15, 5, 1, 8, 11, 2, 1, 3, 14, 10, 2, 5, 1, 4, 12, 6, 7, 10, 2, 6, 6, 14, 2, 5, 10, 10, 1, 2, 3, 4, 14, 1, 7, 7, 2, 4, 7, 14, 12, 5, 8, 4, 7, 15, 2, 8, 13, 4, 1, 6, 14, 4, 2, 4, 7, 5, 4, 4, 14, 9, 1, 3, 13, 14, 6, 12, 5, 9, 10, 1, 12, 10, 3, 7, 2, 2, 9, 1, 3, 5, 8, 11, 13, 10, 6, 12, 1, 11, 13, 1, 10, 10, 1, 5, 10, 8, 3, 8, 9, 12, 13, 2, 3, 7, 3, 2, 4, 8, 13, 2, 6, 12, 2, 8, 10, 8, 13, 10, 6, 7, 10, 4, 1, 13, 7, 1, 7, 11, 6, 14, 1, 14, 4, 2, 4, 9, 5, 8, 1, 5, 6, 10, 10, 1, 11, 11, 1, 2, 5, 8, 9, 6, 14, 13, 2, 14, 3, 4, 4, 12, 10, 3, 4, 13, 14, 12, 9, 5, 11, 4, 5, 5, 13, 7, 14, 6, 2, 4, 2, 3, 13, 2, 3, 4, 9, 16, 1, 2, 3, 5, 7, 9, 2, 9, 1, 4, 5, 1, 12, 3, 8, 2, 8, 11, 15, 1, 7, 3, 3, 6, 7, 7, 2, 3, 1, 3, 2, 8, 2, 5, 13, 14, 3, 10, 6, 3, 13, 1, 2, 10, 1, 5, 8, 9, 11, 12, 2, 5, 2, 8, 10, 14, 5, 11, 1, 2, 5, 8, 11, 1, 2, 13, 7, 10, 12, 4, 5, 5, 8, 7, 12, 1, 2, 2, 3, 7, 8, 9, 10, 7], \"Freq\": [0.7617587856839917, 0.8113164676702608, 0.8113164676702608, 0.3891299061111956, 0.7782598122223912, 0.9295200520455408, 0.32392245805434716, 0.32392245805434716, 0.7596268273228418, 0.6095113079182989, 0.24380452316731957, 0.12190226158365979, 0.7086438212312479, 0.9491183292481881, 0.8113164676702608, 0.7255044353550676, 0.7255044353550676, 0.8950923314339498, 0.42726933205089335, 0.42726933205089335, 0.4689050483366696, 0.4689050483366696, 0.7086438212312479, 0.4924595134890997, 0.7617587856839917, 0.8113164676702608, 0.8492229569097773, 0.7556231781231486, 0.9295200080782499, 0.5658528861617216, 0.8009576477701282, 0.7596268273228418, 0.8373782585020599, 0.7596268273228418, 0.24441486726660105, 0.12220743363330053, 0.061103716816650264, 0.3666223008999016, 0.061103716816650264, 0.12220743363330053, 0.9053618068791149, 0.7774056010680465, 0.7617587856839917, 0.7774056010680465, 0.8113164676702608, 0.7617587856839917, 0.5042465371823581, 0.5042465371823581, 0.8240168998050476, 0.7086438212312479, 0.8113164676702608, 0.7617587856839917, 0.9053618068791149, 0.8849037119442273, 0.10174954001114771, 0.20349908002229541, 0.3052486200334431, 0.3052486200334431, 0.10174954001114771, 0.9053618068791149, 0.7596268273228418, 0.8464640070888134, 0.7774056010680465, 0.9053618068791149, 0.7086438212312479, 0.7617587856839917, 0.6498140361269037, 0.17681197838326454, 0.3536239567665291, 0.17681197838326454, 0.17681197838326454, 0.17681197838326454, 0.9053618068791149, 0.7617587856839917, 0.9012727730246468, 0.7868925557029687, 0.8009576477701282, 0.9336576000098058, 0.4723636747622466, 0.059045459345280826, 0.4723636747622466, 0.8693528076734381, 0.33293100585206536, 0.33293100585206536, 0.33293100585206536, 0.7596268273228418, 0.7086438212312479, 0.7086438212312479, 0.9662484832284213, 0.8009576477701282, 0.7086438212312479, 0.6100913414973264, 0.17431181185637895, 0.08715590592818948, 0.08715590592818948, 0.08715590592818948, 0.7617587856839917, 0.8693528076734381, 0.7556231781231486, 0.8566811761931853, 0.9053618068791149, 0.9295200520455408, 0.9053618068791149, 0.7255044353550676, 0.7227969143917055, 0.8393463684960173, 0.8464640070888134, 0.7596268273228418, 0.9012727759528423, 0.8009576477701282, 0.7617587856839917, 0.7617587856839917, 0.7255044353550676, 0.7086438212312479, 0.9295200080782499, 0.94598849130524, 0.7596268273228418, 0.7596268273228418, 0.9610050072453071, 0.7596268273228418, 0.7556231312603431, 0.5260740089044098, 0.5260740089044098, 0.755623128459989, 0.9295200080782499, 0.7617587856839917, 0.7556231781231486, 0.7617587856839917, 0.8849037119442273, 0.8113164676702608, 0.9295200080782499, 0.7086438212312479, 0.7596268273228418, 0.4162978034304526, 0.4162978034304526, 0.6336543145559709, 0.7255044353550676, 0.8849037722167649, 0.8464640070888134, 0.7617587856839917, 0.6498140361269037, 0.7617587856839917, 0.7617587856839917, 0.32431802329300136, 0.6486360465860027, 0.7596268273228418, 0.9491182823222211, 0.5553670415835509, 0.704338633158559, 0.23477954438618637, 0.7255044353550676, 0.9053618068791149, 0.8393463684960173, 0.8393463684960173, 0.8693528076734381, 0.7617587856839917, 0.7617587856839917, 0.8566811761931853, 0.9053618068791149, 0.755623128459989, 0.6726395851927369, 0.8113164676702608, 0.8492229559084747, 0.8240168911891554, 0.7596268273228418, 0.755623128459989, 0.9012727759528423, 0.9693004059314322, 0.7556231781231486, 0.8009576477701282, 0.8492229526524514, 0.8393463684960173, 0.7255044353550676, 0.5348140988392742, 0.35654273255951613, 0.7774056010680465, 0.502326075240545, 0.502326075240545, 0.6498140361269037, 0.8009576477701282, 0.9171684882613268, 0.6501264078085071, 0.32506320390425353, 0.09863344375758597, 0.19726688751517193, 0.09863344375758597, 0.19726688751517193, 0.2959003312727579, 0.19726688751517193, 0.37685189733927393, 0.37685189733927393, 0.7027617991412228, 0.2111886174751596, 0.4223772349503192, 0.2111886174751596, 0.2111886174751596, 0.8464640070888134, 0.8492229551493727, 0.32286280834520964, 0.32286280834520964, 0.32286280834520964, 0.32286280834520964, 0.7774056010680465, 0.5156502182548875, 0.5156502182548875, 0.755623128459989, 0.9132252119371079, 0.849714862748593, 0.8113164676702608, 0.7596268273228418, 0.8393463684960173, 0.8113164676702608, 0.5553670415835509, 0.4981083540365473, 0.4981083540365473, 0.8113164676702608, 0.849222955608888, 0.7596268273228418, 0.7596268273228418, 0.8950923363644969, 0.8393463684960173, 0.7617587856839917, 0.9028256740628016, 0.1504709456771336, 0.5042465371823581, 0.5042465371823581, 0.2735879977135603, 0.5471759954271206, 0.2735879977135603, 0.7617587856839917, 0.8693528076734381, 0.31364990669959514, 0.4391098693794332, 0.18818994401975708, 0.19206202220998195, 0.3841240444199639, 0.19206202220998195, 0.19206202220998195, 0.8009576107390852, 0.3298837903686321, 0.3298837903686321, 0.3298837903686321, 0.7255044353550676, 0.7086438212312479, 0.755623128459989, 0.9053618068791149, 0.8113164676702608, 0.9113513947658242, 0.8009576477701282, 0.8240168985811931, 0.6953289573724458, 0.3476644786862229, 0.5783824222817573, 0.28919121114087865, 0.28919121114087865, 0.7255044353550676, 0.7617587856839917, 0.5390478013315155, 0.5390478013315155, 0.7255044353550676, 0.8009576477701282, 0.8113164676702608, 0.8113164676702608, 0.9649030930791005, 0.2633985683359416, 0.2633985683359416, 0.5267971366718832, 0.9053618068791149, 0.5324187664449168, 0.2662093832224584, 0.7774056010680465, 0.6953369133061972, 0.23177897110206572, 0.5468361487527218, 0.5468361487527218, 0.9491183292481881, 0.8009576477701282, 0.8393463684960173, 0.7596268273228418, 0.22791053324129504, 0.6837315997238851, 0.7255044353550676, 0.514291094747252, 0.9295200520455408, 0.7596268273228418, 0.7086438212312479, 0.7617587856839917, 0.9053618068791149, 0.7596268273228418, 0.8492229551493727, 0.7596268273228418, 0.8566811761931853, 0.8009576477701282, 0.7596268273228418, 0.7596268273228418, 0.9053618068791149, 0.9491060506862125, 0.3794741845490163, 0.3794741845490163, 0.9295200080782499, 0.9053618068791149, 0.8416260293298373, 0.8693528076734381, 0.8009576477701282, 0.8464640070888134, 0.8113164676702608, 0.8849037119442273, 0.8693528076734381, 0.8113164676702608, 0.7556231781231486, 0.8566811761931853, 0.7255044353550676, 0.7255044353550676, 0.6081938613377189, 0.09902921242222493, 0.19805842484444985, 0.3961168496888997, 0.09902921242222493, 0.09902921242222493, 0.09902921242222493, 0.8113164676702608, 0.7107481447966748, 0.9491182823222211, 0.5156502182548875, 0.5156502182548875, 0.9295200520455408, 0.8713020424179915, 0.8113164676702608, 0.8113164676702608, 0.7344947197459126, 0.9662484833979111, 0.8113164676702608, 0.8393463684960173, 0.11810537456715342, 0.11810537456715342, 0.35431612370146026, 0.23621074913430684, 0.11810537456715342, 0.27325461782780464, 0.5465092356556093, 0.27325461782780464, 0.7556231312603431, 0.6432169641044869, 0.32160848205224346, 0.8163626430996906, 0.5915303527140668, 0.7255044353550676, 0.7617587856839917, 0.8693528076734381, 0.7893635510436781, 0.263121183681226, 0.8113164676702608, 0.8393463684960173, 0.9295200520455408, 0.8113164676702608, 0.7617587856839917, 0.7646322303973144, 0.8113164676702608, 0.9012727730246468, 0.5195315400956396, 0.5195315400956396, 0.8566811761931853, 0.899271334964268, 0.7774056010680465, 0.9171684882613268, 0.7617587856839917, 0.9053618068791149, 0.8849037722167649, 0.9053618068791149, 0.6059721183121264, 0.2506073560226035, 0.2506073560226035, 0.501214712045207, 0.8009576477701282, 0.5492552184942324, 0.47675978462738267, 0.47675978462738267, 0.7617587856839917, 0.8113164658424447, 0.8113164676702608, 0.5156502182548875, 0.5156502182548875, 0.9171684882613268, 0.4623091519338568, 0.3595737848374442, 0.05136768354820631, 0.05136768354820631, 0.05136768354820631, 0.4171020904434009, 0.4171020904434009, 0.629133061767424, 0.9004043188240031, 0.9053618068791149, 0.6691910886329647, 0.33459554431648236, 0.5531322032513292, 0.5531322032513292, 0.8113164676702608, 0.6691910882813175, 0.33459554414065873, 0.5915303527140668, 0.9053618068791149, 0.8693528076734381, 0.8464640070888134, 0.8009576477701282, 0.9171684882613268, 0.467772555154667, 0.467772555154667, 0.8009576477701282, 0.9295200080782499, 0.5468361487527218, 0.5468361487527218, 0.9693004059314322, 0.6642894209689658, 0.9012727739693692, 0.6498140361269037, 0.7556231781231486, 0.9295200520455408, 0.2653755376071015, 0.3980633064106522, 0.13268776880355074, 0.2653755376071015, 0.7059942394501828, 0.495029553832179, 0.07071850769031128, 0.07071850769031128, 0.14143701538062256, 0.07071850769031128, 0.14143701538062256, 0.502326075240545, 0.502326075240545, 0.26998329552246386, 0.26998329552246386, 0.26998329552246386, 0.8849037119442273, 0.8693528076734381, 0.6676329629232585, 0.8393463684960173, 0.27640537095214573, 0.27640537095214573, 0.27640537095214573, 0.27640537095214573, 0.4959622995513133, 0.4959622995513133, 0.7556231781231486, 0.9593878014197055, 0.3621754745172437, 0.3621754745172437, 0.7774056010680465, 0.26233980744545166, 0.5246796148909033, 0.7751192482785312, 0.25837308275951043, 0.4981083540365473, 0.4981083540365473, 0.3878430927458985, 0.3878430927458985, 0.3878430927458985, 0.9053618068791149, 0.7556231781231486, 0.8113164676702608, 0.7617587856839917, 0.5443433353711531, 0.5443433353711531, 0.7725260268162415, 0.1545052053632483, 0.8113164676702608, 0.14001516183797727, 0.14001516183797727, 0.14001516183797727, 0.28003032367595454, 0.14001516183797727, 0.14001516183797727, 0.540212780969565, 0.540212780969565, 0.30617709087487094, 0.6123541817497419, 0.8113164676702608, 0.9053618068791149, 0.44653106440500107, 0.44653106440500107, 0.24174246038362868, 0.48348492076725735, 0.08058082012787622, 0.08058082012787622, 0.08058082012787622, 0.6463551208351836, 0.18467289166719533, 0.09233644583359767, 0.8566811761931853, 0.8113164676702608, 0.8693528076734381, 0.467772555154667, 0.467772555154667, 0.5681075743150603, 0.28405378715753016, 0.4973886377518822, 0.8693528076734381, 0.7698247817646531, 0.9737630692597169, 0.14579974094433162, 0.14579974094433162, 0.14579974094433162, 0.29159948188866325, 0.14579974094433162, 0.8113164676702608, 0.7774056010680465], \"Term\": [\"acceptable\", \"accordingly\", \"acknowledge\", \"action\", \"action\", \"activity\", \"actually\", \"actually\", \"add\", \"admin\", \"admin\", \"admin\", \"advocate\", \"affect\", \"ago\", \"algorithmically\", \"allow\", \"already\", \"also\", \"also\", \"always\", \"always\", \"anarchism\", \"announcement\", \"anti\", \"apparent\", \"apply\", \"approve\", \"artistic\", \"ask\", \"aspect\", \"auto\", \"away\", \"back\", \"ban\", \"ban\", \"ban\", \"ban\", \"ban\", \"ban\", \"banhammer\", \"basis\", \"bcnd\", \"beat\", \"become\", \"behavior\", \"being\", \"being\", \"believe\", \"bestdankmeme\", \"big\", \"bit\", \"bold\", \"bot\", \"call\", \"call\", \"call\", \"call\", \"call\", \"car\", \"care\", \"categorize\", \"cause\", \"celebrate\", \"censor\", \"challenge\", \"chance\", \"change\", \"change\", \"change\", \"change\", \"change\", \"check\", \"citation\", \"clarification\", \"clear\", \"combatfootage\", \"come\", \"comment\", \"comment\", \"comment\", \"communist\", \"community\", \"community\", \"community\", \"complete\", \"compose\", \"confuse\", \"consider\", \"constitute\", \"contact\", \"content\", \"content\", \"content\", \"content\", \"content\", \"cop\", \"could\", \"count\", \"course\", \"cover\", \"criminal\", \"css\", \"curator\", \"curious\", \"current\", \"currently\", \"cycle\", \"dad\", \"damned\", \"day\", \"dead\", \"decision\", \"declare\", \"define\", \"definition\", \"derivative\", \"despicable\", \"die\", \"different\", \"differential\", \"disagree\", \"disagree\", \"discourage\", \"documentary\", \"domain\", \"dovptf\", \"doxxe\", \"drama\", \"dude\", \"educational\", \"effect\", \"emerge\", \"encourage\", \"encourage\", \"encouragement\", \"end\", \"enforce\", \"enforcement\", \"enough\", \"equally\", \"esp\", \"especially\", \"even\", \"even\", \"ever\", \"exact\", \"exactly\", \"example\", \"example\", \"exception\", \"exist\", \"express\", \"expressly\", \"facist\", \"fact\", \"faith\", \"fall\", \"fascist\", \"feel\", \"finally\", \"find\", \"fine\", \"follow\", \"force\", \"foremost\", \"former\", \"fuck\", \"fucking\", \"gamed\", \"gendercritical\", \"generalize\", \"generally\", \"get\", \"get\", \"girl\", \"give\", \"give\", \"global\", \"glorification\", \"glorifie\", \"glorify\", \"glorify\", \"go\", \"go\", \"go\", \"go\", \"go\", \"go\", \"good\", \"good\", \"great\", \"group\", \"group\", \"group\", \"group\", \"guideline\", \"guy\", \"handle\", \"handle\", \"handle\", \"handle\", \"happen\", \"harm\", \"harm\", \"harming\", \"hate\", \"haul\", \"head\", \"headline\", \"help\", \"hesitant\", \"history\", \"hold\", \"hold\", \"home\", \"honestly\", \"horrible\", \"horrific\", \"hour\", \"however\", \"http\", \"https\", \"https\", \"human\", \"human\", \"ignore\", \"ignore\", \"ignore\", \"ill\", \"image\", \"incel\", \"incel\", \"incel\", \"incite\", \"incite\", \"incite\", \"incite\", \"include\", \"individual\", \"individual\", \"individual\", \"induce\", \"info\", \"instead\", \"intentional\", \"internet\", \"judgment\", \"justiceserve\", \"keep\", \"kill\", \"kill\", \"know\", \"know\", \"know\", \"last\", \"later\", \"law\", \"law\", \"least\", \"leave\", \"less\", \"level\", \"link\", \"literally\", \"literally\", \"literally\", \"live\", \"long\", \"long\", \"lot\", \"make\", \"make\", \"man\", \"man\", \"massive\", \"matter\", \"may\", \"maybe\", \"mean\", \"mean\", \"meaning\", \"mention\", \"merchandise\", \"mess\", \"message\", \"mind\", \"misgendering\", \"miss\", \"mod\", \"month\", \"much\", \"multiple\", \"must\", \"national\", \"nazi\", \"need\", \"new\", \"new\", \"newsworthy\", \"nice\", \"number\", \"online\", \"open\", \"opinion\", \"opposite\", \"oppression\", \"other\", \"outlet\", \"outright\", \"par\", \"paragraph\", \"participate\", \"particular\", \"people\", \"people\", \"people\", \"people\", \"people\", \"people\", \"perfect\", \"phone\", \"phrase\", \"physical\", \"physical\", \"picture\", \"place\", \"plenty\", \"point\", \"policy\", \"political\", \"popular\", \"position\", \"post\", \"post\", \"post\", \"post\", \"post\", \"pretty\", \"pretty\", \"pretty\", \"previous\", \"problem\", \"problem\", \"prohibit\", \"promote\", \"purely\", \"purpose\", \"put\", \"question\", \"question\", \"quite\", \"racism\", \"racist\", \"rage\", \"raise\", \"rape\", \"read\", \"really\", \"reason\", \"reason\", \"redd\", \"regard\", \"regular\", \"rehabilitation\", \"relate\", \"relevance\", \"remain\", \"reminder\", \"remove\", \"report\", \"report\", \"report\", \"represent\", \"require\", \"respect\", \"respect\", \"result\", \"rid\", \"riddance\", \"right\", \"right\", \"room\", \"rule\", \"rule\", \"rule\", \"rule\", \"rule\", \"run\", \"run\", \"satire\", \"say\", \"search\", \"see\", \"see\", \"self\", \"self\", \"settle\", \"shit\", \"shit\", \"shoplift\", \"shot\", \"shutdown\", \"sidebar\", \"sigh\", \"simple\", \"single\", \"single\", \"site\", \"sometimes\", \"sort\", \"sort\", \"source\", \"specific\", \"specifically\", \"spectrum\", \"start\", \"steal\", \"still\", \"still\", \"still\", \"still\", \"stop\", \"sub\", \"sub\", \"sub\", \"sub\", \"sub\", \"sub\", \"subjective\", \"subjective\", \"subreddit\", \"subreddit\", \"subreddit\", \"subredditcancer\", \"suggest\", \"support\", \"sympathy\", \"take\", \"take\", \"take\", \"take\", \"tell\", \"tell\", \"telling\", \"text\", \"theredpill\", \"theredpill\", \"thing\", \"think\", \"think\", \"thread\", \"thread\", \"threat\", \"threat\", \"time\", \"time\", \"time\", \"today\", \"try\", \"turning\", \"type\", \"understand\", \"understand\", \"update\", \"update\", \"used\", \"user\", \"user\", \"user\", \"user\", \"user\", \"user\", \"vague\", \"vague\", \"view\", \"view\", \"vile\", \"violate\", \"violation\", \"violation\", \"violence\", \"violence\", \"violence\", \"violence\", \"violence\", \"violent\", \"violent\", \"violent\", \"virgin\", \"visit\", \"voilence\", \"wait\", \"wait\", \"want\", \"want\", \"week\", \"whole\", \"wide\", \"woman\", \"would\", \"would\", \"would\", \"would\", \"would\", \"year\", \"young\"]}, \"R\": 30, \"lambda.step\": 0.01, \"plot.opts\": {\"xlab\": \"PC1\", \"ylab\": \"PC2\"}, \"topic.order\": [15, 19, 11, 4, 16, 3, 7, 1, 8, 14, 13, 10, 20, 17, 6, 12, 18, 5, 2, 9]};\n",
              "\n",
              "function LDAvis_load_lib(url, callback){\n",
              "  var s = document.createElement('script');\n",
              "  s.src = url;\n",
              "  s.async = true;\n",
              "  s.onreadystatechange = s.onload = callback;\n",
              "  s.onerror = function(){console.warn(\"failed to load library \" + url);};\n",
              "  document.getElementsByTagName(\"head\")[0].appendChild(s);\n",
              "}\n",
              "\n",
              "if(typeof(LDAvis) !== \"undefined\"){\n",
              "   // already loaded: just create the visualization\n",
              "   !function(LDAvis){\n",
              "       new LDAvis(\"#\" + \"ldavis_el1741402710883651365470919997\", ldavis_el1741402710883651365470919997_data);\n",
              "   }(LDAvis);\n",
              "}else if(typeof define === \"function\" && define.amd){\n",
              "   // require.js is available: use it to load d3/LDAvis\n",
              "   require.config({paths: {d3: \"https://d3js.org/d3.v5\"}});\n",
              "   require([\"d3\"], function(d3){\n",
              "      window.d3 = d3;\n",
              "      LDAvis_load_lib(\"https://cdn.jsdelivr.net/gh/bmabey/pyLDAvis@3.3.1/pyLDAvis/js/ldavis.v3.0.0.js\", function(){\n",
              "        new LDAvis(\"#\" + \"ldavis_el1741402710883651365470919997\", ldavis_el1741402710883651365470919997_data);\n",
              "      });\n",
              "    });\n",
              "}else{\n",
              "    // require.js not available: dynamically load d3 & LDAvis\n",
              "    LDAvis_load_lib(\"https://d3js.org/d3.v5.js\", function(){\n",
              "         LDAvis_load_lib(\"https://cdn.jsdelivr.net/gh/bmabey/pyLDAvis@3.3.1/pyLDAvis/js/ldavis.v3.0.0.js\", function(){\n",
              "                 new LDAvis(\"#\" + \"ldavis_el1741402710883651365470919997\", ldavis_el1741402710883651365470919997_data);\n",
              "            })\n",
              "         });\n",
              "}\n",
              "</script>"
            ],
            "text/plain": [
              "PreparedData(topic_coordinates=              x         y  topics  cluster       Freq\n",
              "topic                                                \n",
              "14     0.322040 -0.060801       1        1  17.659623\n",
              "18     0.260805  0.158731       2        1  14.601106\n",
              "10    -0.298419  0.093140       3        1   9.415465\n",
              "3     -0.276607 -0.076353       4        1   9.002154\n",
              "15     0.188387 -0.188006       5        1   6.621721\n",
              "2     -0.094716 -0.285412       6        1   6.616550\n",
              "6     -0.176010 -0.157008       7        1   5.096781\n",
              "0      0.182112  0.044615       8        1   4.517990\n",
              "7      0.020115  0.257166       9        1   4.490197\n",
              "13     0.019727 -0.245361      10        1   4.480362\n",
              "12     0.111703 -0.074732      11        1   3.149304\n",
              "9     -0.088564  0.197898      12        1   2.987903\n",
              "19     0.073114  0.162850      13        1   2.918813\n",
              "16    -0.163222  0.102622      14        1   2.639627\n",
              "5      0.075600  0.026025      15        1   2.297823\n",
              "11    -0.022647  0.099733      16        1   1.768409\n",
              "17    -0.061149 -0.030800      17        1   0.839806\n",
              "4     -0.034212  0.004869      18        1   0.498375\n",
              "1     -0.022296 -0.025078      19        1   0.288269\n",
              "8     -0.015761 -0.004100      20        1   0.109724, topic_info=           Term       Freq      Total Category  logprob  loglift\n",
              "78        incel  15.000000  15.000000  Default  30.0000  30.0000\n",
              "69      comment  16.000000  16.000000  Default  29.0000  29.0000\n",
              "103         ban  16.000000  16.000000  Default  28.0000  28.0000\n",
              "4          post   8.000000   8.000000  Default  27.0000  27.0000\n",
              "260      remove   3.000000   3.000000  Default  26.0000  26.0000\n",
              "..          ...        ...        ...      ...      ...      ...\n",
              "24        cycle   0.002193   1.316436  Topic20  -6.1491   0.4176\n",
              "25          dad   0.002193   2.219084  Topic20  -6.1491  -0.1046\n",
              "26   derivative   0.002193   1.316436  Topic20  -6.1491   0.4176\n",
              "27   despicable   0.002193   1.316436  Topic20  -6.1491   0.4176\n",
              "28          die   0.002193   3.121732  Topic20  -6.1491  -0.4459\n",
              "\n",
              "[851 rows x 6 columns], token_table=      Topic      Freq         Term\n",
              "term                              \n",
              "409       6  0.761759   acceptable\n",
              "321      10  0.811316  accordingly\n",
              "371      10  0.811316  acknowledge\n",
              "87       11  0.389130       action\n",
              "87       15  0.778260       action\n",
              "...     ...       ...          ...\n",
              "86        7  0.145800        would\n",
              "86        8  0.291599        would\n",
              "86        9  0.145800        would\n",
              "350      10  0.811316         year\n",
              "402       7  0.777406        young\n",
              "\n",
              "[507 rows x 3 columns], R=30, lambda_step=0.01, plot_opts={'xlab': 'PC1', 'ylab': 'PC2'}, topic_order=[15, 19, 11, 4, 16, 3, 7, 1, 8, 14, 13, 10, 20, 17, 6, 12, 18, 5, 2, 9])"
            ]
          },
          "metadata": {},
          "execution_count": 62
        }
      ]
    },
    {
      "cell_type": "markdown",
      "source": [
        "#**Topic Modeling for 'Revamping the Quarantine Function' in r/announcements, 2018:**"
      ],
      "metadata": {
        "id": "9OQ_VPbj91rO"
      }
    },
    {
      "cell_type": "markdown",
      "source": [
        "###**Preparing the data:**"
      ],
      "metadata": {
        "id": "8ECMii2UiQxY"
      }
    },
    {
      "cell_type": "code",
      "source": [
        "#topic modeling for 2018\n",
        "data2018 = content18.comment.values.tolist()\n",
        "data2018 = [re.sub('\\s+', ' ', sent) for sent in data2018]\n",
        "data2018 = [re.sub(\"\\'\",\" \", sent) for sent in data2018]"
      ],
      "metadata": {
        "id": "rVRPnnV-6J1Q"
      },
      "execution_count": null,
      "outputs": []
    },
    {
      "cell_type": "code",
      "source": [
        "data_words2018 = list(sent_to_words(data2018))"
      ],
      "metadata": {
        "id": "OzBWroDM6jFp"
      },
      "execution_count": null,
      "outputs": []
    },
    {
      "cell_type": "markdown",
      "source": [
        "###**Building bigrams and trigrams:**"
      ],
      "metadata": {
        "id": "DsgSM2PIiVDg"
      }
    },
    {
      "cell_type": "code",
      "source": [
        "#bigram models for 2018\n",
        "bigram2018 = gensim.models.Phrases(data_words2018, min_count = 5, threshold = 100) \n",
        "trigram2018 = gensim.models.Phrases(bigram2018[data_words2018], threshold = 100) \n",
        "bigram_mod2018 = gensim.models.phrases.Phraser(bigram2018)\n",
        "trigram_mod2018 = gensim.models.phrases.Phraser(trigram2018)"
      ],
      "metadata": {
        "colab": {
          "base_uri": "https://localhost:8080/"
        },
        "id": "E7tU2BXg6qIp",
        "outputId": "06d7ee80-b2a7-49d7-8a27-d9e739d05e1f"
      },
      "execution_count": null,
      "outputs": [
        {
          "output_type": "stream",
          "name": "stderr",
          "text": [
            "/usr/local/lib/python3.7/dist-packages/gensim/models/phrases.py:598: UserWarning: For a faster implementation, use the gensim.models.phrases.Phraser class\n",
            "  warnings.warn(\"For a faster implementation, use the gensim.models.phrases.Phraser class\")\n"
          ]
        }
      ]
    },
    {
      "cell_type": "markdown",
      "source": [
        "###**Removing stopwords, making bigrams and trigrams, and lemmatizing:**"
      ],
      "metadata": {
        "id": "nOW__CDYiZz2"
      }
    },
    {
      "cell_type": "code",
      "source": [
        "def make_bigrams2018(texts):\n",
        "    return [bigram_mod2018[doc] for doc in texts]\n",
        "\n",
        "def make_trigrams2018(texts):\n",
        "    return [trigram_mod2018[doc] for doc in texts]\n",
        "\n",
        "def lemmatization2018(texts, allowed_postags = ['NOUN', 'ADJ', 'VERB', 'ADV']):\n",
        "    \"\"\"https://spacy.io/api/annotation\"\"\"\n",
        "    texts_out = []\n",
        "    for sent in texts:\n",
        "        doc = nlp(\" \".join(sent)) \n",
        "        texts_out.append([token.lemma_ for token in doc if token.pos_ in allowed_postags])\n",
        "    return texts_out"
      ],
      "metadata": {
        "id": "XJGu-DfSYnFh"
      },
      "execution_count": null,
      "outputs": []
    },
    {
      "cell_type": "code",
      "source": [
        "data_words_nostops2018 = remove_stopwords(data_words2018)\n",
        "data_words_bigrams2018 = make_bigrams2015(data_words_nostops2018)\n",
        "data_words_trigrams2018 = make_trigrams2018(data_words_bigrams2018)\n",
        "data_lemmatized2018 = lemmatization2018(data_words_trigrams2018, allowed_postags = ['NOUN', 'ADJ', 'VERB', 'ADV'])\n",
        "print(data_lemmatized2018[:1])"
      ],
      "metadata": {
        "colab": {
          "base_uri": "https://localhost:8080/"
        },
        "id": "qA2eQoru7D5t",
        "outputId": "b81d13a7-fce5-4ce3-bc6d-ce7cccbf896f"
      },
      "execution_count": null,
      "outputs": [
        {
          "output_type": "stream",
          "name": "stdout",
          "text": [
            "[['quarantine', 'sub', 'completely', 'inaccessible', 'mobile', 'app']]\n"
          ]
        }
      ]
    },
    {
      "cell_type": "markdown",
      "source": [
        "###**Creating dictionary and corpus:**"
      ],
      "metadata": {
        "id": "51IOsNyaidAc"
      }
    },
    {
      "cell_type": "code",
      "source": [
        "id2word2018 = corpora.Dictionary(data_lemmatized2018)\n",
        "texts2018 = data_lemmatized2018\n",
        "corpus2018 = [id2word2018.doc2bow(text) for text in texts2018]"
      ],
      "metadata": {
        "id": "wyPAz-hh7MI-"
      },
      "execution_count": null,
      "outputs": []
    },
    {
      "cell_type": "markdown",
      "source": [
        "###**Build the LDA Model:**"
      ],
      "metadata": {
        "id": "KAQgESHtifyx"
      }
    },
    {
      "cell_type": "code",
      "source": [
        "lda_model2018 = gensim.models.ldamodel.LdaModel(corpus = corpus2018,\n",
        "                                           id2word = id2word2018,\n",
        "                                           num_topics = 20, \n",
        "                                           random_state = 100,\n",
        "                                           update_every = 1,\n",
        "                                           chunksize = 30,\n",
        "                                           passes = 200,\n",
        "                                           alpha = 'auto',\n",
        "                                           per_word_topics = True)"
      ],
      "metadata": {
        "id": "PglJA2SI7XGE"
      },
      "execution_count": null,
      "outputs": []
    },
    {
      "cell_type": "markdown",
      "source": [
        "##**View the topics for 'Revamping the Quarantine Function' in r/announcements, 2018:**"
      ],
      "metadata": {
        "id": "Q7bVwSIlixoC"
      }
    },
    {
      "cell_type": "code",
      "source": [
        "pprint(lda_model2018.print_topics())\n",
        "doc_lda2018 = lda_model2018[corpus2018]"
      ],
      "metadata": {
        "colab": {
          "base_uri": "https://localhost:8080/"
        },
        "id": "fdidPAdd7g7a",
        "outputId": "30e42038-a3aa-4a08-fa4d-f9a8a42da3aa"
      },
      "execution_count": null,
      "outputs": [
        {
          "output_type": "stream",
          "name": "stdout",
          "text": [
            "[(0,\n",
            "  '0.089*\"read\" + 0.029*\"measure\" + 0.023*\"subject\" + 0.019*\"grow\" + '\n",
            "  '0.017*\"email\" + 0.016*\"break\" + 0.009*\"self\" + 0.009*\"sunshine\" + '\n",
            "  '0.009*\"plain\" + 0.009*\"reasonable\"'),\n",
            " (1,\n",
            "  '0.053*\"become\" + 0.042*\"subreddit\" + 0.035*\"guy\" + 0.030*\"prevent\" + '\n",
            "  '0.030*\"content\" + 0.025*\"shit\" + 0.024*\"decision\" + 0.023*\"ad\" + '\n",
            "  '0.021*\"appropriate\" + 0.021*\"context\"'),\n",
            " (2,\n",
            "  '0.050*\"step\" + 0.036*\"place\" + 0.023*\"congratulation\" + 0.016*\"purely\" + '\n",
            "  '0.016*\"religion\" + 0.016*\"politic\" + 0.015*\"disgust\" + 0.015*\"million\" + '\n",
            "  '0.015*\"parent\" + 0.015*\"reddit\"'),\n",
            " (3,\n",
            "  '0.082*\"political\" + 0.066*\"internet\" + 0.060*\"good\" + 0.046*\"stupid\" + '\n",
            "  '0.034*\"far\" + 0.024*\"much\" + 0.023*\"think\" + 0.020*\"obvious\" + 0.020*\"line\" '\n",
            "  '+ 0.018*\"really\"'),\n",
            " (4,\n",
            "  '0.020*\"freedom\" + 0.017*\"let\" + 0.015*\"believe\" + 0.014*\"idea\" + '\n",
            "  '0.014*\"violence\" + 0.012*\"propaganda\" + 0.011*\"do\" + 0.010*\"company\" + '\n",
            "  '0.010*\"tool\" + 0.009*\"amount\"'),\n",
            " (5,\n",
            "  '0.064*\"many\" + 0.054*\"stop\" + 0.040*\"page\" + 0.024*\"message\" + '\n",
            "  '0.019*\"front\" + 0.016*\"real\" + 0.015*\"joke\" + 0.015*\"target\" + '\n",
            "  '0.014*\"piece\" + 0.014*\"net\"'),\n",
            " (6,\n",
            "  '0.046*\"ban\" + 0.013*\"usage\" + 0.013*\"dissent\" + 0.013*\"host\" + '\n",
            "  '0.012*\"historically\" + 0.009*\"box\" + 0.009*\"pay\" + 0.009*\"extremism\" + '\n",
            "  '0.009*\"tech\" + 0.009*\"clear\"'),\n",
            " (7,\n",
            "  '0.041*\"communism\" + 0.038*\"already\" + 0.023*\"information\" + '\n",
            "  '0.021*\"wordpress\" + 0.021*\"educational\" + 0.020*\"promote\" + '\n",
            "  '0.019*\"historical\" + 0.019*\"blatantly\" + 0.016*\"communist\" + '\n",
            "  '0.016*\"destroy\"'),\n",
            " (8,\n",
            "  '0.091*\"subreddit\" + 0.085*\"quarantine\" + 0.034*\"user\" + 0.033*\"community\" + '\n",
            "  '0.030*\"would\" + 0.024*\"public\" + 0.019*\"end\" + 0.019*\"change\" + '\n",
            "  '0.016*\"information\" + 0.016*\"list\"'),\n",
            " (9,\n",
            "  '0.035*\"protect\" + 0.029*\"create\" + 0.027*\"control\" + 0.025*\"disagree\" + '\n",
            "  '0.024*\"instead\" + 0.023*\"search\" + 0.021*\"visit\" + 0.021*\"toxic\" + '\n",
            "  '0.020*\"platform\" + 0.018*\"allow\"'),\n",
            " (10,\n",
            "  '0.114*\"hate\" + 0.087*\"speech\" + 0.044*\"platform\" + 0.037*\"open\" + '\n",
            "  '0.033*\"diverse\" + 0.025*\"police\" + 0.022*\"bullshit\" + 0.021*\"mod\" + '\n",
            "  '0.021*\"participate\" + 0.020*\"lol\"'),\n",
            " (11,\n",
            "  '0.037*\"mobile\" + 0.018*\"circlejerk\" + 0.018*\"call\" + 0.018*\"forum\" + '\n",
            "  '0.018*\"lean\" + 0.017*\"board\" + 0.015*\"completely\" + 0.014*\"hope\" + '\n",
            "  '0.012*\"enjoy\" + 0.012*\"almost\"'),\n",
            " (12,\n",
            "  '0.058*\"come\" + 0.056*\"understand\" + 0.036*\"speak\" + 0.022*\"face\" + '\n",
            "  '0.018*\"socialist\" + 0.018*\"trade\" + 0.018*\"unionist\" + 0.017*\"fucking\" + '\n",
            "  '0.016*\"horror\" + 0.016*\"somewhere\"'),\n",
            " (13,\n",
            "  '0.042*\"ban\" + 0.039*\"see\" + 0.027*\"man\" + 0.027*\"work\" + 0.025*\"able\" + '\n",
            "  '0.021*\"post\" + 0.021*\"echo\" + 0.021*\"chamber\" + 0.018*\"year\" + '\n",
            "  '0.016*\"masculinity\"'),\n",
            " (14,\n",
            "  '0.081*\"think\" + 0.063*\"decide\" + 0.044*\"give\" + 0.026*\"would\" + '\n",
            "  '0.024*\"behavior\" + 0.020*\"see\" + 0.020*\"wrong\" + 0.017*\"question\" + '\n",
            "  '0.017*\"talk\" + 0.017*\"put\"'),\n",
            " (15,\n",
            "  '0.046*\"ideology\" + 0.046*\"source\" + 0.044*\"link\" + 0.032*\"communist\" + '\n",
            "  '0.029*\"spread\" + 0.029*\"actually\" + 0.028*\"ban\" + 0.027*\"fullcommunism\" + '\n",
            "  '0.024*\"kind\" + 0.021*\"simply\"'),\n",
            " (16,\n",
            "  '0.047*\"people\" + 0.036*\"quarantine\" + 0.032*\"sub\" + 0.030*\"go\" + '\n",
            "  '0.026*\"censorship\" + 0.026*\"want\" + 0.023*\"get\" + 0.020*\"even\" + '\n",
            "  '0.020*\"may\" + 0.019*\"content\"'),\n",
            " (17,\n",
            "  '0.034*\"tell\" + 0.031*\"subscribe\" + 0.029*\"ever\" + 0.028*\"live\" + '\n",
            "  '0.025*\"comment\" + 0.025*\"watch\" + 0.024*\"video\" + 0.022*\"fucking\" + '\n",
            "  '0.020*\"hear\" + 0.018*\"come\"'),\n",
            " (18,\n",
            "  '0.056*\"reason\" + 0.041*\"access\" + 0.036*\"time\" + 0.032*\"really\" + '\n",
            "  '0.025*\"account\" + 0.021*\"love\" + 0.020*\"choice\" + 0.018*\"allow\" + '\n",
            "  '0.016*\"can\" + 0.015*\"trump\"'),\n",
            " (19,\n",
            "  '0.030*\"daddy\" + 0.029*\"cover\" + 0.029*\"advertiser\" + 0.029*\"ear\" + '\n",
            "  '0.018*\"sign\" + 0.018*\"whenever\" + 0.011*\"gullible\" + 0.011*\"fright\" + '\n",
            "  '0.011*\"scary\" + 0.011*\"condescend\"')]\n"
          ]
        }
      ]
    },
    {
      "cell_type": "markdown",
      "source": [
        "###**Get perplexity and coherence score:**"
      ],
      "metadata": {
        "id": "xIJI2x8tik5I"
      }
    },
    {
      "cell_type": "code",
      "source": [
        "print('\\nPerplexity: ', lda_model2018.log_perplexity(corpus2018))\n",
        "coherence_model_lda2018 = CoherenceModel(model = lda_model2018, texts = data_lemmatized2018, dictionary = id2word2018, coherence = 'c_v')\n",
        "coherence_lda2018 = coherence_model_lda2018.get_coherence()\n",
        "print('\\nCoherence Score: ', coherence_lda2018)"
      ],
      "metadata": {
        "colab": {
          "base_uri": "https://localhost:8080/"
        },
        "id": "xpva1h_Df9pl",
        "outputId": "7eaed39e-38ae-43f8-b381-c632d79477c9"
      },
      "execution_count": null,
      "outputs": [
        {
          "output_type": "stream",
          "name": "stdout",
          "text": [
            "\n",
            "Perplexity:  -7.405006158622198\n",
            "\n",
            "Coherence Score:  0.4271588835599879\n"
          ]
        }
      ]
    },
    {
      "cell_type": "markdown",
      "source": [
        "##**Visualize the topics for 'Revamping the Quarantine Function' in r/announcements, 2018:**"
      ],
      "metadata": {
        "id": "RBSdlq7vi4qR"
      }
    },
    {
      "cell_type": "code",
      "source": [
        "pyLDAvis.enable_notebook()\n",
        "lda2018_prepared = gensimvis.prepare(lda_model2018, corpus2018, id2word2018)\n",
        "lda2018_prepared"
      ],
      "metadata": {
        "colab": {
          "base_uri": "https://localhost:8080/"
        },
        "id": "-_DsUgSTUEUg",
        "outputId": "38554106-2d0b-4a06-e505-648b7c4bfc49"
      },
      "execution_count": null,
      "outputs": [
        {
          "output_type": "stream",
          "name": "stderr",
          "text": [
            "/usr/local/lib/python3.7/dist-packages/pyLDAvis/_prepare.py:247: FutureWarning: In a future version of pandas all arguments of DataFrame.drop except for the argument 'labels' will be keyword-only\n",
            "  by='saliency', ascending=False).head(R).drop('saliency', 1)\n"
          ]
        },
        {
          "output_type": "execute_result",
          "data": {
            "text/html": [
              "\n",
              "<link rel=\"stylesheet\" type=\"text/css\" href=\"https://cdn.jsdelivr.net/gh/bmabey/pyLDAvis@3.3.1/pyLDAvis/js/ldavis.v1.0.0.css\">\n",
              "\n",
              "\n",
              "<div id=\"ldavis_el1741402710875894566568780665\"></div>\n",
              "<script type=\"text/javascript\">\n",
              "\n",
              "var ldavis_el1741402710875894566568780665_data = {\"mdsDat\": {\"x\": [0.36458847710393066, -0.1360139502491054, 0.18481460265504596, 0.07598783351551125, -0.008764831378181577, -0.02758717077513419, -0.0636685809260666, 0.02132473044518061, 0.04832823500393155, -0.045177448953134115, -0.027313542732677453, 0.0072617563580222024, -0.06393123848128165, -0.04590529494485125, -0.0502979584911604, -0.043411566024616675, -0.05441538575357557, -0.045803444338124354, -0.04689146973605943, -0.04312375229765336], \"y\": [-0.0956982054644667, -0.21904761700531516, -0.01117325648408621, 0.22969385863334263, 0.007722088677756925, 0.07964959660097491, 0.09302411991367178, 0.02233619186565343, -0.053759461588360404, 0.055323785755596135, -0.012122740414659272, -0.04713025523517935, -0.010389981168006669, 0.009616674400508021, -0.001230564727417486, 0.0013028750345506336, -0.011988054895066623, -0.004068559709285596, -0.020862514282225048, -0.01119797990798511], \"topics\": [1, 2, 3, 4, 5, 6, 7, 8, 9, 10, 11, 12, 13, 14, 15, 16, 17, 18, 19, 20], \"cluster\": [1, 1, 1, 1, 1, 1, 1, 1, 1, 1, 1, 1, 1, 1, 1, 1, 1, 1, 1, 1], \"Freq\": [30.72602308151661, 12.176467624748403, 8.90219381923498, 8.287882213021536, 4.7112212789704495, 3.9650948534265393, 3.904835847283006, 3.6744402955574476, 3.6189071703887574, 3.133758173599568, 2.733634061238587, 2.6643009904565877, 2.3899324825121853, 1.933201184616724, 1.6627874578797563, 1.62531155237901, 1.395019883161101, 1.067259722029446, 0.8009330969731826, 0.6267952110061182]}, \"tinfo\": {\"Term\": [\"quarantine\", \"subreddit\", \"speech\", \"people\", \"ban\", \"hate\", \"content\", \"see\", \"think\", \"go\", \"community\", \"platform\", \"decide\", \"sub\", \"would\", \"good\", \"become\", \"political\", \"come\", \"user\", \"time\", \"open\", \"censorship\", \"want\", \"opinion\", \"reason\", \"work\", \"ideology\", \"give\", \"source\", \"people\", \"censorship\", \"want\", \"get\", \"even\", \"may\", \"view\", \"censor\", \"happen\", \"offensive\", \"need\", \"take\", \"thing\", \"find\", \"remove\", \"offend\", \"admin\", \"form\", \"free\", \"feel\", \"different\", \"word\", \"choose\", \"case\", \"make\", \"seriously\", \"point\", \"day\", \"keep\", \"agree\", \"sub\", \"opinion\", \"way\", \"go\", \"know\", \"say\", \"content\", \"right\", \"quarantine\", \"community\", \"also\", \"speech\", \"see\", \"freedom\", \"let\", \"believe\", \"idea\", \"violence\", \"propaganda\", \"do\", \"company\", \"tool\", \"amount\", \"limit\", \"hold\", \"large\", \"term\", \"rule\", \"other\", \"biased\", \"new\", \"act\", \"force\", \"approach\", \"longer\", \"damn\", \"truly\", \"harassment\", \"removal\", \"space\", \"affect\", \"consider\", \"imagine\", \"attempt\", \"user\", \"public\", \"end\", \"change\", \"list\", \"popular\", \"show\", \"top\", \"least\", \"appeal\", \"exist\", \"appear\", \"turn\", \"add\", \"update\", \"true\", \"include\", \"still\", \"mostly\", \"wonder\", \"ago\", \"old\", \"ability\", \"subreddit\", \"feature\", \"general\", \"return\", \"warning\", \"part\", \"occasionally\", \"accept\", \"would\", \"information\", \"quarantine\", \"community\", \"post\", \"go\", \"policy\", \"man\", \"able\", \"chamber\", \"echo\", \"year\", \"masculinity\", \"study\", \"leave\", \"big\", \"report\", \"ground\", \"hide\", \"positive\", \"less\", \"stuff\", \"upvote\", \"follow\", \"must\", \"curate\", \"drive\", \"buy\", \"downvote\", \"bring\", \"help\", \"mean\", \"range\", \"tag\", \"great\", \"uncensored\", \"intention\", \"look\", \"could\", \"post\", \"ban\", \"work\", \"see\", \"good\", \"time\", \"message\", \"example\", \"quarantine\", \"tell\", \"subscribe\", \"ever\", \"live\", \"comment\", \"watch\", \"video\", \"hear\", \"conversation\", \"week\", \"last\", \"cry\", \"else\", \"pill\", \"red\", \"life\", \"brain\", \"daughter\", \"fucking\", \"brigade\", \"young\", \"advice\", \"moment\", \"cold\", \"challenge\", \"arm\", \"deal\", \"exact\", \"ok\", \"pain\", \"come\", \"time\", \"know\", \"say\", \"hard\", \"sub\", \"source\", \"link\", \"spread\", \"kind\", \"simply\", \"seem\", \"disgusting\", \"ideology\", \"be\", \"hateful\", \"actually\", \"misinformation\", \"atrocity\", \"basically\", \"redpill\", \"communist\", \"fullcommunism\", \"accord\", \"suggestion\", \"member\", \"downhill\", \"insert\", \"seemingly\", \"deem\", \"allot\", \"bully\", \"downright\", \"hypocritical\", \"impose\", \"nsfw\", \"alternative\", \"ban\", \"correct\", \"opinion\", \"look\", \"can\", \"right\", \"dissent\", \"host\", \"usage\", \"historically\", \"amplification\", \"box\", \"clear\", \"coontown\", \"early\", \"executive\", \"extremism\", \"fatpeoplehate\", \"pay\", \"tech\", \"text\", \"youtube\", \"country\", \"method\", \"party\", \"liberal\", \"accutely\", \"achieve\", \"aclu\", \"banning\", \"bloom\", \"book\", \"causal\", \"chief\", \"circle\", \"close\", \"write\", \"major\", \"ban\", \"behavior\", \"decide\", \"question\", \"talk\", \"put\", \"person\", \"think\", \"evidence\", \"hopefully\", \"incentivize\", \"level\", \"expect\", \"job\", \"give\", \"nice\", \"sensitive\", \"difficult\", \"task\", \"nominate\", \"announcement\", \"baby\", \"discourse\", \"grave\", \"parody\", \"unpleasant\", \"midterm\", \"totally\", \"comfortable\", \"frankly\", \"justify\", \"value\", \"wrong\", \"would\", \"allow\", \"see\", \"become\", \"process\", \"try\", \"appropriate\", \"right\", \"subreddit\", \"guy\", \"prevent\", \"shit\", \"decision\", \"ad\", \"context\", \"subscriber\", \"fuck\", \"respect\", \"theredpill\", \"run\", \"become\", \"terrible\", \"manipulation\", \"attitude\", \"throw\", \"asinine\", \"experience\", \"otherwise\", \"socially\", \"picture\", \"appropriate\", \"convict\", \"cross\", \"former\", \"glory\", \"shame\", \"university\", \"asshat\", \"purpose\", \"knowingly\", \"wish\", \"subreddit\", \"treat\", \"content\", \"much\", \"never\", \"go\", \"way\", \"reason\", \"access\", \"account\", \"love\", \"choice\", \"trump\", \"honest\", \"politically\", \"s\", \"clearly\", \"thread\", \"desktop\", \"fake\", \"bit\", \"type\", \"thought\", \"uncomfortable\", \"concept\", \"equate\", \"really\", \"site\", \"can\", \"anyway\", \"briefly\", \"chose\", \"manual\", \"review\", \"send\", \"store\", \"thebanout\", \"time\", \"correct\", \"allow\", \"could\", \"well\", \"effect\", \"purpose\", \"actually\", \"protect\", \"create\", \"control\", \"search\", \"visit\", \"toxic\", \"first\", \"warn\", \"topic\", \"slope\", \"sad\", \"fascism\", \"society\", \"interested\", \"slippery\", \"exclude\", \"duty\", \"check\", \"asset\", \"danger\", \"feeble\", \"fight\", \"relegate\", \"sincerely\", \"banishment\", \"coincide\", \"express\", \"expression\", \"kill\", \"power\", \"instead\", \"filter\", \"discussion\", \"disagree\", \"allow\", \"platform\", \"value\", \"lead\", \"decide\", \"realize\", \"hate\", \"police\", \"bullshit\", \"mod\", \"participate\", \"lol\", \"acceptable\", \"intend\", \"agenda\", \"stay\", \"together\", \"principle\", \"shut\", \"finally\", \"peace\", \"mainstream\", \"mind\", \"diverse\", \"guise\", \"push\", \"rid\", \"consequence\", \"dox\", \"file\", \"benefit\", \"diversity\", \"equal\", \"inclusionary\", \"quarantined\", \"safety\", \"speech\", \"open\", \"approve\", \"platform\", \"thank\", \"use\", \"false\", \"mobile\", \"circlejerk\", \"call\", \"lean\", \"forum\", \"board\", \"completely\", \"enjoy\", \"caution\", \"almost\", \"organization\", \"stand\", \"assault\", \"meanwhile\", \"victim\", \"whore\", \"affiliation\", \"blend\", \"border\", \"disrupt\", \"fire\", \"fool\", \"regard\", \"activity\", \"authority\", \"campaign\", \"central\", \"conduct\", \"deviate\", \"exponentially\", \"hope\", \"shut\", \"political\", \"internet\", \"stupid\", \"far\", \"obvious\", \"line\", \"decade\", \"sorry\", \"good\", \"much\", \"anxiety\", \"cause\", \"intellect\", \"fall\", \"ministry\", \"offer\", \"outrage\", \"pretend\", \"representation\", \"unanimous\", \"support\", \"really\", \"read\", \"world\", \"think\", \"ideology\", \"curse\", \"deep\", \"flash\", \"mess\", \"ago\", \"generate\", \"enough\", \"differently\", \"many\", \"stop\", \"page\", \"real\", \"joke\", \"target\", \"net\", \"piece\", \"astroturfe\", \"cool\", \"flame\", \"hour\", \"mayo_town\", \"random\", \"risk\", \"truewhitecrime\", \"untouched\", \"whiteycrime\", \"botte\", \"ejection\", \"forceful\", \"growth\", \"neoliberal\", \"partly\", \"reinstate\", \"casual\", \"little\", \"newcomer\", \"propagandistic\", \"trash\", \"front\", \"message\", \"full\", \"politic\", \"communism\", \"already\", \"wordpress\", \"educational\", \"historical\", \"blatantly\", \"destroy\", \"awareness\", \"crime\", \"institution\", \"remembrance\", \"shocking\", \"necessary\", \"infraction\", \"specific\", \"associate\", \"financial\", \"material\", \"shoddily\", \"sidebar\", \"somehow\", \"transparent\", \"bias\", \"reconciliation\", \"enact\", \"shill\", \"resource\", \"approve\", \"promote\", \"hope\", \"information\", \"communist\", \"fullcommunism\", \"site\", \"step\", \"place\", \"congratulation\", \"purely\", \"religion\", \"disgust\", \"parent\", \"reddit\", \"million\", \"friend\", \"delete\", \"play\", \"respective\", \"facebook\", \"era\", \"patch\", \"quite\", \"rough\", \"art\", \"economy\", \"seduction\", \"sex\", \"technique\", \"ufos\", \"addict\", \"american\", \"australian\", \"billionaire\", \"character\", \"deplorable\", \"politic\", \"hope\", \"understand\", \"speak\", \"face\", \"socialist\", \"trade\", \"unionist\", \"horror\", \"somewhere\", \"cunt\", \"lose\", \"forget\", \"holy\", \"hurt\", \"limited\", \"protective\", \"sweetheart\", \"come\", \"left\", \"fucking\", \"help\", \"really\", \"curse\", \"deep\", \"flash\", \"mess\", \"fright\", \"investor\", \"gotcha\", \"condescend\", \"gullible\", \"first\", \"human\", \"respond\", \"talk\", \"grow\", \"completely\", \"mobile\", \"daddy\", \"ear\", \"read\", \"measure\", \"grow\", \"email\", \"click\", \"constructive\", \"criterion\", \"disagreeable\", \"plain\", \"rainbow\", \"reasonable\", \"self\", \"sunshine\", \"subject\", \"simple\", \"break\", \"possibly\", \"always\", \"curse\", \"deep\", \"flash\", \"mess\", \"fright\", \"investor\", \"gotcha\", \"condescend\", \"gullible\", \"scary\", \"forget\", \"holy\", \"brain\", \"deem\", \"person\", \"feeling\", \"sound\", \"good\", \"could\", \"subscribe\", \"can\", \"correct\", \"s\", \"adult\", \"daddy\", \"cover\", \"advertiser\", \"ear\", \"sign\", \"whenever\", \"fright\", \"investor\", \"gotcha\", \"condescend\", \"gullible\", \"scary\", \"curse\", \"deep\", \"flash\", \"mess\", \"avoid\", \"click\", \"constructive\", \"criterion\", \"disagreeable\", \"plain\", \"rainbow\", \"reasonable\", \"self\", \"sunshine\", \"forget\", \"holy\", \"hurt\", \"limited\", \"eye\", \"lie\", \"certain\", \"give\", \"need\", \"opt\", \"warning\", \"word\", \"ever\", \"stuff\", \"average\", \"feed\", \"sure\"], \"Freq\": [83.0, 43.0, 22.0, 62.0, 29.0, 13.0, 30.0, 30.0, 15.0, 46.0, 37.0, 17.0, 11.0, 47.0, 15.0, 9.0, 10.0, 7.0, 8.0, 13.0, 13.0, 9.0, 34.0, 34.0, 25.0, 8.0, 18.0, 9.0, 9.0, 8.0, 62.42615342652066, 34.21839628614402, 33.958752476392526, 30.47780521319216, 26.94214091794578, 26.75380594693519, 22.148565672704265, 18.022363982305162, 15.199228205582775, 15.091770294082856, 14.855225074903636, 14.85000660470243, 14.316151319858239, 13.249390681552864, 12.143565960842952, 11.360133431848789, 9.788758045512783, 9.355645936990964, 9.34633488676401, 9.082202897324027, 9.003829251542278, 8.909866641134485, 8.479837502923706, 8.248141609625868, 22.981968037791543, 7.644857661109726, 7.373094228097974, 7.369919586947513, 7.131695991594172, 6.45898337940608, 42.55120176076139, 22.941426147626657, 19.630863597645043, 39.2260014080178, 20.906023431224348, 20.278245526607012, 25.39524164573551, 19.189311619491047, 47.24975433615669, 24.02668091635507, 10.326632696759292, 12.496439629527393, 12.741926754613747, 10.637633882085774, 8.88667756115098, 7.997958311368959, 7.452327808196258, 7.3267047165989485, 6.108728816381233, 5.813161995055726, 5.167294387975164, 5.098333347540481, 4.643452142619212, 4.45246574045992, 4.390367596505093, 4.154379337912911, 3.804426963379603, 3.759424863132003, 3.6973272068065977, 3.6973272068065977, 3.697326719177176, 3.697326719177176, 3.6973264753624653, 3.5684384609727102, 2.982498071661931, 2.982498071661931, 2.982498071661931, 2.982498071661931, 2.982498071661931, 2.8753978274595045, 2.8753978274595045, 2.8753978274595045, 2.8086079570245768, 2.8086079570245768, 13.152104127811773, 9.326818996233316, 7.295695201348038, 7.1940927016039256, 6.082726858285783, 6.011997691773857, 5.731484938959231, 5.556952567321642, 5.494626223722911, 5.208905289324116, 5.008127375894145, 4.825193963868375, 4.477974490487075, 4.42002638482627, 3.5280291213129114, 3.4657020647041743, 3.465701708199172, 3.4114459248511353, 3.353497462685328, 2.6986901075557808, 2.6407416453899732, 2.5911947583698507, 2.4618315705719613, 34.99241199744409, 2.4038823953961486, 2.4038823953961486, 2.345933933230341, 4.588496032388264, 1.8737298664940811, 1.699198386118999, 4.175952721345689, 11.332300099285746, 6.136485673660082, 32.64163797404485, 12.727824672080935, 4.703995453641889, 3.988558005716367, 2.966590782890556, 9.770930291196262, 8.829803281254934, 7.322645632544722, 7.322645632544722, 6.540728866410305, 5.800190540210611, 5.128124620487322, 4.916388285650094, 4.807324383019228, 4.248473154166346, 4.0239731288973415, 3.7915087413545447, 3.6869076164838646, 3.564294739159686, 3.3055960157757056, 3.242057026570415, 3.1829824746440365, 3.1829814789328004, 2.680492152695424, 2.680492152695424, 2.578605502606216, 2.5150668453046707, 2.278452831185441, 4.00558566140409, 1.8899631481762615, 1.7880763321351807, 1.7759625092368287, 1.7759625092368287, 1.6740763570032384, 1.6740763570032384, 5.086273217715452, 4.731130899714386, 7.4068223966368425, 14.869565263907853, 9.718510077460717, 13.9171462247417, 4.146854516351521, 4.478923549782264, 3.0391476718411847, 2.864111593647754, 3.3940314368246116, 6.923781373638875, 6.311463021434372, 5.928993001948996, 5.624042821080975, 5.13841577377595, 5.029350366624968, 4.782383657564974, 4.038507832377147, 3.654212999860327, 3.348688131182777, 3.348688131182777, 3.2503297277057377, 2.9662181116974002, 2.7061447094528233, 2.7061447094528233, 2.2122101593148282, 2.1145460602169974, 1.9652428842458303, 4.404005128505556, 1.8166343899932085, 1.8166343899932085, 1.5696668319197085, 1.5696668319197085, 1.3712449228386998, 1.3712449228386998, 1.322699839855213, 1.322699839855213, 1.322699839855213, 1.322699839855213, 1.322699839855213, 3.7466626466666964, 3.639948063582275, 2.539351666563979, 2.4517429061059097, 1.393312576252284, 2.0686927273906237, 7.765992883167218, 7.586814653443793, 4.900183820368346, 4.1136450627808125, 3.599819889910539, 3.4595006608765115, 2.9982523256912113, 7.869841942855307, 2.4414844001712184, 2.3023524412751226, 4.874692366728786, 2.1654668794154475, 2.1337353105049983, 2.1266078787260496, 2.071134718008327, 5.416618859760893, 4.641944546491398, 1.7007851946350747, 1.7007851946350747, 1.7007850358454348, 1.7007850358454348, 1.4695669949993588, 1.283798757033407, 2.500667204457533, 0.867999748359311, 0.867999748359311, 0.867999748359311, 0.867999748359311, 0.867999748359311, 0.867999748359311, 1.4127785796939019, 4.716060563677491, 1.297503096909586, 2.2730601988136376, 1.335581884703073, 1.127191521891519, 1.7242720878598632, 2.226784773648577, 2.226784773648577, 2.226784773648577, 1.9861645687814051, 1.4948400669479813, 1.4948400669479813, 1.4948400669479813, 1.4948400669479813, 1.4948400669479813, 1.4948400669479813, 1.4948400669479813, 1.4948400669479813, 1.4948400669479813, 1.4948400669479813, 1.4948400669479813, 1.4948400669479813, 1.37452980813794, 1.37452980813794, 1.37452980813794, 1.254219705704354, 0.7628952820591577, 0.7628952820591577, 0.7628952820591577, 0.7628952820591577, 0.7628952820591577, 0.7628952820591577, 0.7628952820591577, 0.7628952820591577, 0.7628952820591577, 0.7628952820591577, 1.4739259670578482, 1.4468070057962639, 7.713370617113163, 3.8521757752249943, 10.015975977566304, 2.751140087569164, 2.737569046930163, 2.6991235039632078, 2.5503815082275723, 12.840545304062319, 2.3397688930671086, 1.5992631020357366, 1.463835076178185, 1.453917913080301, 1.453917913080301, 1.4118183454223943, 6.945572840117006, 1.3705073537277128, 1.3634559336572238, 1.2701279169070825, 1.2701279169070825, 1.2251626062217806, 0.8587567224050269, 0.8587567224050269, 0.8587567224050269, 0.8587567224050269, 0.8587567224050269, 0.8587567224050269, 0.7753456480280178, 0.7753456480280178, 0.7233290644220616, 0.7233290644220616, 0.7233290644220616, 1.4216475129192316, 3.1729333162513624, 4.0628348897331685, 2.075836093916622, 3.23101011864244, 1.9947974427467592, 1.1735386919492572, 1.669970804773028, 1.2172082011917225, 1.401197070366303, 1.3245250905360013, 5.4130759458944935, 4.7369258675006805, 3.9623076209401638, 3.743666311270479, 3.5256600669237614, 3.245416841222588, 2.938722028890331, 2.696392579777683, 2.5697905250554305, 2.2463618429111105, 2.065110837455109, 8.310528004049953, 1.5771657442963836, 1.5771657442963836, 1.3515707446994256, 1.25257823460244, 1.2525780896765335, 1.2525780896765335, 1.2525780896765335, 1.2525780896765335, 1.2525780896765335, 3.297604950061314, 0.846891057099104, 0.846891057099104, 0.846891057099104, 0.846891057099104, 0.846891057099104, 0.846891057099104, 0.8468909846361506, 3.1932893114128444, 2.6730464654744295, 2.220774014683698, 6.552603422676572, 1.356290256849686, 4.665267252954502, 1.446897064135728, 1.8666830686163032, 3.01991676809449, 1.8341561879781898, 7.501242687842076, 5.535537757696076, 3.3051130336892927, 2.8345730504239786, 2.7403058229138764, 2.070132662580115, 2.0608195148020085, 2.0608195148020085, 1.9665512833142458, 1.9336371306695352, 1.9243238573942212, 1.3653979477571043, 1.3258615584602562, 1.287065602688416, 1.2382159401162538, 1.2382156891218385, 1.1927976221950685, 0.8064723518630067, 0.8064723518630067, 4.307904997099129, 1.3747276611666177, 2.121370913505069, 0.7281396930512992, 0.7281396930512992, 0.7281396930512992, 0.7281396930512992, 0.7281396930512992, 0.7281396930512992, 0.7281396930512992, 0.7281396930512992, 4.9045096863657776, 1.567493003547599, 2.3667217193348957, 1.6377016633720831, 2.0450251892331393, 1.1854739816494957, 1.1088721175767957, 0.7427526506561585, 4.092307318197966, 3.352566270071207, 3.147221372829726, 2.7027679837752987, 2.507233224842016, 2.418445189374542, 1.8672455147482627, 1.8522364804411313, 1.8124635576306822, 1.7784573698072994, 1.4883680593664546, 1.4145890582061116, 1.4145890582061116, 1.166238814440547, 1.123460625406415, 1.0836878120694549, 1.0836878120694549, 1.8960731686416916, 0.7595923685419717, 0.7595923685419717, 0.7595923685419717, 0.7595923685419717, 0.7595923685419717, 0.7595923685419717, 0.7595923685419717, 0.7595923685419717, 0.7595923685419717, 0.7595923685419717, 0.7595923685419717, 0.7595923685419717, 2.79542459340176, 1.277836308209845, 1.4501551337761527, 2.9425812659112833, 2.098903897731742, 2.369926101096779, 1.0322158953693041, 1.1688491003154373, 1.0546259943827703, 0.7650728850916994, 13.017466834335263, 2.8916031670725633, 2.4991825774027814, 2.419519671933908, 2.375119030441751, 2.3391841491026053, 1.6305576442802998, 1.4362988360505533, 1.2794187318357761, 1.241037183501411, 1.241037183501411, 1.0457758510430184, 1.4212539306243652, 0.6174201132917995, 0.6174201132917995, 0.6174201132917995, 0.6174201132917995, 3.7353749740108197, 0.576138702808833, 0.576138702808833, 0.576138702808833, 0.5377571544744677, 0.5377571544744677, 0.5377571544744677, 0.5377571544744677, 0.5377571544744677, 0.5377571544744677, 0.5377571544744677, 0.5377571544744677, 0.5377571544744677, 9.953139070928517, 4.194891706308912, 1.2495089186817532, 5.081612223097838, 1.3462468518095145, 1.322237378145075, 0.7241041195938825, 3.7822258401086204, 1.8915901267065451, 1.8509848749114035, 1.826477930157159, 1.826477930157159, 1.761365350770507, 1.528941879512287, 1.2484215097072835, 1.2078161622028254, 1.2078161622028254, 1.1427035828161731, 1.1427035828161731, 0.6703653285306991, 0.6703653285306991, 0.6703653285306991, 0.6703653285306991, 0.6703653285306991, 0.6703653285306991, 0.6703653285306991, 0.6703653285306991, 0.6703653285306991, 0.6703653285306991, 0.6703653285306991, 0.6703653285306991, 0.6703653285306991, 0.6703653285306991, 0.6703653285306991, 0.6703653285306991, 0.6703653285306991, 0.6703653285306991, 1.3894807716935216, 0.6841239734742819, 6.811006720384676, 5.483100231233102, 3.8397074486596665, 2.8162851326878457, 1.6380146632803516, 1.6380146632803516, 1.1622479814882016, 0.6864818416266538, 4.968293101137293, 2.0281573164175772, 0.5782223007549773, 0.5782223007549773, 0.5782223007549773, 0.5036169212255188, 0.5036169212255188, 0.5036169212255188, 0.5036169212255188, 0.5036169212255188, 0.5036169212255188, 0.5036169212255188, 0.5036289211174176, 1.4973952848903962, 0.6450027830331797, 0.8477106085502368, 1.9345346243348363, 1.152006189880535, 0.02785046927000817, 0.02785046927000817, 0.02785046927000817, 0.02785046927000817, 0.02785047894734035, 0.02785047410867426, 0.02785047410867426, 0.02785047410867426, 4.580130472157422, 3.844986584256038, 2.832571485142293, 1.12748270637021, 1.0908109062652085, 1.0686779102166164, 1.0250144859070358, 1.0250144859070358, 0.9662098229323101, 0.9662098229323101, 0.6054248738557397, 0.6054248738557397, 0.6054248738557397, 0.6054248738557397, 0.6054248738557397, 0.6054248738557397, 0.6054248738557397, 0.6054248738557397, 0.5466199445232783, 0.5466199445232783, 0.5466199445232783, 0.5466199445232783, 0.5466199445232783, 0.5466199445232783, 0.5466199445232783, 0.5099480778288429, 0.5099480778288429, 0.5099480778288429, 0.5099480778288429, 0.5099480778288429, 1.3352374784980763, 1.6888930298312732, 0.8138974134919031, 0.5466214094908247, 2.8870194375281892, 2.6571065698844847, 1.4723973594987623, 1.4723973594987623, 1.3415441966608463, 1.3391627334568448, 1.084679684826145, 0.9243131190571239, 0.9243131190571239, 0.9243131190571239, 0.9243131190571239, 0.9243131190571239, 0.8904088363910793, 0.8588865376381659, 0.8588865376381659, 0.5070817810988365, 0.5070817810988365, 0.5070817810988365, 0.5070817810988365, 0.5070817810988365, 0.5070817810988365, 0.5070817810988365, 0.4416552973128404, 0.4416552973128404, 0.4416552647685198, 0.4416552647685198, 0.9138723152118549, 0.9897342981188627, 1.363335092668863, 0.8659909628244779, 1.5820231637841182, 1.1434552485333476, 1.0110429523842737, 0.5070696095229332, 3.023699144845551, 2.172988165413183, 1.4070616010319472, 0.9648603349654125, 0.9452829258509432, 0.912845457171203, 0.912845457171203, 0.912845457171203, 0.912845457171203, 0.8826866023975104, 0.8804078767591018, 0.4835044182684808, 0.4835044182684808, 0.4835044182684808, 0.4835044182684808, 0.4835044182684808, 0.4835044182684808, 0.4835044182684808, 0.4835044182684808, 0.4835044182684808, 0.4835044182684808, 0.4835044182684808, 0.4835044182684808, 0.4835044182684808, 0.45106694958874066, 0.45106694958874066, 0.45106694958874066, 0.45106694958874066, 0.45106694958874066, 0.45106694958874066, 0.9452820319920544, 0.5849282399990161, 2.5765773478021243, 1.6542143000156984, 1.0296055795447783, 0.8367225459390533, 0.8367225459390533, 0.8367225459390533, 0.7564950317696811, 0.7564949462888574, 0.7010873448970634, 0.7010873448970634, 0.39926442955780744, 0.39926442955780744, 0.39926442955780744, 0.39926442955780744, 0.39926442955780744, 0.39926442955780744, 2.658035443909032, 0.4279766689007307, 0.7702118831013359, 0.6298174089803523, 0.4593146227042873, 0.01923084261664721, 0.01923084261664721, 0.01923084261664721, 0.01923084261664721, 0.01923084261664721, 0.01923084261664721, 0.01923084261664721, 0.01923084261664721, 0.01923084261664721, 0.01923085063047443, 0.01923084528792295, 0.01923084528792295, 0.01923084528792295, 0.01923084528792295, 0.019230843952285078, 0.019230843952285078, 0.019230843952285078, 0.019230843952285078, 3.059120137466021, 1.012432111954556, 0.645348251937867, 0.6011744285146912, 0.3194737922655083, 0.3194737922655083, 0.3194737922655083, 0.3194737922655083, 0.3194737922655083, 0.3194737922655083, 0.3194737922655083, 0.3194737922655083, 0.3194737922655083, 0.8091667065870585, 0.31923547602613, 0.5373780051795822, 0.31882469324312623, 0.3183666962603426, 0.016490226831246502, 0.016490226831246502, 0.016490226831246502, 0.016490226831246502, 0.016490226831246502, 0.016490226831246502, 0.016490226831246502, 0.016490226831246502, 0.016490226831246502, 0.016490226831246502, 0.016490226831246502, 0.016490226831246502, 0.016490231842943997, 0.016490229838265, 0.0164902288359255, 0.016490227833586002, 0.016490227833586002, 0.016490227833586002, 0.016490227833586002, 0.016490227833586002, 0.016490227833586002, 0.016490227833586002, 0.016490227833586002, 0.016490227833586002, 0.8046782779146788, 0.7857775864138701, 0.7857775864138701, 0.7682046974828638, 0.4963797807824911, 0.4788068416491116, 0.30301351759299566, 0.30301351759299566, 0.30301351759299566, 0.30301351759299566, 0.30301351759299566, 0.30301351759299566, 0.24621128935595746, 0.24621128935595746, 0.24621128935595746, 0.24621128935595746, 0.24601898916526488, 0.01361570725514424, 0.01361570725514424, 0.01361570725514424, 0.01361570725514424, 0.01361570725514424, 0.01361570725514424, 0.01361570725514424, 0.01361570725514424, 0.01361570725514424, 0.01361570725514424, 0.01361570725514424, 0.01361570725514424, 0.01361570725514424, 0.013615711961616732, 0.013615710392792567, 0.013615708823968403, 0.013615708823968403, 0.013615708823968403, 0.013615708823968403, 0.013615708823968403, 0.013615708823968403, 0.013615708823968403, 0.013615708823968403, 0.013615708823968403, 0.013615708823968403, 0.013615708823968403], \"Total\": [83.0, 43.0, 22.0, 62.0, 29.0, 13.0, 30.0, 30.0, 15.0, 46.0, 37.0, 17.0, 11.0, 47.0, 15.0, 9.0, 10.0, 7.0, 8.0, 13.0, 13.0, 9.0, 34.0, 34.0, 25.0, 8.0, 18.0, 9.0, 9.0, 8.0, 62.99968946484348, 34.791932324466835, 34.532288519313774, 31.051341257291085, 27.515676956268596, 27.327341988205973, 22.722101713470465, 18.59590002062798, 15.772764247715195, 15.665306336185507, 15.428761121048261, 15.42354265006706, 14.88968737169768, 13.82292672868807, 12.717102007217246, 11.933669470171603, 10.362294088350705, 9.929181983229167, 9.919870940934924, 9.655738938594805, 9.577365295256438, 9.483402683469505, 9.053373550833786, 8.821677655826363, 24.69157967759933, 8.218393705692648, 7.946630280640804, 7.943455638629326, 7.705232041278561, 7.0325194245487985, 47.70692806137794, 25.75280775765702, 22.004197578030606, 46.72875456163113, 23.981297868017517, 23.265911201341467, 30.599686693578473, 22.81826256025139, 83.77150371859427, 37.2831422165973, 12.203122135440127, 22.993376290333956, 30.386222850497436, 11.216186983495215, 9.465230662309207, 8.57651141364527, 8.030880910832868, 7.905257820569173, 6.687281916509435, 6.391715099610297, 5.74584748369909, 5.6768864568767965, 5.222005251574919, 5.031018843263367, 4.968920694672401, 4.732932433636837, 4.3829800669382575, 4.33797796673361, 4.275880309973789, 4.275880318614095, 4.275879819787867, 4.275879821824172, 4.275879585020325, 4.146991561583401, 3.561051167385858, 3.561051177662012, 3.561051178250169, 3.561051183086663, 3.5610511878567315, 3.4539509283958623, 3.453950933365368, 3.4539509373863067, 3.3871610609695466, 3.3871610663396505, 13.730492236912378, 9.905207114189267, 7.874083317679293, 7.77248083353584, 6.661114967386387, 6.590385804295508, 6.309873056745959, 6.135340687023409, 6.073014344028311, 5.787293404406553, 5.586515488804354, 5.403582075002999, 5.056362604324414, 4.998414500985831, 4.106417252337466, 4.044090189911543, 4.044089819743157, 3.989834047286814, 3.9318855770811045, 3.2770782253527546, 3.21912976416791, 3.169582875808995, 3.040219679672566, 43.37873074216836, 2.982270508306358, 2.9822705359291515, 2.9243220465563065, 5.8074165618352405, 2.4521179838157288, 2.27758649821052, 5.642856404088041, 15.938683471308773, 9.121759152445543, 83.77150371859427, 37.2831422165973, 12.646649318317422, 46.72875456163113, 12.083645030963062, 10.351661166506487, 9.410534151801548, 7.903376502543801, 7.903376502543801, 7.121459747578391, 6.3809214221326425, 5.708855492929783, 5.497119167077345, 5.3880552734563505, 4.829204025056321, 4.604703998487058, 4.372239608910241, 4.2676385026320975, 4.145025626730507, 3.886326905825202, 3.8227878958719304, 3.7637133442337536, 3.7637123661582046, 3.2612230292014543, 3.2612230307366312, 3.1593363746908474, 3.095797714606186, 2.859183698741138, 5.196903108507073, 2.4706940239530013, 2.36880721112524, 2.3566933826329053, 2.3566933890896853, 2.254807226823403, 2.254807232501662, 6.967371345859046, 6.91684498880962, 12.646649318317422, 29.209562899456483, 18.28229628157418, 30.386222850497436, 9.668028024293159, 13.533780434311597, 5.284209573703956, 5.779876029136053, 83.77150371859427, 7.509455632998254, 6.897137276323845, 6.51466726039176, 6.20971707560779, 5.72409003361966, 5.615024619713353, 5.368057908209977, 4.624182097602976, 4.23988725050533, 3.9343623842711626, 3.934362392492205, 3.8360039759073588, 3.5518923783488683, 3.2918189626166203, 3.2918189626166203, 2.7978844124786253, 2.700220322462244, 2.5509171324474513, 5.740660424335749, 2.4023086381948295, 2.4023086381948295, 2.1553410801213295, 2.1553410907857544, 1.956919177114393, 1.9569191950769758, 1.908374088056834, 1.908374088056834, 1.908374088056834, 1.908374088056834, 1.908374088056834, 8.512539619459792, 13.533780434311597, 23.981297868017517, 23.265911201341467, 2.553707773374796, 47.70692806137794, 8.354065782653391, 8.174887550486584, 5.488256722863668, 4.7017179657882595, 4.187892789246684, 4.047573566133184, 3.5863252305225486, 9.582070561874847, 3.0295572947706284, 2.8904253655295395, 6.172799466607369, 2.753539784196794, 2.7218082051044084, 2.714680798769452, 2.659207612607737, 7.123723067947338, 6.216636462338373, 2.2888580892344854, 2.2888580892344854, 2.288857933392809, 2.2888579390196755, 2.0576398895987693, 1.8718716554424224, 3.7193607330351983, 1.4560726429587214, 1.4560726429587214, 1.4560726429587214, 1.4560726429587214, 1.4560726429587214, 1.4560726429587214, 2.930982052115709, 29.209562899456483, 3.42035053576971, 25.75280775765702, 6.967371345859046, 3.8039168715278024, 22.81826256025139, 2.819121744429338, 2.819121744429338, 2.819121744429338, 2.5785015454448477, 2.087177037728743, 2.087177037728743, 2.087177037728743, 2.087177037728743, 2.087177037728743, 2.087177037728743, 2.087177037728743, 2.087177037728743, 2.087177037728743, 2.087177037728743, 2.087177037728743, 2.087177037728743, 1.9668667789187013, 1.9668667789187013, 1.9668667789187013, 1.846556695822229, 1.355232252839919, 1.355232252839919, 1.355232252839919, 1.355232252839919, 1.355232252839919, 1.355232252839919, 1.355232252839919, 1.355232252839919, 1.355232252839919, 1.355232252839919, 2.9020122271020194, 2.9870273766055577, 29.209562899456483, 4.440623703528213, 11.628233320235866, 3.339587980082292, 3.326016981399443, 3.287571393995248, 3.1388294002642914, 15.815558489093918, 2.9282167985471976, 2.1877109920677764, 2.052282966210225, 2.0423658279404404, 2.0423658560815183, 2.0002662354544345, 9.882973789970055, 1.9589552482886874, 1.951903833700359, 1.8585758069391225, 1.8585758069391225, 1.8136104962538206, 1.4472046124370668, 1.4472046124370668, 1.4472046124370668, 1.4472046124370668, 1.4472046124370668, 1.4472046124370668, 1.3637935380600577, 1.3637935380600577, 1.3117769544541016, 1.3117769544541016, 1.3117769544541016, 3.0114947527372316, 9.720939956334558, 15.938683471308773, 8.48378833274703, 30.386222850497436, 10.859415106365, 3.420488214719505, 11.829043017484386, 5.068902795369632, 22.81826256025139, 43.37873074216836, 6.002005238336592, 5.325855146711785, 4.551236906286903, 4.332595592246532, 4.11458935426914, 3.834346117012646, 3.5276513094869553, 3.285321855567741, 3.1587198046550933, 2.8352911245970955, 2.6540401132451668, 10.859415106365, 2.166095023034405, 2.166095049741448, 1.9405000204894836, 1.8415075188005352, 1.8415073654665912, 1.8415073654665912, 1.8415073654665912, 1.8415073692761963, 1.841507373085801, 5.068902795369632, 1.4358203328891617, 1.4358203328891617, 1.4358203328891617, 1.4358203328891617, 1.4358203328891617, 1.4358203328891617, 1.4358202604262085, 5.644120359971157, 4.9406782428083424, 6.057416501364897, 43.37873074216836, 3.270740909357152, 30.599686693578473, 4.036133190882959, 6.686066491702453, 46.72875456163113, 22.004197578030606, 8.091811764152512, 6.126106831229769, 3.895682100335697, 3.425142111840256, 3.330874899491204, 2.6607017210054766, 2.6513885780339366, 2.6513885792092022, 2.557120345223035, 2.5242061925865333, 2.5148929391750534, 1.9559670091304295, 1.9164306168856178, 1.877634666585782, 1.8287850010227036, 1.828784750028288, 1.783366686911123, 1.3970414102883684, 1.3970414102883684, 7.471301905100549, 2.4479423971595162, 3.8039168715278024, 1.318708751476661, 1.318708751476661, 1.318708751476661, 1.318708751476661, 1.318708751476661, 1.318708751476661, 1.318708751476661, 1.318708751476661, 13.533780434311597, 3.42035053576971, 8.48378833274703, 6.91684498880962, 12.815402201779067, 4.368578930816574, 5.644120359971157, 6.172799466607369, 4.684778310838571, 3.9450373023567824, 3.7396923458775486, 3.2952389657434003, 3.099704197673218, 3.010916168349314, 2.4597164952897184, 2.444707453488954, 2.40493456225831, 2.3709283403740344, 2.08083902993319, 2.007060028772847, 2.007060028772847, 1.7587097867531, 1.71593159597315, 1.67615878263619, 1.67615878263619, 3.1783402643360086, 1.3520633391087067, 1.3520633391087067, 1.3520633391087067, 1.3520633391087067, 1.3520633391087067, 1.3520633391087067, 1.3520633391087067, 1.3520633391087067, 1.3520633391087067, 1.3520633391087067, 1.3520633391087067, 1.3520633391087067, 6.767241956561007, 2.649253944935929, 3.2185275977215406, 9.484123591778232, 8.48378833274703, 17.23922855681054, 3.0114947527372316, 6.655080116036269, 11.628233320235866, 2.0839843701295533, 13.611015908375713, 3.4851522392801857, 3.092731648065266, 3.0130687482109746, 2.968668109082436, 2.9327332129021904, 2.224106720297527, 2.029847905284437, 1.8729677986262774, 1.8345862497443781, 1.8345862502919121, 1.6393249148426035, 2.6717303531360934, 1.2109691770913846, 1.2109691770913846, 1.2109691770913846, 1.2109691770913846, 7.424419665562521, 1.169687766608418, 1.169687766608418, 1.169687766608418, 1.1313062182740528, 1.1313062182740528, 1.1313062182740528, 1.1313062182740528, 1.1313062182740528, 1.1313062182740528, 1.1313062182740528, 1.1313062182740528, 1.1313062182740528, 22.993376290333956, 9.991542211487603, 2.8083683479183557, 17.23922855681054, 7.405582913375619, 13.275761240999515, 3.155373254698025, 4.378316761365275, 2.4876810795772712, 2.4470758277821294, 2.4225688300587076, 2.422568833479754, 2.357456250672056, 2.1250327873442743, 1.8445124096088323, 1.8039070621043742, 1.8039070646973723, 1.738794482717722, 1.738794482717722, 1.266456228432248, 1.266456228432248, 1.266456228432248, 1.266456228432248, 1.266456228432248, 1.266456228432248, 1.266456228432248, 1.266456228432248, 1.266456228432248, 1.266456228432248, 1.266456228432248, 1.266456228432248, 1.266456228432248, 1.266456228432248, 1.266456228432248, 1.266456228432248, 1.266456228432248, 1.266456228432248, 3.390341001984699, 2.6717303531360934, 7.40644377962069, 6.078537289959288, 4.435144504904764, 3.411722188114256, 2.2334517157158453, 2.2334517324000127, 1.7576852073409746, 1.2819188940621478, 9.668028024293159, 4.036133190882959, 1.173659353190471, 1.173659353190471, 1.173659353190471, 1.0990539736610128, 1.0990539736610128, 1.0990539736610128, 1.0990539736610128, 1.0990539736610128, 1.0990539736610128, 1.0990539736610128, 1.6254883662786865, 7.471301905100549, 4.28306975208528, 6.585284305893523, 15.815558489093918, 9.582070561874847, 0.8558831038063152, 0.8558831038063152, 0.8558831038063152, 0.8558831038063152, 3.21912976416791, 6.00911295543089, 4.8727821369855855, 2.3292433023389716, 5.178856017745239, 4.443712115859033, 3.431297018693735, 1.72620823393854, 1.6895364338335386, 1.667403446413838, 1.623740028390704, 1.623740028390704, 1.5649353470795937, 1.5649353470795937, 1.2041503980030233, 1.2041503980030233, 1.2041503980030233, 1.2041503980030233, 1.2041503980030233, 1.2041503980030233, 1.2041503980030233, 1.2041503980030233, 1.1453454686705618, 1.1453454686705618, 1.1453454686705618, 1.1453454686705618, 1.1453454686705618, 1.1453454686705618, 1.1453454686705618, 1.1086736019761263, 1.1086736019761263, 1.1086736019761263, 1.1086736019761263, 1.1086736019761263, 2.958846336288839, 5.284209573703956, 2.037944760355565, 2.646959101259035, 3.485883026033197, 3.255970225093987, 2.071260946257952, 2.071260946257952, 1.9404077834200357, 1.9380263374852282, 1.683543275006381, 1.5231767058163133, 1.5231767058163133, 1.5231767058163133, 1.5231767058163133, 1.5231767058163133, 1.4892724231502685, 1.4577501243973552, 1.4577501243973552, 1.1059453678580258, 1.1059453678580258, 1.1059453678580258, 1.1059453678580258, 1.1059453678580258, 1.1059453678580258, 1.1059453678580258, 1.0405188840720299, 1.0405188840720299, 1.0405188515277093, 1.0405188515277093, 2.257918518384668, 2.8083683479183557, 5.135002054720265, 3.390341001984699, 9.121759152445543, 7.123723067947338, 6.216636462338373, 2.4479423971595162, 3.6252607786776374, 2.7745497455265893, 2.0086231850481426, 1.5664219246200841, 1.5468445036998821, 1.514407035020142, 1.514407035020142, 1.514407035020142, 1.5144070495429267, 1.4842481802464491, 1.4819694546080406, 1.0850659961174196, 1.0850659961174196, 1.0850659961174196, 1.0850659961174196, 1.0850659961174196, 1.0850659961174196, 1.0850659961174196, 1.0850659961174196, 1.0850659961174196, 1.0850659961174196, 1.0850659961174196, 1.0850659961174196, 1.0850659961174196, 1.0526285274376794, 1.0526285274376794, 1.0526285274376794, 1.0526285274376794, 1.0526285274376794, 1.0526285274376794, 2.646959101259035, 3.390341001984699, 3.1806340336915, 2.258270979104553, 1.6336622615815966, 1.440779225027908, 1.440779225027908, 1.440779225027908, 1.3605517283292843, 1.3605516305901428, 1.3051440269338817, 1.3051440269338817, 1.0033211086466622, 1.0033211086466622, 1.0033211086466622, 1.0033211086466622, 1.0033211086466622, 1.0033211086466622, 8.512539619459792, 1.6100894753296793, 5.740660424335749, 5.196903108507073, 7.471301905100549, 0.8558831038063152, 0.8558831038063152, 0.8558831038063152, 0.8558831038063152, 0.9126853320433533, 0.9126853320433533, 0.9126853320433533, 0.9126853320433533, 0.9126853320433533, 2.4597164952897184, 2.0772684631310536, 2.0772684631310536, 3.326016981399443, 1.2521455494833982, 2.1250327873442743, 4.378316761365275, 1.4143500937006743, 1.3778765387111709, 4.28306975208528, 1.6192294961217388, 1.2521455494833982, 1.2079717317969838, 0.9262710871397638, 0.9262710871397638, 0.9262710871397638, 0.9262710871397638, 0.9262710871397638, 0.9262710871397638, 0.9262710871397638, 0.9262710871397638, 0.9262710871397638, 2.6215167787730675, 1.7486081662554687, 3.3169215305762703, 2.571240567107745, 3.4560520879830765, 0.8558831038063152, 0.8558831038063152, 0.8558831038063152, 0.8558831038063152, 0.9126853320433533, 0.9126853320433533, 0.9126853320433533, 0.9126853320433533, 0.9126853320433533, 0.9126853320433533, 1.0033211086466622, 1.0033211086466622, 2.700220322462244, 3.7193607330351983, 3.1388294002642914, 5.070266652648541, 5.32787001925763, 9.668028024293159, 6.91684498880962, 6.897137276323845, 3.8039168715278024, 3.42035053576971, 2.557120345223035, 3.151172798106625, 1.4143500937006743, 1.3954494046738326, 1.395449414530062, 1.3778765387111709, 1.1060515990424538, 1.0884786560994693, 0.9126853320433533, 0.9126853320433533, 0.9126853320433533, 0.9126853320433533, 0.9126853320433533, 0.9126853320433533, 0.8558831038063152, 0.8558831038063152, 0.8558831038063152, 0.8558831038063152, 1.5832821896211269, 0.9262710871397638, 0.9262710871397638, 0.9262710871397638, 0.9262710871397638, 0.9262710871397638, 0.9262710871397638, 0.9262710871397638, 0.9262710871397638, 0.9262710871397638, 1.0033211086466622, 1.0033211086466622, 1.0033211086466622, 1.0033211086466622, 2.396033541906185, 2.3960335346158486, 4.676215246142438, 9.882973789970055, 15.428761121048261, 4.087094133751775, 5.8074165618352405, 9.483402683469505, 6.51466726039176, 3.886326905825202, 3.380538364116245, 2.5306397084268295, 3.444749172827524], \"Category\": [\"Default\", \"Default\", \"Default\", \"Default\", \"Default\", \"Default\", \"Default\", \"Default\", \"Default\", \"Default\", \"Default\", \"Default\", \"Default\", \"Default\", \"Default\", \"Default\", \"Default\", \"Default\", \"Default\", \"Default\", \"Default\", \"Default\", \"Default\", \"Default\", \"Default\", \"Default\", \"Default\", \"Default\", \"Default\", \"Default\", \"Topic1\", \"Topic1\", \"Topic1\", \"Topic1\", \"Topic1\", \"Topic1\", \"Topic1\", \"Topic1\", \"Topic1\", \"Topic1\", \"Topic1\", \"Topic1\", \"Topic1\", \"Topic1\", \"Topic1\", \"Topic1\", \"Topic1\", \"Topic1\", \"Topic1\", \"Topic1\", \"Topic1\", \"Topic1\", \"Topic1\", \"Topic1\", \"Topic1\", \"Topic1\", \"Topic1\", \"Topic1\", \"Topic1\", \"Topic1\", \"Topic1\", \"Topic1\", \"Topic1\", \"Topic1\", \"Topic1\", \"Topic1\", \"Topic1\", \"Topic1\", \"Topic1\", \"Topic1\", \"Topic1\", \"Topic1\", \"Topic1\", \"Topic2\", \"Topic2\", \"Topic2\", \"Topic2\", \"Topic2\", \"Topic2\", \"Topic2\", \"Topic2\", \"Topic2\", \"Topic2\", \"Topic2\", \"Topic2\", \"Topic2\", \"Topic2\", \"Topic2\", \"Topic2\", \"Topic2\", \"Topic2\", \"Topic2\", \"Topic2\", \"Topic2\", \"Topic2\", \"Topic2\", \"Topic2\", \"Topic2\", \"Topic2\", \"Topic2\", \"Topic2\", \"Topic2\", \"Topic2\", \"Topic2\", \"Topic3\", \"Topic3\", \"Topic3\", \"Topic3\", \"Topic3\", \"Topic3\", \"Topic3\", \"Topic3\", \"Topic3\", \"Topic3\", \"Topic3\", \"Topic3\", \"Topic3\", \"Topic3\", \"Topic3\", \"Topic3\", \"Topic3\", \"Topic3\", \"Topic3\", \"Topic3\", \"Topic3\", \"Topic3\", \"Topic3\", \"Topic3\", \"Topic3\", \"Topic3\", \"Topic3\", \"Topic3\", \"Topic3\", \"Topic3\", \"Topic3\", \"Topic3\", \"Topic3\", \"Topic3\", \"Topic3\", \"Topic3\", \"Topic3\", \"Topic3\", \"Topic4\", \"Topic4\", \"Topic4\", \"Topic4\", \"Topic4\", \"Topic4\", \"Topic4\", \"Topic4\", \"Topic4\", \"Topic4\", \"Topic4\", \"Topic4\", \"Topic4\", \"Topic4\", \"Topic4\", \"Topic4\", \"Topic4\", \"Topic4\", \"Topic4\", \"Topic4\", \"Topic4\", \"Topic4\", \"Topic4\", \"Topic4\", \"Topic4\", \"Topic4\", \"Topic4\", \"Topic4\", \"Topic4\", \"Topic4\", \"Topic4\", \"Topic4\", \"Topic4\", \"Topic4\", \"Topic4\", \"Topic4\", \"Topic4\", \"Topic4\", \"Topic4\", \"Topic4\", \"Topic4\", \"Topic5\", \"Topic5\", \"Topic5\", \"Topic5\", \"Topic5\", \"Topic5\", \"Topic5\", \"Topic5\", \"Topic5\", \"Topic5\", \"Topic5\", \"Topic5\", \"Topic5\", \"Topic5\", \"Topic5\", \"Topic5\", \"Topic5\", \"Topic5\", \"Topic5\", \"Topic5\", \"Topic5\", \"Topic5\", \"Topic5\", \"Topic5\", \"Topic5\", \"Topic5\", \"Topic5\", \"Topic5\", \"Topic5\", \"Topic5\", \"Topic5\", \"Topic5\", \"Topic5\", \"Topic5\", \"Topic5\", \"Topic5\", \"Topic6\", \"Topic6\", \"Topic6\", \"Topic6\", \"Topic6\", \"Topic6\", \"Topic6\", \"Topic6\", \"Topic6\", \"Topic6\", \"Topic6\", \"Topic6\", \"Topic6\", \"Topic6\", \"Topic6\", \"Topic6\", \"Topic6\", \"Topic6\", \"Topic6\", \"Topic6\", \"Topic6\", \"Topic6\", \"Topic6\", \"Topic6\", \"Topic6\", \"Topic6\", \"Topic6\", \"Topic6\", \"Topic6\", \"Topic6\", \"Topic6\", \"Topic6\", \"Topic6\", \"Topic6\", \"Topic6\", \"Topic6\", \"Topic6\", \"Topic7\", \"Topic7\", \"Topic7\", \"Topic7\", \"Topic7\", \"Topic7\", \"Topic7\", \"Topic7\", \"Topic7\", \"Topic7\", \"Topic7\", \"Topic7\", \"Topic7\", \"Topic7\", \"Topic7\", \"Topic7\", \"Topic7\", \"Topic7\", \"Topic7\", \"Topic7\", \"Topic7\", \"Topic7\", \"Topic7\", \"Topic7\", \"Topic7\", \"Topic7\", \"Topic7\", \"Topic7\", \"Topic7\", \"Topic7\", \"Topic7\", \"Topic7\", \"Topic7\", \"Topic8\", \"Topic8\", \"Topic8\", \"Topic8\", \"Topic8\", \"Topic8\", \"Topic8\", \"Topic8\", \"Topic8\", \"Topic8\", \"Topic8\", \"Topic8\", \"Topic8\", \"Topic8\", \"Topic8\", \"Topic8\", \"Topic8\", \"Topic8\", \"Topic8\", \"Topic8\", \"Topic8\", \"Topic8\", \"Topic8\", \"Topic8\", \"Topic8\", \"Topic8\", \"Topic8\", \"Topic8\", \"Topic8\", \"Topic8\", \"Topic8\", \"Topic8\", \"Topic8\", \"Topic8\", \"Topic8\", \"Topic8\", \"Topic8\", \"Topic8\", \"Topic8\", \"Topic8\", \"Topic8\", \"Topic9\", \"Topic9\", \"Topic9\", \"Topic9\", \"Topic9\", \"Topic9\", \"Topic9\", \"Topic9\", \"Topic9\", \"Topic9\", \"Topic9\", \"Topic9\", \"Topic9\", \"Topic9\", \"Topic9\", \"Topic9\", \"Topic9\", \"Topic9\", \"Topic9\", \"Topic9\", \"Topic9\", \"Topic9\", \"Topic9\", \"Topic9\", \"Topic9\", \"Topic9\", \"Topic9\", \"Topic9\", \"Topic9\", \"Topic9\", \"Topic9\", \"Topic9\", \"Topic9\", \"Topic9\", \"Topic9\", \"Topic9\", \"Topic9\", \"Topic9\", \"Topic9\", \"Topic10\", \"Topic10\", \"Topic10\", \"Topic10\", \"Topic10\", \"Topic10\", \"Topic10\", \"Topic10\", \"Topic10\", \"Topic10\", \"Topic10\", \"Topic10\", \"Topic10\", \"Topic10\", \"Topic10\", \"Topic10\", \"Topic10\", \"Topic10\", \"Topic10\", \"Topic10\", \"Topic10\", \"Topic10\", \"Topic10\", \"Topic10\", \"Topic10\", \"Topic10\", \"Topic10\", \"Topic10\", \"Topic10\", \"Topic10\", \"Topic10\", \"Topic10\", \"Topic10\", \"Topic10\", \"Topic10\", \"Topic10\", \"Topic10\", \"Topic10\", \"Topic11\", \"Topic11\", \"Topic11\", \"Topic11\", \"Topic11\", \"Topic11\", \"Topic11\", \"Topic11\", \"Topic11\", \"Topic11\", \"Topic11\", \"Topic11\", \"Topic11\", \"Topic11\", \"Topic11\", \"Topic11\", \"Topic11\", \"Topic11\", \"Topic11\", \"Topic11\", \"Topic11\", \"Topic11\", \"Topic11\", \"Topic11\", \"Topic11\", \"Topic11\", \"Topic11\", \"Topic11\", \"Topic11\", \"Topic11\", \"Topic11\", \"Topic11\", \"Topic11\", \"Topic11\", \"Topic11\", \"Topic11\", \"Topic11\", \"Topic11\", \"Topic11\", \"Topic11\", \"Topic12\", \"Topic12\", \"Topic12\", \"Topic12\", \"Topic12\", \"Topic12\", \"Topic12\", \"Topic12\", \"Topic12\", \"Topic12\", \"Topic12\", \"Topic12\", \"Topic12\", \"Topic12\", \"Topic12\", \"Topic12\", \"Topic12\", \"Topic12\", \"Topic12\", \"Topic12\", \"Topic12\", \"Topic12\", \"Topic12\", \"Topic12\", \"Topic12\", \"Topic12\", \"Topic12\", \"Topic12\", \"Topic12\", \"Topic12\", \"Topic12\", \"Topic12\", \"Topic12\", \"Topic12\", \"Topic12\", \"Topic12\", \"Topic12\", \"Topic13\", \"Topic13\", \"Topic13\", \"Topic13\", \"Topic13\", \"Topic13\", \"Topic13\", \"Topic13\", \"Topic13\", \"Topic13\", \"Topic13\", \"Topic13\", \"Topic13\", \"Topic13\", \"Topic13\", \"Topic13\", \"Topic13\", \"Topic13\", \"Topic13\", \"Topic13\", \"Topic13\", \"Topic13\", \"Topic13\", \"Topic13\", \"Topic13\", \"Topic13\", \"Topic13\", \"Topic13\", \"Topic13\", \"Topic13\", \"Topic13\", \"Topic13\", \"Topic14\", \"Topic14\", \"Topic14\", \"Topic14\", \"Topic14\", \"Topic14\", \"Topic14\", \"Topic14\", \"Topic14\", \"Topic14\", \"Topic14\", \"Topic14\", \"Topic14\", \"Topic14\", \"Topic14\", \"Topic14\", \"Topic14\", \"Topic14\", \"Topic14\", \"Topic14\", \"Topic14\", \"Topic14\", \"Topic14\", \"Topic14\", \"Topic14\", \"Topic14\", \"Topic14\", \"Topic14\", \"Topic14\", \"Topic14\", \"Topic14\", \"Topic14\", \"Topic14\", \"Topic14\", \"Topic15\", \"Topic15\", \"Topic15\", \"Topic15\", \"Topic15\", \"Topic15\", \"Topic15\", \"Topic15\", \"Topic15\", \"Topic15\", \"Topic15\", \"Topic15\", \"Topic15\", \"Topic15\", \"Topic15\", \"Topic15\", \"Topic15\", \"Topic15\", \"Topic15\", \"Topic15\", \"Topic15\", \"Topic15\", \"Topic15\", \"Topic15\", \"Topic15\", \"Topic15\", \"Topic15\", \"Topic15\", \"Topic15\", \"Topic15\", \"Topic15\", \"Topic15\", \"Topic15\", \"Topic15\", \"Topic16\", \"Topic16\", \"Topic16\", \"Topic16\", \"Topic16\", \"Topic16\", \"Topic16\", \"Topic16\", \"Topic16\", \"Topic16\", \"Topic16\", \"Topic16\", \"Topic16\", \"Topic16\", \"Topic16\", \"Topic16\", \"Topic16\", \"Topic16\", \"Topic16\", \"Topic16\", \"Topic16\", \"Topic16\", \"Topic16\", \"Topic16\", \"Topic16\", \"Topic16\", \"Topic16\", \"Topic16\", \"Topic16\", \"Topic16\", \"Topic16\", \"Topic16\", \"Topic16\", \"Topic16\", \"Topic17\", \"Topic17\", \"Topic17\", \"Topic17\", \"Topic17\", \"Topic17\", \"Topic17\", \"Topic17\", \"Topic17\", \"Topic17\", \"Topic17\", \"Topic17\", \"Topic17\", \"Topic17\", \"Topic17\", \"Topic17\", \"Topic17\", \"Topic17\", \"Topic17\", \"Topic17\", \"Topic17\", \"Topic17\", \"Topic17\", \"Topic17\", \"Topic17\", \"Topic17\", \"Topic17\", \"Topic17\", \"Topic17\", \"Topic17\", \"Topic17\", \"Topic17\", \"Topic18\", \"Topic18\", \"Topic18\", \"Topic18\", \"Topic18\", \"Topic18\", \"Topic18\", \"Topic18\", \"Topic18\", \"Topic18\", \"Topic18\", \"Topic18\", \"Topic18\", \"Topic18\", \"Topic18\", \"Topic18\", \"Topic18\", \"Topic18\", \"Topic18\", \"Topic18\", \"Topic18\", \"Topic18\", \"Topic18\", \"Topic18\", \"Topic18\", \"Topic18\", \"Topic18\", \"Topic18\", \"Topic18\", \"Topic18\", \"Topic18\", \"Topic18\", \"Topic18\", \"Topic18\", \"Topic18\", \"Topic18\", \"Topic18\", \"Topic18\", \"Topic18\", \"Topic19\", \"Topic19\", \"Topic19\", \"Topic19\", \"Topic19\", \"Topic19\", \"Topic19\", \"Topic19\", \"Topic19\", \"Topic19\", \"Topic19\", \"Topic19\", \"Topic19\", \"Topic19\", \"Topic19\", \"Topic19\", \"Topic19\", \"Topic19\", \"Topic19\", \"Topic19\", \"Topic19\", \"Topic19\", \"Topic19\", \"Topic19\", \"Topic19\", \"Topic19\", \"Topic19\", \"Topic19\", \"Topic19\", \"Topic19\", \"Topic19\", \"Topic19\", \"Topic19\", \"Topic19\", \"Topic19\", \"Topic19\", \"Topic19\", \"Topic19\", \"Topic19\", \"Topic19\", \"Topic19\", \"Topic19\", \"Topic20\", \"Topic20\", \"Topic20\", \"Topic20\", \"Topic20\", \"Topic20\", \"Topic20\", \"Topic20\", \"Topic20\", \"Topic20\", \"Topic20\", \"Topic20\", \"Topic20\", \"Topic20\", \"Topic20\", \"Topic20\", \"Topic20\", \"Topic20\", \"Topic20\", \"Topic20\", \"Topic20\", \"Topic20\", \"Topic20\", \"Topic20\", \"Topic20\", \"Topic20\", \"Topic20\", \"Topic20\", \"Topic20\", \"Topic20\", \"Topic20\", \"Topic20\", \"Topic20\", \"Topic20\", \"Topic20\", \"Topic20\", \"Topic20\", \"Topic20\", \"Topic20\", \"Topic20\", \"Topic20\", \"Topic20\", \"Topic20\"], \"logprob\": [30.0, 29.0, 28.0, 27.0, 26.0, 25.0, 24.0, 23.0, 22.0, 21.0, 20.0, 19.0, 18.0, 17.0, 16.0, 15.0, 14.0, 13.0, 12.0, 11.0, 10.0, 9.0, 8.0, 7.0, 6.0, 5.0, 4.0, 3.0, 2.0, 1.0, -3.0523, -3.6535, -3.6612, -3.7693, -3.8926, -3.8996, -4.0885, -4.2947, -4.4651, -4.4722, -4.488, -4.4883, -4.5249, -4.6024, -4.6895, -4.7562, -4.9051, -4.9503, -4.9513, -4.98, -4.9887, -4.9992, -5.0486, -5.0763, -4.0516, -5.1523, -5.1885, -5.1889, -5.2218, -5.3208, -3.4356, -4.0534, -4.2092, -3.517, -4.1463, -4.1768, -3.9517, -4.232, -3.3309, -4.0071, -4.8516, -4.6609, -4.6414, -3.8963, -4.0762, -4.1815, -4.2522, -4.2692, -4.451, -4.5006, -4.6184, -4.6318, -4.7252, -4.7672, -4.7813, -4.8365, -4.9245, -4.9364, -4.9531, -4.9531, -4.9531, -4.9531, -4.9531, -4.9886, -5.1679, -5.1679, -5.1679, -5.1679, -5.1679, -5.2045, -5.2045, -5.2045, -5.228, -5.228, -3.3709, -3.7146, -3.9602, -3.9742, -4.142, -4.1537, -4.2015, -4.2324, -4.2437, -4.2971, -4.3364, -4.3736, -4.4483, -4.4614, -4.6868, -4.7046, -4.7046, -4.7204, -4.7375, -4.9547, -4.9764, -4.9954, -5.0466, -2.3924, -5.0704, -5.0704, -5.0948, -4.4239, -5.3196, -5.4173, -4.5182, -3.5198, -4.1332, -2.4619, -3.4037, -4.3991, -4.5641, -4.8601, -3.5966, -3.6979, -3.885, -3.885, -3.9979, -4.1181, -4.2413, -4.2834, -4.3059, -4.4294, -4.4837, -4.5432, -4.5712, -4.605, -4.6804, -4.6998, -4.7182, -4.7182, -4.89, -4.89, -4.9287, -4.9537, -5.0525, -4.4883, -5.2394, -5.2949, -5.3017, -5.3017, -5.3607, -5.3607, -4.2494, -4.3218, -3.8736, -3.1767, -3.602, -3.2429, -4.4536, -4.3766, -4.7644, -4.8237, -4.654, -3.3762, -3.4688, -3.5313, -3.5841, -3.6744, -3.6959, -3.7462, -3.9153, -4.0153, -4.1026, -4.1026, -4.1324, -4.2239, -4.3156, -4.3156, -4.5172, -4.5623, -4.6355, -3.8286, -4.7142, -4.7142, -4.8603, -4.8603, -4.9954, -4.9954, -5.0315, -5.0315, -5.0315, -5.0315, -5.0315, -3.9903, -4.0192, -4.3792, -4.4143, -4.9795, -4.5842, -3.089, -3.1123, -3.5495, -3.7244, -3.8578, -3.8976, -4.0407, -3.0757, -4.2461, -4.3048, -3.5547, -4.3661, -4.3809, -4.3842, -4.4106, -3.4493, -3.6036, -4.6076, -4.6076, -4.6076, -4.6076, -4.7538, -4.8889, -4.2222, -5.2803, -5.2803, -5.2803, -5.2803, -5.2803, -5.2803, -4.7932, -3.5878, -4.8783, -4.3176, -4.8494, -5.019, -4.5939, -4.3229, -4.3229, -4.3229, -4.4372, -4.7214, -4.7214, -4.7214, -4.7214, -4.7214, -4.7214, -4.7214, -4.7214, -4.7214, -4.7214, -4.7214, -4.7214, -4.8053, -4.8053, -4.8053, -4.8969, -5.3941, -5.3941, -5.3941, -5.3941, -5.3941, -5.3941, -5.3941, -5.3941, -5.3941, -5.3941, -4.7355, -4.7541, -3.0805, -3.714, -2.7584, -4.0506, -4.0555, -4.0697, -4.1264, -2.51, -4.2125, -4.5931, -4.6815, -4.6883, -4.6883, -4.7177, -3.1245, -4.7474, -4.7526, -4.8235, -4.8235, -4.8595, -5.2149, -5.2149, -5.2149, -5.2149, -5.2149, -5.2149, -5.317, -5.317, -5.3865, -5.3865, -5.3865, -4.7108, -3.9079, -3.6607, -4.3322, -3.8898, -4.3721, -4.9026, -4.5498, -4.866, -4.7253, -4.7815, -3.3586, -3.492, -3.6705, -3.7273, -3.7873, -3.8701, -3.9694, -4.0555, -4.1035, -4.2381, -4.3222, -2.9298, -4.5917, -4.5917, -4.7461, -4.8222, -4.8222, -4.8222, -4.8222, -4.8222, -4.8222, -3.8542, -5.2136, -5.2136, -5.2136, -5.2136, -5.2136, -5.2136, -5.2136, -3.8863, -4.0642, -4.2495, -3.1675, -4.7426, -3.5072, -4.678, -4.4232, -3.9421, -4.4408, -2.8884, -3.1922, -3.708, -3.8615, -3.8954, -4.1758, -4.1803, -4.1803, -4.2272, -4.244, -4.2489, -4.592, -4.6214, -4.6511, -4.6898, -4.6898, -4.7271, -5.1185, -5.1185, -3.443, -4.5852, -4.1514, -5.2207, -5.2207, -5.2207, -5.2207, -5.2207, -5.2207, -5.2207, -5.2207, -3.3133, -4.454, -4.0419, -4.4101, -4.188, -4.7333, -4.8001, -5.2008, -3.3577, -3.5571, -3.6203, -3.7726, -3.8477, -3.8837, -4.1424, -4.1504, -4.1721, -4.1911, -4.3692, -4.42, -4.42, -4.613, -4.6504, -4.6865, -4.6865, -4.127, -5.0418, -5.0418, -5.0418, -5.0418, -5.0418, -5.0418, -5.0418, -5.0418, -5.0418, -5.0418, -5.0418, -5.0418, -3.7388, -4.5217, -4.3952, -3.6875, -4.0254, -3.904, -4.7351, -4.6108, -4.7136, -5.0346, -2.1748, -3.6793, -3.8252, -3.8576, -3.8761, -3.8913, -4.2522, -4.3791, -4.4947, -4.5252, -4.5252, -4.6964, -4.3896, -5.2233, -5.2233, -5.2233, -5.2233, -3.4233, -5.2925, -5.2925, -5.2925, -5.3615, -5.3615, -5.3615, -5.3615, -5.3615, -5.3615, -5.3615, -5.3615, -5.3615, -2.4433, -3.3073, -4.5184, -3.1155, -4.4438, -4.4618, -5.064, -3.3022, -3.995, -4.0167, -4.0301, -4.0301, -4.0664, -4.2079, -4.4106, -4.4437, -4.4437, -4.4991, -4.4991, -5.0324, -5.0324, -5.0324, -5.0324, -5.0324, -5.0324, -5.0324, -5.0324, -5.0324, -5.0324, -5.0324, -5.0324, -5.0324, -5.0324, -5.0324, -5.0324, -5.0324, -5.0324, -4.3035, -5.0121, -2.5018, -2.7187, -3.075, -3.385, -3.9269, -3.9269, -4.27, -4.7966, -2.8173, -3.7132, -4.9682, -4.9682, -4.9682, -5.1063, -5.1063, -5.1063, -5.1063, -5.1063, -5.1063, -5.1063, -5.1063, -4.0167, -4.8589, -4.5856, -3.7605, -4.2789, -8.0013, -8.0013, -8.0013, -8.0013, -8.0013, -8.0013, -8.0013, -8.0013, -2.748, -2.9229, -3.2285, -4.1497, -4.1828, -4.2033, -4.245, -4.245, -4.3041, -4.3041, -4.7715, -4.7715, -4.7715, -4.7715, -4.7715, -4.7715, -4.7715, -4.7715, -4.8737, -4.8737, -4.8737, -4.8737, -4.8737, -4.8737, -4.8737, -4.9431, -4.9431, -4.9431, -4.9431, -4.9431, -3.9806, -3.7456, -4.4756, -4.8737, -3.1867, -3.2697, -3.86, -3.86, -3.9531, -3.9549, -4.1656, -4.3256, -4.3256, -4.3256, -4.3256, -4.3256, -4.363, -4.399, -4.399, -4.926, -4.926, -4.926, -4.926, -4.926, -4.926, -4.926, -5.0641, -5.0641, -5.0641, -5.0641, -4.337, -4.2572, -3.937, -4.3908, -3.7882, -4.1128, -4.2359, -4.926, -2.9876, -3.318, -3.7526, -4.1299, -4.1504, -4.1853, -4.1853, -4.1853, -4.1853, -4.2189, -4.2215, -4.8208, -4.8208, -4.8208, -4.8208, -4.8208, -4.8208, -4.8208, -4.8208, -4.8208, -4.8208, -4.8208, -4.8208, -4.8208, -4.8902, -4.8902, -4.8902, -4.8902, -4.8902, -4.8902, -4.1504, -4.6304, -2.8798, -3.323, -3.7971, -4.0046, -4.0046, -4.0046, -4.1054, -4.1054, -4.1814, -4.1814, -4.7444, -4.7444, -4.7444, -4.7444, -4.7444, -4.7444, -2.8487, -4.675, -4.0874, -4.2886, -4.6043, -7.7775, -7.7775, -7.7775, -7.7775, -7.7775, -7.7775, -7.7775, -7.7775, -7.7775, -7.7775, -7.7775, -7.7775, -7.7775, -7.7775, -7.7775, -7.7775, -7.7775, -7.7775, -2.4211, -3.5269, -3.9772, -4.0481, -4.6803, -4.6803, -4.6803, -4.6803, -4.6803, -4.6803, -4.6803, -4.6803, -4.6803, -3.751, -4.681, -4.1603, -4.6823, -4.6838, -7.6442, -7.6442, -7.6442, -7.6442, -7.6442, -7.6442, -7.6442, -7.6442, -7.6442, -7.6442, -7.6442, -7.6442, -7.6442, -7.6442, -7.6442, -7.6442, -7.6442, -7.6442, -7.6442, -7.6442, -7.6442, -7.6442, -7.6442, -7.6442, -3.5114, -3.5351, -3.5351, -3.5578, -3.9945, -4.0305, -4.488, -4.488, -4.488, -4.488, -4.488, -4.488, -4.6956, -4.6956, -4.6956, -4.6956, -4.6964, -7.5906, -7.5906, -7.5906, -7.5906, -7.5906, -7.5906, -7.5906, -7.5906, -7.5906, -7.5906, -7.5906, -7.5906, -7.5906, -7.5906, -7.5906, -7.5906, -7.5906, -7.5906, -7.5906, -7.5906, -7.5906, -7.5906, -7.5906, -7.5906, -7.5906, -7.5906], \"loglift\": [30.0, 29.0, 28.0, 27.0, 26.0, 25.0, 24.0, 23.0, 22.0, 21.0, 20.0, 19.0, 18.0, 17.0, 16.0, 15.0, 14.0, 13.0, 12.0, 11.0, 10.0, 9.0, 8.0, 7.0, 6.0, 5.0, 4.0, 3.0, 2.0, 1.0, 1.1709, 1.1634, 1.1633, 1.1614, 1.159, 1.1588, 1.1545, 1.1487, 1.143, 1.1428, 1.1422, 1.1422, 1.1408, 1.1377, 1.1339, 1.1308, 1.1231, 1.1206, 1.1205, 1.1188, 1.1183, 1.1177, 1.1146, 1.1128, 1.1083, 1.1077, 1.1051, 1.1051, 1.1027, 1.095, 1.0657, 1.0645, 1.0659, 1.005, 1.0428, 1.0426, 0.9936, 1.0069, 0.6074, 0.7407, 1.0131, 0.5703, 0.311, 2.0527, 2.0426, 2.0358, 2.0309, 2.0297, 2.0152, 2.0108, 1.9995, 1.9982, 1.9882, 1.9835, 1.9819, 1.9753, 1.9641, 1.9625, 1.9603, 1.9603, 1.9603, 1.9603, 1.9603, 1.9554, 1.9284, 1.9284, 1.9284, 1.9284, 1.9284, 1.9223, 1.9223, 1.9223, 1.9184, 1.9184, 2.3758, 2.3587, 2.3426, 2.3415, 2.328, 2.327, 2.3227, 2.3199, 2.3188, 2.3136, 2.3096, 2.3057, 2.2974, 2.2959, 2.2671, 2.2645, 2.2645, 2.2623, 2.2598, 2.2247, 2.2208, 2.2174, 2.2078, 2.204, 2.2033, 2.2033, 2.1985, 2.1833, 2.1499, 2.1259, 2.1178, 2.0778, 2.0225, 1.4764, 1.3441, 1.4299, -0.0421, 1.0144, 2.4326, 2.4267, 2.4141, 2.4141, 2.4053, 2.395, 2.3831, 2.3787, 2.3763, 2.3623, 2.3556, 2.3479, 2.3441, 2.3394, 2.3285, 2.3256, 2.3228, 2.3228, 2.2943, 2.2943, 2.2873, 2.2826, 2.2633, 2.23, 2.2224, 2.2091, 2.2075, 2.2075, 2.1926, 2.1926, 2.1757, 2.1106, 1.9554, 1.8152, 1.8585, 1.7095, 1.6439, 1.3846, 1.9372, 1.7883, -0.7157, 2.974, 2.9665, 2.961, 2.9562, 2.9473, 2.9451, 2.9397, 2.9198, 2.9066, 2.894, 2.894, 2.8895, 2.875, 2.8593, 2.8593, 2.8204, 2.8107, 2.7944, 2.7902, 2.7758, 2.7758, 2.7381, 2.7381, 2.6996, 2.6996, 2.6886, 2.6886, 2.6886, 2.6886, 2.6886, 2.2345, 1.742, 0.8099, 0.805, 2.4494, -0.0829, 3.1546, 3.153, 3.1143, 3.094, 3.0763, 3.0706, 3.0485, 3.0308, 3.0118, 3.0002, 2.9915, 2.9874, 2.9842, 2.9835, 2.9777, 2.9537, 2.9355, 2.9307, 2.9307, 2.9307, 2.9307, 2.891, 2.8505, 2.8306, 2.7103, 2.7103, 2.7103, 2.7103, 2.7103, 2.7103, 2.4979, 1.4041, 2.2583, 0.8002, 1.5758, 2.0113, 0.6449, 3.0071, 3.0071, 3.0071, 2.982, 2.9092, 2.9092, 2.9092, 2.9092, 2.9092, 2.9092, 2.9092, 2.9092, 2.9092, 2.9092, 2.9092, 2.9092, 2.8846, 2.8846, 2.8846, 2.8561, 2.6683, 2.6683, 2.6683, 2.6683, 2.6683, 2.6683, 2.6683, 2.6683, 2.6683, 2.6683, 2.5655, 2.518, 1.9114, 3.1616, 3.1545, 3.1099, 3.1091, 3.1065, 3.0962, 3.0954, 3.0794, 2.9905, 2.9659, 2.9639, 2.9639, 2.9554, 2.9511, 2.9465, 2.945, 2.9231, 2.9231, 2.9115, 2.7819, 2.7819, 2.7819, 2.7819, 2.7819, 2.7819, 2.7391, 2.7391, 2.7085, 2.7085, 2.7085, 2.5531, 2.1841, 1.9369, 1.896, 1.0626, 1.6093, 2.234, 1.346, 1.8772, 0.5135, -0.1851, 3.2157, 3.2018, 3.1804, 3.1729, 3.1645, 3.1522, 3.1363, 3.1214, 3.1127, 3.0862, 3.0681, 3.0515, 3.0017, 3.0017, 2.9573, 2.9336, 2.9336, 2.9336, 2.9336, 2.9336, 2.9336, 2.8891, 2.7911, 2.7911, 2.7911, 2.7911, 2.7911, 2.7911, 2.7911, 2.7494, 2.7047, 2.3156, 1.4289, 2.4387, 1.4382, 2.2931, 2.0431, 0.5799, 0.8343, 3.3872, 3.3616, 3.2985, 3.2737, 3.2678, 3.212, 3.211, 3.211, 3.2003, 3.1964, 3.1953, 3.1035, 3.0945, 3.0853, 3.073, 3.073, 3.0607, 2.9135, 2.9135, 2.9123, 2.8859, 2.879, 2.869, 2.869, 2.869, 2.869, 2.869, 2.869, 2.869, 2.869, 2.4479, 2.6827, 2.1863, 2.0223, 1.6277, 2.1586, 1.8357, 1.3454, 3.4643, 3.4368, 3.4271, 3.4013, 3.3874, 3.3804, 3.324, 3.322, 3.3167, 3.312, 3.2644, 3.2497, 3.2497, 3.1887, 3.176, 3.1634, 3.1634, 3.083, 3.0229, 3.0229, 3.0229, 3.0229, 3.0229, 3.0229, 3.0229, 3.0229, 3.0229, 3.0229, 3.0229, 3.0229, 2.7154, 2.8704, 2.8023, 2.4292, 2.2028, 1.6152, 2.5288, 1.8602, 1.1993, 2.5975, 3.5806, 3.4385, 3.4121, 3.4058, 3.4022, 3.3991, 3.3148, 3.2793, 3.2441, 3.2344, 3.2344, 3.1757, 2.994, 2.9516, 2.9516, 2.9516, 2.9516, 2.9383, 2.9171, 2.9171, 2.9171, 2.8815, 2.8815, 2.8815, 2.8815, 2.8815, 2.8815, 2.8815, 2.8815, 2.8815, 2.7879, 2.7574, 2.8154, 2.4037, 1.9203, 1.3186, 2.1533, 3.5876, 3.46, 3.4547, 3.4515, 3.4515, 3.4424, 3.4047, 3.3436, 3.3328, 3.3328, 3.3141, 3.3141, 3.0977, 3.0977, 3.0977, 3.0977, 3.0977, 3.0977, 3.0977, 3.0977, 3.0977, 3.0977, 3.0977, 3.0977, 3.0977, 3.0977, 3.0977, 3.0977, 3.0977, 3.0977, 2.8419, 2.3716, 3.8622, 3.8429, 3.8018, 3.7542, 3.6359, 3.6359, 3.5324, 3.3215, 3.2802, 3.2578, 3.2381, 3.2381, 3.2381, 3.1656, 3.1656, 3.1656, 3.1656, 3.1656, 3.1656, 3.1656, 2.7743, 2.3387, 2.0528, 1.8959, 1.8449, 1.8276, 0.5207, 0.5207, 0.5207, 0.5207, -0.804, -1.4282, -1.2186, -0.4805, 3.9738, 3.952, 3.9049, 3.6707, 3.6591, 3.6518, 3.6366, 3.6366, 3.6145, 3.6145, 3.4091, 3.4091, 3.4091, 3.4091, 3.4091, 3.4091, 3.4091, 3.4091, 3.357, 3.357, 3.357, 3.357, 3.357, 3.357, 3.357, 3.3201, 3.3201, 3.3201, 3.3201, 3.3201, 3.301, 2.956, 3.1788, 2.5193, 3.931, 3.9162, 3.7782, 3.7782, 3.7504, 3.7498, 3.6799, 3.62, 3.62, 3.62, 3.62, 3.62, 3.6051, 3.5905, 3.5905, 3.3397, 3.3397, 3.3397, 3.3397, 3.3397, 3.3397, 3.3397, 3.2625, 3.2625, 3.2625, 3.2625, 3.215, 3.0765, 2.7933, 2.7547, 2.3675, 2.2901, 2.3032, 2.5451, 4.0908, 4.0279, 3.9163, 3.7877, 3.7798, 3.766, 3.766, 3.766, 3.766, 3.7526, 3.7515, 3.4639, 3.4639, 3.4639, 3.4639, 3.4639, 3.4639, 3.4639, 3.4639, 3.4639, 3.4639, 3.4639, 3.4639, 3.4639, 3.4248, 3.4248, 3.4248, 3.4248, 3.4248, 3.4248, 3.2426, 2.5151, 4.3295, 4.2288, 4.0784, 3.9966, 3.9966, 3.9966, 3.9531, 3.9531, 3.9186, 3.9186, 3.6186, 3.6186, 3.6186, 3.6186, 3.6186, 3.6186, 3.3761, 3.2151, 2.5314, 2.4297, 1.751, 0.7445, 0.7445, 0.7445, 0.7445, 0.6802, 0.6802, 0.6802, 0.6802, 0.6802, -0.3112, -0.1422, -0.1422, -0.6129, 0.364, -0.165, -0.8878, 0.2422, 0.2683, 4.4906, 4.3576, 4.1643, 4.1293, 3.7627, 3.7627, 3.7627, 3.7627, 3.7627, 3.7627, 3.7627, 3.7627, 3.7627, 3.6516, 3.1265, 3.0071, 2.7396, 2.4425, 0.8778, 0.8778, 0.8778, 0.8778, 0.8135, 0.8135, 0.8135, 0.8135, 0.8135, 0.8135, 0.7188, 0.7188, -0.2712, -0.5914, -0.4217, -0.9012, -0.9508, -1.5467, -1.2118, -1.2089, -0.6139, -0.5076, -0.2167, -0.4256, 4.5083, 4.498, 4.498, 4.4881, 4.2711, 4.2511, 3.9697, 3.9697, 3.9697, 3.9697, 3.9697, 3.9697, 3.8264, 3.8264, 3.8264, 3.8264, 3.2105, 0.8524, 0.8524, 0.8524, 0.8524, 0.8524, 0.8524, 0.8524, 0.8524, 0.8524, 0.7725, 0.7725, 0.7725, 0.7725, -0.098, -0.098, -0.7667, -1.515, -1.9605, -0.6321, -0.9834, -1.4738, -1.0983, -0.5817, -0.4423, -0.1527, -0.4611]}, \"token.table\": {\"Topic\": [3, 4, 3, 5, 12, 10, 6, 10, 7, 7, 7, 2, 13, 6, 10, 9, 3, 1, 2, 20, 5, 2, 13, 12, 3, 1, 6, 4, 8, 10, 11, 13, 16, 1, 3, 1, 6, 2, 2, 7, 8, 14, 10, 3, 3, 2, 8, 9, 12, 16, 5, 9, 13, 11, 9, 16, 15, 6, 2, 9, 13, 1, 4, 16, 8, 3, 4, 6, 7, 11, 7, 6, 6, 8, 9, 8, 2, 12, 2, 4, 10, 16, 13, 7, 13, 7, 13, 15, 7, 5, 2, 19, 10, 5, 4, 12, 6, 4, 13, 13, 6, 10, 1, 15, 7, 14, 13, 1, 1, 13, 1, 5, 4, 3, 5, 11, 7, 10, 1, 10, 7, 13, 7, 10, 7, 11, 5, 3, 5, 18, 8, 5, 16, 6, 16, 1, 3, 2, 13, 10, 13, 17, 12, 2, 1, 9, 9, 11, 5, 9, 15, 7, 6, 10, 4, 10, 7, 20, 11, 16, 9, 5, 18, 4, 20, 2, 11, 5, 1, 5, 14, 8, 11, 9, 6, 10, 17, 10, 16, 13, 1, 2, 8, 1, 11, 8, 4, 11, 17, 6, 13, 7, 1, 12, 12, 2, 6, 6, 4, 12, 4, 11, 20, 7, 4, 16, 4, 10, 15, 5, 19, 3, 13, 1, 12, 10, 1, 5, 8, 5, 1, 4, 11, 7, 3, 8, 9, 13, 11, 11, 7, 2, 18, 10, 14, 3, 11, 12, 14, 11, 7, 3, 11, 1, 1, 1, 11, 12, 3, 11, 12, 16, 1, 13, 11, 15, 4, 13, 2, 15, 1, 9, 13, 8, 1, 2, 17, 3, 15, 9, 5, 18, 10, 15, 6, 16, 3, 1, 4, 1, 4, 8, 9, 1, 3, 9, 4, 14, 8, 4, 4, 19, 15, 12, 9, 1, 2, 5, 8, 12, 6, 5, 4, 18, 4, 16, 7, 2, 10, 13, 16, 17, 8, 18, 7, 15, 4, 6, 2, 6, 14, 2, 6, 8, 3, 12, 3, 4, 16, 16, 6, 1, 11, 16, 14, 12, 4, 11, 14, 8, 15, 8, 1, 11, 6, 1, 5, 1, 9, 2, 5, 1, 11, 13, 3, 4, 13, 4, 2, 8, 7, 2, 5, 2, 14, 6, 3, 15, 5, 12, 2, 4, 6, 18, 10, 12, 5, 7, 1, 8, 4, 9, 10, 15, 4, 16, 1, 15, 4, 13, 19, 6, 4, 15, 7, 8, 17, 12, 14, 6, 13, 12, 5, 3, 9, 14, 4, 16, 1, 15, 15, 1, 9, 2, 15, 8, 8, 6, 14, 3, 1, 1, 14, 5, 3, 1, 12, 1, 6, 1, 13, 2, 9, 14, 15, 5, 17, 8, 3, 12, 15, 7, 7, 12, 1, 8, 9, 15, 5, 17, 1, 11, 12, 1, 12, 1, 3, 13, 15, 17, 14, 10, 3, 4, 2, 3, 4, 11, 14, 9, 12, 3, 8, 1, 16, 2, 15, 11, 3, 17, 8, 9, 10, 12, 8, 1, 3, 4, 12, 8, 15, 4, 14, 19, 15, 7, 11, 8, 10, 14, 10, 5, 17, 6, 13, 15, 11, 17, 16, 2, 1, 4, 14, 4, 16, 9, 4, 3, 10, 12, 1, 6, 8, 15, 2, 9, 10, 11, 12, 1, 5, 11, 1, 4, 8, 6, 6, 10, 8, 1, 9, 9, 16, 16, 3, 12, 13, 16, 2, 6, 11, 10, 16, 11, 11, 18, 9, 11, 16, 18, 14, 1, 6, 2, 18, 16, 1, 12, 6, 13, 12, 17, 3, 15, 10, 4, 4, 14, 1, 4, 5, 1, 19, 3, 8, 9, 5, 9, 6, 11, 14, 1, 4, 1, 8, 15, 8, 7, 5, 2, 9, 7, 1, 12, 10, 9, 1, 8, 14, 16, 10, 10, 9, 4, 5, 10, 12, 2, 3, 11, 8, 11, 18, 16, 15, 4, 9, 3, 15, 2, 10, 1, 4, 8, 3, 10, 14, 4, 10, 18, 18, 9, 8, 15, 3, 4, 7, 1, 3, 4, 12, 3, 8, 11, 13, 5, 1, 2, 11, 1, 11, 3, 8, 5, 1, 9, 5, 1, 10, 15, 13, 1, 9, 3, 1, 16, 1, 4, 1, 14, 3, 8, 7, 9, 1, 8, 4, 5, 7], \"Freq\": [0.6578471987969639, 0.9563750425662123, 0.7088608522985181, 0.17721521307462954, 0.8992374249615381, 0.9794148494788077, 0.873798165734646, 0.7700833699293599, 0.7378809041066415, 0.7378809041066415, 0.7378809041066415, 0.9354799869687459, 0.7896048655687884, 0.8100052540258608, 0.16200105080517216, 0.9721504761707881, 0.8002537603096112, 0.9650372701969542, 0.9520264968657203, 0.7166150127604336, 0.9279273793117769, 0.8685705320882889, 0.7896048655687884, 0.5339120089162489, 0.9319288813371115, 0.8531793000180665, 0.6867789219417051, 0.11787187053454012, 0.23574374106908025, 0.23574374106908025, 0.23574374106908025, 0.55435228320244, 0.9213843470922409, 0.8194624202734272, 0.08194624202734273, 0.3411825736968116, 0.3411825736968116, 0.8680424726326319, 0.9574865897524779, 0.47911604139158015, 0.690987294682552, 0.8520359824012, 0.7583175578991359, 0.863961726252363, 0.9253121226991311, 0.9645546513899158, 0.19728135266541022, 0.5918440579962306, 0.3560786464287098, 0.3560786464287098, 0.5240062764728854, 0.543033396853466, 0.7896048655687884, 0.739610320814711, 0.6964660045284221, 0.9042037961936413, 0.6390040341705818, 0.7348056326118982, 0.8856974738558749, 0.5153310947905859, 0.7896048655687884, 0.8874326148297603, 0.6315993488433644, 0.6565226451937314, 0.690987294682552, 0.034235363378840825, 0.5135304506826124, 0.1711768168942041, 0.2738829070307266, 0.739610320814711, 0.7378809041066415, 0.7367348680207956, 0.6601624611794716, 0.1841719816777006, 0.7366879267108024, 0.900774365731975, 0.9327801963012564, 0.8839339728244607, 0.9354798782807107, 0.9279786019701651, 0.5325849686288341, 0.5159888597270531, 0.7896048655687884, 0.7378809041066415, 0.8483720533222394, 0.7378809041066415, 0.7896048655687884, 0.8730990145364012, 0.47911604139158015, 0.740680300552758, 0.6029687412148478, 0.3014843706074239, 0.7583175578991359, 0.832532493203231, 0.699500350705194, 0.6466775095896694, 0.6867789219417051, 0.9495665051789748, 0.8173020129959234, 0.7896048655687884, 0.2628869225521116, 0.5257738451042232, 0.9068569848181113, 0.9019787232397128, 0.7378809041066415, 0.8520359824012, 0.554352283999285, 0.9679553009014373, 0.9772380471115736, 0.7896048655687884, 0.8553926176301936, 0.511007302966674, 0.8856973975296459, 0.9006133498325496, 0.3146296232725452, 0.6292592465450904, 0.7378809041066415, 0.900664267054357, 0.8836485046243592, 0.7583175578991359, 0.7378809041066415, 0.803961575468451, 0.47911604139158015, 0.7923282994368287, 0.7378809041066415, 0.739610320814711, 0.5110073076572157, 0.23494751148387846, 0.4698950229677569, 0.3524212672258177, 0.7623247203760732, 0.8735012850310152, 0.8606140761452591, 0.7018801759008753, 0.14037603518017505, 0.6437225666380648, 0.34868305692895174, 0.870193651012309, 0.9411619490819565, 0.7157983955490528, 0.7896048655687884, 0.497853458749174, 0.8839339728244607, 0.8685705310771371, 0.8170018291476951, 0.16340036582953904, 0.7824019815762777, 0.8022050271881459, 0.9434213137444306, 0.6964659693791891, 0.6390040341705818, 0.47911604139158015, 0.2923676943465567, 0.5847353886931134, 0.7228729295060425, 0.289149171802417, 0.5084228432338244, 0.7166150178219729, 0.7604490832590574, 0.6565226451937314, 0.6964659693791891, 0.7820638400903606, 0.7661989629981732, 0.9199002868364333, 0.707038522112641, 0.8424478757336009, 0.739610320814711, 0.7840317408041869, 0.8812285632916151, 0.5240062764728854, 0.5689300881770517, 0.8599758643127364, 0.08599758643127364, 0.9232341017837589, 0.8065902221728944, 0.2688634073909648, 0.6747777404524747, 0.5112560668620751, 0.5939853253823901, 0.7896048655687884, 0.9397156443910101, 0.8586479557509715, 0.5380463881357059, 0.6326362095493344, 0.3163181047746672, 0.690987294682552, 0.31070107980677864, 0.31070107980677864, 0.6603244549684093, 0.8365108592125323, 0.7896048655687884, 0.7094408050847946, 0.4040719861129646, 0.5387626481506195, 0.8839339728244607, 0.9387151815270709, 0.8737982230808985, 0.6867789219417051, 0.9690555638844858, 0.8839339728244607, 0.9199002864034027, 0.5966021896966368, 0.7257544285755627, 0.47911604139158015, 0.8856973975296459, 0.48279768988386135, 0.6867221692705551, 0.22890738975685168, 0.8730990145364012, 0.8446201856472293, 0.8278339415380158, 0.8889923712495197, 0.5421486972874696, 0.8208862796551154, 0.8839339728244607, 0.7157983955490528, 0.98125879450147, 0.9209986880648744, 0.683009537064427, 0.5240062764728854, 0.34602818294338916, 0.5190422744150838, 0.5966021896966368, 0.47911604139158015, 0.8950122862847585, 0.48962824022068174, 0.543033396853466, 0.7896048655687884, 0.739610320814711, 0.739610320814711, 0.47911604139158015, 0.8347128556509618, 0.6121216260647844, 0.5218033938661945, 0.9098734220203415, 0.3169197173459917, 0.3169197173459917, 0.3169197173459917, 0.8793213030215028, 0.4982412013911802, 0.47911604139158015, 0.6706299761975003, 0.739610320814711, 0.7903140037438592, 0.9320881661398528, 0.7889131428443771, 0.739610320814711, 0.8839339728244607, 0.3774647582997879, 0.3774647582997879, 0.8257848497860949, 0.9042037961936413, 0.9404665347042482, 0.7896048655687884, 0.8131018366669243, 0.8304610467748974, 0.7970851458696209, 0.7896048655687884, 0.9354800387768605, 0.8730990145364012, 0.9064190801620318, 0.6964659693791891, 0.8255699373161751, 0.7623247203760732, 0.9072698680847728, 0.9807254476219649, 0.6737417726420638, 0.33796956189832406, 0.33796956189832406, 0.9131525408738275, 0.6967839419735125, 0.1741959854933781, 0.49069043452656075, 0.49069043452656075, 0.8042934519801825, 0.1608586903960365, 0.6706299699858997, 0.6656556516190792, 0.3328278258095396, 0.9661418407475644, 0.20236823880174024, 0.7082888358060908, 0.6964659693791891, 0.8346038828953256, 0.08560039824567442, 0.06420029868425582, 0.41373483713008213, 0.5171685464126027, 0.690987294682552, 0.8486466713315369, 0.8686769011242107, 0.7986292012239099, 0.8730990145364012, 0.8549290063104292, 0.8330549210559687, 0.9510064161500965, 0.842447874450276, 0.39158748327670717, 0.39158748327670717, 0.9551087213115579, 0.6919396791390912, 0.8650178378730952, 0.769689162272854, 0.1924222905682135, 0.9148629438899805, 0.5153555909972003, 0.7756442898136625, 0.8050037917265891, 0.7543217228019607, 0.29495558099158814, 0.29495558099158814, 0.29495558099158814, 0.9141975367183414, 0.7349959425857107, 0.7094408050847946, 0.8304610467748974, 0.4814014258381925, 0.6867789219417051, 0.8716353881624229, 0.8348926203727208, 0.1043615775465901, 0.8856974752600855, 0.6867789219417051, 0.4872622423245144, 0.741823286256914, 0.8839339728244607, 0.6577678603135888, 0.10962797671893146, 0.21925595343786292, 0.6859886226477995, 0.4859936887182896, 0.4433120640959832, 0.4433120640959832, 0.6565226451937314, 0.8520359824012, 0.4926477483345595, 0.8869937842895073, 0.5685986440356273, 0.8225663118426781, 0.49993344999537676, 0.5918783282648789, 0.7623247203760732, 0.9084736140974752, 0.739610320814711, 0.8507528586584172, 0.8756823803104709, 0.12509748290149583, 0.40480272175408355, 0.6072040826311254, 0.845142003628046, 0.7625123719474308, 0.7513057563276899, 0.150261151265538, 0.8255699384820091, 0.8233143735147896, 0.9095673293650556, 0.6210834958692228, 0.9650121278393882, 0.9508484601266225, 0.48962824696710605, 0.541548495241151, 0.8347128581907165, 0.7148258130607386, 0.7950675846416434, 0.8954749148981379, 0.9786067331927796, 0.9007501040556596, 0.9019787232397128, 0.9662275957093804, 0.6819577011646515, 0.8424478781646596, 0.7176307608423478, 0.14352615216846956, 0.7661989629981732, 0.8758760664643384, 0.8257848497860949, 0.33478099592659066, 0.33478099592659066, 0.9314916380528718, 0.040499636437081384, 0.9660285280932194, 0.9233205164467396, 0.7583175578991359, 0.9654641841494739, 0.9403030695831183, 0.9042037961936413, 0.988021447956876, 0.8304610467748974, 0.8094891478306522, 0.7896048655687884, 0.6175776827158396, 0.8737982252290205, 0.5677291860128015, 0.3784861240085344, 0.5084228432338244, 0.7332488181623594, 0.660324448636063, 0.8257848497860949, 0.9098734220203415, 0.7263377894441423, 0.9135931039289844, 0.6637750967970812, 0.9279273747204796, 0.7629927018952306, 0.24776189305616955, 0.4955237861123391, 0.7970853530080565, 0.6714688222620095, 0.972210269010949, 0.8730990145364012, 0.6158621346491683, 0.5982590817731296, 0.2991295408865648, 0.9354799874142502, 0.9019787232397128, 0.5104761841157853, 0.5513863103822966, 0.6867789219417051, 0.895474921587449, 0.8781225220519101, 0.921761745412396, 0.957529950458185, 0.9098734220203415, 0.5240062764728854, 0.9464967844496853, 0.500423247399319, 0.4003385979194552, 0.8931064999373307, 0.0776614347771592, 0.9786904507453008, 0.5751110956120633, 0.9354798801710426, 0.543033396853466, 0.9098734220203415, 0.8743049592197862, 0.5240062764728854, 0.6603244549684093, 0.690987294682552, 0.8156214395882411, 0.6737027941524139, 0.8730990145364012, 0.5084228432338244, 0.47911604139158015, 0.8257848497860949, 0.9841318350402132, 0.9557703262711246, 0.5430333946066732, 0.6158621346491683, 0.9113502395087191, 0.720837679419734, 0.5220651243378552, 0.11601447207507894, 0.29003618018769733, 0.8808765165598633, 0.8607945346512645, 0.7448083733789309, 0.248269457792977, 0.37779201028242054, 0.37779201028242054, 0.37779201028242054, 0.9451229508095307, 0.754321722467597, 0.9104171103441768, 0.9372865104513821, 0.777834647440125, 0.3953616388143217, 0.5535062943400504, 0.739610320814711, 0.9098734220203415, 0.9388163707544751, 0.6100071992720327, 0.5847118523587747, 0.2923559261793873, 0.5842256669093833, 0.1947418889697944, 0.8972255207586379, 0.9019787232397128, 0.8538290895741454, 0.9086130048817906, 0.6383976017461179, 0.17717552713654575, 0.5315265814096372, 0.17717552713654575, 0.8549290063104292, 0.9125277113310765, 0.5610499741998505, 0.3939287052892568, 0.03581170048084152, 0.8839339728244607, 0.8983144082121399, 0.8304610467748974, 0.8443067847002849, 0.23347740239652515, 0.7004322071895754, 0.5793043853801962, 0.479850047981806, 0.479850047981806, 0.13384548137685542, 0.5353819255074217, 0.13384548137685542, 0.9886537444482771, 0.9113502395087191, 0.6603244549684093, 0.7521037434300631, 0.7896048655687884, 0.8730990145364012, 0.739610320814711, 0.646477391624116, 0.6565226451937314, 0.8424478733218076, 0.9436112089994816, 0.8282938511700899, 0.9098734220203415, 0.44288577814376023, 0.44288577814376023, 0.9497518569322979, 0.4814014258381925, 0.6839192018386648, 0.7583175578991359, 0.8549290063104292, 0.832666376321628, 0.0876490922443819, 0.04382454612219095, 0.8304610467748974, 0.922088593043708, 0.7535681130133884, 0.7821297905420083, 0.48057537638176046, 0.8839339728244607, 0.859626765825825, 0.0859626765825825, 0.910404383775307, 0.4278254676127732, 0.46073511896760194, 0.09872895406448612, 0.741184798987119, 0.5342246606985708, 0.7583175578991359, 0.5123203216954756, 0.9734262298067597, 0.6964659693791891, 0.8788819572267387, 0.6565226451937314, 0.9042037961936413, 0.950890762150172, 0.3742892686854397, 0.3742892686854397, 0.9042037961936413, 0.5718834095013038, 0.9551342886023398, 0.739610320814711, 0.4085063444141315, 0.4085063444141315, 0.5827738135638639, 0.8435514333952762, 0.694068864006996, 0.5430333957300696, 0.4982412013911802, 0.9042037961936413, 0.7349959953862591, 0.7800805531707217, 0.9384613329393282, 0.9576175491233762, 0.8685705333379785, 0.8856333090695067, 0.6859886226477995, 0.5218894280021246, 0.4349078566684371, 0.911036099891314, 0.5751110956120633, 0.5450820315149179, 0.8275266755000975, 0.7519109728486262, 0.9001483209779765, 0.7583175578991359, 0.8758322935643272, 0.7719371202415604, 0.9018871866692181, 0.9013365929719436, 0.06288394834687978, 0.04192263223125319, 0.38145855410775736, 0.38145855410775736, 0.8068470285133674, 0.023052772243239067, 0.16136940570267347, 0.8699261388629317, 0.8504241878816264, 0.873798165734646, 0.6151997275067252, 0.6151997275067252, 0.8708906946445496, 0.8486466736566272, 0.9725392110180849, 0.9019797604093202, 0.5997348764935962, 0.5380463881357059, 0.47911604139158015, 0.9321581139970266, 0.9126210794734941, 0.9233205278308944, 0.47911604139158015, 0.8101995575747427, 0.13503325959579043, 0.7583175578991359, 0.7053949355144992, 0.9402480824823228, 0.8219753990328278, 0.12645775369735812, 0.06322887684867906, 0.5468112089104701, 0.795262481692779, 0.5430333516375483, 0.29555673814974687, 0.29555673814974687, 0.36944592268718357, 0.5450820313522375, 0.8807644891229349, 0.9779408033021438, 0.8316234592769695, 0.7332488181623594, 0.6642496463448425, 0.694068864006996, 0.9042037961936413, 0.9019787232397128, 0.305741123406973, 0.305741123406973, 0.7418232183554787, 0.8304610467748974, 0.842447875594459, 0.7516814020190892, 0.6763015392010396, 0.1690753848002599, 0.1690753848002599, 0.7910825059458814, 0.5468111338625231, 0.9098734220203415, 0.8869937865232149, 0.5607371761171832, 0.9432081680010658, 0.694068864006996, 0.6964659693791891, 0.690987294682552, 0.8304610467748974, 0.9740851341210173, 0.7847675784574852, 0.7094408050847946, 0.5272767318518737, 0.15065049481482107, 0.2259757422222316, 0.07532524740741053, 0.9467978114470974, 0.3320610135850551, 0.3320610135850551, 0.7896048655687884, 0.9314355555577997, 0.9682202939421586, 0.8854866164878611, 0.9678342863334958, 0.9845857734272067, 0.8180937956996484, 0.8609680305798344, 0.17219360611596687, 0.8904680457581413, 0.9089174885417484, 0.09089174885417484, 0.7625123735407376, 0.7803110540386922, 0.15606221080773844, 0.8304610467748974, 0.7896048655687884, 0.49526064442225826, 0.3301737629481722, 0.9154496150842023, 0.949026451833357, 0.48279768988386135, 0.43758179370841965, 0.5469772421355246, 0.7592686614191028, 0.15185373228382054, 0.6901448303306293, 0.25096175648386526, 0.34458848610662496, 0.34458848610662496, 0.6172242629777954, 0.3086121314888977, 0.9829445434105427, 0.832532493203231, 0.47911604139158015], \"Term\": [\"ability\", \"able\", \"accept\", \"accept\", \"acceptable\", \"access\", \"accord\", \"account\", \"accutely\", \"achieve\", \"aclu\", \"act\", \"activity\", \"actually\", \"actually\", \"ad\", \"add\", \"admin\", \"adult\", \"advertiser\", \"advice\", \"affect\", \"affiliation\", \"agenda\", \"ago\", \"agree\", \"allot\", \"allow\", \"allow\", \"allow\", \"allow\", \"almost\", \"already\", \"also\", \"also\", \"alternative\", \"alternative\", \"always\", \"amount\", \"amplification\", \"announcement\", \"anxiety\", \"anyway\", \"appeal\", \"appear\", \"approach\", \"appropriate\", \"appropriate\", \"approve\", \"approve\", \"arm\", \"asinine\", \"assault\", \"asset\", \"asshat\", \"associate\", \"astroturfe\", \"atrocity\", \"attempt\", \"attitude\", \"authority\", \"average\", \"avoid\", \"awareness\", \"baby\", \"ban\", \"ban\", \"ban\", \"ban\", \"banishment\", \"banning\", \"basically\", \"be\", \"become\", \"become\", \"behavior\", \"believe\", \"benefit\", \"biased\", \"big\", \"bit\", \"blatantly\", \"blend\", \"bloom\", \"board\", \"book\", \"border\", \"botte\", \"box\", \"brain\", \"break\", \"break\", \"briefly\", \"brigade\", \"bring\", \"bullshit\", \"bully\", \"buy\", \"call\", \"campaign\", \"can\", \"can\", \"case\", \"casual\", \"causal\", \"cause\", \"caution\", \"censor\", \"censorship\", \"central\", \"certain\", \"challenge\", \"chamber\", \"change\", \"check\", \"check\", \"chief\", \"choice\", \"choose\", \"chose\", \"circle\", \"circlejerk\", \"clear\", \"clearly\", \"close\", \"coincide\", \"cold\", \"come\", \"come\", \"come\", \"comfortable\", \"comment\", \"communism\", \"communist\", \"communist\", \"community\", \"community\", \"company\", \"completely\", \"concept\", \"conduct\", \"congratulation\", \"consequence\", \"consider\", \"content\", \"content\", \"context\", \"control\", \"conversation\", \"convict\", \"cool\", \"coontown\", \"correct\", \"correct\", \"could\", \"could\", \"country\", \"cover\", \"create\", \"crime\", \"cross\", \"cry\", \"cunt\", \"curate\", \"daddy\", \"damn\", \"danger\", \"daughter\", \"day\", \"deal\", \"decade\", \"decide\", \"decide\", \"decision\", \"deem\", \"deem\", \"delete\", \"desktop\", \"destroy\", \"deviate\", \"different\", \"differently\", \"difficult\", \"disagree\", \"disagree\", \"discourse\", \"discussion\", \"discussion\", \"disgust\", \"disgusting\", \"disrupt\", \"dissent\", \"diverse\", \"diverse\", \"diversity\", \"do\", \"downhill\", \"downright\", \"downvote\", \"dox\", \"drive\", \"duty\", \"ear\", \"early\", \"echo\", \"educational\", \"effect\", \"effect\", \"ejection\", \"else\", \"email\", \"end\", \"enjoy\", \"enough\", \"equal\", \"equate\", \"even\", \"ever\", \"evidence\", \"exact\", \"example\", \"example\", \"exclude\", \"executive\", \"exist\", \"expect\", \"experience\", \"exponentially\", \"express\", \"expression\", \"extremism\", \"eye\", \"face\", \"fake\", \"fall\", \"false\", \"false\", \"false\", \"far\", \"fascism\", \"fatpeoplehate\", \"feature\", \"feeble\", \"feed\", \"feel\", \"feeling\", \"fight\", \"file\", \"filter\", \"filter\", \"finally\", \"financial\", \"find\", \"fire\", \"first\", \"flame\", \"follow\", \"fool\", \"force\", \"forceful\", \"form\", \"former\", \"forum\", \"frankly\", \"free\", \"freedom\", \"friend\", \"front\", \"front\", \"fuck\", \"fucking\", \"fucking\", \"full\", \"full\", \"fullcommunism\", \"fullcommunism\", \"general\", \"generate\", \"generate\", \"get\", \"give\", \"give\", \"glory\", \"go\", \"go\", \"go\", \"good\", \"good\", \"grave\", \"great\", \"ground\", \"grow\", \"growth\", \"guise\", \"guy\", \"happen\", \"harassment\", \"hard\", \"hard\", \"hate\", \"hateful\", \"hear\", \"help\", \"help\", \"hide\", \"historical\", \"historically\", \"hold\", \"honest\", \"hope\", \"hope\", \"hope\", \"hopefully\", \"horror\", \"host\", \"hour\", \"human\", \"hypocritical\", \"idea\", \"ideology\", \"ideology\", \"imagine\", \"impose\", \"incentivize\", \"include\", \"inclusionary\", \"information\", \"information\", \"information\", \"infraction\", \"insert\", \"instead\", \"instead\", \"institution\", \"intellect\", \"intend\", \"intention\", \"interested\", \"internet\", \"job\", \"joke\", \"justify\", \"keep\", \"kill\", \"kind\", \"know\", \"know\", \"knowingly\", \"knowingly\", \"large\", \"last\", \"lead\", \"lead\", \"lean\", \"least\", \"leave\", \"left\", \"less\", \"let\", \"level\", \"liberal\", \"lie\", \"life\", \"limit\", \"line\", \"link\", \"list\", \"little\", \"live\", \"lol\", \"longer\", \"look\", \"look\", \"lose\", \"love\", \"mainstream\", \"major\", \"major\", \"make\", \"make\", \"man\", \"manipulation\", \"manual\", \"many\", \"masculinity\", \"material\", \"may\", \"mayo_town\", \"mean\", \"meanwhile\", \"measure\", \"member\", \"message\", \"message\", \"method\", \"midterm\", \"million\", \"mind\", \"ministry\", \"misinformation\", \"mobile\", \"mod\", \"moment\", \"mostly\", \"much\", \"much\", \"must\", \"necessary\", \"need\", \"neoliberal\", \"net\", \"never\", \"never\", \"new\", \"newcomer\", \"nice\", \"nominate\", \"nsfw\", \"obvious\", \"occasionally\", \"offend\", \"offensive\", \"offer\", \"ok\", \"old\", \"open\", \"open\", \"opinion\", \"opinion\", \"opt\", \"organization\", \"other\", \"otherwise\", \"outrage\", \"page\", \"pain\", \"parent\", \"parody\", \"part\", \"participate\", \"partly\", \"party\", \"pay\", \"peace\", \"people\", \"person\", \"picture\", \"piece\", \"pill\", \"place\", \"platform\", \"platform\", \"platform\", \"point\", \"police\", \"policy\", \"policy\", \"politic\", \"politic\", \"politic\", \"political\", \"politically\", \"popular\", \"positive\", \"possibly\", \"post\", \"post\", \"power\", \"pretend\", \"prevent\", \"principle\", \"process\", \"process\", \"promote\", \"promote\", \"propaganda\", \"propagandistic\", \"protect\", \"public\", \"purely\", \"purpose\", \"purpose\", \"purpose\", \"push\", \"put\", \"quarantine\", \"quarantine\", \"quarantine\", \"quarantined\", \"question\", \"random\", \"range\", \"read\", \"read\", \"real\", \"realize\", \"realize\", \"really\", \"really\", \"really\", \"reason\", \"red\", \"reddit\", \"redpill\", \"regard\", \"reinstate\", \"relegate\", \"religion\", \"remembrance\", \"removal\", \"remove\", \"report\", \"representation\", \"resource\", \"resource\", \"respect\", \"respond\", \"return\", \"review\", \"rid\", \"right\", \"right\", \"right\", \"risk\", \"rule\", \"run\", \"s\", \"sad\", \"safety\", \"say\", \"say\", \"search\", \"see\", \"see\", \"see\", \"seem\", \"seemingly\", \"send\", \"sensitive\", \"seriously\", \"shame\", \"shit\", \"shocking\", \"shoddily\", \"show\", \"shut\", \"shut\", \"sidebar\", \"simple\", \"simply\", \"sincerely\", \"site\", \"site\", \"slippery\", \"slope\", \"socialist\", \"socially\", \"society\", \"somehow\", \"somewhere\", \"sorry\", \"sound\", \"source\", \"space\", \"speak\", \"specific\", \"speech\", \"speech\", \"spread\", \"stand\", \"stay\", \"step\", \"still\", \"stop\", \"store\", \"study\", \"stuff\", \"stupid\", \"sub\", \"sub\", \"sub\", \"subject\", \"subject\", \"subreddit\", \"subreddit\", \"subreddit\", \"subscribe\", \"subscriber\", \"suggestion\", \"support\", \"support\", \"sure\", \"tag\", \"take\", \"talk\", \"target\", \"task\", \"tech\", \"tell\", \"term\", \"terrible\", \"text\", \"thank\", \"thank\", \"thebanout\", \"theredpill\", \"thing\", \"think\", \"think\", \"think\", \"thought\", \"thread\", \"throw\", \"time\", \"time\", \"time\", \"together\", \"tool\", \"top\", \"topic\", \"totally\", \"toxic\", \"trade\", \"transparent\", \"trash\", \"treat\", \"treat\", \"true\", \"truewhitecrime\", \"truly\", \"trump\", \"try\", \"try\", \"try\", \"turn\", \"type\", \"unanimous\", \"uncensored\", \"uncomfortable\", \"understand\", \"unionist\", \"university\", \"unpleasant\", \"untouched\", \"update\", \"upvote\", \"usage\", \"use\", \"use\", \"use\", \"use\", \"user\", \"value\", \"value\", \"victim\", \"video\", \"view\", \"violence\", \"visit\", \"want\", \"warn\", \"warning\", \"warning\", \"watch\", \"way\", \"way\", \"week\", \"well\", \"well\", \"whiteycrime\", \"whore\", \"wish\", \"wish\", \"wonder\", \"word\", \"wordpress\", \"work\", \"work\", \"world\", \"world\", \"would\", \"would\", \"write\", \"write\", \"wrong\", \"wrong\", \"year\", \"young\", \"youtube\"]}, \"R\": 30, \"lambda.step\": 0.01, \"plot.opts\": {\"xlab\": \"PC1\", \"ylab\": \"PC2\"}, \"topic.order\": [17, 5, 9, 14, 18, 16, 7, 15, 2, 19, 10, 11, 12, 4, 6, 8, 3, 13, 1, 20]};\n",
              "\n",
              "function LDAvis_load_lib(url, callback){\n",
              "  var s = document.createElement('script');\n",
              "  s.src = url;\n",
              "  s.async = true;\n",
              "  s.onreadystatechange = s.onload = callback;\n",
              "  s.onerror = function(){console.warn(\"failed to load library \" + url);};\n",
              "  document.getElementsByTagName(\"head\")[0].appendChild(s);\n",
              "}\n",
              "\n",
              "if(typeof(LDAvis) !== \"undefined\"){\n",
              "   // already loaded: just create the visualization\n",
              "   !function(LDAvis){\n",
              "       new LDAvis(\"#\" + \"ldavis_el1741402710875894566568780665\", ldavis_el1741402710875894566568780665_data);\n",
              "   }(LDAvis);\n",
              "}else if(typeof define === \"function\" && define.amd){\n",
              "   // require.js is available: use it to load d3/LDAvis\n",
              "   require.config({paths: {d3: \"https://d3js.org/d3.v5\"}});\n",
              "   require([\"d3\"], function(d3){\n",
              "      window.d3 = d3;\n",
              "      LDAvis_load_lib(\"https://cdn.jsdelivr.net/gh/bmabey/pyLDAvis@3.3.1/pyLDAvis/js/ldavis.v3.0.0.js\", function(){\n",
              "        new LDAvis(\"#\" + \"ldavis_el1741402710875894566568780665\", ldavis_el1741402710875894566568780665_data);\n",
              "      });\n",
              "    });\n",
              "}else{\n",
              "    // require.js not available: dynamically load d3 & LDAvis\n",
              "    LDAvis_load_lib(\"https://d3js.org/d3.v5.js\", function(){\n",
              "         LDAvis_load_lib(\"https://cdn.jsdelivr.net/gh/bmabey/pyLDAvis@3.3.1/pyLDAvis/js/ldavis.v3.0.0.js\", function(){\n",
              "                 new LDAvis(\"#\" + \"ldavis_el1741402710875894566568780665\", ldavis_el1741402710875894566568780665_data);\n",
              "            })\n",
              "         });\n",
              "}\n",
              "</script>"
            ],
            "text/plain": [
              "PreparedData(topic_coordinates=              x         y  topics  cluster       Freq\n",
              "topic                                                \n",
              "16     0.364588 -0.095698       1        1  30.726023\n",
              "4     -0.136014 -0.219048       2        1  12.176468\n",
              "8      0.184815 -0.011173       3        1   8.902194\n",
              "13     0.075988  0.229694       4        1   8.287882\n",
              "17    -0.008765  0.007722       5        1   4.711221\n",
              "15    -0.027587  0.079650       6        1   3.965095\n",
              "6     -0.063669  0.093024       7        1   3.904836\n",
              "14     0.021325  0.022336       8        1   3.674440\n",
              "1      0.048328 -0.053759       9        1   3.618907\n",
              "18    -0.045177  0.055324      10        1   3.133758\n",
              "9     -0.027314 -0.012123      11        1   2.733634\n",
              "10     0.007262 -0.047130      12        1   2.664301\n",
              "11    -0.063931 -0.010390      13        1   2.389932\n",
              "3     -0.045905  0.009617      14        1   1.933201\n",
              "5     -0.050298 -0.001231      15        1   1.662787\n",
              "7     -0.043412  0.001303      16        1   1.625312\n",
              "2     -0.054415 -0.011988      17        1   1.395020\n",
              "12    -0.045803 -0.004069      18        1   1.067260\n",
              "0     -0.046891 -0.020863      19        1   0.800933\n",
              "19    -0.043124 -0.011198      20        1   0.626795, topic_info=           Term       Freq      Total Category  logprob  loglift\n",
              "4    quarantine  83.000000  83.000000  Default  30.0000  30.0000\n",
              "24    subreddit  43.000000  43.000000  Default  29.0000  29.0000\n",
              "198      speech  22.000000  22.000000  Default  28.0000  28.0000\n",
              "107      people  62.000000  62.000000  Default  27.0000  27.0000\n",
              "284         ban  29.000000  29.000000  Default  26.0000  26.0000\n",
              "..          ...        ...        ...      ...      ...      ...\n",
              "72         ever   0.013616   6.514667  Topic20  -7.5906  -1.0983\n",
              "126       stuff   0.013616   3.886327  Topic20  -7.5906  -0.5817\n",
              "237     average   0.013616   3.380538  Topic20  -7.5906  -0.4423\n",
              "252        feed   0.013616   2.530640  Topic20  -7.5906  -0.1527\n",
              "269        sure   0.013616   3.444749  Topic20  -7.5906  -0.4611\n",
              "\n",
              "[774 rows x 6 columns], token_table=      Topic      Freq        Term\n",
              "term                             \n",
              "548       3  0.657847     ability\n",
              "371       4  0.956375        able\n",
              "39        3  0.708861      accept\n",
              "39        5  0.177215      accept\n",
              "410      12  0.899237  acceptable\n",
              "...     ...       ...         ...\n",
              "207       1  0.617224       wrong\n",
              "207       8  0.308612       wrong\n",
              "486       4  0.982945        year\n",
              "1455      5  0.832532       young\n",
              "1383      7  0.479116     youtube\n",
              "\n",
              "[689 rows x 3 columns], R=30, lambda_step=0.01, plot_opts={'xlab': 'PC1', 'ylab': 'PC2'}, topic_order=[17, 5, 9, 14, 18, 16, 7, 15, 2, 19, 10, 11, 12, 4, 6, 8, 3, 13, 1, 20])"
            ]
          },
          "metadata": {},
          "execution_count": 72
        }
      ]
    },
    {
      "cell_type": "markdown",
      "source": [
        "#**Topic Modeling for 'Content Policy Update' in r/announcements, 2020:**"
      ],
      "metadata": {
        "id": "WcTyuxr495NM"
      }
    },
    {
      "cell_type": "markdown",
      "source": [
        "###**Preparing the data:**"
      ],
      "metadata": {
        "id": "y5f_Jc3jjFUb"
      }
    },
    {
      "cell_type": "code",
      "source": [
        "#topic modeling for 2020\n",
        "data2020 = content20.comment.values.tolist()\n",
        "data2020 = [re.sub('\\s+', ' ', sent) for sent in data2020]\n",
        "data2020 = [re.sub(\"\\'\",\" \", sent) for sent in data2020]"
      ],
      "metadata": {
        "id": "EdxNpmpR7qSp"
      },
      "execution_count": null,
      "outputs": []
    },
    {
      "cell_type": "code",
      "source": [
        "data_words2020 = list(sent_to_words(data2020))"
      ],
      "metadata": {
        "id": "I9MdvGQv70O-"
      },
      "execution_count": null,
      "outputs": []
    },
    {
      "cell_type": "markdown",
      "source": [
        "###**Building bigrams and trigrams:**"
      ],
      "metadata": {
        "id": "TcO3xS9VjI-9"
      }
    },
    {
      "cell_type": "code",
      "source": [
        "bigram2020 = gensim.models.Phrases(data_words2020, min_count = 5, threshold = 100) \n",
        "trigram2020 = gensim.models.Phrases(bigram2020[data_words2020], threshold = 100) \n",
        "bigram_mod2020 = gensim.models.phrases.Phraser(bigram2020)\n",
        "trigram_mod2020 = gensim.models.phrases.Phraser(trigram2020)"
      ],
      "metadata": {
        "colab": {
          "base_uri": "https://localhost:8080/"
        },
        "id": "GZrWa7qF76VY",
        "outputId": "d181194f-3dc7-49c0-e3cf-39e1ccf643c3"
      },
      "execution_count": null,
      "outputs": [
        {
          "output_type": "stream",
          "name": "stderr",
          "text": [
            "/usr/local/lib/python3.7/dist-packages/gensim/models/phrases.py:598: UserWarning: For a faster implementation, use the gensim.models.phrases.Phraser class\n",
            "  warnings.warn(\"For a faster implementation, use the gensim.models.phrases.Phraser class\")\n"
          ]
        }
      ]
    },
    {
      "cell_type": "markdown",
      "source": [
        "###**Removing stopwords, making bigrams and trigrams, and lemmatizing:**"
      ],
      "metadata": {
        "id": "Kacsb3e3jOPv"
      }
    },
    {
      "cell_type": "code",
      "source": [
        "def make_bigrams2020(texts):\n",
        "    return [bigram_mod2020[doc] for doc in texts]\n",
        "\n",
        "def make_trigrams2020(texts):\n",
        "    return [trigram_mod2020[doc] for doc in texts]\n",
        "\n",
        "def lemmatization2020(texts, allowed_postags = ['NOUN', 'ADJ', 'VERB', 'ADV']):\n",
        "    \"\"\"https://spacy.io/api/annotation\"\"\"\n",
        "    texts_out = []\n",
        "    for sent in texts:\n",
        "        doc = nlp(\" \".join(sent)) \n",
        "        texts_out.append([token.lemma_ for token in doc if token.pos_ in allowed_postags])\n",
        "    return texts_out"
      ],
      "metadata": {
        "id": "CQlZ1QjLZJS6"
      },
      "execution_count": null,
      "outputs": []
    },
    {
      "cell_type": "code",
      "source": [
        "data_words_nostops2020 = remove_stopwords(data_words2020)\n",
        "data_words_bigrams2020 = make_bigrams2020(data_words_nostops2020)\n",
        "data_words_trigrams2020 = make_trigrams2020(data_words_bigrams2020)\n",
        "data_lemmatized2020 = lemmatization2020(data_words_trigrams2020, allowed_postags = ['NOUN', 'ADJ', 'VERB', 'ADV'])"
      ],
      "metadata": {
        "id": "B9LC9PIr8BMp"
      },
      "execution_count": null,
      "outputs": []
    },
    {
      "cell_type": "markdown",
      "source": [
        "###**Creating dictionary and corpus:**"
      ],
      "metadata": {
        "id": "BeU5TYKdjQ_7"
      }
    },
    {
      "cell_type": "code",
      "source": [
        "id2word2020 = corpora.Dictionary(data_lemmatized2020)\n",
        "texts2020 = data_lemmatized2020\n",
        "corpus2020 = [id2word2020.doc2bow(text) for text in texts2020]"
      ],
      "metadata": {
        "id": "1pJHh2348Il2"
      },
      "execution_count": null,
      "outputs": []
    },
    {
      "cell_type": "markdown",
      "source": [
        "###**Build the LDA Model:**"
      ],
      "metadata": {
        "id": "NBnPzf1ZjUR6"
      }
    },
    {
      "cell_type": "code",
      "source": [
        "lda_model2020 = gensim.models.ldamodel.LdaModel(corpus = corpus2020,\n",
        "                                           id2word = id2word2020,\n",
        "                                           num_topics = 20, \n",
        "                                           random_state = 100,\n",
        "                                           update_every = 1,\n",
        "                                           chunksize = 40,\n",
        "                                           passes = 200,\n",
        "                                           alpha = 'auto',\n",
        "                                           per_word_topics = True)"
      ],
      "metadata": {
        "id": "1x1a8K9l8SMw"
      },
      "execution_count": null,
      "outputs": []
    },
    {
      "cell_type": "markdown",
      "source": [
        "##**View the topics for 'Content Policy Update' in r/announcements, 2020:**"
      ],
      "metadata": {
        "id": "UzYsqPcajXsX"
      }
    },
    {
      "cell_type": "code",
      "source": [
        "pprint(lda_model2020.print_topics())\n",
        "doc_lda2020 = lda_model2020[corpus2020]"
      ],
      "metadata": {
        "colab": {
          "base_uri": "https://localhost:8080/"
        },
        "id": "Lo6gqmJf8XjO",
        "outputId": "a7dfc69d-8d0f-4491-c5d5-d4ec14bdadfc"
      },
      "execution_count": null,
      "outputs": [
        {
          "output_type": "stream",
          "name": "stdout",
          "text": [
            "[(0,\n",
            "  '0.030*\"post\" + 0.026*\"hatespeech\" + 0.017*\"massive\" + 0.017*\"trans\" + '\n",
            "  '0.017*\"hundred\" + 0.009*\"illness\" + 0.009*\"locker\" + 0.009*\"low\" + '\n",
            "  '0.009*\"ridiculing\" + 0.009*\"ratio\"'),\n",
            " (1,\n",
            "  '0.087*\"group\" + 0.073*\"hate\" + 0.058*\"people\" + 0.057*\"rule\" + '\n",
            "  '0.056*\"protect\" + 0.045*\"majority\" + 0.031*\"identity\" + 0.026*\"base\" + '\n",
            "  '0.025*\"promote\" + 0.025*\"attack\"'),\n",
            " (2,\n",
            "  '0.101*\"black\" + 0.037*\"person\" + 0.016*\"watch\" + 0.016*\"solely\" + '\n",
            "  '0.015*\"merit\" + 0.009*\"definition\" + 0.008*\"treatment\" + 0.008*\"thumb\" + '\n",
            "  '0.008*\"twitter\" + 0.008*\"similar\"'),\n",
            " (3,\n",
            "  '0.031*\"can\" + 0.023*\"run\" + 0.020*\"club\" + 0.018*\"abuse\" + '\n",
            "  '0.018*\"harassment\" + 0.018*\"moderator\" + 0.013*\"ideology\" + 0.012*\"fly\" + '\n",
            "  '0.011*\"power\" + 0.010*\"ban\"'),\n",
            " (4,\n",
            "  '0.074*\"private\" + 0.058*\"still\" + 0.047*\"process\" + 0.028*\"see\" + '\n",
            "  '0.020*\"check\" + 0.019*\"die\" + 0.014*\"point\" + 0.011*\"genocidal\" + '\n",
            "  '0.011*\"running\" + 0.010*\"well\"'),\n",
            " (5,\n",
            "  '0.030*\"go\" + 0.023*\"policy\" + 0.021*\"comment\" + 0.021*\"community\" + '\n",
            "  '0.020*\"equal\" + 0.020*\"subreddit\" + 0.019*\"faith\" + 0.019*\"claim\" + '\n",
            "  '0.017*\"part\" + 0.017*\"make\"'),\n",
            " (6,\n",
            "  '0.047*\"animal\" + 0.024*\"police\" + 0.024*\"officer\" + 0.016*\"tool\" + '\n",
            "  '0.016*\"effective\" + 0.016*\"ambush\" + 0.016*\"step\" + 0.016*\"refuse\" + '\n",
            "  '0.008*\"different\" + 0.008*\"beautiful\"'),\n",
            " (7,\n",
            "  '0.034*\"lgbt\" + 0.012*\"reveal\" + 0.012*\"bustle\" + 0.012*\"bisexual\" + '\n",
            "  '0.012*\"biphobic\" + 0.012*\"bi\" + 0.012*\"misconception\" + 0.012*\"poll\" + '\n",
            "  '0.012*\"proportion\" + 0.012*\"queer\"'),\n",
            " (8,\n",
            "  '0.001*\"questionable\" + 0.001*\"agree\" + 0.001*\"stereotype\" + '\n",
            "  '0.001*\"sociopolitical\" + 0.001*\"sentiment\" + 0.001*\"piss\" + '\n",
            "  '0.001*\"observation\" + 0.001*\"generalize\" + 0.001*\"disagree\" + '\n",
            "  '0.001*\"clean\"'),\n",
            " (9,\n",
            "  '0.001*\"questionable\" + 0.001*\"agree\" + 0.001*\"stereotype\" + '\n",
            "  '0.001*\"sociopolitical\" + 0.001*\"sentiment\" + 0.001*\"piss\" + '\n",
            "  '0.001*\"observation\" + 0.001*\"generalize\" + 0.001*\"disagree\" + '\n",
            "  '0.001*\"clean\"'),\n",
            " (10,\n",
            "  '0.116*\"ban\" + 0.079*\"woman\" + 0.040*\"sub\" + 0.036*\"subreddit\" + '\n",
            "  '0.027*\"porn\" + 0.025*\"go\" + 0.023*\"user\" + 0.020*\"one\" + 0.018*\"feminist\" + '\n",
            "  '0.018*\"child\"'),\n",
            " (11,\n",
            "  '0.035*\"ban\" + 0.030*\"joke\" + 0.019*\"clarify\" + 0.018*\"hide\" + 0.018*\"try\" + '\n",
            "  '0.017*\"view\" + 0.015*\"people\" + 0.013*\"behavior\" + 0.013*\"web\" + '\n",
            "  '0.013*\"base\"'),\n",
            " (12,\n",
            "  '0.054*\"fucking\" + 0.041*\"destroy\" + 0.039*\"continue\" + 0.027*\"realize\" + '\n",
            "  '0.020*\"book\" + 0.017*\"matter\" + 0.014*\"insane\" + 0.013*\"division\" + '\n",
            "  '0.013*\"site\" + 0.012*\"pure\"'),\n",
            " (13,\n",
            "  '0.046*\"add\" + 0.041*\"moderator\" + 0.033*\"suggest\" + 0.032*\"government\" + '\n",
            "  '0.027*\"black\" + 0.026*\"potential\" + 0.024*\"instead\" + 0.024*\"easy\" + '\n",
            "  '0.021*\"sino\" + 0.019*\"propaganda\"'),\n",
            " (14,\n",
            "  '0.024*\"also\" + 0.023*\"treat\" + 0.023*\"become\" + 0.022*\"well\" + '\n",
            "  '0.022*\"politic\" + 0.021*\"trump\" + 0.021*\"remove\" + 0.021*\"believe\" + '\n",
            "  '0.018*\"politically\" + 0.017*\"turn\"'),\n",
            " (15,\n",
            "  '0.025*\"politics_comment\" + 0.019*\"want\" + 0.016*\"go\" + 0.016*\"people\" + '\n",
            "  '0.016*\"say\" + 0.016*\"fuck\" + 0.015*\"support\" + 0.012*\"guy\" + 0.011*\"hope\" + '\n",
            "  '0.010*\"take\"'),\n",
            " (16,\n",
            "  '0.031*\"give\" + 0.029*\"right\" + 0.029*\"racist\" + 0.025*\"make\" + '\n",
            "  '0.023*\"other\" + 0.021*\"care\" + 0.021*\"racism\" + 0.020*\"race\" + 0.016*\"sub\" '\n",
            "  '+ 0.016*\"discrimination\"'),\n",
            " (17,\n",
            "  '0.077*\"sub\" + 0.032*\"opinion\" + 0.026*\"clearly\" + 0.025*\"agree\" + '\n",
            "  '0.023*\"censor\" + 0.019*\"guess\" + 0.018*\"whole\" + 0.017*\"name\" + '\n",
            "  '0.017*\"rape\" + 0.013*\"gendercritical\"'),\n",
            " (18,\n",
            "  '0.010*\"minute\" + 0.010*\"internet\" + 0.009*\"clear\" + 0.008*\"act\" + '\n",
            "  '0.008*\"medium\" + 0.008*\"value\" + 0.008*\"month\" + 0.008*\"discriminatory\" + '\n",
            "  '0.008*\"sell\" + 0.008*\"break\"'),\n",
            " (19,\n",
            "  '0.026*\"people\" + 0.025*\"policy\" + 0.021*\"allow\" + 0.020*\"money\" + '\n",
            "  '0.019*\"country\" + 0.019*\"see\" + 0.018*\"minority\" + 0.017*\"include\" + '\n",
            "  '0.017*\"actual\" + 0.014*\"limited\"')]\n"
          ]
        }
      ]
    },
    {
      "cell_type": "markdown",
      "source": [
        "###**Get perplexity and coherence scores:**"
      ],
      "metadata": {
        "id": "M8t6huyxjiko"
      }
    },
    {
      "cell_type": "code",
      "source": [
        "print('\\nPerplexity: ', lda_model2020.log_perplexity(corpus2020))\n",
        "coherence_model_lda2020 = CoherenceModel(model = lda_model2020, texts = data_lemmatized2020, dictionary = id2word2020, coherence = 'c_v')\n",
        "coherence_lda2020 = coherence_model_lda2020.get_coherence()\n",
        "print('\\nCoherence Score: ', coherence_lda2020)"
      ],
      "metadata": {
        "colab": {
          "base_uri": "https://localhost:8080/"
        },
        "id": "iIwCKDFsgPaa",
        "outputId": "4ed37e56-12b5-4c15-d070-3ac72ead02ca"
      },
      "execution_count": null,
      "outputs": [
        {
          "output_type": "stream",
          "name": "stdout",
          "text": [
            "\n",
            "Perplexity:  -7.026395856295515\n",
            "\n",
            "Coherence Score:  0.43356785721148333\n"
          ]
        }
      ]
    },
    {
      "cell_type": "markdown",
      "source": [
        "##**Visualize the topics for 'Content Policy Update' in r/announcements, 2020:**"
      ],
      "metadata": {
        "id": "ni7YApbxjoD-"
      }
    },
    {
      "cell_type": "code",
      "source": [
        "pyLDAvis.enable_notebook()\n",
        "lda2020_prepared = gensimvis.prepare(lda_model2020, corpus2020, id2word2020, mds = 'mmds')\n",
        "lda2020_prepared"
      ],
      "metadata": {
        "colab": {
          "base_uri": "https://localhost:8080/"
        },
        "id": "TmrbgLopVF8G",
        "outputId": "3d404630-c794-45af-8427-ef2cc60eebe0"
      },
      "execution_count": null,
      "outputs": [
        {
          "output_type": "stream",
          "name": "stderr",
          "text": [
            "/usr/local/lib/python3.7/dist-packages/pyLDAvis/_prepare.py:247: FutureWarning: In a future version of pandas all arguments of DataFrame.drop except for the argument 'labels' will be keyword-only\n",
            "  by='saliency', ascending=False).head(R).drop('saliency', 1)\n"
          ]
        },
        {
          "output_type": "execute_result",
          "data": {
            "text/html": [
              "\n",
              "<link rel=\"stylesheet\" type=\"text/css\" href=\"https://cdn.jsdelivr.net/gh/bmabey/pyLDAvis@3.3.1/pyLDAvis/js/ldavis.v1.0.0.css\">\n",
              "\n",
              "\n",
              "<div id=\"ldavis_el1741402710841831203147411608\"></div>\n",
              "<script type=\"text/javascript\">\n",
              "\n",
              "var ldavis_el1741402710841831203147411608_data = {\"mdsDat\": {\"x\": [-0.2135535336499349, 0.09514224601613684, 0.2040904216335834, -0.3052718250798742, -0.3057000576911058, 0.002883330673554608, 0.3493044956123971, -0.18546252936370056, 0.16396699252852012, -0.033372624714819825, -0.08963146909317932, 0.013913017355765396, -0.12135553210305577, 0.11307823750725898, 0.153568530672028, 0.10729602178083242, 0.02796582123926572, -0.0023903883188764376, 0.01276438876381343, 0.012764456231390917], \"y\": [0.3943571969301307, -0.34400192356458215, 0.2913563173204243, -0.1594322933727486, 0.1393066128287854, 0.32133088409917443, 0.004274855463425076, -0.08947496307358395, 0.0886184617575882, 0.11705697063851567, -0.1729554992795194, -0.20593980318892338, 0.0176911486349472, -0.1518480184636918, -0.08623075769807476, -0.011454455667616631, 0.001997708917328038, -0.06384896005148917, -0.04540172439352418, -0.04540175783656471], \"topics\": [1, 2, 3, 4, 5, 6, 7, 8, 9, 10, 11, 12, 13, 14, 15, 16, 17, 18, 19, 20], \"cluster\": [1, 1, 1, 1, 1, 1, 1, 1, 1, 1, 1, 1, 1, 1, 1, 1, 1, 1, 1, 1], \"Freq\": [29.984241092461783, 10.926541876385166, 10.172917924533856, 9.710561616072805, 9.591432787562363, 8.837550908122305, 5.405067693997646, 2.1569743581054626, 2.0067321455098033, 1.9006094662529969, 1.8139947155726681, 1.5931724970364387, 1.5520900256473127, 1.1902344176096316, 1.1731507773215915, 0.9751878581378817, 0.6593666418944448, 0.3327880697802546, 0.008758949166083788, 0.008626178829508857]}, \"tinfo\": {\"Term\": [\"group\", \"ban\", \"rule\", \"protect\", \"hate\", \"woman\", \"people\", \"sub\", \"majority\", \"identity\", \"base\", \"promote\", \"go\", \"attack\", \"subreddit\", \"community\", \"see\", \"policy\", \"right\", \"black\", \"fucking\", \"give\", \"make\", \"example\", \"post\", \"racist\", \"allow\", \"instead\", \"form\", \"still\", \"group\", \"protect\", \"identity\", \"rule\", \"attack\", \"example\", \"form\", \"mean\", \"human\", \"vulnerable\", \"disability\", \"hateful\", \"create\", \"man\", \"free\", \"new\", \"acceptable\", \"direct\", \"live\", \"female\", \"community_restrictions_promote\", \"reddithelp\", \"vulnerability\", \"threat\", \"hate\", \"population\", \"base\", \"majority\", \"marginalized\", \"harassment_bullying\", \"promote\", \"target\", \"people\", \"white\", \"change\", \"say\", \"ban\", \"state\", \"community\", \"make\", \"thing\", \"account\", \"minute\", \"internet\", \"clear\", \"value\", \"medium\", \"act\", \"month\", \"discriminatory\", \"break\", \"sell\", \"hatred\", \"especially\", \"concern\", \"premium\", \"bigotry\", \"freedom\", \"picture\", \"public\", \"present\", \"absolutely\", \"blatant\", \"disagree\", \"death\", \"ideal\", \"apply\", \"segregation\", \"award\", \"buy\", \"discriminate\", \"keep\", \"definition\", \"silence\", \"far\", \"do\", \"limited\", \"enough\", \"platform\", \"come\", \"censorship\", \"individual\", \"include_victim\", \"marginalize\", \"crap\", \"talk\", \"continent\", \"include\", \"standard\", \"simply\", \"country\", \"due\", \"assess\", \"gold\", \"impunity\", \"rather\", \"though\", \"honestly\", \"national_origin_ethnicity_immigration\", \"perceived_race_color_religion\", \"sexual_orientation_pregnancy\", \"status_gender_gender\", \"room\", \"election\", \"gender\", \"business\", \"much\", \"money\", \"rape\", \"specific\", \"minority\", \"actual\", \"see\", \"family\", \"policy\", \"allow\", \"many\", \"chinese\", \"good\", \"people\", \"user\", \"even\", \"place\", \"thing\", \"majority\", \"politics_comment\", \"support\", \"guy\", \"last\", \"crime\", \"season\", \"always\", \"area\", \"actively\", \"fight\", \"stand\", \"street\", \"resign\", \"punish\", \"vote\", \"kid\", \"stuff\", \"gun\", \"http\", \"supporter\", \"tree\", \"hope\", \"deny\", \"physical\", \"uncomfortable\", \"shooting\", \"prove\", \"commit\", \"major\", \"thought\", \"die\", \"legal\", \"fuck\", \"power\", \"kill\", \"let\", \"remove\", \"mod\", \"want\", \"day\", \"feel\", \"time\", \"go\", \"say\", \"stop\", \"https\", \"take\", \"open\", \"people\", \"look\", \"get\", \"make\", \"see\", \"comment\", \"equal\", \"faith\", \"claim\", \"part\", \"literally\", \"wrong\", \"lose\", \"write\", \"effort\", \"encourage\", \"word\", \"bit\", \"tell\", \"exception\", \"must\", \"statement\", \"case\", \"administration\", \"criticism\", \"delete\", \"protection\", \"maybe\", \"specifically\", \"worry\", \"warn\", \"define\", \"announcement\", \"less\", \"seem\", \"end\", \"go\", \"policy\", \"point\", \"community\", \"subreddit\", \"violent\", \"get\", \"work\", \"use\", \"even\", \"make\", \"bad\", \"good\", \"think\", \"discrimination\", \"say\", \"would\", \"account\", \"racist\", \"other\", \"racism\", \"fine\", \"color\", \"skin\", \"understand\", \"equality\", \"exmuslim\", \"line\", \"obviously\", \"religion\", \"racial\", \"deal\", \"problem\", \"give\", \"race\", \"issue\", \"tiny\", \"nature\", \"ignore\", \"center\", \"okay\", \"admit\", \"care\", \"belief\", \"experience\", \"redditor\", \"visit\", \"moderate\", \"ad\", \"shit\", \"right\", \"discrimination\", \"leave\", \"post\", \"make\", \"would\", \"speech\", \"sub\", \"time\", \"way\", \"white\", \"hate\", \"thank\", \"porn\", \"one\", \"feminist\", \"child\", \"great\", \"sure\", \"like\", \"tolerate\", \"thread\", \"illegal\", \"active\", \"list\", \"remain\", \"pretty\", \"yet\", \"imagine\", \"barely\", \"ask\", \"bring\", \"comprehensive\", \"quick\", \"ahead\", \"result\", \"woman\", \"degrade\", \"nonconsenual\", \"still\", \"abuse\", \"guilde\", \"inform\", \"ban\", \"company\", \"sub\", \"subreddit\", \"user\", \"go\", \"take\", \"even\", \"remember\", \"violence\", \"promote\", \"get\", \"community\", \"treat\", \"politic\", \"politically\", \"turn\", \"be\", \"mass\", \"require\", \"self\", \"meeting\", \"trump\", \"troll\", \"control\", \"late\", \"moment\", \"personal\", \"may\", \"blind\", \"consistant\", \"enforce\", \"figure\", \"headline\", \"hypocrisy\", \"lean\", \"perhaps\", \"repeatedly\", \"theorist\", \"alt\", \"amusing\", \"apparently\", \"conform\", \"become\", \"well\", \"believe\", \"really\", \"also\", \"remove\", \"answer\", \"mod\", \"actually\", \"fuck\", \"true\", \"legal\", \"joke\", \"clarify\", \"hide\", \"view\", \"web\", \"aim\", \"reason\", \"credibility\", \"approve\", \"comedy\", \"behavior\", \"covered\", \"freaking\", \"standpoint\", \"straight\", \"wrongthink\", \"anywhere\", \"better\", \"choke\", \"committee\", \"digest\", \"exact\", \"follow\", \"front\", \"kick\", \"loudly\", \"shitstorm\", \"shout\", \"sooner\", \"welcome\", \"try\", \"sense\", \"ban\", \"deserve\", \"show\", \"point\", \"side\", \"base\", \"people\", \"place\", \"ass\", \"opinion\", \"agree\", \"censor\", \"guess\", \"whole\", \"gendercritical\", \"multiple\", \"news\", \"body\", \"voice\", \"name\", \"plainly\", \"focus\", \"hot\", \"mainly\", \"manage\", \"perfectly\", \"prostitution\", \"ridiculous\", \"scandinavian\", \"strangle\", \"surrogacy\", \"topic\", \"happen\", \"questionable\", \"biology\", \"science\", \"secondly\", \"several\", \"tweet\", \"sub\", \"clearly\", \"discuss\", \"wing\", \"rape\", \"far\", \"piece\", \"allow\", \"discussion\", \"relate\", \"club\", \"harassment\", \"fly\", \"can\", \"biological\", \"sex\", \"congregate\", \"inclusive\", \"internationally\", \"receive\", \"strike\", \"universal\", \"ancestor\", \"colour\", \"correction\", \"familiar\", \"forearm\", \"lock\", \"sorry\", \"story\", \"verify\", \"app\", \"completely\", \"gigantic\", \"hat\", \"hit\", \"hurt\", \"lack\", \"necessarily\", \"stain\", \"run\", \"ideology\", \"abuse\", \"moderator\", \"power\", \"way\", \"ban\", \"make\", \"instead\", \"rule\", \"destroy\", \"continue\", \"realize\", \"book\", \"insane\", \"division\", \"site\", \"pure\", \"lying\", \"biid\", \"degradedfemale\", \"rapekink\", \"snuffrp\", \"transable\", \"certainty\", \"conviction\", \"count\", \"demonstrate\", \"dude\", \"embarrassment\", \"encouragement\", \"erosion\", \"garbage\", \"nude\", \"outright\", \"profit\", \"score\", \"slow\", \"slur\", \"straw\", \"fucking\", \"matter\", \"harm\", \"provide\", \"life\", \"side\", \"allow\", \"add\", \"suggest\", \"government\", \"potential\", \"sino\", \"propaganda\", \"current\", \"moderator\", \"coward\", \"easy\", \"concentration\", \"international\", \"investigation\", \"pandemic\", \"reference\", \"sanction\", \"spit\", \"uns\", \"camp\", \"black\", \"instead\", \"put\", \"origin\", \"chinese\", \"trump\", \"future\", \"much\", \"know\", \"call\", \"good\", \"community\", \"bad\", \"make\", \"get\", \"right\", \"animal\", \"officer\", \"police\", \"effective\", \"tool\", \"step\", \"ambush\", \"refuse\", \"actor\", \"alternate\", \"contrary\", \"intention\", \"intentionally\", \"mitigate\", \"outwardly\", \"sponge\", \"task\", \"username\", \"vitriolic\", \"wet\", \"wipe\", \"beautiful\", \"different\", \"extra\", \"grass\", \"scare\", \"slither\", \"snake\", \"afghan\", \"angry\", \"obvious\", \"violate\", \"truly\", \"person\", \"black\", \"watch\", \"solely\", \"merit\", \"finger\", \"genocided\", \"interaction\", \"murder\", \"nose\", \"planet\", \"rage\", \"sit\", \"thumb\", \"disallow\", \"similar\", \"twitter\", \"asian\", \"atheist\", \"city\", \"hispanic\", \"jewish\", \"orwellian\", \"predominantly\", \"recreate\", \"second\", \"tripping\", \"vague\", \"goddamn\", \"literal\", \"ass\", \"treatment\", \"definition\", \"hatespeech\", \"massive\", \"hundred\", \"trans\", \"attend\", \"buttfucke\", \"grave\", \"shitting\", \"abolish\", \"activist\", \"arm\", \"ashamed\", \"author\", \"banwave\", \"boast\", \"collecting\", \"dick\", \"dictatorial\", \"ecourage\", \"endure\", \"exclusive\", \"gang\", \"illness\", \"locker\", \"low\", \"problematic\", \"ratio\", \"ridiculing\", \"slightest\", \"slightly\", \"post\", \"eye\", \"train\", \"kind\", \"private\", \"process\", \"check\", \"genocidal\", \"running\", \"pass\", \"still\", \"die\", \"point\", \"see\", \"well\", \"bi\", \"biphobic\", \"bisexual\", \"bustle\", \"however\", \"misconception\", \"poll\", \"proportion\", \"queer\", \"reveal\", \"asterisk\", \"bunch\", \"hire\", \"rascism\", \"solve\", \"attend\", \"buttfucke\", \"grave\", \"shitting\", \"party\", \"clear\", \"sino\", \"censor\", \"find\", \"year\", \"harassment\", \"legal\", \"company\", \"article\", \"create\", \"government\", \"place\", \"race\", \"could\", \"couple\", \"god\", \"hopefully\", \"pray\", \"lgbt\", \"bi\", \"biphobic\", \"bisexual\", \"bustle\", \"however\", \"misconception\", \"poll\", \"proportion\", \"queer\", \"reveal\", \"co\", \"https\", \"remove\", \"pass\", \"genocidal\", \"running\", \"asterisk\", \"bunch\", \"hire\", \"rascism\", \"solve\", \"attend\", \"buttfucke\", \"grave\", \"shitting\", \"abolish\", \"activist\", \"arm\", \"ashamed\", \"harassment\", \"deal\", \"nature\", \"problem\", \"family\", \"regard\", \"still\", \"source\", \"include_victim\", \"marginalize\", \"large\", \"censor\", \"name\", \"sub\", \"also\", \"ban\", \"bi\", \"biphobic\", \"bisexual\", \"bustle\", \"however\", \"misconception\", \"poll\", \"proportion\", \"queer\", \"reveal\", \"pass\", \"genocidal\", \"running\", \"asterisk\", \"bunch\", \"hire\", \"rascism\", \"solve\", \"attend\", \"buttfucke\", \"grave\", \"shitting\", \"abolish\", \"activist\", \"arm\", \"ashamed\", \"author\", \"banwave\", \"boast\", \"collecting\", \"censor\", \"name\", \"sub\", \"also\", \"ban\", \"believe\", \"comprehensive\", \"incoming\", \"list\", \"somewhere\", \"troll\", \"wave\", \"admin\", \"affect\", \"american\", \"anonymous\", \"back\", \"belief\", \"bottom\", \"bungle\", \"care\", \"change\", \"climate\", \"communication\", \"continue\", \"deal\", \"desire\", \"direction\", \"disappointed\", \"discrimination\", \"bi\", \"biphobic\", \"bisexual\", \"bustle\", \"however\", \"misconception\", \"poll\", \"proportion\", \"queer\", \"reveal\", \"pass\", \"genocidal\", \"running\", \"asterisk\", \"bunch\", \"hire\", \"rascism\", \"solve\", \"attend\", \"buttfucke\", \"grave\", \"shitting\", \"abolish\", \"activist\", \"arm\", \"ashamed\", \"author\", \"banwave\", \"boast\", \"collecting\", \"censor\", \"name\", \"sub\", \"also\", \"ban\", \"believe\", \"comprehensive\", \"incoming\", \"list\", \"somewhere\", \"troll\", \"wave\", \"admin\", \"affect\", \"american\", \"anonymous\", \"back\", \"belief\", \"bottom\", \"bungle\", \"care\", \"change\", \"climate\", \"communication\", \"continue\", \"deal\", \"desire\", \"direction\", \"disappointed\", \"discrimination\"], \"Freq\": [127.0, 50.0, 84.0, 81.0, 114.0, 28.0, 110.0, 25.0, 71.0, 45.0, 41.0, 41.0, 28.0, 36.0, 23.0, 24.0, 14.0, 23.0, 21.0, 8.0, 10.0, 15.0, 40.0, 28.0, 11.0, 13.0, 21.0, 9.0, 24.0, 6.0, 127.19725482861907, 81.38753608762416, 45.376561354178534, 83.753187747492, 35.91263067424027, 28.37180611210882, 23.566656206168343, 19.11707518812077, 15.286449033805644, 14.379921298626547, 11.644250728980229, 10.397721797755816, 10.334914330834646, 9.511959158129471, 9.443959055138563, 9.438767781250375, 8.762198086666494, 8.553004460533256, 8.547816592098943, 7.871242810970412, 7.803243389070279, 7.803243389070279, 7.526050341036908, 7.452858283067036, 106.64110702822994, 6.488712311582632, 38.34921930052146, 66.37568514599857, 5.6691615711170416, 5.602950353047063, 36.494546459438546, 7.8102647538712935, 84.97937454053503, 22.940376892239936, 11.245525886301538, 15.058400771743946, 14.342484463079689, 9.35992607530064, 11.010159303860862, 11.120729623570927, 9.230434372766151, 9.013735126290767, 5.420052782591224, 5.222404924836375, 4.622741198324625, 4.490975959821392, 4.490975959821392, 4.490975959821392, 4.35921072131816, 4.35921072131816, 4.359210224926281, 4.359210224926281, 3.6936643755547935, 3.693663134575098, 3.62778101171536, 3.4960162696040054, 2.764586560001206, 2.764586560001206, 2.764586560001206, 2.764586560001206, 2.764586560001206, 2.764586560001206, 2.764586560001206, 2.764586560001206, 2.764586560001206, 2.764586560001206, 2.764586560001206, 2.764586560001206, 2.69870369255365, 2.69870369255365, 2.69870369255365, 2.69870369255365, 4.340521567103567, 3.5619577112931897, 3.3185085195237556, 3.2274079518793943, 7.068067578104649, 6.5834418816743385, 6.182854877227015, 5.427974915197135, 5.427974915197135, 5.36041204202945, 5.292848244552156, 5.292848244552156, 4.407636467984133, 3.5899850227323653, 3.5224226117194863, 8.579547180195593, 2.772335426099819, 2.7723351950224164, 9.470596434111613, 2.6372087554548393, 2.6372087554548393, 2.6372087554548393, 2.6372087554548393, 2.6372087554548393, 2.6372087554548393, 2.511666020088467, 6.841129233803342, 6.841129233803342, 6.841129233803342, 6.841129233803342, 1.8823300643506742, 1.819558696667488, 1.8195584655900852, 1.8195584655900852, 3.5906299597634104, 9.898802271889128, 6.348926047182409, 5.6391727289786555, 9.176191806996966, 8.42693811756898, 9.35593952411088, 5.280358510934104, 12.220735489213919, 10.515753056533608, 6.429576220131628, 4.586655366969808, 6.3335806590213055, 12.84646998809132, 6.002440270728797, 5.619838020536664, 5.040961859541516, 4.72195858075048, 4.914565293172022, 11.686203713708336, 7.146141602926925, 5.624551736700524, 4.592941878655651, 4.461166845267438, 3.697949998669157, 3.629640127339973, 3.5613306971607863, 3.5613306971607863, 2.802958118682663, 2.802958118682663, 2.7346484679284777, 2.6711844087444416, 2.6711844087444416, 2.671183967594444, 2.666339478899288, 2.666339478899288, 2.5394098165062253, 2.5394098165062253, 2.5394098165062253, 2.5394098165062253, 5.071311260058705, 1.8396574702419781, 1.8396574702419781, 1.8396574702419781, 1.8396574702419781, 1.8396574702419781, 1.8396574702419781, 1.7713483709252895, 1.7713483709252895, 3.3709460191586316, 3.467002901866883, 7.362132170796337, 3.765772399251344, 3.633107786893611, 3.414911248462788, 4.728776815468854, 3.5222997305762327, 9.188873871992882, 4.1867283142580884, 4.472160303199714, 4.484686757372546, 7.6362923361574016, 7.462715693626703, 3.722115313220289, 3.6937253257201825, 4.885413739253908, 3.81711387708506, 7.620307707155873, 3.287311920373851, 4.074088603151994, 4.843597572161512, 3.4571809177523902, 9.925079462215635, 9.314065873274876, 9.122198237980808, 8.987937778682106, 7.91177563410583, 7.22410832612375, 5.393149515392014, 5.393149515392014, 5.393149515392014, 4.446486956894424, 4.446486956894424, 4.384117600465089, 4.3793567272450735, 3.7012120371789945, 3.634082243267628, 3.571713322576277, 3.571713322576277, 3.3750854676691713, 2.8840468860701676, 2.754548389336443, 2.6874183775560843, 2.687418159687092, 2.687418159687092, 2.687418159687092, 2.620288583644718, 2.620288583644718, 2.5579198808223595, 2.5579198808223595, 2.5579198808223595, 2.5579198808223595, 4.471678712737548, 14.211920300565074, 10.717493388583794, 4.031647401749784, 9.79050701451994, 9.290011393571623, 4.152992587184194, 6.589038514527801, 3.683941997896357, 5.562295157739813, 5.638338407864674, 7.901684813857878, 4.99448324702271, 4.993464055876672, 4.800524505140426, 4.661959826029595, 5.266493119663007, 4.447417693229584, 4.091043282172037, 12.530990053232157, 10.046440018749156, 8.907458535451456, 6.22310981237749, 6.22310981237749, 6.16123510818168, 5.226776235334672, 4.5445441160225695, 4.097243398734812, 3.6053621242942238, 3.5387622937711063, 3.4768863851077136, 3.4721632662263766, 3.4721628647371823, 3.3484118503887865, 13.383730618456793, 8.734427934420548, 2.5995803020427606, 2.5995803020427606, 2.5995803020427606, 2.5377045941239653, 2.5377045941239653, 2.5377045941239653, 1.793596766893068, 9.173237155249593, 1.7269979400929358, 1.7269979400929358, 1.7269979400929358, 1.7269979400929358, 1.7269979400929358, 4.288811157354145, 6.09290686667725, 12.590216133213397, 6.953246016392551, 4.217090733647367, 5.498695632359097, 10.970569377606106, 6.030495371428708, 5.391787491199325, 7.003340626139423, 4.269385905668006, 4.621817135286037, 4.07821883326455, 4.516504512184275, 3.55833489199154, 7.102555498901449, 5.251545490392099, 4.809410374357012, 4.634064310476694, 4.025075292996327, 3.2407392294285597, 2.456403656964334, 2.3965396085983883, 2.3409218870017323, 2.3366760513359837, 2.2810578386357867, 4.467054238105301, 1.6122041589100478, 1.6122041589100478, 1.6122041589100478, 1.6122041589100478, 1.552340601647643, 1.552340601647643, 1.552340601647643, 1.4967223889474461, 1.4967223889474461, 1.4967223889474461, 1.4967223889474461, 20.81121582011219, 0.8834867377580763, 0.8834867377580763, 3.850183499891651, 3.1807592806268823, 0.7680049677954747, 0.7680049677954747, 30.453098791122617, 2.2271155167700547, 10.643494536602091, 9.592632161274116, 6.049948232691465, 6.606416181954434, 4.366435962369954, 4.246314982805074, 3.297624980368685, 3.6712378926058498, 4.401815061480536, 2.551896530591581, 1.9910844021787308, 2.4531113781482983, 2.281452025567727, 1.9115057895499665, 1.7398464369693953, 1.7366909255183263, 1.1982405543975727, 1.1982405543975727, 1.1982405543975727, 1.1982405543975727, 2.225670947638553, 1.1537481565092227, 1.1537481565092227, 1.1537481565092227, 1.1537481565092227, 1.1537481565092227, 1.7252326227732666, 0.6566349657992412, 0.6566349657992412, 0.6566349657992412, 0.6566349657992412, 0.6566349657992412, 0.6566349657992412, 0.6566349657992412, 0.6566349657992412, 0.6566349657992412, 0.6566349657992412, 0.6566349657992412, 0.6566349657992412, 0.6566349657992412, 0.6566349657992412, 2.434793693949452, 2.3219417783954652, 2.164090752646021, 1.5742760593141867, 2.522113031909173, 2.1929785476828245, 0.971996400013368, 1.2650006602905137, 1.421476674031965, 0.990649801938795, 0.7345400476915491, 0.6767374610523625, 2.915534730768968, 1.860964144375847, 1.7774036945640934, 1.6505271517610645, 1.250118401367533, 1.1665581338871245, 1.1665581338871245, 1.1665581338871245, 1.1232421320615216, 1.0829978664067161, 1.2903785298493615, 0.6392730686047454, 0.6392730686047454, 0.6392730686047454, 0.6392730686047454, 0.6392730686047454, 0.6392730230219091, 0.6392730230219091, 0.6392730230219091, 0.6392730230219091, 0.6392730230219091, 0.6392730230219091, 0.6392730230219091, 0.6392730230219091, 0.6392730230219091, 0.6392730230219091, 0.6392730230219091, 0.6392730230219091, 0.6392730230219091, 0.6392730230219091, 1.7299703774692519, 1.155430998890077, 3.4524848615749226, 1.082996316590283, 1.1228234081275135, 1.1234199051229883, 0.9816108809851289, 1.2402208177961265, 1.425937235477401, 0.8740080376779443, 0.6392730686047454, 2.927396216227205, 2.3390484005295447, 2.175123831892014, 1.7507012755881097, 1.7089804630282763, 1.162354236991203, 1.1623540643021466, 1.1206334244313694, 1.1206334244313694, 1.1206333380868414, 1.6138711018188512, 0.6157277519205451, 0.5740070257052398, 0.5740070257052398, 0.5740070257052398, 0.5740070257052398, 0.5740070257052398, 0.5740070257052398, 0.5740070257052398, 0.5740070257052398, 0.5740070257052398, 0.5740070257052398, 0.5740070257052398, 0.5740070257052398, 0.5740070257052398, 0.5740070257052398, 0.5740070257052398, 0.5740070257052398, 0.5740070257052398, 0.5740070257052398, 7.1170133551228645, 2.451808482873733, 1.120620990819315, 1.1206164145593227, 1.6005125671787366, 0.8115776917766917, 0.6613059631034963, 0.6954812136922806, 0.5740070257052398, 0.5740070257052398, 1.744254647032197, 1.6253347528826125, 1.0933980793752605, 2.774940483390495, 0.599181446026895, 0.599181446026895, 0.5991813636172677, 0.5991813636172677, 0.5991813636172677, 0.5991813636172677, 0.5991813636172677, 0.5991813636172677, 0.5991813636172677, 0.5991813636172677, 0.5991813636172677, 0.5991813636172677, 0.5991813636172677, 0.5991813636172677, 0.5991813636172677, 0.5991813636172677, 0.5991813636172677, 0.5991813636172677, 0.5991813636172677, 0.5991813636172677, 0.5991813636172677, 0.5991813636172677, 0.5991813636172677, 0.5991813636172677, 0.5991813636172677, 0.5991813636172677, 2.007772780746405, 1.114055371016968, 1.6254137013055847, 1.5876150423621354, 0.9747684319330958, 0.8001752306744297, 0.8935060290353622, 0.7702527070428012, 0.6618922468753792, 0.6727399497339057, 3.1758115527719974, 3.0270033064842403, 2.0879874280800554, 1.5440747143348517, 1.1131368474708112, 1.000163013877343, 1.000163013877343, 0.9643285288053616, 0.5692248575025326, 0.5692247489359938, 0.5692247489359938, 0.5692247489359938, 0.5692247489359938, 0.5692247489359938, 0.5692247489359938, 0.5692247489359938, 0.5692247489359938, 0.5692247489359938, 0.5692247489359938, 0.5692247489359938, 0.5692247489359938, 0.5692247489359938, 0.5692247489359938, 0.5692247489359938, 0.5692247489359938, 0.5692247489359938, 0.5692247489359938, 0.5692247489359938, 0.5692247489359938, 0.5692247489359938, 4.174075086487134, 1.3525520490359766, 0.9142403428591179, 0.8791119021775619, 0.8020546299593805, 0.6208471610191972, 0.6584314491852765, 3.479515021872371, 2.4958305034909616, 2.459772425032434, 1.9873354450008955, 1.553708318174496, 1.4427821670296637, 1.006402983411375, 3.081946255549776, 0.5339657565902186, 1.7849823429476916, 0.4979078191543301, 0.4979078191543301, 0.4979078191543301, 0.4979078191543301, 0.4979078191543301, 0.4979078191543301, 0.4979078191543301, 0.4979078191543301, 0.5040173429255326, 2.0682120692491797, 1.8029611781176207, 1.017689659778808, 0.5983612413459533, 1.189788540575565, 0.507754372336584, 0.5347531917483899, 0.533595677930925, 0.6193193207785239, 0.49651247065689996, 0.9759768555584991, 1.428142324873394, 0.6856610942249611, 0.6808298701611674, 0.6068852842236037, 0.5657404839358353, 2.7133312027919825, 1.3671072772000719, 1.3671072772000719, 0.9183660047176012, 0.9183660047176012, 0.9183658965731023, 0.9183658965731023, 0.9183658965731023, 0.46962478630738, 0.46962478630738, 0.46962478630738, 0.46962478630738, 0.46962478630738, 0.46962478630738, 0.46962478630738, 0.46962478630738, 0.46962478630738, 0.46962478630738, 0.46962478630738, 0.46962478630738, 0.46962478630738, 0.46962478630738, 0.46962478630738, 0.46962478630738, 0.46962478630738, 0.46962478630738, 0.46962478630738, 0.46962478630738, 0.46962478630738, 0.46962478630738, 0.46962478630738, 0.46962478630738, 0.46962478630738, 2.122226117625307, 5.756974548990435, 0.9388514979029375, 0.906320386102646, 0.8730909882614237, 0.480100379759892, 0.480100379759892, 0.480100379759892, 0.480100379759892, 0.480100379759892, 0.480100379759892, 0.480100379759892, 0.480100379759892, 0.480100379759892, 0.480100379759892, 0.480100379759892, 0.480100379759892, 0.447569534440306, 0.447569534440306, 0.447569534440306, 0.447569534440306, 0.447569534440306, 0.447569534440306, 0.447569534440306, 0.447569534440306, 0.447569534440306, 0.447569534440306, 0.447569534440306, 0.447569534440306, 0.447569534440306, 0.480100379759892, 0.4856460031316641, 0.48932834011380283, 1.2356378108156536, 0.8300502035861433, 0.8300502035861433, 0.8300502035861433, 0.4244627292647403, 0.4244627292647403, 0.4244627292647403, 0.4244627292647403, 0.4244627292647403, 0.4244627292647403, 0.4244627292647403, 0.4244627292647403, 0.4244627292647403, 0.4244627292647403, 0.4244627292647403, 0.4244627292647403, 0.4244627292647403, 0.4244627292647403, 0.4244627292647403, 0.4244627292647403, 0.4244627292647403, 0.4244627292647403, 0.4244627292647403, 0.4244627292647403, 0.4244627292647403, 0.4244627292647403, 0.4244627292647403, 0.4244627292647403, 0.4244627292647403, 0.4244627292647403, 1.4176432358913174, 0.4244627292647403, 0.4244627292647403, 0.4244627292647403, 2.3751066506971, 1.5105777883135778, 0.6444085917142799, 0.3413591818374729, 0.3413591818374729, 0.3182292412412224, 1.858071268946584, 0.621275445936125, 0.46271060387704116, 0.8964575664969828, 0.32822422657312916, 0.015179812642558478, 0.015179812642558478, 0.015179812642558478, 0.015179812642558478, 0.015179812642558478, 0.015179812642558478, 0.015179812642558478, 0.015179812642558478, 0.015179812642558478, 0.015179812642558478, 0.015179812642558478, 0.015179812642558478, 0.015179812642558478, 0.015179812642558478, 0.015179812642558478, 0.015179812642558478, 0.015179812642558478, 0.015179812642558478, 0.015179812642558478, 0.015179816386929862, 0.015179816386929862, 0.015179815450837016, 0.01517981451474417, 0.01517981451474417, 0.01517981451474417, 0.01517981451474417, 0.01517981451474417, 0.01517981451474417, 0.01517981451474417, 0.01517981451474417, 0.01517981451474417, 0.01517981451474417, 0.01517981451474417, 0.01517981451474417, 0.01517981451474417, 0.01517981451474417, 0.01517981451474417, 0.01517981451474417, 0.5459963614446934, 0.18797656478581717, 0.18797656478581717, 0.18797656478581717, 0.18797656478581717, 0.18797656478581717, 0.18797656478581717, 0.18797656478581717, 0.18797656478581717, 0.18797656478581717, 0.18797656478581717, 0.18797465985053152, 0.1879512563598792, 0.18797620194100087, 0.008966646613303155, 0.008966646613303155, 0.008966646613303155, 0.008966646613303155, 0.008966646613303155, 0.008966646613303155, 0.008966646613303155, 0.008966646613303155, 0.008966646613303155, 0.008966646613303155, 0.008966646613303155, 0.008966646613303155, 0.008966646613303155, 0.008966646613303155, 0.008966646613303155, 0.008966646613303155, 0.008966650392936659, 0.008966649448028281, 0.008966648503119906, 0.00896664755821153, 0.00896664755821153, 0.00896664755821153, 0.00896664755821153, 0.00896664755821153, 0.00896664755821153, 0.00896664755821153, 0.00896664755821153, 0.008966646613303155, 0.008966646613303155, 0.008966646613303155, 0.008966646613303155, 0.008966646613303155, 0.0002865603585715102, 0.0002865603585715102, 0.0002865603585715102, 0.0002865603585715102, 0.0002865603585715102, 0.0002865603585715102, 0.0002865603585715102, 0.0002865603585715102, 0.0002865603585715102, 0.0002865603585715102, 0.0002865603585715102, 0.0002865603585715102, 0.0002865603585715102, 0.0002865603585715102, 0.0002865603585715102, 0.0002865603585715102, 0.0002865603585715102, 0.0002865603585715102, 0.0002865603585715102, 0.0002865603585715102, 0.0002865603585715102, 0.0002865603585715102, 0.0002865603585715102, 0.0002865603585715102, 0.0002865603585715102, 0.0002865603585715102, 0.0002865603585715102, 0.0002865603585715102, 0.0002865603585715102, 0.0002865603585715102, 0.0002865603585715102, 0.0002865603585715102, 0.0002865603585715102, 0.0002865603585715102, 0.0002865603585715102, 0.0002865603585715102, 0.0002865603585715102, 0.0002865603585715102, 0.0002865603585715102, 0.0002865603585715102, 0.0002865603585715102, 0.0002865603585715102, 0.0002865603585715102, 0.0002865603585715102, 0.0002865603585715102, 0.0002865603585715102, 0.0002865603585715102, 0.0002865603585715102, 0.0002865603585715102, 0.0002865603585715102, 0.0002865603585715102, 0.0002865603585715102, 0.0002865603585715102, 0.0002865603585715102, 0.0002865603585715102, 0.0002865603585715102, 0.0002865603585715102, 0.0002865603585715102, 0.0002865603585715102, 0.0002865603585715102, 0.0002822166051674037, 0.0002822166051674037, 0.0002822166051674037, 0.0002822166051674037, 0.0002822166051674037, 0.0002822166051674037, 0.0002822166051674037, 0.0002822166051674037, 0.0002822166051674037, 0.0002822166051674037, 0.0002822166051674037, 0.0002822166051674037, 0.0002822166051674037, 0.0002822166051674037, 0.0002822166051674037, 0.0002822166051674037, 0.0002822166051674037, 0.0002822166051674037, 0.0002822166051674037, 0.0002822166051674037, 0.0002822166051674037, 0.0002822166051674037, 0.0002822166051674037, 0.0002822166051674037, 0.0002822166051674037, 0.0002822166051674037, 0.0002822166051674037, 0.0002822166051674037, 0.0002822166051674037, 0.0002822166051674037, 0.0002822166051674037, 0.0002822166051674037, 0.0002822166051674037, 0.0002822166051674037, 0.0002822166051674037, 0.0002822166051674037, 0.0002822166051674037, 0.0002822166051674037, 0.0002822166051674037, 0.0002822166051674037, 0.0002822166051674037, 0.0002822166051674037, 0.0002822166051674037, 0.0002822166051674037, 0.0002822166051674037, 0.0002822166051674037, 0.0002822166051674037, 0.0002822166051674037, 0.0002822166051674037, 0.0002822166051674037, 0.0002822166051674037, 0.0002822166051674037, 0.0002822166051674037, 0.0002822166051674037, 0.0002822166051674037, 0.0002822166051674037, 0.0002822166051674037, 0.0002822166051674037, 0.0002822166051674037, 0.0002822166051674037], \"Total\": [127.0, 50.0, 84.0, 81.0, 114.0, 28.0, 110.0, 25.0, 71.0, 45.0, 41.0, 41.0, 28.0, 36.0, 23.0, 24.0, 14.0, 23.0, 21.0, 8.0, 10.0, 15.0, 40.0, 28.0, 11.0, 13.0, 21.0, 9.0, 24.0, 6.0, 127.70497460012771, 81.8952558591328, 45.88428112568716, 84.90700263005067, 36.420350449195375, 28.879525887021646, 24.07437598365647, 19.62479495962939, 15.794168813896992, 14.887641072396972, 12.15197050048885, 10.905441569264438, 10.842634104215453, 10.019678931327851, 9.951678830525246, 9.946487559506217, 9.269917858175116, 9.060724232041878, 9.05553636527307, 8.378962601946572, 8.3109631605789, 8.3109631605789, 8.033770112545529, 7.96057806491511, 114.95002122175812, 6.996432083091253, 41.37579993438373, 71.75362968134547, 6.178532956181207, 6.110670124555684, 41.36479375100541, 8.68016929075495, 110.37774725657184, 27.482607630165425, 14.619502165823956, 31.14024576041138, 50.93767866010447, 14.438847219564952, 24.618798593528222, 40.33902680314739, 15.156110972104111, 13.56844213189862, 5.932569185383683, 5.734921327628833, 5.1352576108409576, 5.0034923626138506, 5.003492363998309, 5.003492373009844, 4.871727124110619, 4.871727124110619, 4.87172662771874, 4.87172662771874, 4.206180798869967, 4.206179547547561, 4.140297422152393, 4.008532672396464, 3.277102964483423, 3.277102964483423, 3.277102967944267, 3.2771029692600924, 3.2771029695526965, 3.277102970351247, 3.277102972641298, 3.2771029745469065, 3.277102974957947, 3.2771029762518826, 3.2771029763452817, 3.2771029798061257, 3.2112200953461096, 3.2112200953461096, 3.2112200970358673, 3.2112201021051408, 5.321016855000095, 4.621063163708138, 4.615221989567046, 7.075565401562202, 7.579481061137193, 7.09485537294819, 6.69426836025956, 5.9393884032989535, 5.939388406896402, 5.871825528441511, 5.8042617285296085, 5.8042617285296085, 4.919049959549845, 4.101398507454669, 4.033836094752031, 9.993495899264792, 3.2837489149512473, 3.2837486815014465, 11.225541318804169, 3.148622238487385, 3.148622238487385, 3.148622238487385, 3.148622238487385, 3.148622241624019, 3.14862224721261, 3.0230795402638195, 8.395190840270386, 8.395190840270386, 8.395190840270386, 8.395190840270386, 2.393743554305517, 2.330972183146518, 2.3309719580325337, 2.330972041558354, 4.610168491994796, 12.98856495706864, 8.433471459621515, 7.503184785883288, 12.530955226660726, 11.995390501932938, 14.160981364640865, 7.467453359778146, 23.40558631275745, 21.90992336684709, 11.013638709559903, 7.436520191899835, 13.311827033612674, 110.37774725657184, 17.170180316602604, 16.4290485765817, 13.075639073611578, 15.156110972104111, 71.75362968134547, 12.197127411965267, 7.65706530458806, 6.135475439198261, 5.103865594904338, 4.972090549338434, 4.208873699976052, 4.140563829001108, 4.072254398748727, 4.0722544024324145, 3.3138818308520968, 3.3138818391885816, 3.245572166185411, 3.1821081083858345, 3.1821081163927816, 3.182107667235837, 3.177263202959806, 3.177263202959806, 3.0503335147631585, 3.0503335147631585, 3.0503335147631585, 3.0503335147631585, 6.430534535277053, 2.3505811712678306, 2.3505811712678306, 2.3505811712678306, 2.350581175257943, 2.3505811762248143, 2.3505811872128377, 2.282272069182223, 2.282272069182223, 4.48796535070913, 4.625464339271623, 11.008094416568698, 5.224819692204364, 5.09204843609678, 4.905671837959797, 7.582488887972364, 5.269024373823778, 19.763262819713997, 6.710385847460783, 9.137745339570031, 9.22128849366984, 28.882208926054275, 31.14024576041138, 6.69875303325702, 6.709906163760288, 14.762663513734779, 7.973363422609806, 110.37774725657184, 6.08812974984103, 16.04572689390096, 40.33902680314739, 14.160981364640865, 10.436777430468895, 9.825763839258133, 9.633896202274308, 9.499635742975606, 8.4234736052923, 7.73580629576147, 5.904847485994365, 5.904847493040546, 5.90484749763534, 4.9581849245674405, 4.958184925709017, 4.895815567607516, 4.8910546915385735, 4.212910006816714, 4.1457802075611285, 4.083411307164424, 4.083411307164424, 3.8867834355732573, 3.3957448503636694, 3.2662463620876, 3.199116344111389, 3.199116127591178, 3.199116131706496, 3.1991161361361575, 3.131986547938219, 3.131986563621391, 3.069617847691162, 3.0696178482524954, 3.069617860799033, 3.069617860799033, 5.809356376094023, 28.882208926054275, 23.40558631275745, 6.085868397508353, 24.618798593528222, 23.121327245550596, 6.694705805552766, 16.04572689390096, 6.0643780371409965, 15.611132801264853, 16.4290485765817, 40.33902680314739, 13.121596805389968, 13.311827033612674, 12.048922375164786, 12.083195936512702, 31.14024576041138, 15.094440263353608, 13.56844213189862, 13.043036200671608, 10.558486171012511, 9.419504681855623, 6.73515595454085, 6.735155956206354, 6.673281252010544, 5.738822377498032, 5.056590267287987, 4.609289540898172, 4.117408266457584, 4.050808440087845, 3.988932529846376, 3.984209408389738, 3.9842090133458528, 3.860457993497056, 15.479915441908794, 10.312012756816241, 3.1116264467814228, 3.111626449602655, 3.111626449706523, 3.0497507362873266, 3.0497507634749406, 3.0497507634749406, 2.3056429142070307, 11.887773757716458, 2.239044082256297, 2.239044082256297, 2.239044082256297, 2.239044082256297, 2.239044082256297, 5.821284044164428, 9.164769995076078, 21.351109033992685, 12.083195936512702, 7.630670266767889, 11.117804767244474, 40.33902680314739, 15.094440263353608, 13.624081035835879, 25.736231601188692, 9.22128849366984, 11.321417866984142, 27.482607630165425, 114.95002122175812, 7.46104353107816, 7.6190219684609986, 5.768011962213452, 5.325876843916562, 5.150530786929211, 4.541541814116113, 3.757205714151248, 2.972870140366362, 2.9130061011278, 2.8573883726999085, 2.8531425208955343, 2.7975243081953374, 5.80086157352018, 2.1286706284695986, 2.1286706298540583, 2.1286706345940463, 2.128670648571127, 2.068807071207194, 2.0688070750852554, 2.0688070750852554, 2.0131888585069975, 2.0131888728752303, 2.0131888822481274, 2.0131888822481274, 28.937981884857244, 1.3999532073176273, 1.3999532073176273, 6.209541438893446, 5.295994620563859, 1.2844714373550257, 1.2844714373550257, 50.93767866010447, 3.738052118106487, 25.736231601188692, 23.121327245550596, 17.170180316602604, 28.882208926054275, 14.762663513734779, 16.4290485765817, 10.122411119075299, 13.731109237411598, 41.36479375100541, 16.04572689390096, 24.618798593528222, 2.9796656708436027, 2.8080063098476566, 2.4380600703834117, 2.266400721249325, 2.2632452063517716, 1.7247948386775025, 1.7247948386775025, 1.7247948409393052, 1.7247948449306327, 3.2345089700557974, 1.6803024373426683, 1.6803024407891523, 1.6803024407891523, 1.6803024407891523, 1.6803024407891523, 3.0910004035882634, 1.1831892466326865, 1.1831892466326865, 1.1831892466326865, 1.1831892466326865, 1.1831892466326865, 1.1831892466326865, 1.1831892466326865, 1.1831892466326865, 1.1831892466326865, 1.1831892466326865, 1.1831892466326865, 1.1831892466326865, 1.1831892466326865, 1.1831892466326865, 4.7386567852947685, 5.725858491335498, 5.702947591294479, 4.122679502525703, 9.386404113155576, 7.582488887972364, 2.4718103551826585, 5.269024373823778, 6.987213864742728, 11.008094416568698, 2.9363140482432297, 4.625464339271623, 3.4428610792781567, 2.388290489274451, 2.3047300394626977, 2.177853500270253, 1.7774447462661376, 1.6938844813610299, 1.6938844818479528, 1.693884513213811, 1.6505684808381875, 1.6103242113053207, 2.3257686462906073, 1.16659941350335, 1.16659941350335, 1.16659941350335, 1.16659941350335, 1.16659941350335, 1.1665993679205136, 1.1665993679205136, 1.1665993679205136, 1.1665993679205136, 1.1665993679205136, 1.1665993679205136, 1.1665993679205136, 1.1665993679205136, 1.1665993679205136, 1.1665993679205136, 1.1665993679205136, 1.1665993679205136, 1.1665993679205136, 1.1665993679205136, 5.621049334007829, 4.230210575181334, 50.93767866010447, 4.368453117677625, 5.1964477333196655, 6.085868397508353, 4.697489644234733, 41.37579993438373, 110.37774725657184, 13.075639073611578, 1.625350335116875, 3.4557695984659107, 2.8674217939545943, 2.703497212236393, 2.2790746515667006, 2.2373538427730093, 1.6907276143542536, 1.6907274423427627, 1.649006799025501, 1.649006799025501, 1.649006712680973, 2.951813075438504, 1.1441011265146768, 1.1023804002993713, 1.1023804002993713, 1.1023804002993713, 1.1023804002993713, 1.1023804002993713, 1.1023804002993713, 1.1023804002993713, 1.1023804002993713, 1.1023804002993713, 1.1023804002993713, 1.1023804002993713, 1.1023804002993713, 1.1023804002993713, 1.1023804002993713, 1.1023804002993713, 1.1023804002993713, 1.1023804002993713, 1.1023804002993713, 25.736231601188692, 9.751550653400054, 3.3566696477748246, 3.3754057304268783, 8.433471459621515, 4.615221989567046, 3.707288961960293, 21.90992336684709, 1.634317367391021, 1.634317367391021, 2.273363819024862, 2.1544439631908037, 1.622507251367926, 5.154850002904263, 1.1282906180195607, 1.1282906180195607, 1.1282905356099333, 1.1282905356099333, 1.1282905356099333, 1.1282905356099333, 1.1282905356099333, 1.1282905356099333, 1.1282905356099333, 1.1282905356099333, 1.1282905356099333, 1.1282905356099333, 1.1282905356099333, 1.1282905356099333, 1.1282905356099333, 1.1282905356099333, 1.1282905356099333, 1.1282905356099333, 1.1282905356099333, 1.1282905356099333, 1.1282905356099333, 1.1282905356099333, 1.1282905356099333, 1.1282905356099333, 1.1282905356099333, 1.1282905356099333, 5.337991411986228, 2.534047718178074, 5.295994620563859, 5.173199837395065, 5.224819692204364, 11.321417866984142, 50.93767866010447, 40.33902680314739, 9.649015479228852, 84.90700263005067, 3.706252860767357, 3.5574446181775676, 2.618428736075415, 2.0745160197549106, 1.6435781528908702, 1.530604319297402, 1.5306043255706705, 1.4947698342254205, 1.0996661629225917, 1.0996660543560528, 1.0996660543560528, 1.0996660543560528, 1.0996660543560528, 1.0996660543560528, 1.0996660543560528, 1.0996660543560528, 1.0996660543560528, 1.0996660543560528, 1.0996660543560528, 1.0996660543560528, 1.0996660543560528, 1.0996660543560528, 1.0996660543560528, 1.0996660543560528, 1.0996660543560528, 1.0996660543560528, 1.0996660543560528, 1.0996660543560528, 1.0996660543560528, 1.0996660543560528, 10.600178256282708, 3.069387275293379, 2.713068188229337, 2.5982179738262436, 2.5148837041474135, 4.697489644234733, 21.90992336684709, 4.009798415209806, 3.0261138816579995, 2.99005582324668, 2.5176188231679335, 2.0839916991498124, 1.9730655451967019, 1.5366863615784132, 5.173199837395065, 1.0642491347572567, 3.6016873358762105, 1.028191197321368, 1.028191197321368, 1.028191197321368, 1.028191197321368, 1.028191197321368, 1.028191197321368, 1.028191197321368, 1.028191197321368, 1.8550740321694836, 8.334120542525344, 9.649015479228852, 5.74922738213044, 3.5466385509439244, 7.436520191899835, 3.2345089700557974, 3.521628587026723, 4.610168491994796, 6.080732828416855, 6.116964574732666, 13.311827033612674, 24.618798593528222, 13.121596805389968, 40.33902680314739, 16.04572689390096, 21.351109033992685, 3.248201593188882, 1.901977667596971, 1.901977667596971, 1.4532363985187033, 1.4532363985187033, 1.4532362869700015, 1.4532362869700015, 1.4532362869700015, 1.0044951767042793, 1.0044951767042793, 1.0044951767042793, 1.0044951767042793, 1.0044951767042793, 1.0044951767042793, 1.0044951767042793, 1.0044951767042793, 1.0044951767042793, 1.0044951767042793, 1.0044951767042793, 1.0044951767042793, 1.0044951767042793, 1.0044951767042793, 1.0044951767042793, 1.0044951767042793, 1.0044951767042793, 1.0044951767042793, 1.0044951767042793, 1.0044951767042793, 1.0044951767042793, 1.0044951767042793, 1.615340532258485, 1.631930410970658, 1.5770316999479048, 2.656630671845248, 8.334120542525344, 1.4732560521228784, 1.4407249403225868, 1.4089104835204045, 1.0145049339798327, 1.0145049339798327, 1.0145049339798327, 1.0145049339798327, 1.0145049339798327, 1.0145049339798327, 1.0145049339798327, 1.0145049339798327, 1.0145049339798327, 1.0145049339798327, 1.0145049339798327, 1.0145049339798327, 0.9819740886602467, 0.9819740886602467, 0.9819740886602467, 0.9819740886602467, 0.9819740886602467, 0.9819740886602467, 0.9819740886602467, 0.9819740886602467, 0.9819740886602467, 0.9819740886602467, 0.9819740886602467, 0.9819740886602467, 0.9819740886602467, 1.625350335116875, 2.7352084580618388, 5.321016855000095, 1.7725165004001109, 1.3669288931706005, 1.3669288931706005, 1.3669288931706005, 0.9613414188491975, 0.9613414188491975, 0.9613414188491975, 0.9613414188491975, 0.9613414188491975, 0.9613414188491975, 0.9613414188491975, 0.9613414188491975, 0.9613414188491975, 0.9613414188491975, 0.9613414188491975, 0.9613414188491975, 0.9613414188491975, 0.9613414188491975, 0.9613414188491975, 0.9613414188491975, 0.9613414188491975, 0.9613414188491975, 0.9613414188491975, 0.9613414188491975, 0.9613414188491975, 0.9613414188491975, 0.9613414188491975, 0.9613414188491975, 0.9613414188491975, 0.9613414188491975, 11.117804767244474, 1.5887766531155765, 1.5338779420928232, 1.5887766531155765, 2.9156808504208493, 2.05115199144153, 1.1849827914380289, 0.8819333815612219, 0.8819333815612219, 0.8588034409649714, 6.209541438893446, 4.48796535070913, 6.085868397508353, 14.160981364640865, 5.725858491335498, 0.7347639305388215, 0.7347639305388215, 0.7347639305388215, 0.7347639305388215, 0.7347639305388215, 0.7347639305388215, 0.7347639305388215, 0.7347639305388215, 0.7347639305388215, 0.7347639305388215, 0.905859328280455, 0.905859328280455, 0.9517503000493147, 0.9517503000493147, 0.9517503000493147, 0.9613414188491975, 0.9613414188491975, 0.9613414188491975, 0.9613414188491975, 3.437807771186797, 5.1352576108409576, 2.0839916991498124, 2.703497212236393, 5.54942444599949, 8.122039379181777, 2.1544439631908037, 4.625464339271623, 3.738052118106487, 3.4378077434611547, 10.842634104215453, 2.99005582324668, 13.075639073611578, 10.312012756816241, 4.3235707179534435, 1.418948574538371, 1.418948574538371, 1.418948574538371, 1.418948574538371, 1.092783727197698, 0.7347639305388215, 0.7347639305388215, 0.7347639305388215, 0.7347639305388215, 0.7347639305388215, 0.7347639305388215, 0.7347639305388215, 0.7347639305388215, 0.7347639305388215, 0.7347639305388215, 1.5979657691531606, 6.709906163760288, 7.582488887972364, 0.8588034409649714, 0.8819333815612219, 0.8819333815612219, 0.905859328280455, 0.905859328280455, 0.9517503000493147, 0.9517503000493147, 0.9517503000493147, 0.9613414188491975, 0.9613414188491975, 0.9613414188491975, 0.9613414188491975, 0.9613414188491975, 0.9613414188491975, 0.9613414188491975, 0.9613414188491975, 2.1544439631908037, 3.9842090133458528, 3.111626449706523, 3.860457993497056, 7.467453359778146, 4.187570168308946, 6.209541438893446, 3.437807708935495, 5.8042617285296085, 5.8042617285296085, 4.323570684037952, 2.703497212236393, 2.951813075438504, 25.736231601188692, 9.386404113155576, 50.93767866010447, 0.7347639305388215, 0.7347639305388215, 0.7347639305388215, 0.7347639305388215, 0.7347639305388215, 0.7347639305388215, 0.7347639305388215, 0.7347639305388215, 0.7347639305388215, 0.7347639305388215, 0.8588034409649714, 0.8819333815612219, 0.8819333815612219, 0.905859328280455, 0.905859328280455, 0.9517503000493147, 0.9517503000493147, 0.9517503000493147, 0.9613414188491975, 0.9613414188491975, 0.9613414188491975, 0.9613414188491975, 0.9613414188491975, 0.9613414188491975, 0.9613414188491975, 0.9613414188491975, 0.9613414188491975, 0.9613414188491975, 0.9613414188491975, 0.9613414188491975, 2.703497212236393, 2.951813075438504, 25.736231601188692, 9.386404113155576, 50.93767866010447, 5.702947591294479, 2.0131888585069975, 1.0973596193379824, 5.80086157352018, 1.0973596193379824, 1.6803024373426683, 1.0973596193379824, 7.207014805431898, 2.2390440849545636, 3.0631110162453363, 1.3664610177003824, 4.051291565070072, 2.239044082256297, 1.3664610177003824, 1.3664610177003824, 11.887773757716458, 14.619502165823956, 1.3664610177003824, 1.3664610177003824, 3.5574446181775676, 3.9842090133458528, 1.3664610177003824, 1.3664610177003824, 1.3664610177003824, 12.083195936512702, 0.7347639305388215, 0.7347639305388215, 0.7347639305388215, 0.7347639305388215, 0.7347639305388215, 0.7347639305388215, 0.7347639305388215, 0.7347639305388215, 0.7347639305388215, 0.7347639305388215, 0.8588034409649714, 0.8819333815612219, 0.8819333815612219, 0.905859328280455, 0.905859328280455, 0.9517503000493147, 0.9517503000493147, 0.9517503000493147, 0.9613414188491975, 0.9613414188491975, 0.9613414188491975, 0.9613414188491975, 0.9613414188491975, 0.9613414188491975, 0.9613414188491975, 0.9613414188491975, 0.9613414188491975, 0.9613414188491975, 0.9613414188491975, 0.9613414188491975, 2.703497212236393, 2.951813075438504, 25.736231601188692, 9.386404113155576, 50.93767866010447, 5.702947591294479, 2.0131888585069975, 1.0973596193379824, 5.80086157352018, 1.0973596193379824, 1.6803024373426683, 1.0973596193379824, 7.207014805431898, 2.2390440849545636, 3.0631110162453363, 1.3664610177003824, 4.051291565070072, 2.239044082256297, 1.3664610177003824, 1.3664610177003824, 11.887773757716458, 14.619502165823956, 1.3664610177003824, 1.3664610177003824, 3.5574446181775676, 3.9842090133458528, 1.3664610177003824, 1.3664610177003824, 1.3664610177003824, 12.083195936512702], \"Category\": [\"Default\", \"Default\", \"Default\", \"Default\", \"Default\", \"Default\", \"Default\", \"Default\", \"Default\", \"Default\", \"Default\", \"Default\", \"Default\", \"Default\", \"Default\", \"Default\", \"Default\", \"Default\", \"Default\", \"Default\", \"Default\", \"Default\", \"Default\", \"Default\", \"Default\", \"Default\", \"Default\", \"Default\", \"Default\", \"Default\", \"Topic1\", \"Topic1\", \"Topic1\", \"Topic1\", \"Topic1\", \"Topic1\", \"Topic1\", \"Topic1\", \"Topic1\", \"Topic1\", \"Topic1\", \"Topic1\", \"Topic1\", \"Topic1\", \"Topic1\", \"Topic1\", \"Topic1\", \"Topic1\", \"Topic1\", \"Topic1\", \"Topic1\", \"Topic1\", \"Topic1\", \"Topic1\", \"Topic1\", \"Topic1\", \"Topic1\", \"Topic1\", \"Topic1\", \"Topic1\", \"Topic1\", \"Topic1\", \"Topic1\", \"Topic1\", \"Topic1\", \"Topic1\", \"Topic1\", \"Topic1\", \"Topic1\", \"Topic1\", \"Topic1\", \"Topic1\", \"Topic2\", \"Topic2\", \"Topic2\", \"Topic2\", \"Topic2\", \"Topic2\", \"Topic2\", \"Topic2\", \"Topic2\", \"Topic2\", \"Topic2\", \"Topic2\", \"Topic2\", \"Topic2\", \"Topic2\", \"Topic2\", \"Topic2\", \"Topic2\", \"Topic2\", \"Topic2\", \"Topic2\", \"Topic2\", \"Topic2\", \"Topic2\", \"Topic2\", \"Topic2\", \"Topic2\", \"Topic2\", \"Topic2\", \"Topic2\", \"Topic2\", \"Topic2\", \"Topic2\", \"Topic2\", \"Topic3\", \"Topic3\", \"Topic3\", \"Topic3\", \"Topic3\", \"Topic3\", \"Topic3\", \"Topic3\", \"Topic3\", \"Topic3\", \"Topic3\", \"Topic3\", \"Topic3\", \"Topic3\", \"Topic3\", \"Topic3\", \"Topic3\", \"Topic3\", \"Topic3\", \"Topic3\", \"Topic3\", \"Topic3\", \"Topic3\", \"Topic3\", \"Topic3\", \"Topic3\", \"Topic3\", \"Topic3\", \"Topic3\", \"Topic3\", \"Topic3\", \"Topic3\", \"Topic3\", \"Topic3\", \"Topic3\", \"Topic3\", \"Topic3\", \"Topic3\", \"Topic3\", \"Topic3\", \"Topic3\", \"Topic3\", \"Topic3\", \"Topic3\", \"Topic3\", \"Topic3\", \"Topic3\", \"Topic3\", \"Topic3\", \"Topic4\", \"Topic4\", \"Topic4\", \"Topic4\", \"Topic4\", \"Topic4\", \"Topic4\", \"Topic4\", \"Topic4\", \"Topic4\", \"Topic4\", \"Topic4\", \"Topic4\", \"Topic4\", \"Topic4\", \"Topic4\", \"Topic4\", \"Topic4\", \"Topic4\", \"Topic4\", \"Topic4\", \"Topic4\", \"Topic4\", \"Topic4\", \"Topic4\", \"Topic4\", \"Topic4\", \"Topic4\", \"Topic4\", \"Topic4\", \"Topic4\", \"Topic4\", \"Topic4\", \"Topic4\", \"Topic4\", \"Topic4\", \"Topic4\", \"Topic4\", \"Topic4\", \"Topic4\", \"Topic4\", \"Topic4\", \"Topic4\", \"Topic4\", \"Topic4\", \"Topic4\", \"Topic4\", \"Topic4\", \"Topic4\", \"Topic4\", \"Topic4\", \"Topic4\", \"Topic4\", \"Topic5\", \"Topic5\", \"Topic5\", \"Topic5\", \"Topic5\", \"Topic5\", \"Topic5\", \"Topic5\", \"Topic5\", \"Topic5\", \"Topic5\", \"Topic5\", \"Topic5\", \"Topic5\", \"Topic5\", \"Topic5\", \"Topic5\", \"Topic5\", \"Topic5\", \"Topic5\", \"Topic5\", \"Topic5\", \"Topic5\", \"Topic5\", \"Topic5\", \"Topic5\", \"Topic5\", \"Topic5\", \"Topic5\", \"Topic5\", \"Topic5\", \"Topic5\", \"Topic5\", \"Topic5\", \"Topic5\", \"Topic5\", \"Topic5\", \"Topic5\", \"Topic5\", \"Topic5\", \"Topic5\", \"Topic5\", \"Topic5\", \"Topic5\", \"Topic5\", \"Topic5\", \"Topic5\", \"Topic5\", \"Topic5\", \"Topic6\", \"Topic6\", \"Topic6\", \"Topic6\", \"Topic6\", \"Topic6\", \"Topic6\", \"Topic6\", \"Topic6\", \"Topic6\", \"Topic6\", \"Topic6\", \"Topic6\", \"Topic6\", \"Topic6\", \"Topic6\", \"Topic6\", \"Topic6\", \"Topic6\", \"Topic6\", \"Topic6\", \"Topic6\", \"Topic6\", \"Topic6\", \"Topic6\", \"Topic6\", \"Topic6\", \"Topic6\", \"Topic6\", \"Topic6\", \"Topic6\", \"Topic6\", \"Topic6\", \"Topic6\", \"Topic6\", \"Topic6\", \"Topic6\", \"Topic6\", \"Topic6\", \"Topic6\", \"Topic6\", \"Topic6\", \"Topic6\", \"Topic6\", \"Topic6\", \"Topic7\", \"Topic7\", \"Topic7\", \"Topic7\", \"Topic7\", \"Topic7\", \"Topic7\", \"Topic7\", \"Topic7\", \"Topic7\", \"Topic7\", \"Topic7\", \"Topic7\", \"Topic7\", \"Topic7\", \"Topic7\", \"Topic7\", \"Topic7\", \"Topic7\", \"Topic7\", \"Topic7\", \"Topic7\", \"Topic7\", \"Topic7\", \"Topic7\", \"Topic7\", \"Topic7\", \"Topic7\", \"Topic7\", \"Topic7\", \"Topic7\", \"Topic7\", \"Topic7\", \"Topic7\", \"Topic7\", \"Topic7\", \"Topic7\", \"Topic7\", \"Topic7\", \"Topic7\", \"Topic7\", \"Topic7\", \"Topic7\", \"Topic8\", \"Topic8\", \"Topic8\", \"Topic8\", \"Topic8\", \"Topic8\", \"Topic8\", \"Topic8\", \"Topic8\", \"Topic8\", \"Topic8\", \"Topic8\", \"Topic8\", \"Topic8\", \"Topic8\", \"Topic8\", \"Topic8\", \"Topic8\", \"Topic8\", \"Topic8\", \"Topic8\", \"Topic8\", \"Topic8\", \"Topic8\", \"Topic8\", \"Topic8\", \"Topic8\", \"Topic8\", \"Topic8\", \"Topic8\", \"Topic8\", \"Topic8\", \"Topic8\", \"Topic8\", \"Topic8\", \"Topic8\", \"Topic8\", \"Topic8\", \"Topic8\", \"Topic8\", \"Topic8\", \"Topic8\", \"Topic9\", \"Topic9\", \"Topic9\", \"Topic9\", \"Topic9\", \"Topic9\", \"Topic9\", \"Topic9\", \"Topic9\", \"Topic9\", \"Topic9\", \"Topic9\", \"Topic9\", \"Topic9\", \"Topic9\", \"Topic9\", \"Topic9\", \"Topic9\", \"Topic9\", \"Topic9\", \"Topic9\", \"Topic9\", \"Topic9\", \"Topic9\", \"Topic9\", \"Topic9\", \"Topic9\", \"Topic9\", \"Topic9\", \"Topic9\", \"Topic9\", \"Topic9\", \"Topic9\", \"Topic9\", \"Topic9\", \"Topic9\", \"Topic9\", \"Topic9\", \"Topic9\", \"Topic9\", \"Topic9\", \"Topic10\", \"Topic10\", \"Topic10\", \"Topic10\", \"Topic10\", \"Topic10\", \"Topic10\", \"Topic10\", \"Topic10\", \"Topic10\", \"Topic10\", \"Topic10\", \"Topic10\", \"Topic10\", \"Topic10\", \"Topic10\", \"Topic10\", \"Topic10\", \"Topic10\", \"Topic10\", \"Topic10\", \"Topic10\", \"Topic10\", \"Topic10\", \"Topic10\", \"Topic10\", \"Topic10\", \"Topic10\", \"Topic10\", \"Topic10\", \"Topic10\", \"Topic10\", \"Topic10\", \"Topic10\", \"Topic10\", \"Topic10\", \"Topic10\", \"Topic10\", \"Topic10\", \"Topic10\", \"Topic11\", \"Topic11\", \"Topic11\", \"Topic11\", \"Topic11\", \"Topic11\", \"Topic11\", \"Topic11\", \"Topic11\", \"Topic11\", \"Topic11\", \"Topic11\", \"Topic11\", \"Topic11\", \"Topic11\", \"Topic11\", \"Topic11\", \"Topic11\", \"Topic11\", \"Topic11\", \"Topic11\", \"Topic11\", \"Topic11\", \"Topic11\", \"Topic11\", \"Topic11\", \"Topic11\", \"Topic11\", \"Topic11\", \"Topic11\", \"Topic11\", \"Topic11\", \"Topic11\", \"Topic11\", \"Topic11\", \"Topic11\", \"Topic11\", \"Topic11\", \"Topic11\", \"Topic11\", \"Topic12\", \"Topic12\", \"Topic12\", \"Topic12\", \"Topic12\", \"Topic12\", \"Topic12\", \"Topic12\", \"Topic12\", \"Topic12\", \"Topic12\", \"Topic12\", \"Topic12\", \"Topic12\", \"Topic12\", \"Topic12\", \"Topic12\", \"Topic12\", \"Topic12\", \"Topic12\", \"Topic12\", \"Topic12\", \"Topic12\", \"Topic12\", \"Topic12\", \"Topic12\", \"Topic12\", \"Topic12\", \"Topic12\", \"Topic12\", \"Topic12\", \"Topic12\", \"Topic12\", \"Topic12\", \"Topic12\", \"Topic12\", \"Topic12\", \"Topic13\", \"Topic13\", \"Topic13\", \"Topic13\", \"Topic13\", \"Topic13\", \"Topic13\", \"Topic13\", \"Topic13\", \"Topic13\", \"Topic13\", \"Topic13\", \"Topic13\", \"Topic13\", \"Topic13\", \"Topic13\", \"Topic13\", \"Topic13\", \"Topic13\", \"Topic13\", \"Topic13\", \"Topic13\", \"Topic13\", \"Topic13\", \"Topic13\", \"Topic13\", \"Topic13\", \"Topic13\", \"Topic13\", \"Topic13\", \"Topic13\", \"Topic13\", \"Topic13\", \"Topic13\", \"Topic13\", \"Topic14\", \"Topic14\", \"Topic14\", \"Topic14\", \"Topic14\", \"Topic14\", \"Topic14\", \"Topic14\", \"Topic14\", \"Topic14\", \"Topic14\", \"Topic14\", \"Topic14\", \"Topic14\", \"Topic14\", \"Topic14\", \"Topic14\", \"Topic14\", \"Topic14\", \"Topic14\", \"Topic14\", \"Topic14\", \"Topic14\", \"Topic14\", \"Topic14\", \"Topic14\", \"Topic14\", \"Topic14\", \"Topic14\", \"Topic14\", \"Topic14\", \"Topic14\", \"Topic14\", \"Topic15\", \"Topic15\", \"Topic15\", \"Topic15\", \"Topic15\", \"Topic15\", \"Topic15\", \"Topic15\", \"Topic15\", \"Topic15\", \"Topic15\", \"Topic15\", \"Topic15\", \"Topic15\", \"Topic15\", \"Topic15\", \"Topic15\", \"Topic15\", \"Topic15\", \"Topic15\", \"Topic15\", \"Topic15\", \"Topic15\", \"Topic15\", \"Topic15\", \"Topic15\", \"Topic15\", \"Topic15\", \"Topic15\", \"Topic15\", \"Topic15\", \"Topic15\", \"Topic15\", \"Topic16\", \"Topic16\", \"Topic16\", \"Topic16\", \"Topic16\", \"Topic16\", \"Topic16\", \"Topic16\", \"Topic16\", \"Topic16\", \"Topic16\", \"Topic16\", \"Topic16\", \"Topic16\", \"Topic16\", \"Topic16\", \"Topic16\", \"Topic16\", \"Topic16\", \"Topic16\", \"Topic16\", \"Topic16\", \"Topic16\", \"Topic16\", \"Topic16\", \"Topic16\", \"Topic16\", \"Topic16\", \"Topic16\", \"Topic16\", \"Topic16\", \"Topic16\", \"Topic16\", \"Topic16\", \"Topic17\", \"Topic17\", \"Topic17\", \"Topic17\", \"Topic17\", \"Topic17\", \"Topic17\", \"Topic17\", \"Topic17\", \"Topic17\", \"Topic17\", \"Topic17\", \"Topic17\", \"Topic17\", \"Topic17\", \"Topic17\", \"Topic17\", \"Topic17\", \"Topic17\", \"Topic17\", \"Topic17\", \"Topic17\", \"Topic17\", \"Topic17\", \"Topic17\", \"Topic17\", \"Topic17\", \"Topic17\", \"Topic17\", \"Topic17\", \"Topic17\", \"Topic17\", \"Topic17\", \"Topic17\", \"Topic17\", \"Topic17\", \"Topic17\", \"Topic17\", \"Topic17\", \"Topic17\", \"Topic17\", \"Topic17\", \"Topic17\", \"Topic17\", \"Topic17\", \"Topic17\", \"Topic17\", \"Topic17\", \"Topic17\", \"Topic18\", \"Topic18\", \"Topic18\", \"Topic18\", \"Topic18\", \"Topic18\", \"Topic18\", \"Topic18\", \"Topic18\", \"Topic18\", \"Topic18\", \"Topic18\", \"Topic18\", \"Topic18\", \"Topic18\", \"Topic18\", \"Topic18\", \"Topic18\", \"Topic18\", \"Topic18\", \"Topic18\", \"Topic18\", \"Topic18\", \"Topic18\", \"Topic18\", \"Topic18\", \"Topic18\", \"Topic18\", \"Topic18\", \"Topic18\", \"Topic18\", \"Topic18\", \"Topic18\", \"Topic18\", \"Topic18\", \"Topic18\", \"Topic18\", \"Topic18\", \"Topic18\", \"Topic18\", \"Topic18\", \"Topic18\", \"Topic18\", \"Topic18\", \"Topic18\", \"Topic18\", \"Topic19\", \"Topic19\", \"Topic19\", \"Topic19\", \"Topic19\", \"Topic19\", \"Topic19\", \"Topic19\", \"Topic19\", \"Topic19\", \"Topic19\", \"Topic19\", \"Topic19\", \"Topic19\", \"Topic19\", \"Topic19\", \"Topic19\", \"Topic19\", \"Topic19\", \"Topic19\", \"Topic19\", \"Topic19\", \"Topic19\", \"Topic19\", \"Topic19\", \"Topic19\", \"Topic19\", \"Topic19\", \"Topic19\", \"Topic19\", \"Topic19\", \"Topic19\", \"Topic19\", \"Topic19\", \"Topic19\", \"Topic19\", \"Topic19\", \"Topic19\", \"Topic19\", \"Topic19\", \"Topic19\", \"Topic19\", \"Topic19\", \"Topic19\", \"Topic19\", \"Topic19\", \"Topic19\", \"Topic19\", \"Topic19\", \"Topic19\", \"Topic19\", \"Topic19\", \"Topic19\", \"Topic19\", \"Topic19\", \"Topic19\", \"Topic19\", \"Topic19\", \"Topic19\", \"Topic19\", \"Topic20\", \"Topic20\", \"Topic20\", \"Topic20\", \"Topic20\", \"Topic20\", \"Topic20\", \"Topic20\", \"Topic20\", \"Topic20\", \"Topic20\", \"Topic20\", \"Topic20\", \"Topic20\", \"Topic20\", \"Topic20\", \"Topic20\", \"Topic20\", \"Topic20\", \"Topic20\", \"Topic20\", \"Topic20\", \"Topic20\", \"Topic20\", \"Topic20\", \"Topic20\", \"Topic20\", \"Topic20\", \"Topic20\", \"Topic20\", \"Topic20\", \"Topic20\", \"Topic20\", \"Topic20\", \"Topic20\", \"Topic20\", \"Topic20\", \"Topic20\", \"Topic20\", \"Topic20\", \"Topic20\", \"Topic20\", \"Topic20\", \"Topic20\", \"Topic20\", \"Topic20\", \"Topic20\", \"Topic20\", \"Topic20\", \"Topic20\", \"Topic20\", \"Topic20\", \"Topic20\", \"Topic20\", \"Topic20\", \"Topic20\", \"Topic20\", \"Topic20\", \"Topic20\", \"Topic20\"], \"logprob\": [30.0, 29.0, 28.0, 27.0, 26.0, 25.0, 24.0, 23.0, 22.0, 21.0, 20.0, 19.0, 18.0, 17.0, 16.0, 15.0, 14.0, 13.0, 12.0, 11.0, 10.0, 9.0, 8.0, 7.0, 6.0, 5.0, 4.0, 3.0, 2.0, 1.0, -2.4423, -2.8888, -3.473, -2.8601, -3.7069, -3.9426, -4.1282, -4.3374, -4.561, -4.6222, -4.8332, -4.9464, -4.9525, -5.0354, -5.0426, -5.0432, -5.1175, -5.1417, -5.1423, -5.2248, -5.2335, -5.2335, -5.2696, -5.2794, -2.6185, -5.4179, -3.6413, -3.0927, -5.553, -5.5647, -3.6908, -5.2326, -2.8456, -4.1551, -4.868, -4.5761, -4.6248, -5.0516, -4.8892, -4.8792, -5.0655, -5.0892, -4.5884, -4.6256, -4.7475, -4.7764, -4.7764, -4.7764, -4.8062, -4.8062, -4.8062, -4.8062, -4.9719, -4.9719, -4.9899, -5.0269, -5.2616, -5.2616, -5.2616, -5.2616, -5.2616, -5.2616, -5.2616, -5.2616, -5.2616, -5.2616, -5.2616, -5.2616, -5.2857, -5.2857, -5.2857, -5.2857, -4.8105, -5.0082, -5.079, -5.1068, -4.2515, -4.3225, -4.3853, -4.5155, -4.5155, -4.528, -4.5407, -4.5407, -4.7237, -4.9289, -4.9479, -4.0577, -5.1874, -5.1874, -3.9589, -5.2373, -5.2373, -5.2373, -5.2373, -5.2373, -5.2373, -5.2861, -4.2841, -4.2841, -4.2841, -4.2841, -5.5745, -5.6085, -5.6085, -5.6085, -4.9287, -3.9146, -4.3588, -4.4773, -3.9904, -4.0756, -3.971, -4.5431, -3.7039, -3.8542, -4.3461, -4.6839, -4.3612, -3.654, -4.4149, -4.4807, -4.5895, -4.6548, -4.6148, -3.7021, -4.194, -4.4334, -4.636, -4.6651, -4.8528, -4.8714, -4.8904, -4.8904, -5.1299, -5.1299, -5.1545, -5.178, -5.178, -5.178, -5.1798, -5.1798, -5.2286, -5.2286, -5.2286, -5.2286, -4.5369, -5.551, -5.551, -5.551, -5.551, -5.551, -5.551, -5.5888, -5.5888, -4.9453, -4.9172, -4.1642, -4.8346, -4.8704, -4.9324, -4.6069, -4.9014, -3.9425, -4.7286, -4.6627, -4.6599, -4.1276, -4.1506, -4.8462, -4.8539, -4.5743, -4.821, -4.1297, -4.9705, -4.7559, -4.5829, -4.9201, -3.8531, -3.9167, -3.9375, -3.9523, -4.0798, -4.1708, -4.4631, -4.4631, -4.4631, -4.6561, -4.6561, -4.6702, -4.6713, -4.8395, -4.8578, -4.8751, -4.8751, -4.9318, -5.089, -5.1349, -5.1596, -5.1596, -5.1596, -5.1596, -5.1849, -5.1849, -5.209, -5.209, -5.209, -5.209, -4.6504, -3.4941, -3.7763, -4.754, -3.8668, -3.9193, -4.7244, -4.2628, -4.8442, -4.4322, -4.4186, -4.0811, -4.5399, -4.5401, -4.5795, -4.6088, -4.4868, -4.6559, -4.7394, -3.5381, -3.7591, -3.8794, -4.2381, -4.2381, -4.2481, -4.4125, -4.5524, -4.656, -4.7839, -4.8026, -4.8202, -4.8216, -4.8216, -4.8578, -3.4723, -3.8991, -5.111, -5.111, -5.111, -5.1351, -5.1351, -5.1351, -5.4821, -3.85, -5.5199, -5.5199, -5.5199, -5.5199, -5.5199, -4.6103, -4.2592, -3.5334, -4.1271, -4.6272, -4.3618, -3.6711, -4.2695, -4.3815, -4.1199, -4.6149, -4.5355, -4.6607, -4.5586, -4.797, -3.6142, -3.9161, -4.0041, -4.0412, -4.1821, -4.3989, -4.676, -4.7006, -4.7241, -4.7259, -4.75, -4.0779, -5.0971, -5.0971, -5.0971, -5.0971, -5.1349, -5.1349, -5.1349, -5.1714, -5.1714, -5.1714, -5.1714, -2.5392, -5.6985, -5.6985, -4.2265, -4.4175, -5.8386, -5.8386, -2.1585, -4.774, -3.2097, -3.3137, -3.7746, -3.6866, -4.1007, -4.1286, -4.3815, -4.2741, -4.0926, -4.6378, -4.886, -3.7587, -3.8312, -4.0081, -4.1022, -4.104, -4.4752, -4.4752, -4.4752, -4.4752, -3.856, -4.513, -4.513, -4.513, -4.513, -4.513, -4.1107, -5.0767, -5.0767, -5.0767, -5.0767, -5.0767, -5.0767, -5.0767, -5.0767, -5.0767, -5.0767, -5.0767, -5.0767, -5.0767, -5.0767, -3.7662, -3.8136, -3.884, -4.2022, -3.7309, -3.8708, -4.6844, -4.421, -4.3043, -4.6654, -4.9645, -5.0465, -3.5138, -3.9627, -4.0087, -4.0827, -4.3606, -4.4298, -4.4298, -4.4298, -4.4676, -4.5041, -4.3289, -5.0313, -5.0313, -5.0313, -5.0313, -5.0313, -5.0313, -5.0313, -5.0313, -5.0313, -5.0313, -5.0313, -5.0313, -5.0313, -5.0313, -5.0313, -5.0313, -5.0313, -5.0313, -5.0313, -4.0357, -4.4394, -3.3447, -4.5041, -4.468, -4.4675, -4.6024, -4.3685, -4.229, -4.7185, -5.0313, -3.4554, -3.6798, -3.7524, -3.9695, -3.9936, -4.379, -4.379, -4.4156, -4.4156, -4.4156, -4.0509, -5.0144, -5.0846, -5.0846, -5.0846, -5.0846, -5.0846, -5.0846, -5.0846, -5.0846, -5.0846, -5.0846, -5.0846, -5.0846, -5.0846, -5.0846, -5.0846, -5.0846, -5.0846, -5.0846, -2.567, -3.6327, -4.4156, -4.4156, -4.0592, -4.7383, -4.943, -4.8926, -5.0846, -5.0846, -3.9265, -3.9971, -4.3936, -3.4622, -4.995, -4.995, -4.995, -4.995, -4.995, -4.995, -4.995, -4.995, -4.995, -4.995, -4.995, -4.995, -4.995, -4.995, -4.995, -4.995, -4.995, -4.995, -4.995, -4.995, -4.995, -4.995, -4.995, -4.995, -4.995, -4.995, -3.7858, -4.3748, -3.9971, -4.0206, -4.5084, -4.7058, -4.5955, -4.7439, -4.8955, -4.8792, -3.1975, -3.2455, -3.6168, -3.9186, -4.2459, -4.3529, -4.3529, -4.3894, -4.9165, -4.9165, -4.9165, -4.9165, -4.9165, -4.9165, -4.9165, -4.9165, -4.9165, -4.9165, -4.9165, -4.9165, -4.9165, -4.9165, -4.9165, -4.9165, -4.9165, -4.9165, -4.9165, -4.9165, -4.9165, -4.9165, -2.9242, -4.0511, -4.4427, -4.4819, -4.5736, -4.8297, -4.7709, -3.08, -3.4123, -3.4269, -3.6401, -3.8863, -3.9603, -4.3205, -3.2014, -4.9543, -3.7475, -5.0243, -5.0243, -5.0243, -5.0243, -5.0243, -5.0243, -5.0243, -5.0243, -5.0121, -3.6002, -3.7375, -4.3094, -4.8405, -4.1531, -5.0047, -4.9529, -4.955, -4.8061, -5.0271, -4.3512, -3.9705, -4.7043, -4.7114, -4.8263, -4.8965, -3.0633, -3.7488, -3.7488, -4.1466, -4.1466, -4.1466, -4.1466, -4.1466, -4.8173, -4.8173, -4.8173, -4.8173, -4.8173, -4.8173, -4.8173, -4.8173, -4.8173, -4.8173, -4.8173, -4.8173, -4.8173, -4.8173, -4.8173, -4.8173, -4.8173, -4.8173, -4.8173, -4.8173, -4.8173, -4.8173, -4.8173, -4.8173, -4.8173, -3.2945, -2.2966, -4.1101, -4.1454, -4.1827, -4.7808, -4.7808, -4.7808, -4.7808, -4.7808, -4.7808, -4.7808, -4.7808, -4.7808, -4.7808, -4.7808, -4.7808, -4.8509, -4.8509, -4.8509, -4.8509, -4.8509, -4.8509, -4.8509, -4.8509, -4.8509, -4.8509, -4.8509, -4.8509, -4.8509, -4.7808, -4.7693, -4.7617, -3.6506, -4.0485, -4.0485, -4.0485, -4.7191, -4.7191, -4.7191, -4.7191, -4.7191, -4.7191, -4.7191, -4.7191, -4.7191, -4.7191, -4.7191, -4.7191, -4.7191, -4.7191, -4.7191, -4.7191, -4.7191, -4.7191, -4.7191, -4.7191, -4.7191, -4.7191, -4.7191, -4.7191, -4.7191, -4.7191, -3.5132, -4.7191, -4.7191, -4.7191, -2.6058, -3.0584, -3.9103, -4.5457, -4.5457, -4.6158, -2.8513, -3.9468, -4.2415, -3.5801, -4.5849, -7.6586, -7.6586, -7.6586, -7.6586, -7.6586, -7.6586, -7.6586, -7.6586, -7.6586, -7.6586, -7.6586, -7.6586, -7.6586, -7.6586, -7.6586, -7.6586, -7.6586, -7.6586, -7.6586, -7.6586, -7.6586, -7.6586, -7.6586, -7.6586, -7.6586, -7.6586, -7.6586, -7.6586, -7.6586, -7.6586, -7.6586, -7.6586, -7.6586, -7.6586, -7.6586, -7.6586, -7.6586, -7.6586, -3.3922, -4.4585, -4.4585, -4.4585, -4.4585, -4.4585, -4.4585, -4.4585, -4.4585, -4.4585, -4.4585, -4.4585, -4.4586, -4.4585, -7.5013, -7.5013, -7.5013, -7.5013, -7.5013, -7.5013, -7.5013, -7.5013, -7.5013, -7.5013, -7.5013, -7.5013, -7.5013, -7.5013, -7.5013, -7.5013, -7.5013, -7.5013, -7.5013, -7.5013, -7.5013, -7.5013, -7.5013, -7.5013, -7.5013, -7.5013, -7.5013, -7.5013, -7.5013, -7.5013, -7.5013, -7.5013, -7.3072, -7.3072, -7.3072, -7.3072, -7.3072, -7.3072, -7.3072, -7.3072, -7.3072, -7.3072, -7.3072, -7.3072, -7.3072, -7.3072, -7.3072, -7.3072, -7.3072, -7.3072, -7.3072, -7.3072, -7.3072, -7.3072, -7.3072, -7.3072, -7.3072, -7.3072, -7.3072, -7.3072, -7.3072, -7.3072, -7.3072, -7.3072, -7.3072, -7.3072, -7.3072, -7.3072, -7.3072, -7.3072, -7.3072, -7.3072, -7.3072, -7.3072, -7.3072, -7.3072, -7.3072, -7.3072, -7.3072, -7.3072, -7.3072, -7.3072, -7.3072, -7.3072, -7.3072, -7.3072, -7.3072, -7.3072, -7.3072, -7.3072, -7.3072, -7.3072, -7.3072, -7.3072, -7.3072, -7.3072, -7.3072, -7.3072, -7.3072, -7.3072, -7.3072, -7.3072, -7.3072, -7.3072, -7.3072, -7.3072, -7.3072, -7.3072, -7.3072, -7.3072, -7.3072, -7.3072, -7.3072, -7.3072, -7.3072, -7.3072, -7.3072, -7.3072, -7.3072, -7.3072, -7.3072, -7.3072, -7.3072, -7.3072, -7.3072, -7.3072, -7.3072, -7.3072, -7.3072, -7.3072, -7.3072, -7.3072, -7.3072, -7.3072, -7.3072, -7.3072, -7.3072, -7.3072, -7.3072, -7.3072, -7.3072, -7.3072, -7.3072, -7.3072, -7.3072, -7.3072, -7.3072, -7.3072, -7.3072, -7.3072, -7.3072, -7.3072], \"loglift\": [30.0, 29.0, 28.0, 27.0, 26.0, 25.0, 24.0, 23.0, 22.0, 21.0, 20.0, 19.0, 18.0, 17.0, 16.0, 15.0, 14.0, 13.0, 12.0, 11.0, 10.0, 9.0, 8.0, 7.0, 6.0, 5.0, 4.0, 3.0, 2.0, 1.0, 1.2005, 1.1983, 1.1934, 1.1908, 1.1905, 1.1868, 1.1832, 1.1783, 1.1718, 1.1698, 1.1618, 1.1568, 1.1565, 1.1525, 1.1521, 1.1521, 1.1482, 1.1468, 1.1468, 1.142, 1.1415, 1.1415, 1.1392, 1.1386, 1.1295, 1.1292, 1.1285, 1.1266, 1.1185, 1.1178, 1.0792, 1.0989, 0.943, 1.0238, 0.9421, 0.4779, -0.0629, 0.771, 0.3998, -0.084, 0.7086, 0.7955, 2.1236, 2.1204, 2.1088, 2.1059, 2.1059, 2.1059, 2.1028, 2.1028, 2.1028, 2.1028, 2.084, 2.084, 2.0818, 2.0772, 2.0439, 2.0439, 2.0439, 2.0439, 2.0439, 2.0439, 2.0439, 2.0439, 2.0439, 2.0439, 2.0439, 2.0439, 2.0401, 2.0401, 2.0401, 2.0401, 2.0103, 1.9537, 1.8841, 1.429, 2.2156, 2.2106, 2.206, 2.1954, 2.1954, 2.1943, 2.1932, 2.1932, 2.1757, 2.1523, 2.1499, 2.1329, 2.1161, 2.1161, 2.1154, 2.1082, 2.1082, 2.1082, 2.1082, 2.1082, 2.1082, 2.1001, 2.0807, 2.0807, 2.0807, 2.0807, 2.0451, 2.0377, 2.0377, 2.0377, 2.0355, 2.0138, 2.0015, 1.9999, 1.9739, 1.9324, 1.871, 1.9389, 1.6356, 1.5514, 1.7472, 1.8022, 1.5427, 0.1346, 1.2344, 1.2127, 1.3323, 1.1193, -0.3956, 2.2892, 2.2629, 2.245, 2.2265, 2.2235, 2.2025, 2.2003, 2.1979, 2.1979, 2.1645, 2.1645, 2.1607, 2.1569, 2.1569, 2.1569, 2.1566, 2.1566, 2.1486, 2.1486, 2.1486, 2.1486, 2.0945, 2.0869, 2.0869, 2.0869, 2.0869, 2.0869, 2.0869, 2.0785, 2.0785, 2.0458, 2.0437, 1.9297, 2.0045, 1.9944, 1.9697, 1.8598, 1.9292, 1.5661, 1.8602, 1.6174, 1.6111, 1.0016, 0.9034, 1.7443, 1.735, 1.2261, 1.5953, -0.3411, 1.7157, 0.9612, 0.2123, 0.9219, 2.294, 2.2908, 2.2897, 2.2889, 2.2816, 2.2759, 2.2537, 2.2537, 2.2537, 2.2354, 2.2354, 2.2339, 2.2338, 2.2148, 2.2126, 2.2104, 2.2104, 2.2031, 2.181, 2.1739, 2.17, 2.17, 2.17, 2.17, 2.1659, 2.1659, 2.1619, 2.1619, 2.1619, 2.1619, 2.0826, 1.6352, 1.5632, 1.9325, 1.4222, 1.4325, 1.8668, 1.4543, 1.8459, 1.3123, 1.2748, 0.7141, 1.3784, 1.3638, 1.424, 1.3919, 0.5672, 1.1223, 1.1454, 2.3861, 2.3764, 2.3703, 2.3471, 2.3471, 2.3463, 2.3327, 2.3194, 2.3084, 2.2934, 2.291, 2.2888, 2.2886, 2.2886, 2.2839, 2.2807, 2.2601, 2.2464, 2.2464, 2.2464, 2.2424, 2.2424, 2.2424, 2.175, 2.1669, 2.1665, 2.1665, 2.1665, 2.1665, 2.1665, 2.1206, 2.0179, 1.898, 1.8736, 1.8331, 1.7221, 1.1241, 1.5087, 1.4992, 1.1246, 1.6561, 1.5303, 0.5183, -0.8106, 1.6858, 2.8476, 2.824, 2.8158, 2.8122, 2.7971, 2.77, 2.727, 2.7227, 2.7185, 2.7181, 2.7137, 2.6566, 2.6399, 2.6399, 2.6399, 2.6399, 2.6306, 2.6306, 2.6306, 2.6214, 2.6214, 2.6214, 2.6214, 2.5882, 2.4575, 2.4575, 2.4399, 2.408, 2.4035, 2.4035, 2.4034, 2.4, 2.0349, 2.0381, 1.8747, 1.4426, 1.6997, 1.5648, 1.7963, 1.5987, 0.6774, 1.0792, 0.403, 3.642, 3.6288, 3.5932, 3.5721, 3.5716, 3.4722, 3.4722, 3.4722, 3.4722, 3.4626, 3.4605, 3.4605, 3.4605, 3.4605, 3.4605, 3.2533, 3.2476, 3.2476, 3.2476, 3.2476, 3.2476, 3.2476, 3.2476, 3.2476, 3.2476, 3.2476, 3.2476, 3.2476, 3.2476, 3.2476, 3.1706, 2.9339, 2.8675, 2.8738, 2.5223, 2.5959, 2.9031, 2.4097, 2.2441, 1.4284, 2.4508, 1.9144, 3.7424, 3.6592, 3.6489, 3.6314, 3.5567, 3.5357, 3.5357, 3.5357, 3.5238, 3.512, 3.3195, 3.3071, 3.3071, 3.3071, 3.3071, 3.3071, 3.3071, 3.3071, 3.3071, 3.3071, 3.3071, 3.3071, 3.3071, 3.3071, 3.3071, 3.3071, 3.3071, 3.3071, 3.3071, 3.3071, 2.7302, 2.6109, 1.2172, 2.514, 2.3765, 2.2191, 2.3431, 0.4013, -0.4404, 1.2032, 2.9755, 3.7971, 3.7593, 3.7455, 3.6992, 3.6936, 3.5883, 3.5883, 3.5767, 3.5767, 3.5767, 3.3592, 3.3434, 3.3104, 3.3104, 3.3104, 3.3104, 3.3104, 3.3104, 3.3104, 3.3104, 3.3104, 3.3104, 3.3104, 3.3104, 3.3104, 3.3104, 3.3104, 3.3104, 3.3104, 3.3104, 2.6776, 2.5824, 2.8659, 2.8604, 2.3011, 2.2249, 2.2392, 0.5129, 2.9167, 2.9167, 3.7447, 3.7278, 3.615, 3.3903, 3.3767, 3.3767, 3.3767, 3.3767, 3.3767, 3.3767, 3.3767, 3.3767, 3.3767, 3.3767, 3.3767, 3.3767, 3.3767, 3.3767, 3.3767, 3.3767, 3.3767, 3.3767, 3.3767, 3.3767, 3.3767, 3.3767, 3.3767, 3.3767, 3.3767, 3.3767, 3.0318, 3.1878, 2.8285, 2.8284, 2.3307, 1.36, -0.0336, 0.0513, 1.3301, -0.8283, 3.985, 3.978, 3.9131, 3.8441, 3.7497, 3.7139, 3.7139, 3.7011, 3.481, 3.481, 3.481, 3.481, 3.481, 3.481, 3.481, 3.481, 3.481, 3.481, 3.481, 3.481, 3.481, 3.481, 3.481, 3.481, 3.481, 3.481, 3.481, 3.481, 3.481, 3.481, 3.2075, 3.32, 3.0517, 3.0558, 2.9966, 2.1157, 0.6346, 4.0237, 3.9729, 3.9703, 3.929, 3.8719, 3.8526, 3.7423, 3.6476, 3.4759, 3.4636, 3.4404, 3.4404, 3.4404, 3.4404, 3.4404, 3.4404, 3.4404, 3.4404, 2.8625, 2.7719, 2.4881, 2.434, 2.386, 2.3329, 2.3139, 2.2807, 2.0092, 1.8813, 1.6544, 1.5526, 1.3184, 1.2139, 0.0838, 0.8907, 0.5348, 4.2511, 4.1008, 4.1008, 3.9721, 3.9721, 3.9721, 3.9721, 3.9721, 3.6707, 3.6707, 3.6707, 3.6707, 3.6707, 3.6707, 3.6707, 3.6707, 3.6707, 3.6707, 3.6707, 3.6707, 3.6707, 3.6707, 3.6707, 3.6707, 3.6707, 3.6707, 3.6707, 3.6707, 3.6707, 3.6707, 3.1957, 3.1854, 3.2197, 4.2209, 4.0755, 3.9949, 3.982, 3.9669, 3.6973, 3.6973, 3.6973, 3.6973, 3.6973, 3.6973, 3.6973, 3.6973, 3.6973, 3.6973, 3.6973, 3.6973, 3.6597, 3.6597, 3.6597, 3.6597, 3.6597, 3.6597, 3.6597, 3.6597, 3.6597, 3.6597, 3.6597, 3.6597, 3.6597, 3.226, 2.717, 2.0591, 4.2695, 4.1315, 4.1315, 4.1315, 3.8128, 3.8128, 3.8128, 3.8128, 3.8128, 3.8128, 3.8128, 3.8128, 3.8128, 3.8128, 3.8128, 3.8128, 3.8128, 3.8128, 3.8128, 3.8128, 3.8128, 3.8128, 3.8128, 3.8128, 3.8128, 3.8128, 3.8128, 3.8128, 3.8128, 3.8128, 2.5707, 3.3104, 3.3456, 3.3104, 4.8166, 4.7157, 4.4125, 4.0725, 4.0725, 4.0289, 3.8151, 3.0443, 2.445, 2.2619, 2.1626, 1.1421, 1.1421, 1.1421, 1.1421, 1.1421, 1.1421, 1.1421, 1.1421, 1.1421, 1.1421, 0.9327, 0.9327, 0.8833, 0.8833, 0.8833, 0.8733, 0.8733, 0.8733, 0.8733, -0.401, -0.8023, 0.0996, -0.1607, -0.8798, -1.2607, 0.0663, -0.6977, -0.4847, -0.401, -1.5496, -0.2614, -1.7369, -1.4995, -0.6302, 0.4839, 0.4839, 0.4839, 0.4839, 5.0115, 4.3422, 4.3422, 4.3422, 4.3422, 4.3422, 4.3422, 4.3422, 4.3422, 4.3422, 4.3422, 3.5652, 2.1303, 2.0081, 1.1434, 1.1168, 1.1168, 1.09, 1.09, 1.0406, 1.0406, 1.0406, 1.0306, 1.0306, 1.0306, 1.0306, 1.0306, 1.0306, 1.0306, 1.0306, 0.2236, -0.3912, -0.144, -0.3596, -1.0194, -0.4409, -0.8349, -0.2437, -0.7674, -0.7674, -0.4729, -0.0034, -0.0912, -2.2567, -1.2481, -2.9394, 1.4935, 1.4935, 1.4935, 1.4935, 1.4935, 1.4935, 1.4935, 1.4935, 1.4935, 1.4935, 1.3375, 1.3109, 1.3109, 1.2842, 1.2842, 1.2347, 1.2347, 1.2347, 1.2247, 1.2247, 1.2247, 1.2247, 1.2247, 1.2247, 1.2247, 1.2247, 1.2247, 1.2247, 1.2247, 1.2247, 0.1907, 0.1029, -2.0626, -1.054, -2.7453, -0.5557, 0.4856, 1.0924, -0.5727, 1.0924, 0.6663, 1.0924, -0.7898, 0.3792, 0.0659, 0.8731, -0.2137, 0.3792, 0.8731, 0.8731, -1.2902, -1.4971, 0.8731, 0.8731, -0.0838, -0.1971, 0.8731, 0.8731, 0.8731, -1.3065, 1.4935, 1.4935, 1.4935, 1.4935, 1.4935, 1.4935, 1.4935, 1.4935, 1.4935, 1.4935, 1.3375, 1.3109, 1.3109, 1.2842, 1.2842, 1.2347, 1.2347, 1.2347, 1.2247, 1.2247, 1.2247, 1.2247, 1.2247, 1.2247, 1.2247, 1.2247, 1.2247, 1.2247, 1.2247, 1.2247, 0.1907, 0.1029, -2.0626, -1.054, -2.7453, -0.5557, 0.4856, 1.0924, -0.5727, 1.0924, 0.6663, 1.0924, -0.7898, 0.3792, 0.0659, 0.8731, -0.2137, 0.3792, 0.8731, 0.8731, -1.2902, -1.4971, 0.8731, 0.8731, -0.0838, -0.1971, 0.8731, 0.8731, 0.8731, -1.3065]}, \"token.table\": {\"Topic\": [2, 7, 11, 1, 1, 5, 2, 7, 4, 3, 5, 1, 4, 8, 1, 6, 13, 4, 5, 6, 5, 6, 6, 10, 7, 9, 1, 3, 5, 10, 12, 1, 6, 8, 8, 4, 14, 3, 6, 8, 11, 14, 5, 6, 7, 8, 9, 11, 8, 2, 9, 4, 1, 7, 9, 3, 1, 2, 4, 6, 1, 5, 13, 1, 6, 7, 9, 11, 7, 1, 3, 9, 8, 6, 8, 9, 12, 6, 5, 8, 9, 2, 12, 11, 10, 5, 13, 15, 2, 8, 10, 12, 6, 2, 7, 6, 3, 2, 1, 4, 13, 2, 11, 3, 6, 5, 10, 3, 6, 12, 1, 6, 17, 7, 1, 3, 13, 9, 5, 9, 2, 1, 3, 10, 6, 11, 2, 6, 11, 3, 9, 5, 4, 9, 6, 1, 5, 7, 13, 1, 6, 7, 11, 7, 2, 8, 11, 8, 3, 12, 8, 12, 11, 1, 12, 1, 3, 2, 9, 13, 3, 1, 9, 4, 5, 13, 4, 6, 6, 2, 5, 2, 7, 12, 5, 12, 4, 4, 9, 6, 12, 4, 17, 9, 1, 6, 1, 2, 6, 2, 5, 6, 2, 3, 10, 10, 11, 12, 2, 4, 11, 12, 3, 6, 13, 14, 5, 3, 12, 5, 12, 5, 7, 8, 3, 5, 6, 12, 2, 3, 5, 7, 11, 9, 1, 5, 6, 6, 8, 5, 11, 3, 4, 2, 10, 1, 4, 5, 6, 1, 7, 4, 8, 1, 6, 11, 6, 11, 10, 9, 11, 1, 9, 1, 2, 9, 4, 6, 8, 4, 6, 12, 3, 5, 13, 12, 3, 10, 4, 5, 6, 7, 13, 11, 1, 6, 4, 5, 7, 2, 3, 3, 5, 11, 13, 13, 7, 1, 10, 7, 4, 4, 10, 11, 1, 1, 12, 11, 1, 5, 6, 1, 16, 2, 8, 9, 11, 3, 3, 4, 2, 10, 4, 4, 5, 1, 16, 11, 8, 2, 1, 2, 11, 6, 7, 7, 3, 3, 7, 3, 11, 8, 3, 7, 12, 1, 11, 13, 11, 2, 6, 9, 2, 9, 4, 4, 5, 8, 3, 4, 13, 11, 1, 4, 8, 8, 5, 6, 4, 8, 5, 1, 4, 18, 4, 12, 7, 3, 6, 5, 7, 5, 1, 11, 1, 4, 5, 9, 12, 10, 4, 1, 3, 1, 3, 4, 5, 6, 11, 13, 1, 10, 3, 5, 6, 3, 1, 8, 16, 1, 12, 5, 8, 5, 1, 2, 8, 15, 3, 6, 2, 4, 8, 6, 11, 13, 8, 3, 6, 2, 3, 13, 10, 5, 7, 10, 3, 5, 6, 11, 1, 10, 7, 12, 9, 6, 14, 6, 7, 1, 4, 10, 3, 13, 6, 12, 5, 1, 1, 3, 4, 6, 9, 3, 5, 10, 8, 15, 8, 4, 2, 2, 10, 1, 3, 9, 10, 3, 5, 9, 14, 3, 5, 8, 8, 4, 1, 7, 5, 6, 16, 13, 4, 11, 2, 2, 2, 7, 17, 6, 17, 12, 1, 7, 13, 10, 1, 5, 4, 1, 12, 2, 4, 12, 4, 6, 13, 10, 7, 3, 6, 6, 6, 6, 3, 10, 12, 3, 12, 3, 8, 9, 11, 1, 6, 14, 1, 10, 11, 6, 7, 1, 7, 4, 8, 8, 8, 4, 7, 10, 1, 6, 13, 3, 1, 11, 6, 11, 1, 3, 4, 5, 6, 10, 10, 12, 4, 10, 3, 4, 17, 5, 2, 8, 2, 3, 9, 10, 11, 3, 5, 4, 6, 9, 4, 9, 3, 9, 3, 9, 12, 2, 10, 3, 13, 12, 6, 12, 12, 12, 15, 8, 9, 11, 1, 3, 5, 5, 1, 6, 11, 4, 3, 9, 1, 3, 5, 3, 5, 14, 7, 17, 4, 6, 11, 9, 10, 12, 4, 11, 4, 6, 7, 9, 10, 3, 5, 7, 13, 4, 4, 7, 10, 4, 5, 6, 7, 3, 1, 5, 3, 6, 8, 1, 3, 7, 1, 4, 5, 3, 4, 7, 1, 4, 6, 6, 7, 14, 10, 11, 16, 12, 8, 2, 4, 8, 4, 8, 11, 8, 13, 3, 9, 8, 10, 4, 6, 11, 1, 3, 5, 6, 1, 3, 6, 7, 2, 11, 9, 8, 1, 4, 7, 4, 5, 6, 10, 4, 1, 1, 1, 3, 4, 5, 5, 15, 8, 3, 4, 5, 6, 11, 9, 9, 3, 5, 8, 1, 6, 10, 2, 10, 1, 7, 5, 1, 5, 5, 4, 5, 6, 7, 5, 5, 9, 3, 5, 6, 7, 7], \"Freq\": [0.915442702637584, 0.5664658321878342, 0.3776438881252228, 0.9708823894337881, 0.6633038570317165, 0.29480171423631846, 0.7994416103394208, 0.7149178272163739, 0.982256903598838, 0.6669228482983426, 0.25009606811187846, 0.28623712379721766, 0.42935568569582655, 0.14311856189860883, 0.17178340593128322, 0.6871336237251329, 0.7481672865699485, 0.1387537041336871, 0.4162611124010613, 0.4162611124010613, 0.8834586025150604, 0.8674370118964632, 0.893238330338898, 0.6974906880517593, 0.49672438031909866, 0.590359030384707, 0.2738485160143862, 0.5020556126930414, 0.18256567734292414, 0.045641419335731036, 0.045641419335731036, 0.42614828338722105, 0.21307414169361052, 0.3196112125404158, 0.8451733337215188, 0.9660520076960103, 0.6881193436787906, 0.3264654773191238, 0.6529309546382476, 0.8451733337215188, 0.8862965419269587, 0.9235879959823513, 0.9773203533162513, 0.7318174371947326, 0.4045617811671087, 0.4045617811671087, 0.8571923039719452, 0.8862965419269587, 0.8451733337215188, 0.9154427009631797, 0.6058518695887023, 0.9822569044873697, 0.8726491484889223, 0.9667407000324475, 0.6152519726943007, 0.9527976914249376, 0.988458363414659, 0.9342243480438409, 0.7405045901573148, 0.24683486338577162, 0.533471657742494, 0.38105118410178146, 0.07621023682035628, 0.27484566176285363, 0.019631832983060975, 0.5889549894918292, 0.058895498949182924, 0.019631832983060975, 0.9667407018446416, 0.9184112466771089, 0.024168717017818656, 0.024168717017818656, 0.8836868379913158, 0.4220605312050659, 0.4220605312050659, 0.42996538008838947, 0.42996538008838947, 0.8932383314153373, 0.526043761050774, 0.35069584070051596, 0.8571923039719452, 0.915442704276732, 0.9093669810382429, 0.8862964771924244, 0.9071278841028305, 0.8178195199738657, 0.23997733051674516, 0.7199319915502355, 0.9154427019978695, 0.8451733337215188, 0.6064256378997109, 0.9640802871391111, 0.7318174371947326, 0.8210641330408682, 0.9667407000324475, 0.7318174371947326, 0.8580111491439918, 0.9342243480438409, 0.8173988812447093, 0.5390620442411744, 0.5390620442411744, 0.3879841312304319, 0.5819761968456478, 0.1682400793253474, 0.7570803569640633, 0.7718464508577729, 0.7397825272198285, 0.8418375188587347, 0.9836869412180248, 0.9093669810382429, 0.752419601928356, 0.20520534598046072, 0.8438941115646548, 0.9707737332021737, 0.13447149664022176, 0.6723574832011088, 0.13447149664022176, 0.8571923039719452, 0.9474047472456978, 0.8374190698249561, 0.9736609881935782, 0.3076433796663914, 0.41019117288852186, 0.20509558644426093, 0.7318174371947326, 0.879753598285857, 0.6257956329877757, 0.8908479683341382, 0.8862965419269587, 0.8418375193686302, 0.6209929609077945, 0.9581501633642414, 0.8508534020777502, 0.8571923039719452, 0.7318174371947326, 0.44681303022202207, 0.4061936638382019, 0.08123873276764038, 0.04061936638382019, 0.9625839803918418, 0.26751900947452567, 0.5350380189490513, 0.8862965419269587, 0.49672438617686904, 0.9661141681750347, 0.8451733337215188, 0.8862965419269587, 0.8451733337215188, 0.9916119311847966, 0.8433019546308105, 0.5951309572164586, 0.9093669810382429, 0.8862965419269587, 0.9251612292104232, 0.9093669810382429, 0.08908256373569054, 0.8017430736212149, 0.7047471754396256, 0.8571922704786518, 0.9396296105310801, 0.8131651503629067, 0.9222851111532161, 0.5903590192832554, 0.8044905780189832, 0.9184855235728665, 0.6507508786456895, 0.5960909090665187, 0.29804545453325937, 0.752972544851673, 0.9154427013507249, 0.9773203534949715, 0.7517360138112039, 0.7143095889012209, 0.9093669810382429, 0.9377589550696078, 0.9093669810382429, 0.8508534078494562, 0.6867419471345666, 0.22891398237818886, 0.7318174371947326, 0.8094428827985763, 0.6684543586161998, 0.2228181195387333, 0.8571923039719452, 0.9932980818655605, 0.7318174371947326, 0.9874941680871644, 0.9154427014655471, 0.7318174371947326, 0.9342243475522481, 0.41379780864854837, 0.5793169321079676, 0.8210640493806884, 0.5958286664658297, 0.29791433323291483, 0.611876260971498, 0.611876260971498, 0.6533367163494176, 0.42399438486394814, 0.42399438486394814, 0.14133146162131605, 0.9093669810382429, 0.9527976914249376, 0.27764764310301304, 0.5552952862060261, 0.6881192908595661, 0.8067468359601303, 0.858011097026586, 0.9093669810382429, 0.8067468357743842, 0.9093669810382429, 0.6885444343645929, 0.17213610859114822, 0.8451733337215188, 0.9866304007675955, 0.9159593235938713, 0.9888086112782204, 0.9093669810382429, 0.9509817531047207, 0.36520678431449294, 0.36520678431449294, 0.2434711895429953, 0.06086779738574882, 0.8571923039719452, 0.9695450025577843, 0.9648364842653133, 0.8678126996596865, 0.8932383314153373, 0.6294150899303619, 0.9342014706236236, 0.8862965419269587, 0.6695723105458469, 0.26782892421833876, 0.6500229039430083, 0.21667430131433613, 0.10943618615301158, 0.4377447446120463, 0.10943618615301158, 0.21887237230602316, 0.9547721335027163, 0.9388125460901726, 0.9052827327969662, 0.8451733337215188, 0.5405966022589356, 0.3603977348392904, 0.1801988674196452, 0.8908479685544316, 0.6163300651857834, 0.9071278841028305, 0.8571923039719452, 0.8862965419269587, 0.996910574807548, 0.8571922704786518, 0.9043700217086872, 0.915442704276732, 0.8571923039719452, 0.6358957086581704, 0.18168448818804867, 0.09084224409402433, 0.2830141085808538, 0.2830141085808538, 0.37735214477447176, 0.28395953045244055, 0.28395953045244055, 0.28395953045244055, 0.9093669810382429, 0.858011179889143, 0.5914613279572736, 0.24928755340591113, 0.4362532184603445, 0.12464377670295557, 0.18696566505443335, 0.06232188835147778, 0.8862965419269587, 0.12919967214971972, 0.8397978689731782, 0.27698712451260266, 0.4847274678970547, 0.24236373394852734, 0.7047471754396256, 0.9527976914249376, 0.4507270102631186, 0.3756058418859322, 0.07512116837718644, 0.07512116837718644, 0.6688838330209996, 0.880758157409697, 0.9944796621875135, 0.8775491397901966, 0.778530351799175, 0.983499012642535, 0.9779193249910615, 0.9071278841028305, 0.9283137710567013, 0.9818890363413733, 0.3685863865635616, 0.3685863865635616, 0.8862965419269587, 0.9308393235837584, 0.026098298792067993, 0.043497164653446656, 0.9169734151970236, 0.5641696422991095, 0.9509814701913527, 0.8451733337215188, 0.8677805928482021, 0.8862965419269587, 0.9923655530870334, 0.15550806772191855, 0.7775403386095928, 0.7047471754396256, 0.9071278841028305, 0.983499012642535, 0.5961335229401131, 0.29806676147005656, 0.9497175936730385, 0.731566949090156, 0.8862965419269587, 0.8451733337215188, 0.9154427009892703, 0.9807280161311688, 0.3946255600581107, 0.3946255600581107, 0.9836869499872991, 0.7009814565352477, 0.9395535196309033, 0.9527976914249376, 0.9005857500438978, 0.10006508333821088, 0.8614359989012157, 0.8862965419269587, 0.9112782923462066, 0.8515239384721791, 0.778530351799175, 0.6084286276506607, 0.7254626148199981, 0.10363751640285687, 0.20727503280571374, 0.8862965419269587, 0.8718515415218966, 0.9641260129740554, 0.8713682983191966, 0.9342243460774695, 0.8571923039719452, 0.9442088389798255, 0.7855384822431362, 0.19638462056078404, 0.6294150899303619, 0.4933615872712274, 0.32890772484748493, 0.16445386242374246, 0.8862965419269587, 0.9251612364676882, 0.9796496218458345, 0.5951309572164586, 0.8451733337215188, 0.39315026008464987, 0.5242003467795331, 0.6485835323664852, 0.2161945107888284, 0.9773203493216217, 0.20384567762198427, 0.6115370328659528, 0.9150941536843437, 0.3976327010075467, 0.3976327010075467, 0.6727505425963644, 0.9235460770383862, 0.9714849102009026, 0.1723881853283326, 0.6895527413133304, 0.9048830506311119, 0.9938671368505518, 0.8862965419269587, 0.32850811040159306, 0.49276216560238956, 0.846761919912919, 0.8571923039719452, 0.9093668912593362, 0.9071278841028305, 0.8763197109609435, 0.9198140957203549, 0.06968288603942083, 0.2726887798676824, 0.09915955631552088, 0.1239494453944011, 0.19831911263104177, 0.2726887798676824, 0.02478988907888022, 0.02478988907888022, 0.998035971864695, 0.9071278841028305, 0.5447790833007773, 0.0907965138834629, 0.27238954165038864, 0.8614359989012157, 0.9711043127151088, 0.5797791004330443, 0.731566949090156, 0.3257979232693658, 0.3257979232693658, 0.32351985423202323, 0.6470397084640465, 0.9377590173319897, 0.9681629815284862, 0.7994416117792543, 0.5797790983310932, 0.7097683008939848, 0.7182213835423892, 0.23940712784746307, 0.842805173232317, 0.7591538235943222, 0.18978845589858054, 0.8932383314153373, 0.3866079144174505, 0.5799118716261757, 0.5951309572164586, 0.7699079946901908, 0.23097239840705722, 0.8210640493806884, 0.8676472469380877, 0.21691181173452193, 0.591461388131458, 0.9795731311665624, 0.3387748392067292, 0.6775496784134584, 0.8338107058176832, 0.1191158151168119, 0.9641260120677239, 0.8862965419269587, 0.9048420305315091, 0.6064256378997109, 0.7143095889012209, 0.9093669810382429, 0.6190645130422451, 0.9874572098781488, 0.5257685287458905, 0.9836869412180248, 0.8668497972534145, 0.5016703476298761, 0.5016703476298761, 0.8681134301695818, 0.5639142447903825, 0.2819571223951913, 0.9471054692910627, 0.9093669810382429, 0.949726962398714, 0.8726491414510773, 0.7700827577357459, 0.11777736294781996, 0.07247837719865843, 0.027179391449496913, 0.009059797149832304, 0.8338107058176832, 0.1191158151168119, 0.9071278841028305, 0.8451733337215188, 0.7528332866121867, 0.5951309572164586, 0.8508534078494562, 0.9154427033099621, 0.8092166623056268, 0.2697388874352089, 0.5353466825286539, 0.3823904875204671, 0.07647809750409341, 0.8740486105859733, 0.8962891352875729, 0.6572603511501598, 0.16431508778753995, 0.5257685287458905, 0.5126981157254445, 0.4699732727483242, 0.7122491117580524, 0.8203243325688354, 0.9838382099893548, 0.8575799677239206, 0.9187530931104484, 0.3597832561140928, 0.449729070142616, 0.0899458140285232, 0.7944014326534901, 0.7655766582659602, 0.19139416456649005, 0.7047471754396256, 0.7484035294656781, 0.9154427028606552, 0.9395535278922508, 0.6859461314880605, 0.7771098675477112, 0.9750618229877831, 0.9093669810382429, 0.870305318496239, 0.09670059094402655, 0.50682553472916, 0.9071278841028305, 0.9890682817979991, 0.9377590185383156, 0.8508534060551483, 0.3848791787578001, 0.3848791787578001, 0.9154427029423927, 0.9427712353786337, 0.6689993182249313, 0.34787283004605707, 0.5218092450690855, 0.17393641502302853, 0.9071278841028305, 0.4967243826317215, 0.09697427879334225, 0.8727685091400803, 0.7529724701926456, 0.9554642525244776, 0.9967004461223996, 0.7114507980168434, 0.23715026600561448, 0.9093669810382429, 0.9527976904757677, 0.7638168541480583, 0.4851213873828241, 0.4851213873828241, 0.5903590302150028, 0.8862965419269587, 0.9625839803918418, 0.8932383314153373, 0.6881193436787906, 0.9552078745501494, 0.611876260971498, 0.611876260971498, 0.7520809082512955, 0.9395535285033242, 0.5927441524967533, 0.29637207624837664, 0.6594140886815136, 0.26376563547260545, 0.8451733337215188, 0.5797791004330443, 0.9427712377508722, 0.49672438031909866, 0.9071278841028305, 0.37468779665090723, 0.6088676695577243, 0.046835974581363404, 0.8355113881780241, 0.9893176934533588, 0.011777591588730462, 0.5620091469730787, 0.3746727646487191, 0.4816917668347214, 0.032112784455648094, 0.22478949118953667, 0.16056392227824048, 0.06422556891129619, 0.9071278841028305, 0.9071278841028305, 0.9093669810382429, 0.9503730178510131, 0.9071278841028305, 0.6355491733413666, 0.21184972444712222, 0.0706165748157074, 0.9773203493216217, 0.9154426999964098, 0.5797790996727532, 0.8210641330408682, 0.7091845539796563, 0.2363948513265521, 0.9071278841028305, 0.8862964771924244, 0.8338107058176832, 0.1191158151168119, 0.3273404571649696, 0.6546809143299392, 0.8571923039719452, 0.8508534064051323, 0.8571923039719452, 0.7697566116853186, 0.19243915292132965, 0.638638981074056, 0.21287966035801867, 0.21287966035801867, 0.8656016718001814, 0.21640041795004536, 0.9135900128106922, 0.9596967208726994, 0.65333671367168, 0.8991079160933467, 0.9093669810382429, 0.9093669810382429, 0.9093669810382429, 0.6940950156496174, 0.9112782923462066, 0.8571923039719452, 0.8862965419269587, 0.872649157252876, 0.7996604336985776, 0.13327673894976294, 0.9377590160335202, 0.5871955678300306, 0.3669972298937691, 0.8862965419269587, 0.9052827305196142, 0.9135899478613273, 0.8571922704786518, 0.6233184590944909, 0.3462880328302727, 0.9795731311665624, 0.8338107058176832, 0.1191158151168119, 0.6881193436787906, 0.6441699502874739, 0.32208497514373696, 0.5971260591547959, 0.44784454436609694, 0.8862965419269587, 0.8571922704786518, 0.9071278841028305, 0.9093669810382429, 0.9243362483989882, 0.8862965419269587, 0.9442088389798255, 0.27199009196345153, 0.4274130016568524, 0.03885572742335022, 0.27199009196345153, 0.1730004492181455, 0.3892510107408274, 0.43250112304536376, 0.6609136596353755, 0.9141883634981732, 0.983499012642535, 0.7984657291190401, 0.9071278841028305, 0.33869226886788667, 0.20321536132073198, 0.13547690754715466, 0.2709538150943093, 0.9752770896877326, 0.9216410109098467, 0.9494624840140866, 0.4020885265584939, 0.5361180354113252, 0.8451733337215188, 0.5938198800843524, 0.32989993338019574, 0.06597998667603915, 0.3319798962473849, 0.24898492218553867, 0.41497487030923114, 0.9527976887846165, 0.8763197109609435, 0.6999398538569073, 0.8793331266797453, 0.43377885885967987, 0.43377885885967987, 0.964126012099907, 0.6865759736053005, 0.6881192908595661, 0.9071278841028305, 0.6519423564013183, 0.731566949090156, 0.9093669810382429, 0.6712162440136313, 0.7312056944344179, 0.983499012642535, 0.5951309584371373, 0.6811260536646555, 0.34056302683232775, 0.6341026626370502, 0.618331876187531, 0.3091659380937655, 0.5337081782665994, 0.3558054521777329, 0.8824564787896488, 0.9071278841028305, 0.8508534078494562, 0.8712588874688019, 0.8862965419269587, 0.3843411030052774, 0.12811370100175914, 0.3843411030052774, 0.06405685050087957, 0.17472151979086487, 0.34944303958172973, 0.05824050659695495, 0.34944303958172973, 0.7994416120004586, 0.8862965419269587, 0.9183354159275714, 0.6127712268105897, 0.5826186261925079, 0.14565465654812698, 0.29130931309625396, 0.29874352332870957, 0.5974870466574191, 0.8932383314153373, 0.6064256696530902, 0.9427713684515187, 0.9957964800993255, 0.9403773191413958, 0.252994662147207, 0.1011978648588828, 0.4553903918649726, 0.15179679728832418, 0.9578585153734568, 0.6787686353360346, 0.9112782923462066, 0.08832815922431676, 0.17665631844863353, 0.2649844776729503, 0.44164079612158386, 0.08832815922431676, 0.5626053929950234, 0.8571923039719452, 0.3492926000575191, 0.17464630002875955, 0.3492926000575191, 0.836892929139474, 0.14554659637208242, 0.8939131404986752, 0.5925213617940577, 0.29626068089702884, 0.2764532797011067, 0.7256898592154052, 0.8170242413675557, 0.32979474362434114, 0.6595894872486823, 0.9578585201698565, 0.198748674853709, 0.2649982331382787, 0.397497349707418, 0.06624955828456967, 0.8467619192540203, 0.8467619209233496, 0.8571922704786518, 0.36936536009533893, 0.12312178669844631, 0.36936536009533893, 0.12312178669844631, 0.939553525800113], \"Term\": [\"absolutely\", \"abuse\", \"abuse\", \"acceptable\", \"account\", \"account\", \"act\", \"active\", \"actively\", \"actual\", \"actual\", \"actually\", \"actually\", \"actually\", \"ad\", \"ad\", \"add\", \"admin\", \"admin\", \"admin\", \"administration\", \"admit\", \"affect\", \"agree\", \"ahead\", \"aim\", \"allow\", \"allow\", \"allow\", \"allow\", \"allow\", \"also\", \"also\", \"also\", \"alt\", \"always\", \"ambush\", \"american\", \"american\", \"amusing\", \"ancestor\", \"animal\", \"announcement\", \"anonymous\", \"answer\", \"answer\", \"anywhere\", \"app\", \"apparently\", \"apply\", \"approve\", \"area\", \"article\", \"ask\", \"ass\", \"assess\", \"attack\", \"award\", \"back\", \"back\", \"bad\", \"bad\", \"bad\", \"ban\", \"ban\", \"ban\", \"ban\", \"ban\", \"barely\", \"base\", \"base\", \"base\", \"be\", \"become\", \"become\", \"behavior\", \"behavior\", \"belief\", \"believe\", \"believe\", \"better\", \"bigotry\", \"biid\", \"biological\", \"biology\", \"bit\", \"black\", \"black\", \"blatant\", \"blind\", \"body\", \"book\", \"bottom\", \"break\", \"bring\", \"bungle\", \"business\", \"buy\", \"call\", \"camp\", \"camp\", \"can\", \"can\", \"care\", \"care\", \"case\", \"censor\", \"censorship\", \"center\", \"certainty\", \"change\", \"change\", \"check\", \"child\", \"chinese\", \"chinese\", \"chinese\", \"choke\", \"claim\", \"clarify\", \"clear\", \"clearly\", \"clearly\", \"clearly\", \"climate\", \"club\", \"co\", \"color\", \"colour\", \"come\", \"comedy\", \"comment\", \"commit\", \"committee\", \"communication\", \"community\", \"community\", \"community\", \"community\", \"community_restrictions_promote\", \"company\", \"company\", \"completely\", \"comprehensive\", \"concern\", \"conform\", \"congregate\", \"consistant\", \"continent\", \"continue\", \"control\", \"conviction\", \"correction\", \"could\", \"count\", \"country\", \"country\", \"couple\", \"covered\", \"coward\", \"crap\", \"create\", \"credibility\", \"crime\", \"criticism\", \"current\", \"day\", \"day\", \"deal\", \"death\", \"define\", \"definition\", \"degrade\", \"degradedfemale\", \"delete\", \"demonstrate\", \"deny\", \"deserve\", \"deserve\", \"desire\", \"destroy\", \"die\", \"die\", \"digest\", \"direct\", \"direction\", \"disability\", \"disagree\", \"disappointed\", \"discriminate\", \"discrimination\", \"discrimination\", \"discriminatory\", \"discuss\", \"discuss\", \"discussion\", \"discussion\", \"division\", \"do\", \"do\", \"do\", \"dude\", \"due\", \"easy\", \"easy\", \"effective\", \"effort\", \"election\", \"embarrassment\", \"encourage\", \"encouragement\", \"end\", \"end\", \"enforce\", \"enough\", \"equal\", \"equality\", \"erosion\", \"especially\", \"even\", \"even\", \"even\", \"even\", \"exact\", \"example\", \"exception\", \"exmuslim\", \"experience\", \"eye\", \"faith\", \"familiar\", \"family\", \"family\", \"far\", \"far\", \"feel\", \"feel\", \"feel\", \"feel\", \"female\", \"feminist\", \"fight\", \"figure\", \"find\", \"find\", \"find\", \"fine\", \"fly\", \"focus\", \"follow\", \"forearm\", \"form\", \"freaking\", \"free\", \"freedom\", \"front\", \"fuck\", \"fuck\", \"fuck\", \"fucking\", \"fucking\", \"fucking\", \"future\", \"future\", \"future\", \"garbage\", \"gender\", \"gendercritical\", \"get\", \"get\", \"get\", \"get\", \"get\", \"gigantic\", \"give\", \"give\", \"go\", \"go\", \"go\", \"god\", \"gold\", \"good\", \"good\", \"good\", \"good\", \"government\", \"great\", \"group\", \"guess\", \"guilde\", \"gun\", \"guy\", \"happen\", \"harassment\", \"harassment_bullying\", \"harm\", \"harm\", \"hat\", \"hate\", \"hate\", \"hate\", \"hateful\", \"hatespeech\", \"hatred\", \"headline\", \"hide\", \"hit\", \"honestly\", \"hope\", \"hope\", \"hopefully\", \"hot\", \"http\", \"https\", \"https\", \"human\", \"hundred\", \"hurt\", \"hypocrisy\", \"ideal\", \"identity\", \"ideology\", \"ideology\", \"ignore\", \"illegal\", \"imagine\", \"impunity\", \"include\", \"include\", \"include_victim\", \"inclusive\", \"incoming\", \"individual\", \"inform\", \"insane\", \"instead\", \"instead\", \"instead\", \"internationally\", \"internet\", \"issue\", \"joke\", \"keep\", \"kick\", \"kid\", \"kill\", \"kill\", \"kind\", \"know\", \"know\", \"know\", \"lack\", \"large\", \"last\", \"late\", \"lean\", \"leave\", \"leave\", \"legal\", \"legal\", \"less\", \"let\", \"let\", \"lgbt\", \"life\", \"life\", \"like\", \"limited\", \"line\", \"list\", \"list\", \"literally\", \"live\", \"lock\", \"look\", \"look\", \"lose\", \"loudly\", \"lying\", \"mainly\", \"major\", \"majority\", \"majority\", \"make\", \"make\", \"make\", \"make\", \"make\", \"make\", \"make\", \"man\", \"manage\", \"many\", \"many\", \"many\", \"marginalize\", \"marginalized\", \"mass\", \"massive\", \"matter\", \"matter\", \"may\", \"may\", \"maybe\", \"mean\", \"medium\", \"meeting\", \"merit\", \"minority\", \"minority\", \"minute\", \"mod\", \"mod\", \"moderate\", \"moderator\", \"moderator\", \"moment\", \"money\", \"money\", \"month\", \"much\", \"much\", \"multiple\", \"must\", \"name\", \"name\", \"national_origin_ethnicity_immigration\", \"national_origin_ethnicity_immigration\", \"nature\", \"necessarily\", \"new\", \"news\", \"nonconsenual\", \"nude\", \"obvious\", \"obviously\", \"officer\", \"okay\", \"one\", \"open\", \"open\", \"opinion\", \"origin\", \"origin\", \"other\", \"outright\", \"part\", \"party\", \"people\", \"people\", \"people\", \"people\", \"people\", \"perceived_race_color_religion\", \"perceived_race_color_religion\", \"perfectly\", \"perhaps\", \"person\", \"personal\", \"physical\", \"picture\", \"piece\", \"piece\", \"place\", \"place\", \"place\", \"plainly\", \"platform\", \"point\", \"point\", \"police\", \"policy\", \"policy\", \"politic\", \"politically\", \"politics_comment\", \"population\", \"porn\", \"post\", \"post\", \"post\", \"potential\", \"power\", \"power\", \"pray\", \"premium\", \"present\", \"pretty\", \"private\", \"problem\", \"process\", \"profit\", \"promote\", \"promote\", \"propaganda\", \"prostitution\", \"protect\", \"protection\", \"prove\", \"provide\", \"provide\", \"public\", \"punish\", \"pure\", \"put\", \"put\", \"put\", \"questionable\", \"quick\", \"race\", \"race\", \"racial\", \"racism\", \"racist\", \"rape\", \"rape\", \"rapekink\", \"rather\", \"realize\", \"really\", \"really\", \"reason\", \"receive\", \"reddithelp\", \"redditor\", \"refuse\", \"regard\", \"relate\", \"relate\", \"religion\", \"remain\", \"remember\", \"remember\", \"remove\", \"remove\", \"repeatedly\", \"require\", \"resign\", \"result\", \"ridiculous\", \"right\", \"right\", \"right\", \"room\", \"rule\", \"rule\", \"run\", \"run\", \"say\", \"say\", \"say\", \"say\", \"say\", \"scandinavian\", \"science\", \"score\", \"season\", \"secondly\", \"see\", \"see\", \"see\", \"seem\", \"segregation\", \"self\", \"sell\", \"sense\", \"sense\", \"several\", \"sex\", \"sexual_orientation_pregnancy\", \"sexual_orientation_pregnancy\", \"shit\", \"shit\", \"shitstorm\", \"shooting\", \"shout\", \"show\", \"show\", \"side\", \"side\", \"side\", \"silence\", \"silence\", \"simply\", \"sino\", \"site\", \"skin\", \"slow\", \"slur\", \"snuffrp\", \"solely\", \"somewhere\", \"sooner\", \"sorry\", \"source\", \"specific\", \"specific\", \"specifically\", \"speech\", \"speech\", \"stain\", \"stand\", \"standard\", \"standpoint\", \"state\", \"state\", \"statement\", \"status_gender_gender\", \"status_gender_gender\", \"step\", \"still\", \"still\", \"stop\", \"stop\", \"story\", \"straight\", \"strangle\", \"straw\", \"street\", \"strike\", \"stuff\", \"sub\", \"sub\", \"sub\", \"sub\", \"subreddit\", \"subreddit\", \"subreddit\", \"suggest\", \"support\", \"supporter\", \"sure\", \"surrogacy\", \"take\", \"take\", \"take\", \"take\", \"talk\", \"target\", \"tell\", \"thank\", \"thank\", \"theorist\", \"thing\", \"thing\", \"thing\", \"think\", \"think\", \"think\", \"though\", \"thought\", \"thread\", \"threat\", \"time\", \"time\", \"tiny\", \"tolerate\", \"tool\", \"topic\", \"train\", \"trans\", \"transable\", \"treat\", \"treatment\", \"tree\", \"troll\", \"true\", \"true\", \"truly\", \"trump\", \"trump\", \"try\", \"try\", \"turn\", \"tweet\", \"uncomfortable\", \"understand\", \"universal\", \"use\", \"use\", \"use\", \"use\", \"user\", \"user\", \"user\", \"user\", \"value\", \"verify\", \"view\", \"violate\", \"violence\", \"violence\", \"violence\", \"violent\", \"violent\", \"visit\", \"voice\", \"vote\", \"vulnerability\", \"vulnerable\", \"want\", \"want\", \"want\", \"want\", \"warn\", \"watch\", \"wave\", \"way\", \"way\", \"way\", \"way\", \"way\", \"web\", \"welcome\", \"well\", \"well\", \"well\", \"white\", \"white\", \"whole\", \"wing\", \"wing\", \"woman\", \"woman\", \"word\", \"work\", \"work\", \"worry\", \"would\", \"would\", \"would\", \"would\", \"write\", \"wrong\", \"wrongthink\", \"year\", \"year\", \"year\", \"year\", \"yet\"]}, \"R\": 30, \"lambda.step\": 0.01, \"plot.opts\": {\"xlab\": \"PC1\", \"ylab\": \"PC2\"}, \"topic.order\": [2, 19, 20, 16, 6, 17, 11, 15, 12, 18, 4, 13, 14, 7, 3, 1, 5, 8, 9, 10]};\n",
              "\n",
              "function LDAvis_load_lib(url, callback){\n",
              "  var s = document.createElement('script');\n",
              "  s.src = url;\n",
              "  s.async = true;\n",
              "  s.onreadystatechange = s.onload = callback;\n",
              "  s.onerror = function(){console.warn(\"failed to load library \" + url);};\n",
              "  document.getElementsByTagName(\"head\")[0].appendChild(s);\n",
              "}\n",
              "\n",
              "if(typeof(LDAvis) !== \"undefined\"){\n",
              "   // already loaded: just create the visualization\n",
              "   !function(LDAvis){\n",
              "       new LDAvis(\"#\" + \"ldavis_el1741402710841831203147411608\", ldavis_el1741402710841831203147411608_data);\n",
              "   }(LDAvis);\n",
              "}else if(typeof define === \"function\" && define.amd){\n",
              "   // require.js is available: use it to load d3/LDAvis\n",
              "   require.config({paths: {d3: \"https://d3js.org/d3.v5\"}});\n",
              "   require([\"d3\"], function(d3){\n",
              "      window.d3 = d3;\n",
              "      LDAvis_load_lib(\"https://cdn.jsdelivr.net/gh/bmabey/pyLDAvis@3.3.1/pyLDAvis/js/ldavis.v3.0.0.js\", function(){\n",
              "        new LDAvis(\"#\" + \"ldavis_el1741402710841831203147411608\", ldavis_el1741402710841831203147411608_data);\n",
              "      });\n",
              "    });\n",
              "}else{\n",
              "    // require.js not available: dynamically load d3 & LDAvis\n",
              "    LDAvis_load_lib(\"https://d3js.org/d3.v5.js\", function(){\n",
              "         LDAvis_load_lib(\"https://cdn.jsdelivr.net/gh/bmabey/pyLDAvis@3.3.1/pyLDAvis/js/ldavis.v3.0.0.js\", function(){\n",
              "                 new LDAvis(\"#\" + \"ldavis_el1741402710841831203147411608\", ldavis_el1741402710841831203147411608_data);\n",
              "            })\n",
              "         });\n",
              "}\n",
              "</script>"
            ],
            "text/plain": [
              "PreparedData(topic_coordinates=              x         y  topics  cluster       Freq\n",
              "topic                                                \n",
              "1     -0.213554  0.394357       1        1  29.984241\n",
              "18     0.095142 -0.344002       2        1  10.926542\n",
              "19     0.204090  0.291356       3        1  10.172918\n",
              "15    -0.305272 -0.159432       4        1   9.710562\n",
              "5     -0.305700  0.139307       5        1   9.591433\n",
              "16     0.002883  0.321331       6        1   8.837551\n",
              "10     0.349304  0.004275       7        1   5.405068\n",
              "14    -0.185463 -0.089475       8        1   2.156974\n",
              "11     0.163967  0.088618       9        1   2.006732\n",
              "17    -0.033373  0.117057      10        1   1.900609\n",
              "3     -0.089631 -0.172955      11        1   1.813995\n",
              "12     0.013913 -0.205940      12        1   1.593172\n",
              "13    -0.121356  0.017691      13        1   1.552090\n",
              "6      0.113078 -0.151848      14        1   1.190234\n",
              "2      0.153569 -0.086231      15        1   1.173151\n",
              "0      0.107296 -0.011454      16        1   0.975188\n",
              "4      0.027966  0.001998      17        1   0.659367\n",
              "7     -0.002390 -0.063849      18        1   0.332788\n",
              "8      0.012764 -0.045402      19        1   0.008759\n",
              "9      0.012764 -0.045402      20        1   0.008626, topic_info=               Term        Freq       Total Category  logprob  loglift\n",
              "413           group  127.000000  127.000000  Default  30.0000  30.0000\n",
              "4               ban   50.000000   50.000000  Default  29.0000  29.0000\n",
              "110            rule   84.000000   84.000000  Default  28.0000  28.0000\n",
              "474         protect   81.000000   81.000000  Default  27.0000  27.0000\n",
              "46             hate  114.000000  114.000000  Default  26.0000  26.0000\n",
              "..              ...         ...         ...      ...      ...      ...\n",
              "25             deal    0.000282    3.984209  Topic20  -7.3072  -0.1971\n",
              "26           desire    0.000282    1.366461  Topic20  -7.3072   0.8731\n",
              "27        direction    0.000282    1.366461  Topic20  -7.3072   0.8731\n",
              "28     disappointed    0.000282    1.366461  Topic20  -7.3072   0.8731\n",
              "29   discrimination    0.000282   12.083196  Topic20  -7.3072  -1.3065\n",
              "\n",
              "[895 rows x 6 columns], token_table=      Topic      Freq        Term\n",
              "term                             \n",
              "1002      2  0.915443  absolutely\n",
              "95        7  0.566466       abuse\n",
              "95       11  0.377644       abuse\n",
              "457       1  0.970882  acceptable\n",
              "404       1  0.663304     account\n",
              "...     ...       ...         ...\n",
              "93        3  0.369365        year\n",
              "93        5  0.123122        year\n",
              "93        6  0.369365        year\n",
              "93        7  0.123122        year\n",
              "442       7  0.939554         yet\n",
              "\n",
              "[740 rows x 3 columns], R=30, lambda_step=0.01, plot_opts={'xlab': 'PC1', 'ylab': 'PC2'}, topic_order=[2, 19, 20, 16, 6, 17, 11, 15, 12, 18, 4, 13, 14, 7, 3, 1, 5, 8, 9, 10])"
            ]
          },
          "metadata": {},
          "execution_count": 82
        }
      ]
    }
  ]
}